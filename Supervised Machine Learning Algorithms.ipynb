{
 "cells": [
  {
   "cell_type": "markdown",
   "id": "5c5a6b65",
   "metadata": {},
   "source": [
    "## Importing Libraries"
   ]
  },
  {
   "cell_type": "code",
   "execution_count": 9,
   "id": "848b452b",
   "metadata": {},
   "outputs": [],
   "source": [
    "from time import time\n",
    "import pandas as pd\n",
    "import numpy as np\n",
    "from sklearn.model_selection import train_test_split\n",
    "from sklearn.preprocessing import StandardScaler\n",
    "from sklearn.metrics import accuracy_score, classification_report,confusion_matrix"
   ]
  },
  {
   "cell_type": "markdown",
   "id": "a51ef518",
   "metadata": {},
   "source": [
    "### Loading dataset"
   ]
  },
  {
   "cell_type": "code",
   "execution_count": 10,
   "id": "684e6dcc",
   "metadata": {},
   "outputs": [
    {
     "data": {
      "text/html": [
       "<div>\n",
       "<style scoped>\n",
       "    .dataframe tbody tr th:only-of-type {\n",
       "        vertical-align: middle;\n",
       "    }\n",
       "\n",
       "    .dataframe tbody tr th {\n",
       "        vertical-align: top;\n",
       "    }\n",
       "\n",
       "    .dataframe thead th {\n",
       "        text-align: right;\n",
       "    }\n",
       "</style>\n",
       "<table border=\"1\" class=\"dataframe\">\n",
       "  <thead>\n",
       "    <tr style=\"text-align: right;\">\n",
       "      <th></th>\n",
       "      <th>0</th>\n",
       "      <th>1</th>\n",
       "      <th>2</th>\n",
       "      <th>3</th>\n",
       "      <th>4</th>\n",
       "      <th>5</th>\n",
       "      <th>6</th>\n",
       "      <th>7</th>\n",
       "      <th>8</th>\n",
       "      <th>9</th>\n",
       "      <th>10</th>\n",
       "      <th>11</th>\n",
       "    </tr>\n",
       "  </thead>\n",
       "  <tbody>\n",
       "    <tr>\n",
       "      <th>0</th>\n",
       "      <td>7</td>\n",
       "      <td>21</td>\n",
       "      <td>30</td>\n",
       "      <td>2</td>\n",
       "      <td>3</td>\n",
       "      <td>29</td>\n",
       "      <td>2</td>\n",
       "      <td>3</td>\n",
       "      <td>57</td>\n",
       "      <td>5</td>\n",
       "      <td>1</td>\n",
       "      <td>0</td>\n",
       "    </tr>\n",
       "    <tr>\n",
       "      <th>1</th>\n",
       "      <td>7</td>\n",
       "      <td>32</td>\n",
       "      <td>70</td>\n",
       "      <td>2</td>\n",
       "      <td>4</td>\n",
       "      <td>67</td>\n",
       "      <td>2</td>\n",
       "      <td>4</td>\n",
       "      <td>132</td>\n",
       "      <td>5</td>\n",
       "      <td>1</td>\n",
       "      <td>0</td>\n",
       "    </tr>\n",
       "    <tr>\n",
       "      <th>2</th>\n",
       "      <td>7</td>\n",
       "      <td>15</td>\n",
       "      <td>1</td>\n",
       "      <td>2</td>\n",
       "      <td>2</td>\n",
       "      <td>0</td>\n",
       "      <td>2</td>\n",
       "      <td>2</td>\n",
       "      <td>0</td>\n",
       "      <td>5</td>\n",
       "      <td>1</td>\n",
       "      <td>0</td>\n",
       "    </tr>\n",
       "    <tr>\n",
       "      <th>3</th>\n",
       "      <td>7</td>\n",
       "      <td>33</td>\n",
       "      <td>77</td>\n",
       "      <td>2</td>\n",
       "      <td>7</td>\n",
       "      <td>72</td>\n",
       "      <td>2</td>\n",
       "      <td>7</td>\n",
       "      <td>142</td>\n",
       "      <td>5</td>\n",
       "      <td>1</td>\n",
       "      <td>0</td>\n",
       "    </tr>\n",
       "    <tr>\n",
       "      <th>4</th>\n",
       "      <td>7</td>\n",
       "      <td>55</td>\n",
       "      <td>78</td>\n",
       "      <td>3</td>\n",
       "      <td>7</td>\n",
       "      <td>73</td>\n",
       "      <td>3</td>\n",
       "      <td>7</td>\n",
       "      <td>144</td>\n",
       "      <td>6</td>\n",
       "      <td>1</td>\n",
       "      <td>0</td>\n",
       "    </tr>\n",
       "    <tr>\n",
       "      <th>...</th>\n",
       "      <td>...</td>\n",
       "      <td>...</td>\n",
       "      <td>...</td>\n",
       "      <td>...</td>\n",
       "      <td>...</td>\n",
       "      <td>...</td>\n",
       "      <td>...</td>\n",
       "      <td>...</td>\n",
       "      <td>...</td>\n",
       "      <td>...</td>\n",
       "      <td>...</td>\n",
       "      <td>...</td>\n",
       "    </tr>\n",
       "    <tr>\n",
       "      <th>355886</th>\n",
       "      <td>7</td>\n",
       "      <td>25</td>\n",
       "      <td>46</td>\n",
       "      <td>2</td>\n",
       "      <td>15</td>\n",
       "      <td>45</td>\n",
       "      <td>4</td>\n",
       "      <td>15</td>\n",
       "      <td>90</td>\n",
       "      <td>7</td>\n",
       "      <td>0</td>\n",
       "      <td>8505</td>\n",
       "    </tr>\n",
       "    <tr>\n",
       "      <th>355887</th>\n",
       "      <td>7</td>\n",
       "      <td>82</td>\n",
       "      <td>14</td>\n",
       "      <td>7</td>\n",
       "      <td>10</td>\n",
       "      <td>8</td>\n",
       "      <td>0</td>\n",
       "      <td>10</td>\n",
       "      <td>16</td>\n",
       "      <td>0</td>\n",
       "      <td>0</td>\n",
       "      <td>22</td>\n",
       "    </tr>\n",
       "    <tr>\n",
       "      <th>355888</th>\n",
       "      <td>7</td>\n",
       "      <td>82</td>\n",
       "      <td>14</td>\n",
       "      <td>7</td>\n",
       "      <td>10</td>\n",
       "      <td>8</td>\n",
       "      <td>0</td>\n",
       "      <td>10</td>\n",
       "      <td>17</td>\n",
       "      <td>1</td>\n",
       "      <td>0</td>\n",
       "      <td>1</td>\n",
       "    </tr>\n",
       "    <tr>\n",
       "      <th>355889</th>\n",
       "      <td>7</td>\n",
       "      <td>30</td>\n",
       "      <td>62</td>\n",
       "      <td>2</td>\n",
       "      <td>20</td>\n",
       "      <td>60</td>\n",
       "      <td>3</td>\n",
       "      <td>20</td>\n",
       "      <td>120</td>\n",
       "      <td>3</td>\n",
       "      <td>0</td>\n",
       "      <td>0</td>\n",
       "    </tr>\n",
       "    <tr>\n",
       "      <th>355890</th>\n",
       "      <td>7</td>\n",
       "      <td>30</td>\n",
       "      <td>62</td>\n",
       "      <td>2</td>\n",
       "      <td>20</td>\n",
       "      <td>61</td>\n",
       "      <td>4</td>\n",
       "      <td>20</td>\n",
       "      <td>121</td>\n",
       "      <td>7</td>\n",
       "      <td>0</td>\n",
       "      <td>9156</td>\n",
       "    </tr>\n",
       "  </tbody>\n",
       "</table>\n",
       "<p>355891 rows × 12 columns</p>\n",
       "</div>"
      ],
      "text/plain": [
       "        0   1   2  3   4   5  6   7    8  9  10    11\n",
       "0       7  21  30  2   3  29  2   3   57  5   1     0\n",
       "1       7  32  70  2   4  67  2   4  132  5   1     0\n",
       "2       7  15   1  2   2   0  2   2    0  5   1     0\n",
       "3       7  33  77  2   7  72  2   7  142  5   1     0\n",
       "4       7  55  78  3   7  73  3   7  144  6   1     0\n",
       "...    ..  ..  .. ..  ..  .. ..  ..  ... ..  ..   ...\n",
       "355886  7  25  46  2  15  45  4  15   90  7   0  8505\n",
       "355887  7  82  14  7  10   8  0  10   16  0   0    22\n",
       "355888  7  82  14  7  10   8  0  10   17  1   0     1\n",
       "355889  7  30  62  2  20  60  3  20  120  3   0     0\n",
       "355890  7  30  62  2  20  61  4  20  121  7   0  9156\n",
       "\n",
       "[355891 rows x 12 columns]"
      ]
     },
     "execution_count": 10,
     "metadata": {},
     "output_type": "execute_result"
    }
   ],
   "source": [
    "data = pd.read_csv('dataset.csv')\n",
    "data"
   ]
  },
  {
   "cell_type": "markdown",
   "id": "99663e77",
   "metadata": {},
   "source": [
    "### Data Preprocessing\n"
   ]
  },
  {
   "cell_type": "code",
   "execution_count": null,
   "id": "29351e0c",
   "metadata": {},
   "outputs": [],
   "source": []
  },
  {
   "cell_type": "code",
   "execution_count": 11,
   "id": "1357be3b",
   "metadata": {},
   "outputs": [
    {
     "data": {
      "text/plain": [
       "(array([[  21,   30,    2, ...,    5,    1,    0],\n",
       "        [  32,   70,    2, ...,    5,    1,    0],\n",
       "        [  15,    1,    2, ...,    5,    1,    0],\n",
       "        ...,\n",
       "        [  82,   14,    7, ...,    1,    0,    1],\n",
       "        [  30,   62,    2, ...,    3,    0,    0],\n",
       "        [  30,   62,    2, ...,    7,    0, 9156]], dtype=int64),\n",
       " array([7, 7, 7, ..., 7, 7, 7], dtype=int64))"
      ]
     },
     "execution_count": 11,
     "metadata": {},
     "output_type": "execute_result"
    }
   ],
   "source": [
    "y = data.iloc[:,0].values\n",
    "x = data.iloc[:,1:].values\n",
    "x,y"
   ]
  },
  {
   "cell_type": "markdown",
   "id": "495a5f9c",
   "metadata": {},
   "source": [
    "### Splitting the dataset into training and testing "
   ]
  },
  {
   "cell_type": "code",
   "execution_count": 12,
   "id": "1ebcc87d",
   "metadata": {},
   "outputs": [],
   "source": [
    "x_train,x_test,y_train,y_test = train_test_split(x,y,test_size=0.25)"
   ]
  },
  {
   "cell_type": "markdown",
   "id": "d9fec5b5",
   "metadata": {},
   "source": [
    "### Scaling the dataset "
   ]
  },
  {
   "cell_type": "code",
   "execution_count": 13,
   "id": "cc139498",
   "metadata": {},
   "outputs": [],
   "source": [
    "sc = StandardScaler()\n",
    "x_train_sc = sc.fit_transform(x_train)\n",
    "x_test_sc = sc.transform(x_test)"
   ]
  },
  {
   "cell_type": "markdown",
   "id": "a22ee727",
   "metadata": {},
   "source": [
    "# Appliyng Machine Learning Algorithms"
   ]
  },
  {
   "cell_type": "code",
   "execution_count": null,
   "id": "795daeda",
   "metadata": {},
   "outputs": [],
   "source": []
  },
  {
   "cell_type": "markdown",
   "id": "63098496",
   "metadata": {},
   "source": [
    "## Applying logistic regression"
   ]
  },
  {
   "cell_type": "code",
   "execution_count": 14,
   "id": "ee2fd771",
   "metadata": {},
   "outputs": [],
   "source": [
    "from sklearn.linear_model import LogisticRegression\n",
    "lr = LogisticRegression()"
   ]
  },
  {
   "cell_type": "code",
   "execution_count": 15,
   "id": "81d3e08f",
   "metadata": {},
   "outputs": [
    {
     "name": "stdout",
     "output_type": "stream",
     "text": [
      "Time elapsed 23.019588947296143\n"
     ]
    },
    {
     "name": "stderr",
     "output_type": "stream",
     "text": [
      "c:\\users\\hebbar\\appdata\\local\\programs\\python\\python39\\lib\\site-packages\\sklearn\\linear_model\\_logistic.py:814: ConvergenceWarning: lbfgs failed to converge (status=1):\n",
      "STOP: TOTAL NO. of ITERATIONS REACHED LIMIT.\n",
      "\n",
      "Increase the number of iterations (max_iter) or scale the data as shown in:\n",
      "    https://scikit-learn.org/stable/modules/preprocessing.html\n",
      "Please also refer to the documentation for alternative solver options:\n",
      "    https://scikit-learn.org/stable/modules/linear_model.html#logistic-regression\n",
      "  n_iter_i = _check_optimize_result(\n"
     ]
    }
   ],
   "source": [
    "s = time()\n",
    "lr.fit(x_train_sc,y_train)\n",
    "lr_time = time()-s\n",
    "print(\"Time elapsed\",lr_time)"
   ]
  },
  {
   "cell_type": "markdown",
   "id": "17202473",
   "metadata": {},
   "source": [
    "### Training accuracy"
   ]
  },
  {
   "cell_type": "code",
   "execution_count": 16,
   "id": "727881c5",
   "metadata": {},
   "outputs": [
    {
     "data": {
      "text/plain": [
       "0.9891502259120779"
      ]
     },
     "execution_count": 16,
     "metadata": {},
     "output_type": "execute_result"
    }
   ],
   "source": [
    "lr.score(x_train_sc,y_train)"
   ]
  },
  {
   "cell_type": "markdown",
   "id": "a9cf4326",
   "metadata": {},
   "source": [
    "### Testing accuracy"
   ]
  },
  {
   "cell_type": "code",
   "execution_count": 17,
   "id": "f21ec2cb",
   "metadata": {},
   "outputs": [
    {
     "data": {
      "text/plain": [
       "0.988569566048127"
      ]
     },
     "execution_count": 17,
     "metadata": {},
     "output_type": "execute_result"
    }
   ],
   "source": [
    "lr.score(x_test_sc,y_test)"
   ]
  },
  {
   "cell_type": "markdown",
   "id": "e54b01b1",
   "metadata": {},
   "source": [
    "### Accuracy of the model"
   ]
  },
  {
   "cell_type": "code",
   "execution_count": 18,
   "id": "2a19ae66",
   "metadata": {},
   "outputs": [
    {
     "name": "stdout",
     "output_type": "stream",
     "text": [
      "Accuracy of Logistic Regression Training Dataset:  0.9891502259120779\n"
     ]
    }
   ],
   "source": [
    "y_lr_train_pred = lr.predict(x_train_sc)\n",
    "lr_train_accuracy = accuracy_score(y_train,y_lr_train_pred)\n",
    "print(\"Accuracy of Logistic Regression Training Dataset: \",lr_train_accuracy)"
   ]
  },
  {
   "cell_type": "code",
   "execution_count": 19,
   "id": "3130284d",
   "metadata": {},
   "outputs": [
    {
     "name": "stdout",
     "output_type": "stream",
     "text": [
      "Accuracy of Logistic Regression Testing Dataset:  0.988569566048127\n"
     ]
    }
   ],
   "source": [
    "y_lr_test_pred = lr.predict(x_test_sc)\n",
    "lr_test_accuracy = accuracy_score(y_test,y_lr_test_pred)\n",
    "print(\"Accuracy of Logistic Regression Testing Dataset: \",lr_test_accuracy)"
   ]
  },
  {
   "cell_type": "code",
   "execution_count": null,
   "id": "f86e2f3d",
   "metadata": {},
   "outputs": [],
   "source": []
  },
  {
   "cell_type": "markdown",
   "id": "937a25dd",
   "metadata": {},
   "source": [
    "## Applying KNN"
   ]
  },
  {
   "cell_type": "code",
   "execution_count": 20,
   "id": "864ee791",
   "metadata": {},
   "outputs": [],
   "source": [
    "from sklearn.neighbors import KNeighborsClassifier\n",
    "knn = KNeighborsClassifier()"
   ]
  },
  {
   "cell_type": "code",
   "execution_count": 21,
   "id": "2ff23f9a",
   "metadata": {},
   "outputs": [
    {
     "name": "stdout",
     "output_type": "stream",
     "text": [
      "Time elapsed 1.7969074249267578\n"
     ]
    }
   ],
   "source": [
    "s = time()\n",
    "knn.fit(x_train_sc,y_train)\n",
    "knn_time = time()-s\n",
    "print(\"Time elapsed\",knn_time)"
   ]
  },
  {
   "cell_type": "markdown",
   "id": "d2c8f8ff",
   "metadata": {},
   "source": [
    "### Training accuracy"
   ]
  },
  {
   "cell_type": "code",
   "execution_count": 22,
   "id": "9e000dea",
   "metadata": {},
   "outputs": [
    {
     "data": {
      "text/plain": [
       "0.9934961298975715"
      ]
     },
     "execution_count": 22,
     "metadata": {},
     "output_type": "execute_result"
    }
   ],
   "source": [
    "knn.score(x_train_sc,y_train)"
   ]
  },
  {
   "cell_type": "markdown",
   "id": "e1fe1991",
   "metadata": {},
   "source": [
    "### Testing accuracy"
   ]
  },
  {
   "cell_type": "code",
   "execution_count": 23,
   "id": "81291667",
   "metadata": {},
   "outputs": [
    {
     "data": {
      "text/plain": [
       "0.9937846312926394"
      ]
     },
     "execution_count": 23,
     "metadata": {},
     "output_type": "execute_result"
    }
   ],
   "source": [
    "knn.score(x_test_sc,y_test)"
   ]
  },
  {
   "cell_type": "markdown",
   "id": "1bf490d9",
   "metadata": {},
   "source": [
    "### Accuracy of the model"
   ]
  },
  {
   "cell_type": "code",
   "execution_count": 24,
   "id": "bd3d1a7c",
   "metadata": {},
   "outputs": [
    {
     "name": "stdout",
     "output_type": "stream",
     "text": [
      "Accuracy of K Nearest Neigbour Training Dataset:  0.9934961298975715\n"
     ]
    }
   ],
   "source": [
    "y_knn_train_pred = knn.predict(x_train_sc)\n",
    "knn_train_accuracy = accuracy_score(y_train,y_knn_train_pred)\n",
    "print(\"Accuracy of K Nearest Neigbour Training Dataset: \",knn_train_accuracy)"
   ]
  },
  {
   "cell_type": "code",
   "execution_count": 25,
   "id": "b3a8d805",
   "metadata": {},
   "outputs": [
    {
     "name": "stdout",
     "output_type": "stream",
     "text": [
      "Accuracy of K Nearest Neigbour Testing Dataset:  0.9937846312926394\n"
     ]
    }
   ],
   "source": [
    "y_knn_test_pred = knn.predict(x_test_sc)\n",
    "knn_test_accuracy = accuracy_score(y_test,y_knn_test_pred)\n",
    "print(\"Accuracy of K Nearest Neigbour Testing Dataset: \",knn_test_accuracy)"
   ]
  },
  {
   "cell_type": "code",
   "execution_count": null,
   "id": "1bc628ef",
   "metadata": {},
   "outputs": [],
   "source": []
  },
  {
   "cell_type": "markdown",
   "id": "d0a6655c",
   "metadata": {},
   "source": [
    "## Applying Decision Tree Classifier"
   ]
  },
  {
   "cell_type": "code",
   "execution_count": 26,
   "id": "279e51ce",
   "metadata": {},
   "outputs": [],
   "source": [
    "from sklearn.tree import DecisionTreeClassifier\n",
    "\n",
    "dtc = DecisionTreeClassifier()"
   ]
  },
  {
   "cell_type": "code",
   "execution_count": 27,
   "id": "a2e41f30",
   "metadata": {},
   "outputs": [
    {
     "name": "stdout",
     "output_type": "stream",
     "text": [
      "Time elapsed 0.9068188667297363\n"
     ]
    }
   ],
   "source": [
    "s = time()\n",
    "dtc.fit(x_train_sc,y_train)\n",
    "dtc_time = time()-s\n",
    "print(\"Time elapsed\",dtc_time)"
   ]
  },
  {
   "cell_type": "markdown",
   "id": "b16b0c99",
   "metadata": {},
   "source": [
    "### Training accuracy"
   ]
  },
  {
   "cell_type": "code",
   "execution_count": 28,
   "id": "76be256e",
   "metadata": {},
   "outputs": [
    {
     "data": {
      "text/plain": [
       "0.9944589724184956"
      ]
     },
     "execution_count": 28,
     "metadata": {},
     "output_type": "execute_result"
    }
   ],
   "source": [
    "dtc.score(x_train_sc,y_train)"
   ]
  },
  {
   "cell_type": "markdown",
   "id": "3b310910",
   "metadata": {},
   "source": [
    "### Testing accuracy"
   ]
  },
  {
   "cell_type": "code",
   "execution_count": 29,
   "id": "a1a38502",
   "metadata": {},
   "outputs": [
    {
     "data": {
      "text/plain": [
       "0.9940993335056703"
      ]
     },
     "execution_count": 29,
     "metadata": {},
     "output_type": "execute_result"
    }
   ],
   "source": [
    "dtc.score(x_test_sc,y_test)"
   ]
  },
  {
   "cell_type": "markdown",
   "id": "26419bcd",
   "metadata": {},
   "source": [
    "### Accuracy of the model"
   ]
  },
  {
   "cell_type": "code",
   "execution_count": 30,
   "id": "4413305b",
   "metadata": {},
   "outputs": [
    {
     "name": "stdout",
     "output_type": "stream",
     "text": [
      "Accuracy of Decision Tree Classifier Training Dataset:  0.9944589724184956\n"
     ]
    }
   ],
   "source": [
    "y_dtc_train_pred = dtc.predict(x_train_sc)\n",
    "dtc_train_accuracy = accuracy_score(y_train,y_dtc_train_pred)\n",
    "print(\"Accuracy of Decision Tree Classifier Training Dataset: \",dtc_train_accuracy)"
   ]
  },
  {
   "cell_type": "code",
   "execution_count": 31,
   "id": "9f0a3965",
   "metadata": {},
   "outputs": [
    {
     "name": "stdout",
     "output_type": "stream",
     "text": [
      "Accuracy of Decision Tree Classifier Testing Dataset:  0.9940993335056703\n"
     ]
    }
   ],
   "source": [
    "y_dtc_test_pred = dtc.predict(x_test_sc)\n",
    "dtc_test_accuracy = accuracy_score(y_test,y_dtc_test_pred)\n",
    "print(\"Accuracy of Decision Tree Classifier Testing Dataset: \",dtc_test_accuracy)"
   ]
  },
  {
   "cell_type": "markdown",
   "id": "361e762d",
   "metadata": {},
   "source": [
    "## Applying Random Forest Classifier"
   ]
  },
  {
   "cell_type": "code",
   "execution_count": 32,
   "id": "e9c9978c",
   "metadata": {},
   "outputs": [],
   "source": [
    "from sklearn.ensemble import RandomForestClassifier\n",
    "rfc = RandomForestClassifier()"
   ]
  },
  {
   "cell_type": "code",
   "execution_count": 33,
   "id": "3aa77c46",
   "metadata": {},
   "outputs": [
    {
     "name": "stdout",
     "output_type": "stream",
     "text": [
      "Time elapsed 47.627418994903564\n"
     ]
    }
   ],
   "source": [
    "s = time()\n",
    "rfc.fit(x_train_sc,y_train)\n",
    "rfc_time = time()-s\n",
    "print(\"Time elapsed\",rfc_time)"
   ]
  },
  {
   "cell_type": "markdown",
   "id": "380a6ce8",
   "metadata": {},
   "source": [
    "### Training accuracy"
   ]
  },
  {
   "cell_type": "code",
   "execution_count": 34,
   "id": "84472317",
   "metadata": {},
   "outputs": [
    {
     "data": {
      "text/plain": [
       "0.9944589724184956"
      ]
     },
     "execution_count": 34,
     "metadata": {},
     "output_type": "execute_result"
    }
   ],
   "source": [
    "rfc.score(x_train_sc,y_train)"
   ]
  },
  {
   "cell_type": "markdown",
   "id": "857ae1b7",
   "metadata": {},
   "source": [
    "### Testing accuracy"
   ]
  },
  {
   "cell_type": "code",
   "execution_count": 35,
   "id": "101765fe",
   "metadata": {},
   "outputs": [
    {
     "data": {
      "text/plain": [
       "0.9941330515999236"
      ]
     },
     "execution_count": 35,
     "metadata": {},
     "output_type": "execute_result"
    }
   ],
   "source": [
    "rfc.score(x_test_sc,y_test)"
   ]
  },
  {
   "cell_type": "markdown",
   "id": "f599b81f",
   "metadata": {},
   "source": [
    "### Accuracy of the model"
   ]
  },
  {
   "cell_type": "code",
   "execution_count": 36,
   "id": "3dabb9e2",
   "metadata": {},
   "outputs": [
    {
     "name": "stdout",
     "output_type": "stream",
     "text": [
      "Accuracy of Random Forest Classifier Training Dataset:  0.9944589724184956\n"
     ]
    }
   ],
   "source": [
    "y_rfc_train_pred = rfc.predict(x_train_sc)\n",
    "rfc_train_accuracy = accuracy_score(y_train,y_rfc_train_pred)\n",
    "print(\"Accuracy of Random Forest Classifier Training Dataset: \",rfc_train_accuracy)"
   ]
  },
  {
   "cell_type": "code",
   "execution_count": 37,
   "id": "147a3aa4",
   "metadata": {},
   "outputs": [
    {
     "name": "stdout",
     "output_type": "stream",
     "text": [
      "Accuracy of Random Forest Classifier Testing Dataset:  0.9941330515999236\n"
     ]
    }
   ],
   "source": [
    "y_rfc_test_pred = rfc.predict(x_test_sc)\n",
    "rfc_test_accuracy = accuracy_score(y_test,y_rfc_test_pred)\n",
    "print(\"Accuracy of Random Forest Classifier Testing Dataset: \",rfc_test_accuracy)"
   ]
  },
  {
   "cell_type": "markdown",
   "id": "28d754ef",
   "metadata": {},
   "source": [
    "## Applying Naive bayes "
   ]
  },
  {
   "cell_type": "code",
   "execution_count": 38,
   "id": "9579ce7a",
   "metadata": {},
   "outputs": [],
   "source": [
    "from sklearn.naive_bayes import GaussianNB\n",
    "nb = GaussianNB()"
   ]
  },
  {
   "cell_type": "code",
   "execution_count": 39,
   "id": "3508ae4e",
   "metadata": {},
   "outputs": [
    {
     "name": "stdout",
     "output_type": "stream",
     "text": [
      "Time elapsed 0.15570878982543945\n"
     ]
    }
   ],
   "source": [
    "s = time()\n",
    "nb.fit(x_train,y_train)\n",
    "nb_time = time()-s\n",
    "print(\"Time elapsed\",nb_time)"
   ]
  },
  {
   "cell_type": "markdown",
   "id": "3a1346da",
   "metadata": {},
   "source": [
    "### Training accuracy"
   ]
  },
  {
   "cell_type": "code",
   "execution_count": 40,
   "id": "8caaace3",
   "metadata": {},
   "outputs": [
    {
     "data": {
      "text/plain": [
       "0.7548835222802509"
      ]
     },
     "execution_count": 40,
     "metadata": {},
     "output_type": "execute_result"
    }
   ],
   "source": [
    "nb.score(x_train,y_train)"
   ]
  },
  {
   "cell_type": "markdown",
   "id": "6f5fc46f",
   "metadata": {},
   "source": [
    "### Testing accuracy"
   ]
  },
  {
   "cell_type": "code",
   "execution_count": 41,
   "id": "09d71439",
   "metadata": {},
   "outputs": [
    {
     "data": {
      "text/plain": [
       "0.7541501354343453"
      ]
     },
     "execution_count": 41,
     "metadata": {},
     "output_type": "execute_result"
    }
   ],
   "source": [
    "nb.score(x_test,y_test)"
   ]
  },
  {
   "cell_type": "markdown",
   "id": "af9a9673",
   "metadata": {},
   "source": [
    "### Accuracy of the model"
   ]
  },
  {
   "cell_type": "code",
   "execution_count": 42,
   "id": "857845ae",
   "metadata": {},
   "outputs": [
    {
     "name": "stdout",
     "output_type": "stream",
     "text": [
      "Accuracy of Naive Bayes Training Dataset:  0.7548835222802509\n"
     ]
    }
   ],
   "source": [
    "y_nb_train_pred = nb.predict(x_train)\n",
    "nb_train_accuracy = accuracy_score(y_train,y_nb_train_pred)\n",
    "print(\"Accuracy of Naive Bayes Training Dataset: \",nb_train_accuracy)"
   ]
  },
  {
   "cell_type": "code",
   "execution_count": 43,
   "id": "9e6b21ff",
   "metadata": {},
   "outputs": [
    {
     "name": "stdout",
     "output_type": "stream",
     "text": [
      "Accuracy of Naive Bayes Testing Dataset:  0.7541501354343453\n"
     ]
    }
   ],
   "source": [
    "y_nb_test_pred = nb.predict(x_test)\n",
    "nb_test_accuracy = accuracy_score(y_test,y_nb_test_pred)\n",
    "print(\"Accuracy of Naive Bayes Testing Dataset: \",nb_test_accuracy)"
   ]
  },
  {
   "cell_type": "markdown",
   "id": "6ffcbccd",
   "metadata": {},
   "source": [
    "## Applying SVM"
   ]
  },
  {
   "cell_type": "code",
   "execution_count": 44,
   "id": "01fa4b9a",
   "metadata": {},
   "outputs": [],
   "source": [
    "from sklearn.svm import LinearSVC\n",
    "svc = LinearSVC()"
   ]
  },
  {
   "cell_type": "code",
   "execution_count": 103,
   "id": "b4b3cd14",
   "metadata": {},
   "outputs": [
    {
     "name": "stderr",
     "output_type": "stream",
     "text": [
      "c:\\users\\hebbar\\appdata\\local\\programs\\python\\python39\\lib\\site-packages\\sklearn\\utils\\validation.py:985: DataConversionWarning: A column-vector y was passed when a 1d array was expected. Please change the shape of y to (n_samples, ), for example using ravel().\n",
      "  y = column_or_1d(y, warn=True)\n"
     ]
    },
    {
     "name": "stdout",
     "output_type": "stream",
     "text": [
      "Time elapsed 75.70233845710754\n"
     ]
    }
   ],
   "source": [
    "s = time()\n",
    "svc.fit(x_train_sc,y_train)\n",
    "svc_time = time()-s\n",
    "print(\"Time elapsed\",svc_time)"
   ]
  },
  {
   "cell_type": "markdown",
   "id": "e905b3d8",
   "metadata": {},
   "source": [
    "### Training accuracy"
   ]
  },
  {
   "cell_type": "code",
   "execution_count": 46,
   "id": "b34b3e27",
   "metadata": {},
   "outputs": [
    {
     "data": {
      "text/plain": [
       "0.984418435624424"
      ]
     },
     "execution_count": 46,
     "metadata": {},
     "output_type": "execute_result"
    }
   ],
   "source": [
    "svc.score(x_train_sc,y_train)"
   ]
  },
  {
   "cell_type": "markdown",
   "id": "98437b62",
   "metadata": {},
   "source": [
    "### Testing accuracy"
   ]
  },
  {
   "cell_type": "code",
   "execution_count": 47,
   "id": "3a4db483",
   "metadata": {},
   "outputs": [
    {
     "data": {
      "text/plain": [
       "0.9836467242871433"
      ]
     },
     "execution_count": 47,
     "metadata": {},
     "output_type": "execute_result"
    }
   ],
   "source": [
    "svc.score(x_test_sc,y_test)"
   ]
  },
  {
   "cell_type": "markdown",
   "id": "96707501",
   "metadata": {},
   "source": [
    "### Accuracy of the model"
   ]
  },
  {
   "cell_type": "code",
   "execution_count": 48,
   "id": "e305e53a",
   "metadata": {},
   "outputs": [
    {
     "name": "stdout",
     "output_type": "stream",
     "text": [
      "Accuracy of Support Vector Machine Training Dataset:  0.984418435624424\n"
     ]
    }
   ],
   "source": [
    "y_svc_train_pred = svc.predict(x_train_sc)\n",
    "svc_train_accuracy = accuracy_score(y_train,y_svc_train_pred)\n",
    "print(\"Accuracy of Support Vector Machine Training Dataset: \",svc_train_accuracy)"
   ]
  },
  {
   "cell_type": "code",
   "execution_count": 49,
   "id": "0d395c10",
   "metadata": {},
   "outputs": [
    {
     "name": "stdout",
     "output_type": "stream",
     "text": [
      "Accuracy of Support Vector Machine Testing Dataset:  0.9836467242871433\n"
     ]
    }
   ],
   "source": [
    "y_svc_test_pred = svc.predict(x_test_sc)\n",
    "svc_test_accuracy = accuracy_score(y_test,y_svc_test_pred)\n",
    "print(\"Accuracy of Support Vector Machine Testing Dataset: \",svc_test_accuracy)"
   ]
  },
  {
   "cell_type": "markdown",
   "id": "7e98bccb",
   "metadata": {},
   "source": [
    "## Applying Artificial Neural Network using Tensorflow"
   ]
  },
  {
   "cell_type": "code",
   "execution_count": 50,
   "id": "dafe12c3",
   "metadata": {},
   "outputs": [],
   "source": [
    "import tensorflow as tf\n",
    "from tensorflow.keras import Sequential,layers"
   ]
  },
  {
   "cell_type": "code",
   "execution_count": 51,
   "id": "b0697d0f",
   "metadata": {},
   "outputs": [
    {
     "data": {
      "text/plain": [
       "((266918,), (88973,))"
      ]
     },
     "execution_count": 51,
     "metadata": {},
     "output_type": "execute_result"
    }
   ],
   "source": [
    "y_train.shape,y_test.shape"
   ]
  },
  {
   "cell_type": "code",
   "execution_count": 52,
   "id": "078d3805",
   "metadata": {},
   "outputs": [],
   "source": [
    "y_train = y_train.reshape(-1,1)"
   ]
  },
  {
   "cell_type": "code",
   "execution_count": 53,
   "id": "15df740d",
   "metadata": {},
   "outputs": [],
   "source": [
    "y_test = y_test.reshape(-1,1)"
   ]
  },
  {
   "cell_type": "code",
   "execution_count": 54,
   "id": "2339d388",
   "metadata": {},
   "outputs": [
    {
     "data": {
      "text/plain": [
       "((266918, 1), (88973, 1))"
      ]
     },
     "execution_count": 54,
     "metadata": {},
     "output_type": "execute_result"
    }
   ],
   "source": [
    "y_train.shape,y_test.shape"
   ]
  },
  {
   "cell_type": "code",
   "execution_count": 55,
   "id": "a5034357",
   "metadata": {},
   "outputs": [
    {
     "data": {
      "text/plain": [
       "((266918, 11), (266918, 11), (88973, 11), (88973, 11))"
      ]
     },
     "execution_count": 55,
     "metadata": {},
     "output_type": "execute_result"
    }
   ],
   "source": [
    "x_train.shape,x_train_sc.shape,x_test.shape,x_test_sc.shape"
   ]
  },
  {
   "cell_type": "code",
   "execution_count": 102,
   "id": "3f0a2715",
   "metadata": {},
   "outputs": [
    {
     "name": "stdout",
     "output_type": "stream",
     "text": [
      "Epoch 1/20\n",
      "8342/8342 [==============================] - 6s 665us/step - loss: 0.0598 - accuracy: 0.9856\n",
      "Epoch 2/20\n",
      "8342/8342 [==============================] - 6s 743us/step - loss: 0.0217 - accuracy: 0.9919\n",
      "Epoch 3/20\n",
      "8342/8342 [==============================] - 10s 1ms/step - loss: 0.0150 - accuracy: 0.9933\n",
      "Epoch 4/20\n",
      "8342/8342 [==============================] - 17s 2ms/step - loss: 0.0125 - accuracy: 0.9940\n",
      "Epoch 5/20\n",
      "8342/8342 [==============================] - 17s 2ms/step - loss: 0.0118 - accuracy: 0.9943\n",
      "Epoch 6/20\n",
      "8342/8342 [==============================] - 23s 3ms/step - loss: 0.0115 - accuracy: 0.9943\n",
      "Epoch 7/20\n",
      "8342/8342 [==============================] - 17s 2ms/step - loss: 0.0114 - accuracy: 0.9943\n",
      "Epoch 8/20\n",
      "8342/8342 [==============================] - 15s 2ms/step - loss: 0.0115 - accuracy: 0.9943\n",
      "Epoch 9/20\n",
      "8342/8342 [==============================] - 15s 2ms/step - loss: 0.0113 - accuracy: 0.9944\n",
      "Epoch 10/20\n",
      "8342/8342 [==============================] - 13s 2ms/step - loss: 0.0113 - accuracy: 0.9944\n",
      "Epoch 11/20\n",
      "8342/8342 [==============================] - 12s 1ms/step - loss: 0.0114 - accuracy: 0.9943\n",
      "Epoch 12/20\n",
      "8342/8342 [==============================] - 15s 2ms/step - loss: 0.0111 - accuracy: 0.9944\n",
      "Epoch 13/20\n",
      "8342/8342 [==============================] - 18s 2ms/step - loss: 0.0111 - accuracy: 0.9944\n",
      "Epoch 14/20\n",
      "8342/8342 [==============================] - 18s 2ms/step - loss: 0.0114 - accuracy: 0.9944 0s - loss: 0.0\n",
      "Epoch 15/20\n",
      "8342/8342 [==============================] - 17s 2ms/step - loss: 0.0114 - accuracy: 0.9944\n",
      "Epoch 16/20\n",
      "8342/8342 [==============================] - 18s 2ms/step - loss: 0.0112 - accuracy: 0.9944ETA: 2s - loss: 0.011\n",
      "Epoch 17/20\n",
      "8342/8342 [==============================] - 20s 2ms/step - loss: 0.0113 - accuracy: 0.9944\n",
      "Epoch 18/20\n",
      "8342/8342 [==============================] - 19s 2ms/step - loss: 0.0111 - accuracy: 0.9944\n",
      "Epoch 19/20\n",
      "8342/8342 [==============================] - 16s 2ms/step - loss: 0.0113 - accuracy: 0.9944\n",
      "Epoch 20/20\n",
      "8342/8342 [==============================] - 15s 2ms/step - loss: 0.0112 - accuracy: 0.9944\n",
      "Time elapsed 310.154185295105\n"
     ]
    }
   ],
   "source": [
    "ann = Sequential([\n",
    "    layers.Dense(10,input_shape=(11,),activation='relu'),\n",
    "    layers.Dense(20,activation='relu'),\n",
    "    layers.Dense(20,activation='relu'),\n",
    "    layers.Dense(8,activation='sigmoid'),\n",
    "    \n",
    "])\n",
    "\n",
    "ann.compile(optimizer='adam',\n",
    "             loss = 'sparse_categorical_crossentropy',\n",
    "             metrics=['accuracy'])\n",
    "s = time()\n",
    "ann.fit(x_train_sc,y_train,epochs= 20)\n",
    "ann_time = time()-s\n",
    "print(\"Time elapsed\",ann_time)"
   ]
  },
  {
   "cell_type": "markdown",
   "id": "a45bc614",
   "metadata": {},
   "source": [
    "## Training Accuracy"
   ]
  },
  {
   "cell_type": "code",
   "execution_count": 105,
   "id": "b9e2f8e1",
   "metadata": {},
   "outputs": [
    {
     "name": "stdout",
     "output_type": "stream",
     "text": [
      "8342/8342 [==============================] - 4s 527us/step - loss: 0.0109 - accuracy: 0.99440s - loss: 0.0\n"
     ]
    },
    {
     "data": {
      "text/plain": [
       "0.9944440126419067"
      ]
     },
     "execution_count": 105,
     "metadata": {},
     "output_type": "execute_result"
    }
   ],
   "source": [
    "loss_train, ann_train_accuracy = ann.evaluate(x_train_sc,y_train)\n",
    "ann_train_accuracy"
   ]
  },
  {
   "cell_type": "code",
   "execution_count": 106,
   "id": "faeb0fc7",
   "metadata": {},
   "outputs": [
    {
     "name": "stdout",
     "output_type": "stream",
     "text": [
      "2781/2781 [==============================] - 1s 526us/step - loss: 0.0112 - accuracy: 0.9941\n"
     ]
    },
    {
     "data": {
      "text/plain": [
       "0.9941105842590332"
      ]
     },
     "execution_count": 106,
     "metadata": {},
     "output_type": "execute_result"
    }
   ],
   "source": [
    "loss_test, ann_test_accuracy = ann.evaluate(x_test_sc,y_test)\n",
    "ann_test_accuracy"
   ]
  },
  {
   "cell_type": "markdown",
   "id": "c0e349bb",
   "metadata": {},
   "source": [
    "## Evaluation Metrics"
   ]
  },
  {
   "cell_type": "code",
   "execution_count": 59,
   "id": "f362dd8a",
   "metadata": {},
   "outputs": [],
   "source": [
    "target_names = ['DoSattack','dataProbing','malitiousControl', 'malitiousOperation','scan','spying', 'wrongSetUp','Normal']"
   ]
  },
  {
   "cell_type": "code",
   "execution_count": 60,
   "id": "60f17c45",
   "metadata": {},
   "outputs": [
    {
     "data": {
      "text/plain": [
       "['Normal',\n",
       " 'DoSattack',\n",
       " 'scan',\n",
       " 'malitiousControl',\n",
       " 'malitiousOperation',\n",
       " 'spying',\n",
       " 'dataProbing',\n",
       " 'wrongSetUp']"
      ]
     },
     "execution_count": 60,
     "metadata": {},
     "output_type": "execute_result"
    }
   ],
   "source": [
    "target_names"
   ]
  },
  {
   "cell_type": "markdown",
   "id": "6aa1fe69",
   "metadata": {},
   "source": [
    "## Classification Report of Logistic Regression"
   ]
  },
  {
   "cell_type": "markdown",
   "id": "b1e43eff",
   "metadata": {},
   "source": [
    "### For Training Dataset"
   ]
  },
  {
   "cell_type": "code",
   "execution_count": 61,
   "id": "2c0e9abf",
   "metadata": {},
   "outputs": [
    {
     "name": "stdout",
     "output_type": "stream",
     "text": [
      "                    precision    recall  f1-score   support\n",
      "\n",
      "            Normal       0.95      0.50      0.66      2986\n",
      "         DoSattack       1.00      0.83      0.90       183\n",
      "              scan       0.98      0.93      0.95       679\n",
      "  malitiousControl       0.82      0.75      0.78       508\n",
      "malitiousOperation       0.88      0.47      0.62      1129\n",
      "            spying       0.00      0.00      0.00       378\n",
      "       dataProbing       0.94      1.00      0.97        91\n",
      "        wrongSetUp       0.99      1.00      0.99    260964\n",
      "\n",
      "          accuracy                           0.99    266918\n",
      "         macro avg       0.82      0.68      0.73    266918\n",
      "      weighted avg       0.99      0.99      0.99    266918\n",
      "\n"
     ]
    }
   ],
   "source": [
    "print(classification_report(y_train, y_lr_train_pred, target_names=target_names))"
   ]
  },
  {
   "cell_type": "markdown",
   "id": "31490f62",
   "metadata": {},
   "source": [
    "### For Testing Dataset"
   ]
  },
  {
   "cell_type": "code",
   "execution_count": 62,
   "id": "97b93e0e",
   "metadata": {},
   "outputs": [
    {
     "name": "stdout",
     "output_type": "stream",
     "text": [
      "                    precision    recall  f1-score   support\n",
      "\n",
      "            Normal       0.94      0.49      0.64      1014\n",
      "         DoSattack       1.00      0.83      0.91        59\n",
      "              scan       1.00      0.91      0.95       210\n",
      "  malitiousControl       0.80      0.68      0.74       149\n",
      "malitiousOperation       0.90      0.50      0.64       402\n",
      "            spying       0.00      0.00      0.00       154\n",
      "       dataProbing       0.86      1.00      0.93        31\n",
      "        wrongSetUp       0.99      1.00      0.99     86954\n",
      "\n",
      "          accuracy                           0.99     88973\n",
      "         macro avg       0.81      0.68      0.73     88973\n",
      "      weighted avg       0.99      0.99      0.99     88973\n",
      "\n"
     ]
    }
   ],
   "source": [
    "print(classification_report(y_test, y_lr_test_pred, target_names=target_names))"
   ]
  },
  {
   "cell_type": "markdown",
   "id": "4b948353",
   "metadata": {},
   "source": [
    "## Confusion Matrix for Logistic Regression"
   ]
  },
  {
   "cell_type": "markdown",
   "id": "2cfc886c",
   "metadata": {},
   "source": [
    "### For Training dataset"
   ]
  },
  {
   "cell_type": "code",
   "execution_count": 63,
   "id": "35a8c31a",
   "metadata": {},
   "outputs": [
    {
     "data": {
      "text/plain": [
       "array([[  1507,      0,      0,      0,      0,      0,      0,   1479],\n",
       "       [     0,    151,      0,      0,      0,      0,      0,     32],\n",
       "       [     0,      0,    629,      9,     28,      0,      0,     13],\n",
       "       [     0,      0,      0,    381,      0,      0,      0,    127],\n",
       "       [     0,      0,     10,      0,    534,      0,      6,    579],\n",
       "       [     0,      0,      0,      0,     26,      0,      0,    352],\n",
       "       [     0,      0,      0,      0,      0,      0,     91,      0],\n",
       "       [    86,      0,      1,     76,     16,     56,      0, 260729]],\n",
       "      dtype=int64)"
      ]
     },
     "execution_count": 63,
     "metadata": {},
     "output_type": "execute_result"
    }
   ],
   "source": [
    "confusion_matrix(y_train, y_lr_train_pred)"
   ]
  },
  {
   "cell_type": "markdown",
   "id": "547fba52",
   "metadata": {},
   "source": [
    "### For Testing dataset"
   ]
  },
  {
   "cell_type": "code",
   "execution_count": 64,
   "id": "f3b29cc1",
   "metadata": {},
   "outputs": [
    {
     "data": {
      "text/plain": [
       "array([[  493,     0,     0,     0,     0,     0,     0,   521],\n",
       "       [    0,    49,     0,     0,     0,     0,     0,    10],\n",
       "       [    0,     0,   191,     4,    10,     0,     0,     5],\n",
       "       [    0,     0,     0,   102,     0,     0,     0,    47],\n",
       "       [    0,     0,     0,     0,   201,     0,     5,   196],\n",
       "       [    0,     0,     0,     0,     9,     0,     0,   145],\n",
       "       [    0,     0,     0,     0,     0,     0,    31,     0],\n",
       "       [   29,     0,     0,    21,     4,    11,     0, 86889]],\n",
       "      dtype=int64)"
      ]
     },
     "execution_count": 64,
     "metadata": {},
     "output_type": "execute_result"
    }
   ],
   "source": [
    "confusion_matrix(y_test, y_lr_test_pred)"
   ]
  },
  {
   "cell_type": "markdown",
   "id": "83b2dafc",
   "metadata": {},
   "source": [
    "## Classification Report for K Nearest Neighbour"
   ]
  },
  {
   "cell_type": "markdown",
   "id": "e79c37d0",
   "metadata": {},
   "source": [
    "### For Training Dataset"
   ]
  },
  {
   "cell_type": "code",
   "execution_count": 65,
   "id": "53242d32",
   "metadata": {},
   "outputs": [
    {
     "name": "stdout",
     "output_type": "stream",
     "text": [
      "                    precision    recall  f1-score   support\n",
      "\n",
      "            Normal       0.63      1.00      0.78      2986\n",
      "         DoSattack       1.00      1.00      1.00       183\n",
      "              scan       1.00      1.00      1.00       679\n",
      "  malitiousControl       1.00      1.00      1.00       508\n",
      "malitiousOperation       1.00      1.00      1.00      1129\n",
      "            spying       1.00      1.00      1.00       378\n",
      "       dataProbing       1.00      1.00      1.00        91\n",
      "        wrongSetUp       1.00      0.99      1.00    260964\n",
      "\n",
      "          accuracy                           0.99    266918\n",
      "         macro avg       0.95      1.00      0.97    266918\n",
      "      weighted avg       1.00      0.99      0.99    266918\n",
      "\n"
     ]
    }
   ],
   "source": [
    "print(classification_report(y_train, y_knn_train_pred, target_names=target_names))"
   ]
  },
  {
   "cell_type": "markdown",
   "id": "fbad0fa2",
   "metadata": {},
   "source": [
    "### For Testing Dataset"
   ]
  },
  {
   "cell_type": "code",
   "execution_count": 66,
   "id": "dab972ad",
   "metadata": {},
   "outputs": [
    {
     "name": "stdout",
     "output_type": "stream",
     "text": [
      "                    precision    recall  f1-score   support\n",
      "\n",
      "            Normal       0.65      1.00      0.79      1014\n",
      "         DoSattack       1.00      1.00      1.00        59\n",
      "              scan       1.00      1.00      1.00       210\n",
      "  malitiousControl       1.00      1.00      1.00       149\n",
      "malitiousOperation       1.00      1.00      1.00       402\n",
      "            spying       1.00      1.00      1.00       154\n",
      "       dataProbing       1.00      1.00      1.00        31\n",
      "        wrongSetUp       1.00      0.99      1.00     86954\n",
      "\n",
      "          accuracy                           0.99     88973\n",
      "         macro avg       0.96      1.00      0.97     88973\n",
      "      weighted avg       1.00      0.99      0.99     88973\n",
      "\n"
     ]
    }
   ],
   "source": [
    "print(classification_report(y_test, y_knn_test_pred, target_names=target_names))"
   ]
  },
  {
   "cell_type": "markdown",
   "id": "0d2cac37",
   "metadata": {},
   "source": [
    "## Confusion Matrix for K Nearest Neighbour"
   ]
  },
  {
   "cell_type": "markdown",
   "id": "5c9e922b",
   "metadata": {},
   "source": [
    "### For Training dataset"
   ]
  },
  {
   "cell_type": "code",
   "execution_count": 67,
   "id": "cad84c51",
   "metadata": {},
   "outputs": [
    {
     "data": {
      "text/plain": [
       "array([[  2986,      0,      0,      0,      0,      0,      0,      0],\n",
       "       [     0,    183,      0,      0,      0,      0,      0,      0],\n",
       "       [     0,      0,    679,      0,      0,      0,      0,      0],\n",
       "       [     0,      0,      0,    508,      0,      0,      0,      0],\n",
       "       [     0,      0,      0,      0,   1129,      0,      0,      0],\n",
       "       [     0,      0,      0,      0,      0,    378,      0,      0],\n",
       "       [     0,      0,      0,      0,      0,      0,     91,      0],\n",
       "       [  1733,      0,      0,      0,      2,      1,      0, 259228]],\n",
       "      dtype=int64)"
      ]
     },
     "execution_count": 67,
     "metadata": {},
     "output_type": "execute_result"
    }
   ],
   "source": [
    "confusion_matrix(y_train, y_knn_train_pred)"
   ]
  },
  {
   "cell_type": "markdown",
   "id": "2dae355a",
   "metadata": {},
   "source": [
    "### For Testing dataset"
   ]
  },
  {
   "cell_type": "code",
   "execution_count": 68,
   "id": "b25ff790",
   "metadata": {},
   "outputs": [
    {
     "data": {
      "text/plain": [
       "array([[ 1014,     0,     0,     0,     0,     0,     0,     0],\n",
       "       [    0,    59,     0,     0,     0,     0,     0,     0],\n",
       "       [    0,     0,   210,     0,     0,     0,     0,     0],\n",
       "       [    0,     0,     0,   149,     0,     0,     0,     0],\n",
       "       [    0,     0,     0,     0,   402,     0,     0,     0],\n",
       "       [    0,     0,     0,     0,     0,   154,     0,     0],\n",
       "       [    0,     0,     0,     0,     0,     0,    31,     0],\n",
       "       [  551,     0,     0,     0,     2,     0,     0, 86401]],\n",
       "      dtype=int64)"
      ]
     },
     "execution_count": 68,
     "metadata": {},
     "output_type": "execute_result"
    }
   ],
   "source": [
    "confusion_matrix(y_test, y_knn_test_pred)"
   ]
  },
  {
   "cell_type": "markdown",
   "id": "bca2c069",
   "metadata": {},
   "source": [
    "## Classification Report for Decision Tree Classifier"
   ]
  },
  {
   "cell_type": "markdown",
   "id": "64170018",
   "metadata": {},
   "source": [
    "### For Training Dataset"
   ]
  },
  {
   "cell_type": "code",
   "execution_count": 69,
   "id": "2dd92bb0",
   "metadata": {},
   "outputs": [
    {
     "name": "stdout",
     "output_type": "stream",
     "text": [
      "                    precision    recall  f1-score   support\n",
      "\n",
      "            Normal       1.00      0.50      0.67      2986\n",
      "         DoSattack       1.00      1.00      1.00       183\n",
      "              scan       1.00      1.00      1.00       679\n",
      "  malitiousControl       1.00      1.00      1.00       508\n",
      "malitiousOperation       1.00      1.00      1.00      1129\n",
      "            spying       1.00      1.00      1.00       378\n",
      "       dataProbing       1.00      1.00      1.00        91\n",
      "        wrongSetUp       0.99      1.00      1.00    260964\n",
      "\n",
      "          accuracy                           0.99    266918\n",
      "         macro avg       1.00      0.94      0.96    266918\n",
      "      weighted avg       0.99      0.99      0.99    266918\n",
      "\n"
     ]
    }
   ],
   "source": [
    "print(classification_report(y_train, y_dtc_train_pred, target_names=target_names))"
   ]
  },
  {
   "cell_type": "markdown",
   "id": "93d62f2a",
   "metadata": {},
   "source": [
    "### For Testing Dataset"
   ]
  },
  {
   "cell_type": "code",
   "execution_count": 70,
   "id": "1219db94",
   "metadata": {},
   "outputs": [
    {
     "name": "stdout",
     "output_type": "stream",
     "text": [
      "                    precision    recall  f1-score   support\n",
      "\n",
      "            Normal       1.00      0.49      0.65      1014\n",
      "         DoSattack       1.00      1.00      1.00        59\n",
      "              scan       1.00      1.00      1.00       210\n",
      "  malitiousControl       1.00      1.00      1.00       149\n",
      "malitiousOperation       1.00      1.00      1.00       402\n",
      "            spying       0.99      1.00      0.99       154\n",
      "       dataProbing       1.00      1.00      1.00        31\n",
      "        wrongSetUp       0.99      1.00      1.00     86954\n",
      "\n",
      "          accuracy                           0.99     88973\n",
      "         macro avg       1.00      0.94      0.96     88973\n",
      "      weighted avg       0.99      0.99      0.99     88973\n",
      "\n"
     ]
    }
   ],
   "source": [
    "print(classification_report(y_test, y_dtc_test_pred, target_names=target_names))"
   ]
  },
  {
   "cell_type": "markdown",
   "id": "0bba3ccd",
   "metadata": {},
   "source": [
    "## Confusion Matrix for Decision Tree Classifier"
   ]
  },
  {
   "cell_type": "markdown",
   "id": "5dfd023f",
   "metadata": {},
   "source": [
    "### For Training dataset"
   ]
  },
  {
   "cell_type": "code",
   "execution_count": 71,
   "id": "0774235f",
   "metadata": {},
   "outputs": [
    {
     "data": {
      "text/plain": [
       "array([[  1507,      0,      0,      0,      0,      0,      0,   1479],\n",
       "       [     0,    183,      0,      0,      0,      0,      0,      0],\n",
       "       [     0,      0,    679,      0,      0,      0,      0,      0],\n",
       "       [     0,      0,      0,    508,      0,      0,      0,      0],\n",
       "       [     0,      0,      0,      0,   1129,      0,      0,      0],\n",
       "       [     0,      0,      0,      0,      0,    378,      0,      0],\n",
       "       [     0,      0,      0,      0,      0,      0,     91,      0],\n",
       "       [     0,      0,      0,      0,      0,      0,      0, 260964]],\n",
       "      dtype=int64)"
      ]
     },
     "execution_count": 71,
     "metadata": {},
     "output_type": "execute_result"
    }
   ],
   "source": [
    "confusion_matrix(y_train, y_dtc_train_pred)"
   ]
  },
  {
   "cell_type": "markdown",
   "id": "bfef637f",
   "metadata": {},
   "source": [
    "### For Testing dataset"
   ]
  },
  {
   "cell_type": "code",
   "execution_count": 72,
   "id": "af772bc0",
   "metadata": {},
   "outputs": [
    {
     "data": {
      "text/plain": [
       "array([[  493,     0,     0,     0,     0,     0,     0,   521],\n",
       "       [    0,    59,     0,     0,     0,     0,     0,     0],\n",
       "       [    0,     0,   210,     0,     0,     0,     0,     0],\n",
       "       [    0,     0,     0,   149,     0,     0,     0,     0],\n",
       "       [    0,     0,     0,     0,   402,     0,     0,     0],\n",
       "       [    0,     0,     0,     0,     0,   154,     0,     0],\n",
       "       [    0,     0,     0,     0,     0,     0,    31,     0],\n",
       "       [    0,     0,     0,     0,     2,     2,     0, 86950]],\n",
       "      dtype=int64)"
      ]
     },
     "execution_count": 72,
     "metadata": {},
     "output_type": "execute_result"
    }
   ],
   "source": [
    "confusion_matrix(y_test, y_dtc_test_pred)"
   ]
  },
  {
   "cell_type": "markdown",
   "id": "67cf76a7",
   "metadata": {},
   "source": [
    "## Classification Report for Random Forest Classifier"
   ]
  },
  {
   "cell_type": "markdown",
   "id": "3e633459",
   "metadata": {},
   "source": [
    "### For Training Dataset"
   ]
  },
  {
   "cell_type": "code",
   "execution_count": 73,
   "id": "bf326a81",
   "metadata": {},
   "outputs": [
    {
     "name": "stdout",
     "output_type": "stream",
     "text": [
      "                    precision    recall  f1-score   support\n",
      "\n",
      "            Normal       1.00      0.50      0.67      2986\n",
      "         DoSattack       1.00      1.00      1.00       183\n",
      "              scan       1.00      1.00      1.00       679\n",
      "  malitiousControl       1.00      1.00      1.00       508\n",
      "malitiousOperation       1.00      1.00      1.00      1129\n",
      "            spying       1.00      1.00      1.00       378\n",
      "       dataProbing       1.00      1.00      1.00        91\n",
      "        wrongSetUp       0.99      1.00      1.00    260964\n",
      "\n",
      "          accuracy                           0.99    266918\n",
      "         macro avg       1.00      0.94      0.96    266918\n",
      "      weighted avg       0.99      0.99      0.99    266918\n",
      "\n"
     ]
    }
   ],
   "source": [
    "print(classification_report(y_train, y_rfc_train_pred, target_names=target_names))"
   ]
  },
  {
   "cell_type": "markdown",
   "id": "04b69c75",
   "metadata": {},
   "source": [
    "### For Testing Dataset"
   ]
  },
  {
   "cell_type": "code",
   "execution_count": 74,
   "id": "fec236e4",
   "metadata": {},
   "outputs": [
    {
     "name": "stdout",
     "output_type": "stream",
     "text": [
      "                    precision    recall  f1-score   support\n",
      "\n",
      "            Normal       1.00      0.49      0.65      1014\n",
      "         DoSattack       1.00      1.00      1.00        59\n",
      "              scan       1.00      1.00      1.00       210\n",
      "  malitiousControl       1.00      1.00      1.00       149\n",
      "malitiousOperation       1.00      1.00      1.00       402\n",
      "            spying       1.00      1.00      1.00       154\n",
      "       dataProbing       1.00      1.00      1.00        31\n",
      "        wrongSetUp       0.99      1.00      1.00     86954\n",
      "\n",
      "          accuracy                           0.99     88973\n",
      "         macro avg       1.00      0.94      0.96     88973\n",
      "      weighted avg       0.99      0.99      0.99     88973\n",
      "\n"
     ]
    }
   ],
   "source": [
    "print(classification_report(y_test, y_rfc_test_pred, target_names=target_names))"
   ]
  },
  {
   "cell_type": "markdown",
   "id": "1cea4008",
   "metadata": {},
   "source": [
    "## Confusion Matrix for Random Forest Classifier"
   ]
  },
  {
   "cell_type": "markdown",
   "id": "0591eef2",
   "metadata": {},
   "source": [
    "### For Training dataset"
   ]
  },
  {
   "cell_type": "code",
   "execution_count": 75,
   "id": "8aa11f4f",
   "metadata": {},
   "outputs": [
    {
     "data": {
      "text/plain": [
       "array([[  1507,      0,      0,      0,      0,      0,      0,   1479],\n",
       "       [     0,    183,      0,      0,      0,      0,      0,      0],\n",
       "       [     0,      0,    679,      0,      0,      0,      0,      0],\n",
       "       [     0,      0,      0,    508,      0,      0,      0,      0],\n",
       "       [     0,      0,      0,      0,   1129,      0,      0,      0],\n",
       "       [     0,      0,      0,      0,      0,    378,      0,      0],\n",
       "       [     0,      0,      0,      0,      0,      0,     91,      0],\n",
       "       [     0,      0,      0,      0,      0,      0,      0, 260964]],\n",
       "      dtype=int64)"
      ]
     },
     "execution_count": 75,
     "metadata": {},
     "output_type": "execute_result"
    }
   ],
   "source": [
    "confusion_matrix(y_train, y_rfc_train_pred)"
   ]
  },
  {
   "cell_type": "markdown",
   "id": "cadd0c6f",
   "metadata": {},
   "source": [
    "### For Testing dataset"
   ]
  },
  {
   "cell_type": "code",
   "execution_count": 76,
   "id": "9ad8e843",
   "metadata": {},
   "outputs": [
    {
     "data": {
      "text/plain": [
       "array([[  493,     0,     0,     0,     0,     0,     0,   521],\n",
       "       [    0,    59,     0,     0,     0,     0,     0,     0],\n",
       "       [    0,     0,   210,     0,     0,     0,     0,     0],\n",
       "       [    0,     0,     0,   149,     0,     0,     0,     0],\n",
       "       [    0,     0,     0,     0,   402,     0,     0,     0],\n",
       "       [    0,     0,     0,     0,     0,   154,     0,     0],\n",
       "       [    0,     0,     0,     0,     0,     0,    31,     0],\n",
       "       [    0,     0,     0,     0,     1,     0,     0, 86953]],\n",
       "      dtype=int64)"
      ]
     },
     "execution_count": 76,
     "metadata": {},
     "output_type": "execute_result"
    }
   ],
   "source": [
    "confusion_matrix(y_test, y_rfc_test_pred)"
   ]
  },
  {
   "cell_type": "markdown",
   "id": "e8e929d6",
   "metadata": {},
   "source": [
    "## Classification Report for Naive Bayes"
   ]
  },
  {
   "cell_type": "markdown",
   "id": "b55641ce",
   "metadata": {},
   "source": [
    "### For Training Dataset"
   ]
  },
  {
   "cell_type": "code",
   "execution_count": 77,
   "id": "10592a09",
   "metadata": {},
   "outputs": [
    {
     "name": "stdout",
     "output_type": "stream",
     "text": [
      "                    precision    recall  f1-score   support\n",
      "\n",
      "            Normal       0.34      1.00      0.50      2986\n",
      "         DoSattack       0.04      0.83      0.07       183\n",
      "              scan       0.19      0.93      0.32       679\n",
      "  malitiousControl       0.66      1.00      0.80       508\n",
      "malitiousOperation       1.00      0.12      0.22      1129\n",
      "            spying       0.01      0.93      0.01       378\n",
      "       dataProbing       1.00      1.00      1.00        91\n",
      "        wrongSetUp       1.00      0.75      0.86    260964\n",
      "\n",
      "          accuracy                           0.75    266918\n",
      "         macro avg       0.53      0.82      0.47    266918\n",
      "      weighted avg       0.99      0.75      0.85    266918\n",
      "\n"
     ]
    }
   ],
   "source": [
    "print(classification_report(y_train, y_nb_train_pred, target_names=target_names))"
   ]
  },
  {
   "cell_type": "markdown",
   "id": "0b1ab396",
   "metadata": {},
   "source": [
    "### For Testing Dataset"
   ]
  },
  {
   "cell_type": "code",
   "execution_count": 78,
   "id": "bb06b7ec",
   "metadata": {},
   "outputs": [
    {
     "name": "stdout",
     "output_type": "stream",
     "text": [
      "                    precision    recall  f1-score   support\n",
      "\n",
      "            Normal       0.34      1.00      0.51      1014\n",
      "         DoSattack       0.04      0.83      0.07        59\n",
      "              scan       0.18      0.91      0.30       210\n",
      "  malitiousControl       0.67      1.00      0.80       149\n",
      "malitiousOperation       1.00      0.13      0.24       402\n",
      "            spying       0.01      0.95      0.02       154\n",
      "       dataProbing       1.00      1.00      1.00        31\n",
      "        wrongSetUp       1.00      0.75      0.86     86954\n",
      "\n",
      "          accuracy                           0.75     88973\n",
      "         macro avg       0.53      0.82      0.47     88973\n",
      "      weighted avg       0.99      0.75      0.85     88973\n",
      "\n"
     ]
    }
   ],
   "source": [
    "print(classification_report(y_test, y_nb_test_pred, target_names=target_names))"
   ]
  },
  {
   "cell_type": "markdown",
   "id": "d265b0ce",
   "metadata": {},
   "source": [
    "## Confusion Matrix for Naive Bayes"
   ]
  },
  {
   "cell_type": "markdown",
   "id": "a1072493",
   "metadata": {},
   "source": [
    "### For Training dataset"
   ]
  },
  {
   "cell_type": "code",
   "execution_count": 79,
   "id": "6540a02e",
   "metadata": {},
   "outputs": [
    {
     "data": {
      "text/plain": [
       "array([[  2986,      0,      0,      0,      0,      0,      0,      0],\n",
       "       [     0,    151,      0,      0,      0,      0,      0,     32],\n",
       "       [     0,      0,    629,      0,      0,      7,      0,     43],\n",
       "       [     0,      0,      0,    508,      0,      0,      0,      0],\n",
       "       [    14,      0,      0,      0,    140,    624,      0,    351],\n",
       "       [     0,      0,     27,      0,      0,    351,      0,      0],\n",
       "       [     0,      0,      0,      0,      0,      0,     91,      0],\n",
       "       [  5905,   3808,   2616,    258,      0,  51741,      0, 196636]],\n",
       "      dtype=int64)"
      ]
     },
     "execution_count": 79,
     "metadata": {},
     "output_type": "execute_result"
    }
   ],
   "source": [
    "confusion_matrix(y_train, y_nb_train_pred)"
   ]
  },
  {
   "cell_type": "markdown",
   "id": "5ee50617",
   "metadata": {},
   "source": [
    "### For Testing dataset"
   ]
  },
  {
   "cell_type": "code",
   "execution_count": 80,
   "id": "10f7c485",
   "metadata": {},
   "outputs": [
    {
     "data": {
      "text/plain": [
       "array([[ 1014,     0,     0,     0,     0,     0,     0,     0],\n",
       "       [    0,    49,     0,     0,     0,     0,     0,    10],\n",
       "       [    0,     0,   191,     0,     0,     2,     0,    17],\n",
       "       [    0,     0,     0,   149,     0,     0,     0,     0],\n",
       "       [    8,     0,     0,     0,    54,   224,     0,   116],\n",
       "       [    0,     0,     8,     0,     0,   146,     0,     0],\n",
       "       [    0,     0,     0,     0,     0,     0,    31,     0],\n",
       "       [ 1927,  1267,   878,    74,     0, 17343,     0, 65465]],\n",
       "      dtype=int64)"
      ]
     },
     "execution_count": 80,
     "metadata": {},
     "output_type": "execute_result"
    }
   ],
   "source": [
    "confusion_matrix(y_test, y_nb_test_pred)"
   ]
  },
  {
   "cell_type": "markdown",
   "id": "2caf566e",
   "metadata": {},
   "source": [
    "## Classification Report for Support Vector Machine Classifier"
   ]
  },
  {
   "cell_type": "markdown",
   "id": "9033f37c",
   "metadata": {},
   "source": [
    "### For Training Dataset"
   ]
  },
  {
   "cell_type": "code",
   "execution_count": 81,
   "id": "6c09bfe2",
   "metadata": {},
   "outputs": [
    {
     "data": {
      "text/plain": [
       "array([[ 1014,     0,     0,     0,     0,     0,     0,     0],\n",
       "       [    0,    49,     0,     0,     0,     0,     0,    10],\n",
       "       [    0,     0,   191,     0,     0,     2,     0,    17],\n",
       "       [    0,     0,     0,   149,     0,     0,     0,     0],\n",
       "       [    8,     0,     0,     0,    54,   224,     0,   116],\n",
       "       [    0,     0,     8,     0,     0,   146,     0,     0],\n",
       "       [    0,     0,     0,     0,     0,     0,    31,     0],\n",
       "       [ 1927,  1267,   878,    74,     0, 17343,     0, 65465]],\n",
       "      dtype=int64)"
      ]
     },
     "execution_count": 81,
     "metadata": {},
     "output_type": "execute_result"
    }
   ],
   "source": [
    "confusion_matrix(y_test, y_nb_test_pred)"
   ]
  },
  {
   "cell_type": "markdown",
   "id": "16087160",
   "metadata": {},
   "source": [
    "## Classification Report for Support Vector Machine Classifier"
   ]
  },
  {
   "cell_type": "markdown",
   "id": "5aad83f8",
   "metadata": {},
   "source": [
    "### For Training Dataset"
   ]
  },
  {
   "cell_type": "code",
   "execution_count": 82,
   "id": "d2a523ce",
   "metadata": {},
   "outputs": [
    {
     "name": "stderr",
     "output_type": "stream",
     "text": [
      "c:\\users\\hebbar\\appdata\\local\\programs\\python\\python39\\lib\\site-packages\\sklearn\\metrics\\_classification.py:1308: UndefinedMetricWarning: Precision and F-score are ill-defined and being set to 0.0 in labels with no predicted samples. Use `zero_division` parameter to control this behavior.\n",
      "  _warn_prf(average, modifier, msg_start, len(result))\n",
      "c:\\users\\hebbar\\appdata\\local\\programs\\python\\python39\\lib\\site-packages\\sklearn\\metrics\\_classification.py:1308: UndefinedMetricWarning: Precision and F-score are ill-defined and being set to 0.0 in labels with no predicted samples. Use `zero_division` parameter to control this behavior.\n",
      "  _warn_prf(average, modifier, msg_start, len(result))\n"
     ]
    },
    {
     "name": "stdout",
     "output_type": "stream",
     "text": [
      "                    precision    recall  f1-score   support\n",
      "\n",
      "            Normal       0.94      0.50      0.66      2986\n",
      "         DoSattack       0.00      0.00      0.00       183\n",
      "              scan       0.00      0.00      0.00       679\n",
      "  malitiousControl       1.00      0.75      0.86       508\n",
      "malitiousOperation       0.00      0.00      0.00      1129\n",
      "            spying       0.00      0.00      0.00       378\n",
      "       dataProbing       0.00      0.00      0.00        91\n",
      "        wrongSetUp       0.98      1.00      0.99    260964\n",
      "\n",
      "          accuracy                           0.98    266918\n",
      "         macro avg       0.37      0.28      0.31    266918\n",
      "      weighted avg       0.98      0.98      0.98    266918\n",
      "\n"
     ]
    },
    {
     "name": "stderr",
     "output_type": "stream",
     "text": [
      "c:\\users\\hebbar\\appdata\\local\\programs\\python\\python39\\lib\\site-packages\\sklearn\\metrics\\_classification.py:1308: UndefinedMetricWarning: Precision and F-score are ill-defined and being set to 0.0 in labels with no predicted samples. Use `zero_division` parameter to control this behavior.\n",
      "  _warn_prf(average, modifier, msg_start, len(result))\n"
     ]
    }
   ],
   "source": [
    "print(classification_report(y_train, y_svc_train_pred, target_names=target_names))"
   ]
  },
  {
   "cell_type": "markdown",
   "id": "0ad27db8",
   "metadata": {},
   "source": [
    "### For Testing Dataset"
   ]
  },
  {
   "cell_type": "code",
   "execution_count": 83,
   "id": "f5f1b3e9",
   "metadata": {},
   "outputs": [
    {
     "name": "stdout",
     "output_type": "stream",
     "text": [
      "                    precision    recall  f1-score   support\n",
      "\n",
      "            Normal       0.94      0.49      0.64      1014\n",
      "         DoSattack       0.00      0.00      0.00        59\n",
      "              scan       0.00      0.00      0.00       210\n",
      "  malitiousControl       0.98      0.68      0.81       149\n",
      "malitiousOperation       0.00      0.00      0.00       402\n",
      "            spying       0.00      0.00      0.00       154\n",
      "       dataProbing       0.00      0.00      0.00        31\n",
      "        wrongSetUp       0.98      1.00      0.99     86954\n",
      "\n",
      "          accuracy                           0.98     88973\n",
      "         macro avg       0.36      0.27      0.30     88973\n",
      "      weighted avg       0.97      0.98      0.98     88973\n",
      "\n"
     ]
    },
    {
     "name": "stderr",
     "output_type": "stream",
     "text": [
      "c:\\users\\hebbar\\appdata\\local\\programs\\python\\python39\\lib\\site-packages\\sklearn\\metrics\\_classification.py:1308: UndefinedMetricWarning: Precision and F-score are ill-defined and being set to 0.0 in labels with no predicted samples. Use `zero_division` parameter to control this behavior.\n",
      "  _warn_prf(average, modifier, msg_start, len(result))\n",
      "c:\\users\\hebbar\\appdata\\local\\programs\\python\\python39\\lib\\site-packages\\sklearn\\metrics\\_classification.py:1308: UndefinedMetricWarning: Precision and F-score are ill-defined and being set to 0.0 in labels with no predicted samples. Use `zero_division` parameter to control this behavior.\n",
      "  _warn_prf(average, modifier, msg_start, len(result))\n",
      "c:\\users\\hebbar\\appdata\\local\\programs\\python\\python39\\lib\\site-packages\\sklearn\\metrics\\_classification.py:1308: UndefinedMetricWarning: Precision and F-score are ill-defined and being set to 0.0 in labels with no predicted samples. Use `zero_division` parameter to control this behavior.\n",
      "  _warn_prf(average, modifier, msg_start, len(result))\n"
     ]
    }
   ],
   "source": [
    "print(classification_report(y_test, y_svc_test_pred, target_names=target_names))"
   ]
  },
  {
   "cell_type": "markdown",
   "id": "72f220ba",
   "metadata": {},
   "source": [
    "## Confusion Matrix for Support Vector Machine Classifier"
   ]
  },
  {
   "cell_type": "markdown",
   "id": "13ea55e5",
   "metadata": {},
   "source": [
    "### For Training dataset"
   ]
  },
  {
   "cell_type": "code",
   "execution_count": 84,
   "id": "783a1ff2",
   "metadata": {},
   "outputs": [
    {
     "data": {
      "text/plain": [
       "array([[  1507,      0,      0,      0,      0,      0,      0,   1479],\n",
       "       [     0,      0,      0,      0,      0,      0,      0,    183],\n",
       "       [     0,      0,      0,      0,      0,      0,      0,    679],\n",
       "       [     0,      0,      0,    381,      0,      0,      0,    127],\n",
       "       [     9,      0,     10,      0,      0,      0,      0,   1110],\n",
       "       [     0,      0,      0,      0,      0,      0,      0,    378],\n",
       "       [     0,      0,      0,      0,      0,      0,      0,     91],\n",
       "       [    80,      0,      0,      1,      0,     12,      0, 260871]],\n",
       "      dtype=int64)"
      ]
     },
     "execution_count": 84,
     "metadata": {},
     "output_type": "execute_result"
    }
   ],
   "source": [
    "confusion_matrix(y_train, y_svc_train_pred)"
   ]
  },
  {
   "cell_type": "markdown",
   "id": "c32a66fd",
   "metadata": {},
   "source": [
    "### For Testing dataset"
   ]
  },
  {
   "cell_type": "code",
   "execution_count": 85,
   "id": "d3509c73",
   "metadata": {},
   "outputs": [
    {
     "data": {
      "text/plain": [
       "array([[  493,     0,     0,     0,     0,     0,     0,   521],\n",
       "       [    0,     0,     0,     0,     0,     0,     0,    59],\n",
       "       [    0,     0,     0,     0,     0,     0,     0,   210],\n",
       "       [    0,     0,     0,   102,     0,     0,     0,    47],\n",
       "       [    2,     0,     0,     0,     0,     0,     0,   400],\n",
       "       [    0,     0,     0,     0,     0,     0,     0,   154],\n",
       "       [    0,     0,     0,     0,     0,     0,     0,    31],\n",
       "       [   27,     0,     0,     2,     0,     2,     0, 86923]],\n",
       "      dtype=int64)"
      ]
     },
     "execution_count": 85,
     "metadata": {},
     "output_type": "execute_result"
    }
   ],
   "source": [
    "confusion_matrix(y_test, y_svc_test_pred)"
   ]
  },
  {
   "cell_type": "markdown",
   "id": "4cf234b5",
   "metadata": {},
   "source": [
    "## Confusion Matrix for Artificial Neural Network"
   ]
  },
  {
   "cell_type": "markdown",
   "id": "dce6ce79",
   "metadata": {},
   "source": [
    "### For Training dataset"
   ]
  },
  {
   "cell_type": "code",
   "execution_count": 108,
   "id": "e94f22d2",
   "metadata": {},
   "outputs": [
    {
     "data": {
      "text/plain": [
       "array([[1.2271275e-18, 6.2446466e-18, 1.3138791e-07, ..., 1.2894417e-06,\n",
       "        3.2677865e-22, 9.6070826e-01],\n",
       "       [4.7563413e-30, 2.0728058e-18, 3.0238551e-31, ..., 4.2628978e-19,\n",
       "        0.0000000e+00, 5.7525247e-02],\n",
       "       [2.0524337e-27, 3.4451483e-19, 1.8556358e-18, ..., 4.5061130e-17,\n",
       "        0.0000000e+00, 8.2059377e-01],\n",
       "       ...,\n",
       "       [0.0000000e+00, 0.0000000e+00, 0.0000000e+00, ..., 0.0000000e+00,\n",
       "        0.0000000e+00, 7.1368957e-01],\n",
       "       [0.0000000e+00, 3.7470693e-27, 1.0678927e-11, ..., 1.3656958e-16,\n",
       "        0.0000000e+00, 6.4118016e-05],\n",
       "       [0.0000000e+00, 0.0000000e+00, 0.0000000e+00, ..., 0.0000000e+00,\n",
       "        0.0000000e+00, 9.8896778e-01]], dtype=float32)"
      ]
     },
     "execution_count": 108,
     "metadata": {},
     "output_type": "execute_result"
    }
   ],
   "source": [
    "y_ann_train_pred = ann.predict(x_train_sc)\n",
    "y_ann_train_pred"
   ]
  },
  {
   "cell_type": "code",
   "execution_count": 109,
   "id": "ce77dd60",
   "metadata": {},
   "outputs": [
    {
     "data": {
      "text/plain": [
       "(266918, 1)"
      ]
     },
     "execution_count": 109,
     "metadata": {},
     "output_type": "execute_result"
    }
   ],
   "source": [
    "y_train.shape"
   ]
  },
  {
   "cell_type": "code",
   "execution_count": 110,
   "id": "8171a89f",
   "metadata": {},
   "outputs": [
    {
     "data": {
      "text/plain": [
       "(266918, 8)"
      ]
     },
     "execution_count": 110,
     "metadata": {},
     "output_type": "execute_result"
    }
   ],
   "source": [
    "y_ann_train_pred.shape"
   ]
  },
  {
   "cell_type": "code",
   "execution_count": 111,
   "id": "40e6d033",
   "metadata": {},
   "outputs": [
    {
     "data": {
      "text/plain": [
       "[7, 7, 7, 7, 7]"
      ]
     },
     "execution_count": 111,
     "metadata": {},
     "output_type": "execute_result"
    }
   ],
   "source": [
    "y_ann_train_pred_labels = [np.argmax(i) for i in y_ann_train_pred]\n",
    "y_ann_train_pred_labels[:5]"
   ]
  },
  {
   "cell_type": "code",
   "execution_count": 112,
   "id": "5eb1de95",
   "metadata": {},
   "outputs": [
    {
     "name": "stdout",
     "output_type": "stream",
     "text": [
      "tf.Tensor(\n",
      "[[  1507      0      0      0      0      0      0   1479]\n",
      " [     0    183      0      0      0      0      0      0]\n",
      " [     0      0    679      0      0      0      0      0]\n",
      " [     0      0      0    508      0      0      0      0]\n",
      " [     0      0      0      0   1129      0      0      0]\n",
      " [     0      0      0      0      0    378      0      0]\n",
      " [     0      0      0      0      0      0     91      0]\n",
      " [     3      0      1      0      0      0      0 260960]], shape=(8, 8), dtype=int32)\n"
     ]
    }
   ],
   "source": [
    "print(tf.math.confusion_matrix(labels=y_train, predictions=y_ann_train_pred_labels))"
   ]
  },
  {
   "cell_type": "markdown",
   "id": "6f719272",
   "metadata": {},
   "source": [
    "### For Testing dataset"
   ]
  },
  {
   "cell_type": "code",
   "execution_count": 113,
   "id": "b1841298",
   "metadata": {},
   "outputs": [
    {
     "data": {
      "text/plain": [
       "array([[1.0671364e-24, 7.6887861e-18, 2.7698234e-30, ..., 6.1102570e-19,\n",
       "        0.0000000e+00, 5.9270155e-01],\n",
       "       [3.0931572e-15, 2.1055540e-24, 5.0639678e-15, ..., 3.9616470e-14,\n",
       "        0.0000000e+00, 9.9710220e-01],\n",
       "       [7.9377699e-30, 4.3327612e-31, 1.0577173e-32, ..., 1.0247739e-36,\n",
       "        0.0000000e+00, 2.3322988e-01],\n",
       "       ...,\n",
       "       [5.6175099e-07, 1.1239664e-10, 5.0504173e-07, ..., 9.5696964e-07,\n",
       "        8.1079569e-15, 8.8947737e-01],\n",
       "       [0.0000000e+00, 0.0000000e+00, 0.0000000e+00, ..., 0.0000000e+00,\n",
       "        0.0000000e+00, 5.2788258e-03],\n",
       "       [0.0000000e+00, 0.0000000e+00, 0.0000000e+00, ..., 0.0000000e+00,\n",
       "        0.0000000e+00, 9.8404014e-01]], dtype=float32)"
      ]
     },
     "execution_count": 113,
     "metadata": {},
     "output_type": "execute_result"
    }
   ],
   "source": [
    "y_ann_test_pred = ann.predict(x_test_sc)\n",
    "y_ann_test_pred"
   ]
  },
  {
   "cell_type": "code",
   "execution_count": 114,
   "id": "7b7b381f",
   "metadata": {},
   "outputs": [
    {
     "data": {
      "text/plain": [
       "(88973, 1)"
      ]
     },
     "execution_count": 114,
     "metadata": {},
     "output_type": "execute_result"
    }
   ],
   "source": [
    "y_test.shape"
   ]
  },
  {
   "cell_type": "code",
   "execution_count": 115,
   "id": "40e59d7c",
   "metadata": {},
   "outputs": [
    {
     "data": {
      "text/plain": [
       "(88973, 8)"
      ]
     },
     "execution_count": 115,
     "metadata": {},
     "output_type": "execute_result"
    }
   ],
   "source": [
    "y_ann_test_pred.shape"
   ]
  },
  {
   "cell_type": "code",
   "execution_count": 116,
   "id": "f00120cd",
   "metadata": {},
   "outputs": [
    {
     "data": {
      "text/plain": [
       "[7, 7, 7, 7, 7]"
      ]
     },
     "execution_count": 116,
     "metadata": {},
     "output_type": "execute_result"
    }
   ],
   "source": [
    "y_ann_test_pred_labels = [np.argmax(i) for i in y_ann_test_pred]\n",
    "y_ann_test_pred_labels[:5]"
   ]
  },
  {
   "cell_type": "code",
   "execution_count": 117,
   "id": "fb2fd6dd",
   "metadata": {},
   "outputs": [
    {
     "name": "stdout",
     "output_type": "stream",
     "text": [
      "tf.Tensor(\n",
      "[[  493     0     0     0     0     0     0   521]\n",
      " [    0    59     0     0     0     0     0     0]\n",
      " [    0     0   210     0     0     0     0     0]\n",
      " [    0     0     0   149     0     0     0     0]\n",
      " [    0     0     0     0   402     0     0     0]\n",
      " [    0     0     0     0     0   154     0     0]\n",
      " [    0     0     0     0     0     0    31     0]\n",
      " [    3     0     0     0     0     0     0 86951]], shape=(8, 8), dtype=int32)\n"
     ]
    }
   ],
   "source": [
    "print(tf.math.confusion_matrix(labels=y_test, predictions=y_ann_test_pred_labels))"
   ]
  },
  {
   "cell_type": "markdown",
   "id": "2f1c5b5c",
   "metadata": {},
   "source": [
    "## Classification Report for Artificial Neural Network"
   ]
  },
  {
   "cell_type": "markdown",
   "id": "d674325b",
   "metadata": {},
   "source": [
    "### For Training dataset"
   ]
  },
  {
   "cell_type": "code",
   "execution_count": 140,
   "id": "dba49b55",
   "metadata": {},
   "outputs": [
    {
     "name": "stdout",
     "output_type": "stream",
     "text": [
      "                    precision    recall  f1-score   support\n",
      "\n",
      "            Normal       1.00      0.50      0.67      2986\n",
      "         DoSattack       1.00      1.00      1.00       183\n",
      "              scan       1.00      1.00      1.00       679\n",
      "  malitiousControl       1.00      1.00      1.00       508\n",
      "malitiousOperation       1.00      1.00      1.00      1129\n",
      "            spying       1.00      1.00      1.00       378\n",
      "       dataProbing       1.00      1.00      1.00        91\n",
      "        wrongSetUp       0.99      1.00      1.00    260964\n",
      "\n",
      "          accuracy                           0.99    266918\n",
      "         macro avg       1.00      0.94      0.96    266918\n",
      "      weighted avg       0.99      0.99      0.99    266918\n",
      "\n"
     ]
    }
   ],
   "source": [
    "print(classification_report(y_train, y_ann_train_pred_labels, target_names=target_names))"
   ]
  },
  {
   "cell_type": "markdown",
   "id": "c9d14f51",
   "metadata": {},
   "source": [
    "### For Testing dataset"
   ]
  },
  {
   "cell_type": "code",
   "execution_count": 141,
   "id": "ffdaf963",
   "metadata": {},
   "outputs": [
    {
     "name": "stdout",
     "output_type": "stream",
     "text": [
      "                    precision    recall  f1-score   support\n",
      "\n",
      "            Normal       0.99      0.49      0.65      1014\n",
      "         DoSattack       1.00      1.00      1.00        59\n",
      "              scan       1.00      1.00      1.00       210\n",
      "  malitiousControl       1.00      1.00      1.00       149\n",
      "malitiousOperation       1.00      1.00      1.00       402\n",
      "            spying       1.00      1.00      1.00       154\n",
      "       dataProbing       1.00      1.00      1.00        31\n",
      "        wrongSetUp       0.99      1.00      1.00     86954\n",
      "\n",
      "          accuracy                           0.99     88973\n",
      "         macro avg       1.00      0.94      0.96     88973\n",
      "      weighted avg       0.99      0.99      0.99     88973\n",
      "\n"
     ]
    }
   ],
   "source": [
    "print(classification_report(y_test, y_ann_test_pred_labels, target_names=target_names))"
   ]
  },
  {
   "cell_type": "code",
   "execution_count": 125,
   "id": "825dfb6d",
   "metadata": {},
   "outputs": [
    {
     "data": {
      "text/plain": [
       "(array([7, 7, 7, ..., 7, 7, 7], dtype=int64),\n",
       " array([7, 7, 7, ..., 7, 7, 7], dtype=int64))"
      ]
     },
     "execution_count": 125,
     "metadata": {},
     "output_type": "execute_result"
    }
   ],
   "source": [
    "y_ann_train_labels = np.array(y_ann_train_pred_labels)\n",
    "y_ann_test_labels = np.array(y_ann_test_pred_labels)\n",
    "y_ann_train_labels, y_ann_test_labels"
   ]
  },
  {
   "cell_type": "code",
   "execution_count": 142,
   "id": "e31cf712",
   "metadata": {},
   "outputs": [],
   "source": [
    "dataset = [[lr_time,lr_train_accuracy,lr_test_accuracy],\n",
    "           [knn_time,knn_train_accuracy,knn_test_accuracy],\n",
    "           [dtc_time,dtc_train_accuracy,dtc_test_accuracy],\n",
    "           [rfc_time,rfc_train_accuracy,rfc_test_accuracy],\n",
    "           [nb_time,nb_train_accuracy,nb_test_accuracy],\n",
    "           [svc_time,svc_train_accuracy,svc_test_accuracy],\n",
    "           [ann_time,ann_train_accuracy,ann_test_accuracy]\n",
    "          ]"
   ]
  },
  {
   "cell_type": "code",
   "execution_count": 143,
   "id": "64c93018",
   "metadata": {},
   "outputs": [
    {
     "data": {
      "text/plain": [
       "[[23.019588947296143, 0.9891502259120779, 0.988569566048127],\n",
       " [1.7969074249267578, 0.9934961298975715, 0.9937846312926394],\n",
       " [0.9068188667297363, 0.9944589724184956, 0.9940993335056703],\n",
       " [47.627418994903564, 0.9944589724184956, 0.9941330515999236],\n",
       " [0.15570878982543945, 0.7548835222802509, 0.7541501354343453],\n",
       " [75.70233845710754, 0.984418435624424, 0.9836467242871433],\n",
       " [310.154185295105, 0.9944440126419067, 0.9941105842590332]]"
      ]
     },
     "execution_count": 143,
     "metadata": {},
     "output_type": "execute_result"
    }
   ],
   "source": [
    "dataset"
   ]
  },
  {
   "cell_type": "code",
   "execution_count": 145,
   "id": "ade717f7",
   "metadata": {},
   "outputs": [
    {
     "data": {
      "text/html": [
       "<div>\n",
       "<style scoped>\n",
       "    .dataframe tbody tr th:only-of-type {\n",
       "        vertical-align: middle;\n",
       "    }\n",
       "\n",
       "    .dataframe tbody tr th {\n",
       "        vertical-align: top;\n",
       "    }\n",
       "\n",
       "    .dataframe thead th {\n",
       "        text-align: right;\n",
       "    }\n",
       "</style>\n",
       "<table border=\"1\" class=\"dataframe\">\n",
       "  <thead>\n",
       "    <tr style=\"text-align: right;\">\n",
       "      <th></th>\n",
       "      <th>Time_Taken</th>\n",
       "      <th>Training_Accuracy</th>\n",
       "      <th>Testing_Accuracy</th>\n",
       "    </tr>\n",
       "  </thead>\n",
       "  <tbody>\n",
       "    <tr>\n",
       "      <th>Logistic Regression</th>\n",
       "      <td>23.019589</td>\n",
       "      <td>0.989150</td>\n",
       "      <td>0.988570</td>\n",
       "    </tr>\n",
       "    <tr>\n",
       "      <th>K Nearest Neighbour</th>\n",
       "      <td>1.796907</td>\n",
       "      <td>0.993496</td>\n",
       "      <td>0.993785</td>\n",
       "    </tr>\n",
       "    <tr>\n",
       "      <th>Decision Tree</th>\n",
       "      <td>0.906819</td>\n",
       "      <td>0.994459</td>\n",
       "      <td>0.994099</td>\n",
       "    </tr>\n",
       "    <tr>\n",
       "      <th>Random Forest</th>\n",
       "      <td>47.627419</td>\n",
       "      <td>0.994459</td>\n",
       "      <td>0.994133</td>\n",
       "    </tr>\n",
       "    <tr>\n",
       "      <th>Naive Bayes</th>\n",
       "      <td>0.155709</td>\n",
       "      <td>0.754884</td>\n",
       "      <td>0.754150</td>\n",
       "    </tr>\n",
       "    <tr>\n",
       "      <th>Support Vector Machine</th>\n",
       "      <td>75.702338</td>\n",
       "      <td>0.984418</td>\n",
       "      <td>0.983647</td>\n",
       "    </tr>\n",
       "    <tr>\n",
       "      <th>Artificial Neural Network</th>\n",
       "      <td>310.154185</td>\n",
       "      <td>0.994444</td>\n",
       "      <td>0.994111</td>\n",
       "    </tr>\n",
       "  </tbody>\n",
       "</table>\n",
       "</div>"
      ],
      "text/plain": [
       "                           Time_Taken  Training_Accuracy  Testing_Accuracy\n",
       "Logistic Regression         23.019589           0.989150          0.988570\n",
       "K Nearest Neighbour          1.796907           0.993496          0.993785\n",
       "Decision Tree                0.906819           0.994459          0.994099\n",
       "Random Forest               47.627419           0.994459          0.994133\n",
       "Naive Bayes                  0.155709           0.754884          0.754150\n",
       "Support Vector Machine      75.702338           0.984418          0.983647\n",
       "Artificial Neural Network  310.154185           0.994444          0.994111"
      ]
     },
     "execution_count": 145,
     "metadata": {},
     "output_type": "execute_result"
    }
   ],
   "source": [
    "comparison = pd.DataFrame(dataset, columns = ['Time_Taken','Training_Accuracy','Testing_Accuracy'], \n",
    "                         index=['Logistic Regression','K Nearest Neighbour','Decision Tree','Random Forest','Naive Bayes','Support Vector Machine','Artificial Neural Network',])\n",
    "comparison"
   ]
  },
  {
   "cell_type": "code",
   "execution_count": 146,
   "id": "2dbfaccc",
   "metadata": {},
   "outputs": [],
   "source": [
    "comparison.to_csv('performance.csv')"
   ]
  },
  {
   "cell_type": "code",
   "execution_count": null,
   "id": "b566ac92",
   "metadata": {},
   "outputs": [],
   "source": []
  }
 ],
 "metadata": {
  "kernelspec": {
   "display_name": "Python 3 (ipykernel)",
   "language": "python",
   "name": "python3"
  },
  "language_info": {
   "codemirror_mode": {
    "name": "ipython",
    "version": 3
   },
   "file_extension": ".py",
   "mimetype": "text/x-python",
   "name": "python",
   "nbconvert_exporter": "python",
   "pygments_lexer": "ipython3",
   "version": "3.9.6"
  }
 },
 "nbformat": 4,
 "nbformat_minor": 5
}
