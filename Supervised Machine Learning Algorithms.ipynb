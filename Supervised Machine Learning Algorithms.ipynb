{
 "cells": [
  {
   "cell_type": "markdown",
   "id": "5c5a6b65",
   "metadata": {},
   "source": [
    "## Importing Libraries"
   ]
  },
  {
   "cell_type": "code",
   "execution_count": 1,
   "id": "848b452b",
   "metadata": {},
   "outputs": [],
   "source": [
    "from time import time\n",
    "import pandas as pd\n",
    "import numpy as np\n",
    "from sklearn.model_selection import train_test_split\n",
    "from sklearn.preprocessing import StandardScaler\n",
    "from sklearn.metrics import accuracy_score, classification_report,confusion_matrix"
   ]
  },
  {
   "cell_type": "markdown",
   "id": "a51ef518",
   "metadata": {},
   "source": [
    "### Loading dataset"
   ]
  },
  {
   "cell_type": "code",
   "execution_count": 2,
   "id": "684e6dcc",
   "metadata": {},
   "outputs": [
    {
     "data": {
      "text/html": [
       "<div>\n",
       "<style scoped>\n",
       "    .dataframe tbody tr th:only-of-type {\n",
       "        vertical-align: middle;\n",
       "    }\n",
       "\n",
       "    .dataframe tbody tr th {\n",
       "        vertical-align: top;\n",
       "    }\n",
       "\n",
       "    .dataframe thead th {\n",
       "        text-align: right;\n",
       "    }\n",
       "</style>\n",
       "<table border=\"1\" class=\"dataframe\">\n",
       "  <thead>\n",
       "    <tr style=\"text-align: right;\">\n",
       "      <th></th>\n",
       "      <th>0</th>\n",
       "      <th>1</th>\n",
       "      <th>2</th>\n",
       "      <th>3</th>\n",
       "      <th>4</th>\n",
       "      <th>5</th>\n",
       "      <th>6</th>\n",
       "      <th>7</th>\n",
       "      <th>8</th>\n",
       "      <th>9</th>\n",
       "      <th>10</th>\n",
       "      <th>11</th>\n",
       "    </tr>\n",
       "  </thead>\n",
       "  <tbody>\n",
       "    <tr>\n",
       "      <th>0</th>\n",
       "      <td>7</td>\n",
       "      <td>21</td>\n",
       "      <td>30</td>\n",
       "      <td>2</td>\n",
       "      <td>3</td>\n",
       "      <td>29</td>\n",
       "      <td>2</td>\n",
       "      <td>3</td>\n",
       "      <td>57</td>\n",
       "      <td>5</td>\n",
       "      <td>1</td>\n",
       "      <td>0</td>\n",
       "    </tr>\n",
       "    <tr>\n",
       "      <th>1</th>\n",
       "      <td>7</td>\n",
       "      <td>32</td>\n",
       "      <td>70</td>\n",
       "      <td>2</td>\n",
       "      <td>4</td>\n",
       "      <td>67</td>\n",
       "      <td>2</td>\n",
       "      <td>4</td>\n",
       "      <td>132</td>\n",
       "      <td>5</td>\n",
       "      <td>1</td>\n",
       "      <td>0</td>\n",
       "    </tr>\n",
       "    <tr>\n",
       "      <th>2</th>\n",
       "      <td>7</td>\n",
       "      <td>15</td>\n",
       "      <td>1</td>\n",
       "      <td>2</td>\n",
       "      <td>2</td>\n",
       "      <td>0</td>\n",
       "      <td>2</td>\n",
       "      <td>2</td>\n",
       "      <td>0</td>\n",
       "      <td>5</td>\n",
       "      <td>1</td>\n",
       "      <td>0</td>\n",
       "    </tr>\n",
       "    <tr>\n",
       "      <th>3</th>\n",
       "      <td>7</td>\n",
       "      <td>33</td>\n",
       "      <td>77</td>\n",
       "      <td>2</td>\n",
       "      <td>7</td>\n",
       "      <td>72</td>\n",
       "      <td>2</td>\n",
       "      <td>7</td>\n",
       "      <td>142</td>\n",
       "      <td>5</td>\n",
       "      <td>1</td>\n",
       "      <td>0</td>\n",
       "    </tr>\n",
       "    <tr>\n",
       "      <th>4</th>\n",
       "      <td>7</td>\n",
       "      <td>55</td>\n",
       "      <td>78</td>\n",
       "      <td>3</td>\n",
       "      <td>7</td>\n",
       "      <td>73</td>\n",
       "      <td>3</td>\n",
       "      <td>7</td>\n",
       "      <td>144</td>\n",
       "      <td>6</td>\n",
       "      <td>1</td>\n",
       "      <td>0</td>\n",
       "    </tr>\n",
       "    <tr>\n",
       "      <th>...</th>\n",
       "      <td>...</td>\n",
       "      <td>...</td>\n",
       "      <td>...</td>\n",
       "      <td>...</td>\n",
       "      <td>...</td>\n",
       "      <td>...</td>\n",
       "      <td>...</td>\n",
       "      <td>...</td>\n",
       "      <td>...</td>\n",
       "      <td>...</td>\n",
       "      <td>...</td>\n",
       "      <td>...</td>\n",
       "    </tr>\n",
       "    <tr>\n",
       "      <th>355886</th>\n",
       "      <td>7</td>\n",
       "      <td>25</td>\n",
       "      <td>46</td>\n",
       "      <td>2</td>\n",
       "      <td>15</td>\n",
       "      <td>45</td>\n",
       "      <td>4</td>\n",
       "      <td>15</td>\n",
       "      <td>90</td>\n",
       "      <td>7</td>\n",
       "      <td>0</td>\n",
       "      <td>8505</td>\n",
       "    </tr>\n",
       "    <tr>\n",
       "      <th>355887</th>\n",
       "      <td>7</td>\n",
       "      <td>82</td>\n",
       "      <td>14</td>\n",
       "      <td>7</td>\n",
       "      <td>10</td>\n",
       "      <td>8</td>\n",
       "      <td>0</td>\n",
       "      <td>10</td>\n",
       "      <td>16</td>\n",
       "      <td>0</td>\n",
       "      <td>0</td>\n",
       "      <td>22</td>\n",
       "    </tr>\n",
       "    <tr>\n",
       "      <th>355888</th>\n",
       "      <td>7</td>\n",
       "      <td>82</td>\n",
       "      <td>14</td>\n",
       "      <td>7</td>\n",
       "      <td>10</td>\n",
       "      <td>8</td>\n",
       "      <td>0</td>\n",
       "      <td>10</td>\n",
       "      <td>17</td>\n",
       "      <td>1</td>\n",
       "      <td>0</td>\n",
       "      <td>1</td>\n",
       "    </tr>\n",
       "    <tr>\n",
       "      <th>355889</th>\n",
       "      <td>7</td>\n",
       "      <td>30</td>\n",
       "      <td>62</td>\n",
       "      <td>2</td>\n",
       "      <td>20</td>\n",
       "      <td>60</td>\n",
       "      <td>3</td>\n",
       "      <td>20</td>\n",
       "      <td>120</td>\n",
       "      <td>3</td>\n",
       "      <td>0</td>\n",
       "      <td>0</td>\n",
       "    </tr>\n",
       "    <tr>\n",
       "      <th>355890</th>\n",
       "      <td>7</td>\n",
       "      <td>30</td>\n",
       "      <td>62</td>\n",
       "      <td>2</td>\n",
       "      <td>20</td>\n",
       "      <td>61</td>\n",
       "      <td>4</td>\n",
       "      <td>20</td>\n",
       "      <td>121</td>\n",
       "      <td>7</td>\n",
       "      <td>0</td>\n",
       "      <td>9156</td>\n",
       "    </tr>\n",
       "  </tbody>\n",
       "</table>\n",
       "<p>355891 rows × 12 columns</p>\n",
       "</div>"
      ],
      "text/plain": [
       "        0   1   2  3   4   5  6   7    8  9  10    11\n",
       "0       7  21  30  2   3  29  2   3   57  5   1     0\n",
       "1       7  32  70  2   4  67  2   4  132  5   1     0\n",
       "2       7  15   1  2   2   0  2   2    0  5   1     0\n",
       "3       7  33  77  2   7  72  2   7  142  5   1     0\n",
       "4       7  55  78  3   7  73  3   7  144  6   1     0\n",
       "...    ..  ..  .. ..  ..  .. ..  ..  ... ..  ..   ...\n",
       "355886  7  25  46  2  15  45  4  15   90  7   0  8505\n",
       "355887  7  82  14  7  10   8  0  10   16  0   0    22\n",
       "355888  7  82  14  7  10   8  0  10   17  1   0     1\n",
       "355889  7  30  62  2  20  60  3  20  120  3   0     0\n",
       "355890  7  30  62  2  20  61  4  20  121  7   0  9156\n",
       "\n",
       "[355891 rows x 12 columns]"
      ]
     },
     "execution_count": 2,
     "metadata": {},
     "output_type": "execute_result"
    }
   ],
   "source": [
    "data = pd.read_csv('dataset.csv')\n",
    "data"
   ]
  },
  {
   "cell_type": "markdown",
   "id": "99663e77",
   "metadata": {},
   "source": [
    "### Data Preprocessing\n"
   ]
  },
  {
   "cell_type": "code",
   "execution_count": null,
   "id": "29351e0c",
   "metadata": {},
   "outputs": [],
   "source": []
  },
  {
   "cell_type": "code",
   "execution_count": 3,
   "id": "1357be3b",
   "metadata": {},
   "outputs": [
    {
     "data": {
      "text/plain": [
       "(array([[  21,   30,    2, ...,    5,    1,    0],\n",
       "        [  32,   70,    2, ...,    5,    1,    0],\n",
       "        [  15,    1,    2, ...,    5,    1,    0],\n",
       "        ...,\n",
       "        [  82,   14,    7, ...,    1,    0,    1],\n",
       "        [  30,   62,    2, ...,    3,    0,    0],\n",
       "        [  30,   62,    2, ...,    7,    0, 9156]], dtype=int64),\n",
       " array([7, 7, 7, ..., 7, 7, 7], dtype=int64))"
      ]
     },
     "execution_count": 3,
     "metadata": {},
     "output_type": "execute_result"
    }
   ],
   "source": [
    "y = data.iloc[:,0].values\n",
    "x = data.iloc[:,1:].values\n",
    "x,y"
   ]
  },
  {
   "cell_type": "markdown",
   "id": "495a5f9c",
   "metadata": {},
   "source": [
    "### Splitting the dataset into training and testing "
   ]
  },
  {
   "cell_type": "code",
   "execution_count": 4,
   "id": "1ebcc87d",
   "metadata": {},
   "outputs": [],
   "source": [
    "x_train,x_test,y_train,y_test = train_test_split(x,y,test_size=0.25)"
   ]
  },
  {
   "cell_type": "markdown",
   "id": "d9fec5b5",
   "metadata": {},
   "source": [
    "### Scaling the dataset "
   ]
  },
  {
   "cell_type": "code",
   "execution_count": 5,
   "id": "cc139498",
   "metadata": {},
   "outputs": [],
   "source": [
    "sc = StandardScaler()\n",
    "x_train_sc = sc.fit_transform(x_train)\n",
    "x_test_sc = sc.transform(x_test)"
   ]
  },
  {
   "cell_type": "markdown",
   "id": "a22ee727",
   "metadata": {},
   "source": [
    "# Applying Machine Learning Algorithms"
   ]
  },
  {
   "cell_type": "code",
   "execution_count": null,
   "id": "795daeda",
   "metadata": {},
   "outputs": [],
   "source": []
  },
  {
   "cell_type": "markdown",
   "id": "63098496",
   "metadata": {},
   "source": [
    "## Applying logistic regression"
   ]
  },
  {
   "cell_type": "code",
   "execution_count": 6,
   "id": "ee2fd771",
   "metadata": {},
   "outputs": [],
   "source": [
    "from sklearn.linear_model import LogisticRegression\n",
    "lr = LogisticRegression()"
   ]
  },
  {
   "cell_type": "code",
   "execution_count": 7,
   "id": "81d3e08f",
   "metadata": {},
   "outputs": [
    {
     "name": "stdout",
     "output_type": "stream",
     "text": [
      "Time elapsed 23.518442630767822\n"
     ]
    },
    {
     "name": "stderr",
     "output_type": "stream",
     "text": [
      "c:\\users\\hebbar\\appdata\\local\\programs\\python\\python39\\lib\\site-packages\\sklearn\\linear_model\\_logistic.py:814: ConvergenceWarning: lbfgs failed to converge (status=1):\n",
      "STOP: TOTAL NO. of ITERATIONS REACHED LIMIT.\n",
      "\n",
      "Increase the number of iterations (max_iter) or scale the data as shown in:\n",
      "    https://scikit-learn.org/stable/modules/preprocessing.html\n",
      "Please also refer to the documentation for alternative solver options:\n",
      "    https://scikit-learn.org/stable/modules/linear_model.html#logistic-regression\n",
      "  n_iter_i = _check_optimize_result(\n"
     ]
    }
   ],
   "source": [
    "s = time()\n",
    "lr.fit(x_train_sc,y_train)\n",
    "lr_time = time()-s\n",
    "print(\"Time elapsed\",lr_time)"
   ]
  },
  {
   "cell_type": "markdown",
   "id": "17202473",
   "metadata": {},
   "source": [
    "### Training accuracy"
   ]
  },
  {
   "cell_type": "code",
   "execution_count": 8,
   "id": "727881c5",
   "metadata": {},
   "outputs": [
    {
     "data": {
      "text/plain": [
       "0.9889216913059441"
      ]
     },
     "execution_count": 8,
     "metadata": {},
     "output_type": "execute_result"
    }
   ],
   "source": [
    "lr.score(x_train_sc,y_train)"
   ]
  },
  {
   "cell_type": "markdown",
   "id": "a9cf4326",
   "metadata": {},
   "source": [
    "### Testing accuracy"
   ]
  },
  {
   "cell_type": "code",
   "execution_count": 9,
   "id": "f21ec2cb",
   "metadata": {},
   "outputs": [
    {
     "data": {
      "text/plain": [
       "0.988681959695638"
      ]
     },
     "execution_count": 9,
     "metadata": {},
     "output_type": "execute_result"
    }
   ],
   "source": [
    "lr.score(x_test_sc,y_test)"
   ]
  },
  {
   "cell_type": "markdown",
   "id": "e54b01b1",
   "metadata": {},
   "source": [
    "### Accuracy of the model"
   ]
  },
  {
   "cell_type": "code",
   "execution_count": 10,
   "id": "2a19ae66",
   "metadata": {},
   "outputs": [
    {
     "name": "stdout",
     "output_type": "stream",
     "text": [
      "Accuracy of Logistic Regression Training Dataset:  0.9889216913059441\n"
     ]
    }
   ],
   "source": [
    "y_lr_train_pred = lr.predict(x_train_sc)\n",
    "lr_train_accuracy = accuracy_score(y_train,y_lr_train_pred)\n",
    "print(\"Accuracy of Logistic Regression Training Dataset: \",lr_train_accuracy)"
   ]
  },
  {
   "cell_type": "code",
   "execution_count": 11,
   "id": "3130284d",
   "metadata": {},
   "outputs": [
    {
     "name": "stdout",
     "output_type": "stream",
     "text": [
      "Accuracy of Logistic Regression Testing Dataset:  0.988681959695638\n"
     ]
    }
   ],
   "source": [
    "y_lr_test_pred = lr.predict(x_test_sc)\n",
    "lr_test_accuracy = accuracy_score(y_test,y_lr_test_pred)\n",
    "print(\"Accuracy of Logistic Regression Testing Dataset: \",lr_test_accuracy)"
   ]
  },
  {
   "cell_type": "code",
   "execution_count": null,
   "id": "f86e2f3d",
   "metadata": {},
   "outputs": [],
   "source": []
  },
  {
   "cell_type": "markdown",
   "id": "937a25dd",
   "metadata": {},
   "source": [
    "## Applying KNN"
   ]
  },
  {
   "cell_type": "code",
   "execution_count": 12,
   "id": "864ee791",
   "metadata": {},
   "outputs": [],
   "source": [
    "from sklearn.neighbors import KNeighborsClassifier\n",
    "knn = KNeighborsClassifier()"
   ]
  },
  {
   "cell_type": "code",
   "execution_count": 13,
   "id": "2ff23f9a",
   "metadata": {},
   "outputs": [
    {
     "name": "stdout",
     "output_type": "stream",
     "text": [
      "Time elapsed 1.969843864440918\n"
     ]
    }
   ],
   "source": [
    "s = time()\n",
    "knn.fit(x_train_sc,y_train)\n",
    "knn_time = time()-s\n",
    "print(\"Time elapsed\",knn_time)"
   ]
  },
  {
   "cell_type": "markdown",
   "id": "d2c8f8ff",
   "metadata": {},
   "source": [
    "### Training accuracy"
   ]
  },
  {
   "cell_type": "code",
   "execution_count": 14,
   "id": "9e000dea",
   "metadata": {},
   "outputs": [
    {
     "data": {
      "text/plain": [
       "0.9935073693044306"
      ]
     },
     "execution_count": 14,
     "metadata": {},
     "output_type": "execute_result"
    }
   ],
   "source": [
    "knn.score(x_train_sc,y_train)"
   ]
  },
  {
   "cell_type": "markdown",
   "id": "e1fe1991",
   "metadata": {},
   "source": [
    "### Testing accuracy"
   ]
  },
  {
   "cell_type": "code",
   "execution_count": 15,
   "id": "81291667",
   "metadata": {},
   "outputs": [
    {
     "data": {
      "text/plain": [
       "0.993750913198386"
      ]
     },
     "execution_count": 15,
     "metadata": {},
     "output_type": "execute_result"
    }
   ],
   "source": [
    "knn.score(x_test_sc,y_test)"
   ]
  },
  {
   "cell_type": "markdown",
   "id": "1bf490d9",
   "metadata": {},
   "source": [
    "### Accuracy of the model"
   ]
  },
  {
   "cell_type": "code",
   "execution_count": 16,
   "id": "bd3d1a7c",
   "metadata": {},
   "outputs": [
    {
     "name": "stdout",
     "output_type": "stream",
     "text": [
      "Accuracy of K Nearest Neigbour Training Dataset:  0.9935073693044306\n"
     ]
    }
   ],
   "source": [
    "y_knn_train_pred = knn.predict(x_train_sc)\n",
    "knn_train_accuracy = accuracy_score(y_train,y_knn_train_pred)\n",
    "print(\"Accuracy of K Nearest Neigbour Training Dataset: \",knn_train_accuracy)"
   ]
  },
  {
   "cell_type": "code",
   "execution_count": 17,
   "id": "b3a8d805",
   "metadata": {},
   "outputs": [
    {
     "name": "stdout",
     "output_type": "stream",
     "text": [
      "Accuracy of K Nearest Neigbour Testing Dataset:  0.993750913198386\n"
     ]
    }
   ],
   "source": [
    "y_knn_test_pred = knn.predict(x_test_sc)\n",
    "knn_test_accuracy = accuracy_score(y_test,y_knn_test_pred)\n",
    "print(\"Accuracy of K Nearest Neigbour Testing Dataset: \",knn_test_accuracy)"
   ]
  },
  {
   "cell_type": "code",
   "execution_count": null,
   "id": "1bc628ef",
   "metadata": {},
   "outputs": [],
   "source": []
  },
  {
   "cell_type": "markdown",
   "id": "d0a6655c",
   "metadata": {},
   "source": [
    "## Applying Decision Tree Classifier"
   ]
  },
  {
   "cell_type": "code",
   "execution_count": 18,
   "id": "279e51ce",
   "metadata": {},
   "outputs": [],
   "source": [
    "from sklearn.tree import DecisionTreeClassifier\n",
    "\n",
    "dtc = DecisionTreeClassifier()"
   ]
  },
  {
   "cell_type": "code",
   "execution_count": 19,
   "id": "a2e41f30",
   "metadata": {},
   "outputs": [
    {
     "name": "stdout",
     "output_type": "stream",
     "text": [
      "Time elapsed 1.0803682804107666\n"
     ]
    }
   ],
   "source": [
    "s = time()\n",
    "dtc.fit(x_train_sc,y_train)\n",
    "dtc_time = time()-s\n",
    "print(\"Time elapsed\",dtc_time)"
   ]
  },
  {
   "cell_type": "markdown",
   "id": "b16b0c99",
   "metadata": {},
   "source": [
    "### Training accuracy"
   ]
  },
  {
   "cell_type": "code",
   "execution_count": 20,
   "id": "76be256e",
   "metadata": {},
   "outputs": [
    {
     "data": {
      "text/plain": [
       "0.9944777047632606"
      ]
     },
     "execution_count": 20,
     "metadata": {},
     "output_type": "execute_result"
    }
   ],
   "source": [
    "dtc.score(x_train_sc,y_train)"
   ]
  },
  {
   "cell_type": "markdown",
   "id": "3b310910",
   "metadata": {},
   "source": [
    "### Testing accuracy"
   ]
  },
  {
   "cell_type": "code",
   "execution_count": 21,
   "id": "a1a38502",
   "metadata": {},
   "outputs": [
    {
     "data": {
      "text/plain": [
       "0.9940543760466658"
      ]
     },
     "execution_count": 21,
     "metadata": {},
     "output_type": "execute_result"
    }
   ],
   "source": [
    "dtc.score(x_test_sc,y_test)"
   ]
  },
  {
   "cell_type": "markdown",
   "id": "26419bcd",
   "metadata": {},
   "source": [
    "### Accuracy of the model"
   ]
  },
  {
   "cell_type": "code",
   "execution_count": 22,
   "id": "4413305b",
   "metadata": {},
   "outputs": [
    {
     "name": "stdout",
     "output_type": "stream",
     "text": [
      "Accuracy of Decision Tree Classifier Training Dataset:  0.9944777047632606\n"
     ]
    }
   ],
   "source": [
    "y_dtc_train_pred = dtc.predict(x_train_sc)\n",
    "dtc_train_accuracy = accuracy_score(y_train,y_dtc_train_pred)\n",
    "print(\"Accuracy of Decision Tree Classifier Training Dataset: \",dtc_train_accuracy)"
   ]
  },
  {
   "cell_type": "code",
   "execution_count": 23,
   "id": "9f0a3965",
   "metadata": {},
   "outputs": [
    {
     "name": "stdout",
     "output_type": "stream",
     "text": [
      "Accuracy of Decision Tree Classifier Testing Dataset:  0.9940543760466658\n"
     ]
    }
   ],
   "source": [
    "y_dtc_test_pred = dtc.predict(x_test_sc)\n",
    "dtc_test_accuracy = accuracy_score(y_test,y_dtc_test_pred)\n",
    "print(\"Accuracy of Decision Tree Classifier Testing Dataset: \",dtc_test_accuracy)"
   ]
  },
  {
   "cell_type": "markdown",
   "id": "361e762d",
   "metadata": {},
   "source": [
    "## Applying Random Forest Classifier"
   ]
  },
  {
   "cell_type": "code",
   "execution_count": 24,
   "id": "e9c9978c",
   "metadata": {},
   "outputs": [],
   "source": [
    "from sklearn.ensemble import RandomForestClassifier\n",
    "rfc = RandomForestClassifier()"
   ]
  },
  {
   "cell_type": "code",
   "execution_count": 25,
   "id": "3aa77c46",
   "metadata": {},
   "outputs": [
    {
     "name": "stdout",
     "output_type": "stream",
     "text": [
      "Time elapsed 29.00949478149414\n"
     ]
    }
   ],
   "source": [
    "s = time()\n",
    "rfc.fit(x_train_sc,y_train)\n",
    "rfc_time = time()-s\n",
    "print(\"Time elapsed\",rfc_time)"
   ]
  },
  {
   "cell_type": "markdown",
   "id": "380a6ce8",
   "metadata": {},
   "source": [
    "### Training accuracy"
   ]
  },
  {
   "cell_type": "code",
   "execution_count": 26,
   "id": "84472317",
   "metadata": {},
   "outputs": [
    {
     "data": {
      "text/plain": [
       "0.9944777047632606"
      ]
     },
     "execution_count": 26,
     "metadata": {},
     "output_type": "execute_result"
    }
   ],
   "source": [
    "rfc.score(x_train_sc,y_train)"
   ]
  },
  {
   "cell_type": "markdown",
   "id": "857ae1b7",
   "metadata": {},
   "source": [
    "### Testing accuracy"
   ]
  },
  {
   "cell_type": "code",
   "execution_count": 27,
   "id": "101765fe",
   "metadata": {},
   "outputs": [
    {
     "data": {
      "text/plain": [
       "0.994076854776168"
      ]
     },
     "execution_count": 27,
     "metadata": {},
     "output_type": "execute_result"
    }
   ],
   "source": [
    "rfc.score(x_test_sc,y_test)"
   ]
  },
  {
   "cell_type": "markdown",
   "id": "f599b81f",
   "metadata": {},
   "source": [
    "### Accuracy of the model"
   ]
  },
  {
   "cell_type": "code",
   "execution_count": 28,
   "id": "3dabb9e2",
   "metadata": {},
   "outputs": [
    {
     "name": "stdout",
     "output_type": "stream",
     "text": [
      "Accuracy of Random Forest Classifier Training Dataset:  0.9944777047632606\n"
     ]
    }
   ],
   "source": [
    "y_rfc_train_pred = rfc.predict(x_train_sc)\n",
    "rfc_train_accuracy = accuracy_score(y_train,y_rfc_train_pred)\n",
    "print(\"Accuracy of Random Forest Classifier Training Dataset: \",rfc_train_accuracy)"
   ]
  },
  {
   "cell_type": "code",
   "execution_count": 29,
   "id": "147a3aa4",
   "metadata": {},
   "outputs": [
    {
     "name": "stdout",
     "output_type": "stream",
     "text": [
      "Accuracy of Random Forest Classifier Testing Dataset:  0.994076854776168\n"
     ]
    }
   ],
   "source": [
    "y_rfc_test_pred = rfc.predict(x_test_sc)\n",
    "rfc_test_accuracy = accuracy_score(y_test,y_rfc_test_pred)\n",
    "print(\"Accuracy of Random Forest Classifier Testing Dataset: \",rfc_test_accuracy)"
   ]
  },
  {
   "cell_type": "markdown",
   "id": "28d754ef",
   "metadata": {},
   "source": [
    "## Applying Naive bayes "
   ]
  },
  {
   "cell_type": "code",
   "execution_count": 30,
   "id": "9579ce7a",
   "metadata": {},
   "outputs": [],
   "source": [
    "from sklearn.naive_bayes import GaussianNB\n",
    "nb = GaussianNB()"
   ]
  },
  {
   "cell_type": "code",
   "execution_count": 31,
   "id": "3508ae4e",
   "metadata": {},
   "outputs": [
    {
     "name": "stdout",
     "output_type": "stream",
     "text": [
      "Time elapsed 0.20424652099609375\n"
     ]
    }
   ],
   "source": [
    "s = time()\n",
    "nb.fit(x_train,y_train)\n",
    "nb_time = time()-s\n",
    "print(\"Time elapsed\",nb_time)"
   ]
  },
  {
   "cell_type": "markdown",
   "id": "3a1346da",
   "metadata": {},
   "source": [
    "### Training accuracy"
   ]
  },
  {
   "cell_type": "code",
   "execution_count": 32,
   "id": "8caaace3",
   "metadata": {},
   "outputs": [
    {
     "data": {
      "text/plain": [
       "0.760004945339018"
      ]
     },
     "execution_count": 32,
     "metadata": {},
     "output_type": "execute_result"
    }
   ],
   "source": [
    "nb.score(x_train,y_train)"
   ]
  },
  {
   "cell_type": "markdown",
   "id": "6f5fc46f",
   "metadata": {},
   "source": [
    "### Testing accuracy"
   ]
  },
  {
   "cell_type": "code",
   "execution_count": 33,
   "id": "09d71439",
   "metadata": {},
   "outputs": [
    {
     "data": {
      "text/plain": [
       "0.7615568768053229"
      ]
     },
     "execution_count": 33,
     "metadata": {},
     "output_type": "execute_result"
    }
   ],
   "source": [
    "nb.score(x_test,y_test)"
   ]
  },
  {
   "cell_type": "markdown",
   "id": "af9a9673",
   "metadata": {},
   "source": [
    "### Accuracy of the model"
   ]
  },
  {
   "cell_type": "code",
   "execution_count": 34,
   "id": "857845ae",
   "metadata": {},
   "outputs": [
    {
     "name": "stdout",
     "output_type": "stream",
     "text": [
      "Accuracy of Naive Bayes Training Dataset:  0.760004945339018\n"
     ]
    }
   ],
   "source": [
    "y_nb_train_pred = nb.predict(x_train)\n",
    "nb_train_accuracy = accuracy_score(y_train,y_nb_train_pred)\n",
    "print(\"Accuracy of Naive Bayes Training Dataset: \",nb_train_accuracy)"
   ]
  },
  {
   "cell_type": "code",
   "execution_count": 35,
   "id": "9e6b21ff",
   "metadata": {},
   "outputs": [
    {
     "name": "stdout",
     "output_type": "stream",
     "text": [
      "Accuracy of Naive Bayes Testing Dataset:  0.7615568768053229\n"
     ]
    }
   ],
   "source": [
    "y_nb_test_pred = nb.predict(x_test)\n",
    "nb_test_accuracy = accuracy_score(y_test,y_nb_test_pred)\n",
    "print(\"Accuracy of Naive Bayes Testing Dataset: \",nb_test_accuracy)"
   ]
  },
  {
   "cell_type": "markdown",
   "id": "6ffcbccd",
   "metadata": {},
   "source": [
    "## Applying SVM"
   ]
  },
  {
   "cell_type": "code",
   "execution_count": 36,
   "id": "01fa4b9a",
   "metadata": {},
   "outputs": [],
   "source": [
    "from sklearn.svm import LinearSVC\n",
    "svc = LinearSVC()"
   ]
  },
  {
   "cell_type": "code",
   "execution_count": 37,
   "id": "b4b3cd14",
   "metadata": {},
   "outputs": [
    {
     "name": "stdout",
     "output_type": "stream",
     "text": [
      "Time elapsed 118.11468291282654\n"
     ]
    }
   ],
   "source": [
    "s = time()\n",
    "svc.fit(x_train_sc,y_train)\n",
    "svc_time = time()-s\n",
    "print(\"Time elapsed\",svc_time)"
   ]
  },
  {
   "cell_type": "markdown",
   "id": "e905b3d8",
   "metadata": {},
   "source": [
    "### Training accuracy"
   ]
  },
  {
   "cell_type": "code",
   "execution_count": 38,
   "id": "b34b3e27",
   "metadata": {},
   "outputs": [
    {
     "data": {
      "text/plain": [
       "0.9839276481915794"
      ]
     },
     "execution_count": 38,
     "metadata": {},
     "output_type": "execute_result"
    }
   ],
   "source": [
    "svc.score(x_train_sc,y_train)"
   ]
  },
  {
   "cell_type": "markdown",
   "id": "98437b62",
   "metadata": {},
   "source": [
    "### Testing accuracy"
   ]
  },
  {
   "cell_type": "code",
   "execution_count": 39,
   "id": "3a4db483",
   "metadata": {},
   "outputs": [
    {
     "data": {
      "text/plain": [
       "0.983938947770672"
      ]
     },
     "execution_count": 39,
     "metadata": {},
     "output_type": "execute_result"
    }
   ],
   "source": [
    "svc.score(x_test_sc,y_test)"
   ]
  },
  {
   "cell_type": "markdown",
   "id": "96707501",
   "metadata": {},
   "source": [
    "### Accuracy of the model"
   ]
  },
  {
   "cell_type": "code",
   "execution_count": 40,
   "id": "e305e53a",
   "metadata": {},
   "outputs": [
    {
     "name": "stdout",
     "output_type": "stream",
     "text": [
      "Accuracy of Support Vector Machine Training Dataset:  0.9839276481915794\n"
     ]
    }
   ],
   "source": [
    "y_svc_train_pred = svc.predict(x_train_sc)\n",
    "svc_train_accuracy = accuracy_score(y_train,y_svc_train_pred)\n",
    "print(\"Accuracy of Support Vector Machine Training Dataset: \",svc_train_accuracy)"
   ]
  },
  {
   "cell_type": "code",
   "execution_count": 41,
   "id": "0d395c10",
   "metadata": {},
   "outputs": [
    {
     "name": "stdout",
     "output_type": "stream",
     "text": [
      "Accuracy of Support Vector Machine Testing Dataset:  0.983938947770672\n"
     ]
    }
   ],
   "source": [
    "y_svc_test_pred = svc.predict(x_test_sc)\n",
    "svc_test_accuracy = accuracy_score(y_test,y_svc_test_pred)\n",
    "print(\"Accuracy of Support Vector Machine Testing Dataset: \",svc_test_accuracy)"
   ]
  },
  {
   "cell_type": "markdown",
   "id": "7e98bccb",
   "metadata": {},
   "source": [
    "## Applying Artificial Neural Network using Tensorflow"
   ]
  },
  {
   "cell_type": "code",
   "execution_count": 42,
   "id": "dafe12c3",
   "metadata": {},
   "outputs": [],
   "source": [
    "import tensorflow as tf\n",
    "from tensorflow.keras import Sequential,layers"
   ]
  },
  {
   "cell_type": "code",
   "execution_count": 43,
   "id": "b0697d0f",
   "metadata": {},
   "outputs": [
    {
     "data": {
      "text/plain": [
       "((266918,), (88973,))"
      ]
     },
     "execution_count": 43,
     "metadata": {},
     "output_type": "execute_result"
    }
   ],
   "source": [
    "y_train.shape,y_test.shape"
   ]
  },
  {
   "cell_type": "code",
   "execution_count": 44,
   "id": "078d3805",
   "metadata": {},
   "outputs": [],
   "source": [
    "y_train = y_train.reshape(-1,1)"
   ]
  },
  {
   "cell_type": "code",
   "execution_count": 45,
   "id": "15df740d",
   "metadata": {},
   "outputs": [],
   "source": [
    "y_test = y_test.reshape(-1,1)"
   ]
  },
  {
   "cell_type": "code",
   "execution_count": 46,
   "id": "2339d388",
   "metadata": {},
   "outputs": [
    {
     "data": {
      "text/plain": [
       "((266918, 1), (88973, 1))"
      ]
     },
     "execution_count": 46,
     "metadata": {},
     "output_type": "execute_result"
    }
   ],
   "source": [
    "y_train.shape,y_test.shape"
   ]
  },
  {
   "cell_type": "code",
   "execution_count": 47,
   "id": "a5034357",
   "metadata": {},
   "outputs": [
    {
     "data": {
      "text/plain": [
       "((266918, 11), (266918, 11), (88973, 11), (88973, 11))"
      ]
     },
     "execution_count": 47,
     "metadata": {},
     "output_type": "execute_result"
    }
   ],
   "source": [
    "x_train.shape,x_train_sc.shape,x_test.shape,x_test_sc.shape"
   ]
  },
  {
   "cell_type": "code",
   "execution_count": 48,
   "id": "3f0a2715",
   "metadata": {},
   "outputs": [
    {
     "name": "stdout",
     "output_type": "stream",
     "text": [
      "Epoch 1/20\n",
      "8342/8342 [==============================] - 13s 1ms/step - loss: 0.0638 - accuracy: 0.9836\n",
      "Epoch 2/20\n",
      "8342/8342 [==============================] - 15s 2ms/step - loss: 0.0177 - accuracy: 0.9925\n",
      "Epoch 3/20\n",
      "8342/8342 [==============================] - 15s 2ms/step - loss: 0.0133 - accuracy: 0.9937\n",
      "Epoch 4/20\n",
      "8342/8342 [==============================] - 17s 2ms/step - loss: 0.0122 - accuracy: 0.9940\n",
      "Epoch 5/20\n",
      "8342/8342 [==============================] - 15s 2ms/step - loss: 0.0118 - accuracy: 0.9942\n",
      "Epoch 6/20\n",
      "8342/8342 [==============================] - 16s 2ms/step - loss: 0.0118 - accuracy: 0.9943\n",
      "Epoch 7/20\n",
      "8342/8342 [==============================] - 16s 2ms/step - loss: 0.0113 - accuracy: 0.9944\n",
      "Epoch 8/20\n",
      "8342/8342 [==============================] - 17s 2ms/step - loss: 0.0116 - accuracy: 0.9943\n",
      "Epoch 9/20\n",
      "8342/8342 [==============================] - 19s 2ms/step - loss: 0.0114 - accuracy: 0.9944\n",
      "Epoch 10/20\n",
      "8342/8342 [==============================] - 17s 2ms/step - loss: 0.0114 - accuracy: 0.9944\n",
      "Epoch 11/20\n",
      "8342/8342 [==============================] - 15s 2ms/step - loss: 0.0114 - accuracy: 0.9944\n",
      "Epoch 12/20\n",
      "8342/8342 [==============================] - 16s 2ms/step - loss: 0.0114 - accuracy: 0.9944\n",
      "Epoch 13/20\n",
      "8342/8342 [==============================] - 15s 2ms/step - loss: 0.0113 - accuracy: 0.9944\n",
      "Epoch 14/20\n",
      "8342/8342 [==============================] - 17s 2ms/step - loss: 0.0114 - accuracy: 0.9944\n",
      "Epoch 15/20\n",
      "8342/8342 [==============================] - 16s 2ms/step - loss: 0.0113 - accuracy: 0.9944\n",
      "Epoch 16/20\n",
      "8342/8342 [==============================] - 16s 2ms/step - loss: 0.0113 - accuracy: 0.9944 0s - l\n",
      "Epoch 17/20\n",
      "8342/8342 [==============================] - 17s 2ms/step - loss: 0.0112 - accuracy: 0.9944\n",
      "Epoch 18/20\n",
      "8342/8342 [==============================] - 18s 2ms/step - loss: 0.0112 - accuracy: 0.9944\n",
      "Epoch 19/20\n",
      "8342/8342 [==============================] - 14s 2ms/step - loss: 0.0112 - accuracy: 0.9944\n",
      "Epoch 20/20\n",
      "8342/8342 [==============================] - 15s 2ms/step - loss: 0.0113 - accuracy: 0.9944\n",
      "Time elapsed 319.8182575702667\n"
     ]
    }
   ],
   "source": [
    "ann = Sequential([\n",
    "    layers.Dense(10,input_shape=(11,),activation='relu'),\n",
    "    layers.Dense(20,activation='relu'),\n",
    "    layers.Dense(20,activation='relu'),\n",
    "    layers.Dense(8,activation='sigmoid'),\n",
    "    \n",
    "])\n",
    "\n",
    "ann.compile(optimizer='adam',\n",
    "             loss = 'sparse_categorical_crossentropy',\n",
    "             metrics=['accuracy'])\n",
    "s = time()\n",
    "ann.fit(x_train_sc,y_train,epochs= 20)\n",
    "ann_time = time()-s\n",
    "print(\"Time elapsed\",ann_time)"
   ]
  },
  {
   "cell_type": "markdown",
   "id": "a45bc614",
   "metadata": {},
   "source": [
    "## Training Accuracy"
   ]
  },
  {
   "cell_type": "code",
   "execution_count": 49,
   "id": "b9e2f8e1",
   "metadata": {},
   "outputs": [
    {
     "name": "stdout",
     "output_type": "stream",
     "text": [
      "8342/8342 [==============================] - 12s 1ms/step - loss: 0.0111 - accuracy: 0.9944\n"
     ]
    },
    {
     "data": {
      "text/plain": [
       "0.9943952560424805"
      ]
     },
     "execution_count": 49,
     "metadata": {},
     "output_type": "execute_result"
    }
   ],
   "source": [
    "loss_train, ann_train_accuracy = ann.evaluate(x_train_sc,y_train)\n",
    "ann_train_accuracy"
   ]
  },
  {
   "cell_type": "code",
   "execution_count": 50,
   "id": "faeb0fc7",
   "metadata": {},
   "outputs": [
    {
     "name": "stdout",
     "output_type": "stream",
     "text": [
      "2781/2781 [==============================] - 3s 1ms/step - loss: 0.0116 - accuracy: 0.9940\n"
     ]
    },
    {
     "data": {
      "text/plain": [
       "0.9940094351768494"
      ]
     },
     "execution_count": 50,
     "metadata": {},
     "output_type": "execute_result"
    }
   ],
   "source": [
    "loss_test, ann_test_accuracy = ann.evaluate(x_test_sc,y_test)\n",
    "ann_test_accuracy"
   ]
  },
  {
   "cell_type": "markdown",
   "id": "c0e349bb",
   "metadata": {},
   "source": [
    "## Evaluation Metrics"
   ]
  },
  {
   "cell_type": "code",
   "execution_count": 51,
   "id": "f362dd8a",
   "metadata": {},
   "outputs": [],
   "source": [
    "target_names = ['DoSattack','dataProbing','malitiousControl', 'malitiousOperation','scan','spying', 'wrongSetUp','Normal']"
   ]
  },
  {
   "cell_type": "code",
   "execution_count": 52,
   "id": "60f17c45",
   "metadata": {},
   "outputs": [
    {
     "data": {
      "text/plain": [
       "['DoSattack',\n",
       " 'dataProbing',\n",
       " 'malitiousControl',\n",
       " 'malitiousOperation',\n",
       " 'scan',\n",
       " 'spying',\n",
       " 'wrongSetUp',\n",
       " 'Normal']"
      ]
     },
     "execution_count": 52,
     "metadata": {},
     "output_type": "execute_result"
    }
   ],
   "source": [
    "target_names"
   ]
  },
  {
   "cell_type": "markdown",
   "id": "6aa1fe69",
   "metadata": {},
   "source": [
    "## Classification Report of Logistic Regression"
   ]
  },
  {
   "cell_type": "markdown",
   "id": "b1e43eff",
   "metadata": {},
   "source": [
    "### For Training Dataset"
   ]
  },
  {
   "cell_type": "code",
   "execution_count": 53,
   "id": "2c0e9abf",
   "metadata": {},
   "outputs": [
    {
     "name": "stdout",
     "output_type": "stream",
     "text": [
      "                    precision    recall  f1-score   support\n",
      "\n",
      "         DoSattack       0.94      0.50      0.65      2950\n",
      "       dataProbing       1.00      0.80      0.89       189\n",
      "  malitiousControl       0.97      0.92      0.95       672\n",
      "malitiousOperation       0.77      0.73      0.75       497\n",
      "              scan       0.91      0.49      0.64      1150\n",
      "            spying       0.00      0.00      0.00       405\n",
      "        wrongSetUp       0.94      1.00      0.97       103\n",
      "            Normal       0.99      1.00      0.99    260952\n",
      "\n",
      "          accuracy                           0.99    266918\n",
      "         macro avg       0.81      0.68      0.73    266918\n",
      "      weighted avg       0.99      0.99      0.99    266918\n",
      "\n"
     ]
    }
   ],
   "source": [
    "print(classification_report(y_train, y_lr_train_pred, target_names=target_names))"
   ]
  },
  {
   "cell_type": "markdown",
   "id": "31490f62",
   "metadata": {},
   "source": [
    "### For Testing Dataset"
   ]
  },
  {
   "cell_type": "code",
   "execution_count": 54,
   "id": "97b93e0e",
   "metadata": {},
   "outputs": [
    {
     "name": "stdout",
     "output_type": "stream",
     "text": [
      "                    precision    recall  f1-score   support\n",
      "\n",
      "         DoSattack       0.95      0.50      0.65      1050\n",
      "       dataProbing       1.00      0.91      0.95        53\n",
      "  malitiousControl       0.98      0.93      0.95       217\n",
      "malitiousOperation       0.70      0.75      0.73       160\n",
      "              scan       0.89      0.50      0.64       381\n",
      "            spying       0.00      0.00      0.00       127\n",
      "        wrongSetUp       0.83      1.00      0.90        19\n",
      "            Normal       0.99      1.00      0.99     86966\n",
      "\n",
      "          accuracy                           0.99     88973\n",
      "         macro avg       0.79      0.70      0.73     88973\n",
      "      weighted avg       0.99      0.99      0.99     88973\n",
      "\n"
     ]
    }
   ],
   "source": [
    "print(classification_report(y_test, y_lr_test_pred, target_names=target_names))"
   ]
  },
  {
   "cell_type": "markdown",
   "id": "4b948353",
   "metadata": {},
   "source": [
    "## Confusion Matrix for Logistic Regression"
   ]
  },
  {
   "cell_type": "markdown",
   "id": "2cfc886c",
   "metadata": {},
   "source": [
    "### For Training dataset"
   ]
  },
  {
   "cell_type": "code",
   "execution_count": 61,
   "id": "35a8c31a",
   "metadata": {},
   "outputs": [
    {
     "data": {
      "text/plain": [
       "array([[  1476,      0,      0,      0,      0,      0,      0,   1474],\n",
       "       [     0,    152,      0,      0,      0,      0,      0,     37],\n",
       "       [     0,      0,    619,      0,      0,      0,      0,     53],\n",
       "       [     0,      0,      0,    363,      0,      0,      0,    134],\n",
       "       [     0,      0,     16,      0,    567,      0,      7,    560],\n",
       "       [     0,      0,      0,      0,     52,      0,      0,    353],\n",
       "       [     0,      0,      0,      0,      0,      0,    103,      0],\n",
       "       [    94,      0,      3,    111,      4,     59,      0, 260681]],\n",
       "      dtype=int64)"
      ]
     },
     "execution_count": 61,
     "metadata": {},
     "output_type": "execute_result"
    }
   ],
   "source": [
    "confusion_matrix(y_train, y_lr_train_pred)"
   ]
  },
  {
   "cell_type": "markdown",
   "id": "547fba52",
   "metadata": {},
   "source": [
    "### For Testing dataset"
   ]
  },
  {
   "cell_type": "code",
   "execution_count": 62,
   "id": "f3b29cc1",
   "metadata": {},
   "outputs": [
    {
     "data": {
      "text/plain": [
       "array([[  524,     0,     0,     0,     0,     0,     0,   526],\n",
       "       [    0,    48,     0,     0,     0,     0,     0,     5],\n",
       "       [    0,     0,   201,     0,     0,     0,     0,    16],\n",
       "       [    0,     0,     0,   120,     0,     0,     0,    40],\n",
       "       [    0,     0,     4,     0,   192,     0,     4,   181],\n",
       "       [    0,     0,     0,     0,    18,     0,     0,   109],\n",
       "       [    0,     0,     0,     0,     0,     0,    19,     0],\n",
       "       [   30,     0,     0,    51,     5,    18,     0, 86862]],\n",
       "      dtype=int64)"
      ]
     },
     "execution_count": 62,
     "metadata": {},
     "output_type": "execute_result"
    }
   ],
   "source": [
    "confusion_matrix(y_test, y_lr_test_pred)"
   ]
  },
  {
   "cell_type": "markdown",
   "id": "83b2dafc",
   "metadata": {},
   "source": [
    "## Classification Report for K Nearest Neighbour"
   ]
  },
  {
   "cell_type": "markdown",
   "id": "e79c37d0",
   "metadata": {},
   "source": [
    "### For Training Dataset"
   ]
  },
  {
   "cell_type": "code",
   "execution_count": 57,
   "id": "53242d32",
   "metadata": {},
   "outputs": [
    {
     "name": "stdout",
     "output_type": "stream",
     "text": [
      "                    precision    recall  f1-score   support\n",
      "\n",
      "         DoSattack       0.63      1.00      0.77      2950\n",
      "       dataProbing       1.00      1.00      1.00       189\n",
      "  malitiousControl       1.00      1.00      1.00       672\n",
      "malitiousOperation       1.00      1.00      1.00       497\n",
      "              scan       1.00      1.00      1.00      1150\n",
      "            spying       1.00      1.00      1.00       405\n",
      "        wrongSetUp       1.00      1.00      1.00       103\n",
      "            Normal       1.00      0.99      1.00    260952\n",
      "\n",
      "          accuracy                           0.99    266918\n",
      "         macro avg       0.95      1.00      0.97    266918\n",
      "      weighted avg       1.00      0.99      0.99    266918\n",
      "\n"
     ]
    }
   ],
   "source": [
    "print(classification_report(y_train, y_knn_train_pred, target_names=target_names))"
   ]
  },
  {
   "cell_type": "markdown",
   "id": "fbad0fa2",
   "metadata": {},
   "source": [
    "### For Testing Dataset"
   ]
  },
  {
   "cell_type": "code",
   "execution_count": 58,
   "id": "dab972ad",
   "metadata": {},
   "outputs": [
    {
     "name": "stdout",
     "output_type": "stream",
     "text": [
      "                    precision    recall  f1-score   support\n",
      "\n",
      "         DoSattack       0.65      1.00      0.79      1050\n",
      "       dataProbing       1.00      1.00      1.00        53\n",
      "  malitiousControl       1.00      1.00      1.00       217\n",
      "malitiousOperation       1.00      1.00      1.00       160\n",
      "              scan       1.00      1.00      1.00       381\n",
      "            spying       1.00      1.00      1.00       127\n",
      "        wrongSetUp       1.00      1.00      1.00        19\n",
      "            Normal       1.00      0.99      1.00     86966\n",
      "\n",
      "          accuracy                           0.99     88973\n",
      "         macro avg       0.96      1.00      0.97     88973\n",
      "      weighted avg       1.00      0.99      0.99     88973\n",
      "\n"
     ]
    }
   ],
   "source": [
    "print(classification_report(y_test, y_knn_test_pred, target_names=target_names))"
   ]
  },
  {
   "cell_type": "markdown",
   "id": "0d2cac37",
   "metadata": {},
   "source": [
    "## Confusion Matrix for K Nearest Neighbour"
   ]
  },
  {
   "cell_type": "markdown",
   "id": "5c9e922b",
   "metadata": {},
   "source": [
    "### For Training dataset"
   ]
  },
  {
   "cell_type": "code",
   "execution_count": 63,
   "id": "cad84c51",
   "metadata": {},
   "outputs": [
    {
     "data": {
      "text/plain": [
       "array([[  2950,      0,      0,      0,      0,      0,      0,      0],\n",
       "       [     0,    189,      0,      0,      0,      0,      0,      0],\n",
       "       [     0,      0,    672,      0,      0,      0,      0,      0],\n",
       "       [     0,      0,      0,    497,      0,      0,      0,      0],\n",
       "       [     0,      0,      0,      0,   1150,      0,      0,      0],\n",
       "       [     0,      0,      0,      0,      0,    405,      0,      0],\n",
       "       [     0,      0,      0,      0,      0,      0,    103,      0],\n",
       "       [  1728,      0,      0,      0,      4,      1,      0, 259219]],\n",
       "      dtype=int64)"
      ]
     },
     "execution_count": 63,
     "metadata": {},
     "output_type": "execute_result"
    }
   ],
   "source": [
    "confusion_matrix(y_train, y_knn_train_pred)"
   ]
  },
  {
   "cell_type": "markdown",
   "id": "2dae355a",
   "metadata": {},
   "source": [
    "### For Testing dataset"
   ]
  },
  {
   "cell_type": "code",
   "execution_count": 64,
   "id": "b25ff790",
   "metadata": {},
   "outputs": [
    {
     "data": {
      "text/plain": [
       "array([[ 1050,     0,     0,     0,     0,     0,     0,     0],\n",
       "       [    0,    53,     0,     0,     0,     0,     0,     0],\n",
       "       [    0,     0,   217,     0,     0,     0,     0,     0],\n",
       "       [    0,     0,     0,   160,     0,     0,     0,     0],\n",
       "       [    0,     0,     0,     0,   381,     0,     0,     0],\n",
       "       [    0,     0,     0,     0,     0,   127,     0,     0],\n",
       "       [    0,     0,     0,     0,     0,     0,    19,     0],\n",
       "       [  555,     0,     0,     0,     1,     0,     0, 86410]],\n",
       "      dtype=int64)"
      ]
     },
     "execution_count": 64,
     "metadata": {},
     "output_type": "execute_result"
    }
   ],
   "source": [
    "confusion_matrix(y_test, y_knn_test_pred)"
   ]
  },
  {
   "cell_type": "markdown",
   "id": "bca2c069",
   "metadata": {},
   "source": [
    "## Classification Report for Decision Tree Classifier"
   ]
  },
  {
   "cell_type": "markdown",
   "id": "64170018",
   "metadata": {},
   "source": [
    "### For Training Dataset"
   ]
  },
  {
   "cell_type": "code",
   "execution_count": null,
   "id": "2dd92bb0",
   "metadata": {},
   "outputs": [],
   "source": [
    "print(classification_report(y_train, y_dtc_train_pred, target_names=target_names))"
   ]
  },
  {
   "cell_type": "markdown",
   "id": "93d62f2a",
   "metadata": {},
   "source": [
    "### For Testing Dataset"
   ]
  },
  {
   "cell_type": "code",
   "execution_count": null,
   "id": "1219db94",
   "metadata": {},
   "outputs": [],
   "source": [
    "print(classification_report(y_test, y_dtc_test_pred, target_names=target_names))"
   ]
  },
  {
   "cell_type": "markdown",
   "id": "0bba3ccd",
   "metadata": {},
   "source": [
    "## Confusion Matrix for Decision Tree Classifier"
   ]
  },
  {
   "cell_type": "markdown",
   "id": "5dfd023f",
   "metadata": {},
   "source": [
    "### For Training dataset"
   ]
  },
  {
   "cell_type": "code",
   "execution_count": 65,
   "id": "0774235f",
   "metadata": {},
   "outputs": [
    {
     "data": {
      "text/plain": [
       "array([[  1476,      0,      0,      0,      0,      0,      0,   1474],\n",
       "       [     0,    189,      0,      0,      0,      0,      0,      0],\n",
       "       [     0,      0,    672,      0,      0,      0,      0,      0],\n",
       "       [     0,      0,      0,    497,      0,      0,      0,      0],\n",
       "       [     0,      0,      0,      0,   1150,      0,      0,      0],\n",
       "       [     0,      0,      0,      0,      0,    405,      0,      0],\n",
       "       [     0,      0,      0,      0,      0,      0,    103,      0],\n",
       "       [     0,      0,      0,      0,      0,      0,      0, 260952]],\n",
       "      dtype=int64)"
      ]
     },
     "execution_count": 65,
     "metadata": {},
     "output_type": "execute_result"
    }
   ],
   "source": [
    "confusion_matrix(y_train, y_dtc_train_pred)"
   ]
  },
  {
   "cell_type": "markdown",
   "id": "bfef637f",
   "metadata": {},
   "source": [
    "### For Testing dataset"
   ]
  },
  {
   "cell_type": "code",
   "execution_count": 66,
   "id": "af772bc0",
   "metadata": {},
   "outputs": [
    {
     "data": {
      "text/plain": [
       "array([[  524,     0,     0,     0,     0,     0,     0,   526],\n",
       "       [    0,    53,     0,     0,     0,     0,     0,     0],\n",
       "       [    0,     0,   217,     0,     0,     0,     0,     0],\n",
       "       [    0,     0,     0,   160,     0,     0,     0,     0],\n",
       "       [    0,     0,     0,     0,   381,     0,     0,     0],\n",
       "       [    0,     0,     0,     0,     0,   127,     0,     0],\n",
       "       [    0,     0,     0,     0,     0,     0,    19,     0],\n",
       "       [    0,     0,     0,     0,     0,     3,     0, 86963]],\n",
       "      dtype=int64)"
      ]
     },
     "execution_count": 66,
     "metadata": {},
     "output_type": "execute_result"
    }
   ],
   "source": [
    "confusion_matrix(y_test, y_dtc_test_pred)"
   ]
  },
  {
   "cell_type": "markdown",
   "id": "67cf76a7",
   "metadata": {},
   "source": [
    "## Classification Report for Random Forest Classifier"
   ]
  },
  {
   "cell_type": "markdown",
   "id": "3e633459",
   "metadata": {},
   "source": [
    "### For Training Dataset"
   ]
  },
  {
   "cell_type": "code",
   "execution_count": 67,
   "id": "bf326a81",
   "metadata": {},
   "outputs": [
    {
     "name": "stdout",
     "output_type": "stream",
     "text": [
      "                    precision    recall  f1-score   support\n",
      "\n",
      "         DoSattack       1.00      0.50      0.67      2950\n",
      "       dataProbing       1.00      1.00      1.00       189\n",
      "  malitiousControl       1.00      1.00      1.00       672\n",
      "malitiousOperation       1.00      1.00      1.00       497\n",
      "              scan       1.00      1.00      1.00      1150\n",
      "            spying       1.00      1.00      1.00       405\n",
      "        wrongSetUp       1.00      1.00      1.00       103\n",
      "            Normal       0.99      1.00      1.00    260952\n",
      "\n",
      "          accuracy                           0.99    266918\n",
      "         macro avg       1.00      0.94      0.96    266918\n",
      "      weighted avg       0.99      0.99      0.99    266918\n",
      "\n"
     ]
    }
   ],
   "source": [
    "print(classification_report(y_train, y_rfc_train_pred, target_names=target_names))"
   ]
  },
  {
   "cell_type": "markdown",
   "id": "04b69c75",
   "metadata": {},
   "source": [
    "### For Testing Dataset"
   ]
  },
  {
   "cell_type": "code",
   "execution_count": 70,
   "id": "fec236e4",
   "metadata": {},
   "outputs": [
    {
     "name": "stdout",
     "output_type": "stream",
     "text": [
      "                    precision    recall  f1-score   support\n",
      "\n",
      "         DoSattack       1.00      0.50      0.67      1050\n",
      "       dataProbing       1.00      1.00      1.00        53\n",
      "  malitiousControl       1.00      1.00      1.00       217\n",
      "malitiousOperation       1.00      1.00      1.00       160\n",
      "              scan       1.00      1.00      1.00       381\n",
      "            spying       1.00      1.00      1.00       127\n",
      "        wrongSetUp       1.00      1.00      1.00        19\n",
      "            Normal       0.99      1.00      1.00     86966\n",
      "\n",
      "          accuracy                           0.99     88973\n",
      "         macro avg       1.00      0.94      0.96     88973\n",
      "      weighted avg       0.99      0.99      0.99     88973\n",
      "\n"
     ]
    }
   ],
   "source": [
    "print(classification_report(y_test, y_rfc_test_pred, target_names=target_names))"
   ]
  },
  {
   "cell_type": "markdown",
   "id": "1cea4008",
   "metadata": {},
   "source": [
    "## Confusion Matrix for Random Forest Classifier"
   ]
  },
  {
   "cell_type": "markdown",
   "id": "0591eef2",
   "metadata": {},
   "source": [
    "### For Training dataset"
   ]
  },
  {
   "cell_type": "code",
   "execution_count": 68,
   "id": "8aa11f4f",
   "metadata": {},
   "outputs": [
    {
     "data": {
      "text/plain": [
       "array([[  1476,      0,      0,      0,      0,      0,      0,   1474],\n",
       "       [     0,    189,      0,      0,      0,      0,      0,      0],\n",
       "       [     0,      0,    672,      0,      0,      0,      0,      0],\n",
       "       [     0,      0,      0,    497,      0,      0,      0,      0],\n",
       "       [     0,      0,      0,      0,   1150,      0,      0,      0],\n",
       "       [     0,      0,      0,      0,      0,    405,      0,      0],\n",
       "       [     0,      0,      0,      0,      0,      0,    103,      0],\n",
       "       [     0,      0,      0,      0,      0,      0,      0, 260952]],\n",
       "      dtype=int64)"
      ]
     },
     "execution_count": 68,
     "metadata": {},
     "output_type": "execute_result"
    }
   ],
   "source": [
    "confusion_matrix(y_train, y_rfc_train_pred)"
   ]
  },
  {
   "cell_type": "markdown",
   "id": "cadd0c6f",
   "metadata": {},
   "source": [
    "### For Testing dataset"
   ]
  },
  {
   "cell_type": "code",
   "execution_count": 69,
   "id": "9ad8e843",
   "metadata": {},
   "outputs": [
    {
     "data": {
      "text/plain": [
       "array([[  524,     0,     0,     0,     0,     0,     0,   526],\n",
       "       [    0,    53,     0,     0,     0,     0,     0,     0],\n",
       "       [    0,     0,   217,     0,     0,     0,     0,     0],\n",
       "       [    0,     0,     0,   160,     0,     0,     0,     0],\n",
       "       [    0,     0,     0,     0,   381,     0,     0,     0],\n",
       "       [    0,     0,     0,     0,     0,   127,     0,     0],\n",
       "       [    0,     0,     0,     0,     0,     0,    19,     0],\n",
       "       [    0,     0,     0,     0,     1,     0,     0, 86965]],\n",
       "      dtype=int64)"
      ]
     },
     "execution_count": 69,
     "metadata": {},
     "output_type": "execute_result"
    }
   ],
   "source": [
    "confusion_matrix(y_test, y_rfc_test_pred)"
   ]
  },
  {
   "cell_type": "markdown",
   "id": "e8e929d6",
   "metadata": {},
   "source": [
    "## Classification Report for Naive Bayes"
   ]
  },
  {
   "cell_type": "markdown",
   "id": "b55641ce",
   "metadata": {},
   "source": [
    "### For Training Dataset"
   ]
  },
  {
   "cell_type": "code",
   "execution_count": 73,
   "id": "10592a09",
   "metadata": {},
   "outputs": [
    {
     "name": "stdout",
     "output_type": "stream",
     "text": [
      "                    precision    recall  f1-score   support\n",
      "\n",
      "         DoSattack       0.33      1.00      0.50      2950\n",
      "       dataProbing       0.04      0.80      0.07       189\n",
      "  malitiousControl       0.19      0.92      0.31       672\n",
      "malitiousOperation       0.67      1.00      0.80       497\n",
      "              scan       1.00      0.13      0.23      1150\n",
      "            spying       0.01      0.93      0.01       405\n",
      "        wrongSetUp       1.00      1.00      1.00       103\n",
      "            Normal       1.00      0.76      0.86    260952\n",
      "\n",
      "          accuracy                           0.76    266918\n",
      "         macro avg       0.53      0.82      0.47    266918\n",
      "      weighted avg       0.99      0.76      0.85    266918\n",
      "\n"
     ]
    }
   ],
   "source": [
    "print(classification_report(y_train, y_nb_train_pred, target_names=target_names))"
   ]
  },
  {
   "cell_type": "markdown",
   "id": "0b1ab396",
   "metadata": {},
   "source": [
    "### For Testing Dataset"
   ]
  },
  {
   "cell_type": "code",
   "execution_count": 74,
   "id": "bb06b7ec",
   "metadata": {},
   "outputs": [
    {
     "name": "stdout",
     "output_type": "stream",
     "text": [
      "                    precision    recall  f1-score   support\n",
      "\n",
      "         DoSattack       0.35      1.00      0.52      1050\n",
      "       dataProbing       0.04      0.91      0.07        53\n",
      "  malitiousControl       0.19      0.93      0.31       217\n",
      "malitiousOperation       0.64      1.00      0.78       160\n",
      "              scan       1.00      0.15      0.27       381\n",
      "            spying       0.01      0.95      0.01       127\n",
      "        wrongSetUp       1.00      1.00      1.00        19\n",
      "            Normal       1.00      0.76      0.86     86966\n",
      "\n",
      "          accuracy                           0.76     88973\n",
      "         macro avg       0.53      0.84      0.48     88973\n",
      "      weighted avg       0.99      0.76      0.85     88973\n",
      "\n"
     ]
    }
   ],
   "source": [
    "print(classification_report(y_test, y_nb_test_pred, target_names=target_names))"
   ]
  },
  {
   "cell_type": "markdown",
   "id": "d265b0ce",
   "metadata": {},
   "source": [
    "## Confusion Matrix for Naive Bayes"
   ]
  },
  {
   "cell_type": "markdown",
   "id": "a1072493",
   "metadata": {},
   "source": [
    "### For Training dataset"
   ]
  },
  {
   "cell_type": "code",
   "execution_count": 71,
   "id": "6540a02e",
   "metadata": {},
   "outputs": [
    {
     "data": {
      "text/plain": [
       "array([[  2950,      0,      0,      0,      0,      0,      0,      0],\n",
       "       [     0,    152,      0,      0,      0,      0,      0,     37],\n",
       "       [     0,      0,    619,      0,      0,      6,      0,     47],\n",
       "       [     0,      0,      0,    497,      0,      0,      0,      0],\n",
       "       [     7,      0,      0,      0,    151,    637,      0,    355],\n",
       "       [     0,      0,     29,      0,      0,    376,      0,      0],\n",
       "       [     0,      0,      0,      0,      0,      0,    103,      0],\n",
       "       [  5871,   3912,   2629,    243,      0,  50286,      0, 198011]],\n",
       "      dtype=int64)"
      ]
     },
     "execution_count": 71,
     "metadata": {},
     "output_type": "execute_result"
    }
   ],
   "source": [
    "confusion_matrix(y_train, y_nb_train_pred)"
   ]
  },
  {
   "cell_type": "markdown",
   "id": "5ee50617",
   "metadata": {},
   "source": [
    "### For Testing dataset"
   ]
  },
  {
   "cell_type": "code",
   "execution_count": 72,
   "id": "10f7c485",
   "metadata": {},
   "outputs": [
    {
     "data": {
      "text/plain": [
       "array([[ 1050,     0,     0,     0,     0,     0,     0,     0],\n",
       "       [    0,    48,     0,     0,     0,     0,     0,     5],\n",
       "       [    0,     0,   201,     0,     0,     3,     0,    13],\n",
       "       [    0,     0,     0,   160,     0,     0,     0,     0],\n",
       "       [    4,     0,     0,     0,    59,   195,     0,   123],\n",
       "       [    0,     0,     6,     0,     0,   121,     0,     0],\n",
       "       [    0,     0,     0,     0,     0,     0,    19,     0],\n",
       "       [ 1968,  1261,   865,    89,     0, 16683,     0, 66100]],\n",
       "      dtype=int64)"
      ]
     },
     "execution_count": 72,
     "metadata": {},
     "output_type": "execute_result"
    }
   ],
   "source": [
    "confusion_matrix(y_test, y_nb_test_pred)"
   ]
  },
  {
   "cell_type": "markdown",
   "id": "16087160",
   "metadata": {},
   "source": [
    "## Classification Report for Support Vector Machine Classifier"
   ]
  },
  {
   "cell_type": "markdown",
   "id": "5aad83f8",
   "metadata": {},
   "source": [
    "### For Training Dataset"
   ]
  },
  {
   "cell_type": "code",
   "execution_count": 77,
   "id": "d2a523ce",
   "metadata": {},
   "outputs": [
    {
     "name": "stdout",
     "output_type": "stream",
     "text": [
      "                    precision    recall  f1-score   support\n",
      "\n",
      "         DoSattack       0.94      0.50      0.65      2950\n",
      "       dataProbing       0.00      0.00      0.00       189\n",
      "  malitiousControl       0.00      0.00      0.00       672\n",
      "malitiousOperation       0.99      0.61      0.75       497\n",
      "              scan       0.00      0.00      0.00      1150\n",
      "            spying       0.00      0.00      0.00       405\n",
      "        wrongSetUp       0.00      0.00      0.00       103\n",
      "            Normal       0.98      1.00      0.99    260952\n",
      "\n",
      "          accuracy                           0.98    266918\n",
      "         macro avg       0.36      0.26      0.30    266918\n",
      "      weighted avg       0.97      0.98      0.98    266918\n",
      "\n"
     ]
    },
    {
     "name": "stderr",
     "output_type": "stream",
     "text": [
      "c:\\users\\hebbar\\appdata\\local\\programs\\python\\python39\\lib\\site-packages\\sklearn\\metrics\\_classification.py:1308: UndefinedMetricWarning: Precision and F-score are ill-defined and being set to 0.0 in labels with no predicted samples. Use `zero_division` parameter to control this behavior.\n",
      "  _warn_prf(average, modifier, msg_start, len(result))\n",
      "c:\\users\\hebbar\\appdata\\local\\programs\\python\\python39\\lib\\site-packages\\sklearn\\metrics\\_classification.py:1308: UndefinedMetricWarning: Precision and F-score are ill-defined and being set to 0.0 in labels with no predicted samples. Use `zero_division` parameter to control this behavior.\n",
      "  _warn_prf(average, modifier, msg_start, len(result))\n",
      "c:\\users\\hebbar\\appdata\\local\\programs\\python\\python39\\lib\\site-packages\\sklearn\\metrics\\_classification.py:1308: UndefinedMetricWarning: Precision and F-score are ill-defined and being set to 0.0 in labels with no predicted samples. Use `zero_division` parameter to control this behavior.\n",
      "  _warn_prf(average, modifier, msg_start, len(result))\n"
     ]
    }
   ],
   "source": [
    "print(classification_report(y_train, y_svc_train_pred, target_names=target_names))"
   ]
  },
  {
   "cell_type": "markdown",
   "id": "0ad27db8",
   "metadata": {},
   "source": [
    "### For Testing Dataset"
   ]
  },
  {
   "cell_type": "code",
   "execution_count": 76,
   "id": "f5f1b3e9",
   "metadata": {},
   "outputs": [
    {
     "name": "stdout",
     "output_type": "stream",
     "text": [
      "                    precision    recall  f1-score   support\n",
      "\n",
      "         DoSattack       0.95      0.50      0.65      1050\n",
      "       dataProbing       0.00      0.00      0.00        53\n",
      "  malitiousControl       0.00      0.00      0.00       217\n",
      "malitiousOperation       1.00      0.54      0.70       160\n",
      "              scan       0.00      0.00      0.00       381\n",
      "            spying       0.00      0.00      0.00       127\n",
      "        wrongSetUp       0.00      0.00      0.00        19\n",
      "            Normal       0.98      1.00      0.99     86966\n",
      "\n",
      "          accuracy                           0.98     88973\n",
      "         macro avg       0.37      0.25      0.29     88973\n",
      "      weighted avg       0.97      0.98      0.98     88973\n",
      "\n"
     ]
    },
    {
     "name": "stderr",
     "output_type": "stream",
     "text": [
      "c:\\users\\hebbar\\appdata\\local\\programs\\python\\python39\\lib\\site-packages\\sklearn\\metrics\\_classification.py:1308: UndefinedMetricWarning: Precision and F-score are ill-defined and being set to 0.0 in labels with no predicted samples. Use `zero_division` parameter to control this behavior.\n",
      "  _warn_prf(average, modifier, msg_start, len(result))\n",
      "c:\\users\\hebbar\\appdata\\local\\programs\\python\\python39\\lib\\site-packages\\sklearn\\metrics\\_classification.py:1308: UndefinedMetricWarning: Precision and F-score are ill-defined and being set to 0.0 in labels with no predicted samples. Use `zero_division` parameter to control this behavior.\n",
      "  _warn_prf(average, modifier, msg_start, len(result))\n",
      "c:\\users\\hebbar\\appdata\\local\\programs\\python\\python39\\lib\\site-packages\\sklearn\\metrics\\_classification.py:1308: UndefinedMetricWarning: Precision and F-score are ill-defined and being set to 0.0 in labels with no predicted samples. Use `zero_division` parameter to control this behavior.\n",
      "  _warn_prf(average, modifier, msg_start, len(result))\n"
     ]
    }
   ],
   "source": [
    "print(classification_report(y_test, y_svc_test_pred, target_names=target_names))"
   ]
  },
  {
   "cell_type": "markdown",
   "id": "72f220ba",
   "metadata": {},
   "source": [
    "## Confusion Matrix for Support Vector Machine Classifier"
   ]
  },
  {
   "cell_type": "markdown",
   "id": "13ea55e5",
   "metadata": {},
   "source": [
    "### For Training dataset"
   ]
  },
  {
   "cell_type": "code",
   "execution_count": 75,
   "id": "783a1ff2",
   "metadata": {},
   "outputs": [
    {
     "data": {
      "text/plain": [
       "array([[  1476,      0,      0,      0,      0,      0,      0,   1474],\n",
       "       [     0,      0,      0,      0,      0,      0,      0,    189],\n",
       "       [     0,      0,      0,      0,      0,      0,      0,    672],\n",
       "       [     0,      0,      0,    301,      0,      0,      0,    196],\n",
       "       [     9,      0,      9,      0,      0,      0,      0,   1132],\n",
       "       [     0,      0,      0,      0,      0,      0,      0,    405],\n",
       "       [     0,      0,      0,      0,      0,      0,      0,    103],\n",
       "       [    80,      0,      0,      3,      0,     18,      0, 260851]],\n",
       "      dtype=int64)"
      ]
     },
     "execution_count": 75,
     "metadata": {},
     "output_type": "execute_result"
    }
   ],
   "source": [
    "confusion_matrix(y_train, y_svc_train_pred)"
   ]
  },
  {
   "cell_type": "markdown",
   "id": "c32a66fd",
   "metadata": {},
   "source": [
    "### For Testing dataset"
   ]
  },
  {
   "cell_type": "code",
   "execution_count": 78,
   "id": "d3509c73",
   "metadata": {},
   "outputs": [
    {
     "data": {
      "text/plain": [
       "array([[  524,     0,     0,     0,     0,     0,     0,   526],\n",
       "       [    0,     0,     0,     0,     0,     0,     0,    53],\n",
       "       [    0,     0,     0,     0,     0,     0,     0,   217],\n",
       "       [    0,     0,     0,    86,     0,     0,     0,    74],\n",
       "       [    2,     0,     1,     0,     0,     0,     0,   378],\n",
       "       [    0,     0,     0,     0,     0,     0,     0,   127],\n",
       "       [    0,     0,     0,     0,     0,     0,     0,    19],\n",
       "       [   27,     0,     0,     0,     0,     5,     0, 86934]],\n",
       "      dtype=int64)"
      ]
     },
     "execution_count": 78,
     "metadata": {},
     "output_type": "execute_result"
    }
   ],
   "source": [
    "confusion_matrix(y_test, y_svc_test_pred)"
   ]
  },
  {
   "cell_type": "markdown",
   "id": "4cf234b5",
   "metadata": {},
   "source": [
    "## Confusion Matrix for Artificial Neural Network"
   ]
  },
  {
   "cell_type": "markdown",
   "id": "dce6ce79",
   "metadata": {},
   "source": [
    "### For Training dataset"
   ]
  },
  {
   "cell_type": "code",
   "execution_count": 80,
   "id": "e94f22d2",
   "metadata": {},
   "outputs": [
    {
     "data": {
      "text/plain": [
       "array([[7.2847986e-12, 1.5272352e-13, 4.2896353e-11, ..., 1.0045301e-31,\n",
       "        0.0000000e+00, 8.7242723e-03],\n",
       "       [2.3713056e-24, 4.8744302e-38, 1.7330922e-31, ..., 1.5927503e-14,\n",
       "        0.0000000e+00, 7.9665965e-01],\n",
       "       [2.2866093e-34, 3.7798688e-37, 1.6733315e-22, ..., 7.8293112e-34,\n",
       "        0.0000000e+00, 6.1887595e-06],\n",
       "       ...,\n",
       "       [1.1497803e-25, 0.0000000e+00, 8.6730574e-22, ..., 0.0000000e+00,\n",
       "        0.0000000e+00, 3.5658479e-04],\n",
       "       [2.4099606e-07, 1.3548691e-12, 1.6811490e-04, ..., 5.2219775e-07,\n",
       "        1.3782188e-25, 4.8303452e-01],\n",
       "       [2.2625654e-27, 4.8740560e-24, 3.1362187e-28, ..., 0.0000000e+00,\n",
       "        0.0000000e+00, 6.7496830e-01]], dtype=float32)"
      ]
     },
     "execution_count": 80,
     "metadata": {},
     "output_type": "execute_result"
    }
   ],
   "source": [
    "y_ann_train_pred = ann.predict(x_train_sc)\n",
    "y_ann_train_pred"
   ]
  },
  {
   "cell_type": "code",
   "execution_count": 81,
   "id": "ce77dd60",
   "metadata": {},
   "outputs": [
    {
     "data": {
      "text/plain": [
       "(266918, 1)"
      ]
     },
     "execution_count": 81,
     "metadata": {},
     "output_type": "execute_result"
    }
   ],
   "source": [
    "y_train.shape"
   ]
  },
  {
   "cell_type": "code",
   "execution_count": 82,
   "id": "8171a89f",
   "metadata": {},
   "outputs": [
    {
     "data": {
      "text/plain": [
       "(266918, 8)"
      ]
     },
     "execution_count": 82,
     "metadata": {},
     "output_type": "execute_result"
    }
   ],
   "source": [
    "y_ann_train_pred.shape"
   ]
  },
  {
   "cell_type": "code",
   "execution_count": 83,
   "id": "40e6d033",
   "metadata": {},
   "outputs": [
    {
     "data": {
      "text/plain": [
       "[7, 7, 7, 7, 7]"
      ]
     },
     "execution_count": 83,
     "metadata": {},
     "output_type": "execute_result"
    }
   ],
   "source": [
    "y_ann_train_pred_labels = [np.argmax(i) for i in y_ann_train_pred]\n",
    "y_ann_train_pred_labels[:5]"
   ]
  },
  {
   "cell_type": "code",
   "execution_count": 85,
   "id": "5eb1de95",
   "metadata": {},
   "outputs": [
    {
     "name": "stdout",
     "output_type": "stream",
     "text": [
      "tf.Tensor(\n",
      "[[  1476      0      0      0      0      0      0   1474]\n",
      " [     0    189      0      0      0      0      0      0]\n",
      " [     0      0    672      0      0      0      0      0]\n",
      " [     0      0      0    497      0      0      0      0]\n",
      " [     0      0      8      0   1133      0      0      9]\n",
      " [     0      0      0      0      0    405      0      0]\n",
      " [     0      0      0      0      0      0    103      0]\n",
      " [     4      0      0      0      1      0      0 260947]], shape=(8, 8), dtype=int32)\n"
     ]
    }
   ],
   "source": [
    "print(tf.math.confusion_matrix(labels=y_train, predictions=y_ann_train_pred_labels))"
   ]
  },
  {
   "cell_type": "markdown",
   "id": "6f719272",
   "metadata": {},
   "source": [
    "### For Testing dataset"
   ]
  },
  {
   "cell_type": "code",
   "execution_count": 86,
   "id": "b1841298",
   "metadata": {},
   "outputs": [
    {
     "data": {
      "text/plain": [
       "array([[2.9712998e-25, 0.0000000e+00, 3.5876079e-21, ..., 0.0000000e+00,\n",
       "        0.0000000e+00, 8.8471174e-04],\n",
       "       [4.8102618e-22, 0.0000000e+00, 5.3144629e-32, ..., 6.9545979e-31,\n",
       "        0.0000000e+00, 9.9758792e-01],\n",
       "       [2.3646934e-24, 4.8729055e-38, 1.7421201e-31, ..., 1.5627602e-14,\n",
       "        0.0000000e+00, 7.9762280e-01],\n",
       "       ...,\n",
       "       [7.2847986e-12, 1.5272352e-13, 4.2896353e-11, ..., 1.0045301e-31,\n",
       "        0.0000000e+00, 8.7242723e-03],\n",
       "       [4.4785172e-01, 8.5244658e-08, 8.5576748e-06, ..., 8.2493934e-06,\n",
       "        1.0657477e-08, 6.6548026e-01],\n",
       "       [5.6315715e-25, 6.0918276e-33, 2.7661749e-19, ..., 0.0000000e+00,\n",
       "        0.0000000e+00, 2.7843827e-01]], dtype=float32)"
      ]
     },
     "execution_count": 86,
     "metadata": {},
     "output_type": "execute_result"
    }
   ],
   "source": [
    "y_ann_test_pred = ann.predict(x_test_sc)\n",
    "y_ann_test_pred"
   ]
  },
  {
   "cell_type": "code",
   "execution_count": 87,
   "id": "7b7b381f",
   "metadata": {},
   "outputs": [
    {
     "data": {
      "text/plain": [
       "(88973, 1)"
      ]
     },
     "execution_count": 87,
     "metadata": {},
     "output_type": "execute_result"
    }
   ],
   "source": [
    "y_test.shape"
   ]
  },
  {
   "cell_type": "code",
   "execution_count": 88,
   "id": "40e59d7c",
   "metadata": {},
   "outputs": [
    {
     "data": {
      "text/plain": [
       "(88973, 8)"
      ]
     },
     "execution_count": 88,
     "metadata": {},
     "output_type": "execute_result"
    }
   ],
   "source": [
    "y_ann_test_pred.shape"
   ]
  },
  {
   "cell_type": "code",
   "execution_count": 89,
   "id": "f00120cd",
   "metadata": {},
   "outputs": [
    {
     "data": {
      "text/plain": [
       "[7, 7, 7, 7, 7]"
      ]
     },
     "execution_count": 89,
     "metadata": {},
     "output_type": "execute_result"
    }
   ],
   "source": [
    "y_ann_test_pred_labels = [np.argmax(i) for i in y_ann_test_pred]\n",
    "y_ann_test_pred_labels[:5]"
   ]
  },
  {
   "cell_type": "code",
   "execution_count": 90,
   "id": "fb2fd6dd",
   "metadata": {},
   "outputs": [
    {
     "name": "stdout",
     "output_type": "stream",
     "text": [
      "tf.Tensor(\n",
      "[[  524     0     0     0     0     0     0   526]\n",
      " [    0    53     0     0     0     0     0     0]\n",
      " [    0     0   217     0     0     0     0     0]\n",
      " [    0     0     0   160     0     0     0     0]\n",
      " [    0     0     0     0   374     0     0     7]\n",
      " [    0     0     0     0     0   127     0     0]\n",
      " [    0     0     0     0     0     0    19     0]\n",
      " [    0     0     0     0     0     0     0 86966]], shape=(8, 8), dtype=int32)\n"
     ]
    }
   ],
   "source": [
    "print(tf.math.confusion_matrix(labels=y_test, predictions=y_ann_test_pred_labels))"
   ]
  },
  {
   "cell_type": "markdown",
   "id": "2f1c5b5c",
   "metadata": {},
   "source": [
    "## Classification Report for Artificial Neural Network"
   ]
  },
  {
   "cell_type": "markdown",
   "id": "d674325b",
   "metadata": {},
   "source": [
    "### For Training dataset"
   ]
  },
  {
   "cell_type": "code",
   "execution_count": null,
   "id": "dba49b55",
   "metadata": {},
   "outputs": [],
   "source": [
    "print(classification_report(y_train, y_ann_train_pred_labels, target_names=target_names))"
   ]
  },
  {
   "cell_type": "markdown",
   "id": "c9d14f51",
   "metadata": {},
   "source": [
    "### For Testing dataset"
   ]
  },
  {
   "cell_type": "code",
   "execution_count": null,
   "id": "ffdaf963",
   "metadata": {},
   "outputs": [],
   "source": [
    "print(classification_report(y_test, y_ann_test_pred_labels, target_names=target_names))"
   ]
  },
  {
   "cell_type": "code",
   "execution_count": null,
   "id": "825dfb6d",
   "metadata": {},
   "outputs": [],
   "source": [
    "y_ann_train_labels = np.array(y_ann_train_pred_labels)\n",
    "y_ann_test_labels = np.array(y_ann_test_pred_labels)\n",
    "y_ann_train_labels, y_ann_test_labels"
   ]
  },
  {
   "cell_type": "code",
   "execution_count": null,
   "id": "e31cf712",
   "metadata": {},
   "outputs": [],
   "source": [
    "dataset = [[lr_time,lr_train_accuracy,lr_test_accuracy],\n",
    "           [knn_time,knn_train_accuracy,knn_test_accuracy],\n",
    "           [dtc_time,dtc_train_accuracy,dtc_test_accuracy],\n",
    "           [rfc_time,rfc_train_accuracy,rfc_test_accuracy],\n",
    "           [nb_time,nb_train_accuracy,nb_test_accuracy],\n",
    "           [svc_time,svc_train_accuracy,svc_test_accuracy],\n",
    "           [ann_time,ann_train_accuracy,ann_test_accuracy]\n",
    "          ]"
   ]
  },
  {
   "cell_type": "code",
   "execution_count": null,
   "id": "64c93018",
   "metadata": {},
   "outputs": [],
   "source": [
    "dataset"
   ]
  },
  {
   "cell_type": "code",
   "execution_count": null,
   "id": "ade717f7",
   "metadata": {},
   "outputs": [],
   "source": [
    "comparison = pd.DataFrame(dataset, columns = ['Time_Taken','Training_Accuracy','Testing_Accuracy'], \n",
    "                         index=['Logistic Regression','K Nearest Neighbour','Decision Tree','Random Forest','Naive Bayes','Support Vector Machine','Artificial Neural Network',])\n",
    "comparison"
   ]
  },
  {
   "cell_type": "code",
   "execution_count": null,
   "id": "2dbfaccc",
   "metadata": {},
   "outputs": [],
   "source": [
    "comparison.to_csv('performance.csv')"
   ]
  },
  {
   "cell_type": "code",
   "execution_count": null,
   "id": "b566ac92",
   "metadata": {},
   "outputs": [],
   "source": []
  }
 ],
 "metadata": {
  "kernelspec": {
   "display_name": "Python 3 (ipykernel)",
   "language": "python",
   "name": "python3"
  },
  "language_info": {
   "codemirror_mode": {
    "name": "ipython",
    "version": 3
   },
   "file_extension": ".py",
   "mimetype": "text/x-python",
   "name": "python",
   "nbconvert_exporter": "python",
   "pygments_lexer": "ipython3",
   "version": "3.9.6"
  }
 },
 "nbformat": 4,
 "nbformat_minor": 5
}
