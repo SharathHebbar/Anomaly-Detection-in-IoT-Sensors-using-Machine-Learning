{
 "cells": [
  {
   "cell_type": "markdown",
   "id": "20301286",
   "metadata": {},
   "source": [
    "## Importing libraries"
   ]
  },
  {
   "cell_type": "code",
   "execution_count": 2,
   "id": "d13a66b6",
   "metadata": {},
   "outputs": [],
   "source": [
    "from time import time\n",
    "import pandas as pd\n",
    "import numpy as np\n",
    "from sklearn.model_selection import KFold\n",
    "from sklearn.preprocessing import StandardScaler\n",
    "from sklearn.metrics import accuracy_score, classification_report,confusion_matrix"
   ]
  },
  {
   "cell_type": "code",
   "execution_count": 14,
   "id": "c5273d26",
   "metadata": {},
   "outputs": [],
   "source": [
    "from statistics import mean"
   ]
  },
  {
   "cell_type": "markdown",
   "id": "346991a9",
   "metadata": {},
   "source": [
    "### Loading dataset"
   ]
  },
  {
   "cell_type": "code",
   "execution_count": 3,
   "id": "2cbcd5c2",
   "metadata": {},
   "outputs": [
    {
     "data": {
      "text/html": [
       "<div>\n",
       "<style scoped>\n",
       "    .dataframe tbody tr th:only-of-type {\n",
       "        vertical-align: middle;\n",
       "    }\n",
       "\n",
       "    .dataframe tbody tr th {\n",
       "        vertical-align: top;\n",
       "    }\n",
       "\n",
       "    .dataframe thead th {\n",
       "        text-align: right;\n",
       "    }\n",
       "</style>\n",
       "<table border=\"1\" class=\"dataframe\">\n",
       "  <thead>\n",
       "    <tr style=\"text-align: right;\">\n",
       "      <th></th>\n",
       "      <th>0</th>\n",
       "      <th>1</th>\n",
       "      <th>2</th>\n",
       "      <th>3</th>\n",
       "      <th>4</th>\n",
       "      <th>5</th>\n",
       "      <th>6</th>\n",
       "      <th>7</th>\n",
       "      <th>8</th>\n",
       "      <th>9</th>\n",
       "      <th>10</th>\n",
       "      <th>11</th>\n",
       "    </tr>\n",
       "  </thead>\n",
       "  <tbody>\n",
       "    <tr>\n",
       "      <th>0</th>\n",
       "      <td>7</td>\n",
       "      <td>21</td>\n",
       "      <td>30</td>\n",
       "      <td>2</td>\n",
       "      <td>3</td>\n",
       "      <td>29</td>\n",
       "      <td>2</td>\n",
       "      <td>3</td>\n",
       "      <td>57</td>\n",
       "      <td>5</td>\n",
       "      <td>1</td>\n",
       "      <td>0</td>\n",
       "    </tr>\n",
       "    <tr>\n",
       "      <th>1</th>\n",
       "      <td>7</td>\n",
       "      <td>32</td>\n",
       "      <td>70</td>\n",
       "      <td>2</td>\n",
       "      <td>4</td>\n",
       "      <td>67</td>\n",
       "      <td>2</td>\n",
       "      <td>4</td>\n",
       "      <td>132</td>\n",
       "      <td>5</td>\n",
       "      <td>1</td>\n",
       "      <td>0</td>\n",
       "    </tr>\n",
       "    <tr>\n",
       "      <th>2</th>\n",
       "      <td>7</td>\n",
       "      <td>15</td>\n",
       "      <td>1</td>\n",
       "      <td>2</td>\n",
       "      <td>2</td>\n",
       "      <td>0</td>\n",
       "      <td>2</td>\n",
       "      <td>2</td>\n",
       "      <td>0</td>\n",
       "      <td>5</td>\n",
       "      <td>1</td>\n",
       "      <td>0</td>\n",
       "    </tr>\n",
       "    <tr>\n",
       "      <th>3</th>\n",
       "      <td>7</td>\n",
       "      <td>33</td>\n",
       "      <td>77</td>\n",
       "      <td>2</td>\n",
       "      <td>7</td>\n",
       "      <td>72</td>\n",
       "      <td>2</td>\n",
       "      <td>7</td>\n",
       "      <td>142</td>\n",
       "      <td>5</td>\n",
       "      <td>1</td>\n",
       "      <td>0</td>\n",
       "    </tr>\n",
       "    <tr>\n",
       "      <th>4</th>\n",
       "      <td>7</td>\n",
       "      <td>55</td>\n",
       "      <td>78</td>\n",
       "      <td>3</td>\n",
       "      <td>7</td>\n",
       "      <td>73</td>\n",
       "      <td>3</td>\n",
       "      <td>7</td>\n",
       "      <td>144</td>\n",
       "      <td>6</td>\n",
       "      <td>1</td>\n",
       "      <td>0</td>\n",
       "    </tr>\n",
       "  </tbody>\n",
       "</table>\n",
       "</div>"
      ],
      "text/plain": [
       "   0   1   2  3  4   5  6  7    8  9  10  11\n",
       "0  7  21  30  2  3  29  2  3   57  5   1   0\n",
       "1  7  32  70  2  4  67  2  4  132  5   1   0\n",
       "2  7  15   1  2  2   0  2  2    0  5   1   0\n",
       "3  7  33  77  2  7  72  2  7  142  5   1   0\n",
       "4  7  55  78  3  7  73  3  7  144  6   1   0"
      ]
     },
     "execution_count": 3,
     "metadata": {},
     "output_type": "execute_result"
    }
   ],
   "source": [
    "data = pd.read_csv('dataset.csv')\n",
    "data.head()"
   ]
  },
  {
   "cell_type": "code",
   "execution_count": 4,
   "id": "c48e9919",
   "metadata": {},
   "outputs": [
    {
     "data": {
      "text/plain": [
       "(array([[  21,   30,    2, ...,    5,    1,    0],\n",
       "        [  32,   70,    2, ...,    5,    1,    0],\n",
       "        [  15,    1,    2, ...,    5,    1,    0],\n",
       "        ...,\n",
       "        [  82,   14,    7, ...,    1,    0,    1],\n",
       "        [  30,   62,    2, ...,    3,    0,    0],\n",
       "        [  30,   62,    2, ...,    7,    0, 9156]], dtype=int64),\n",
       " array([7, 7, 7, ..., 7, 7, 7], dtype=int64))"
      ]
     },
     "execution_count": 4,
     "metadata": {},
     "output_type": "execute_result"
    }
   ],
   "source": [
    "y = data.iloc[:,0].values\n",
    "x = data.iloc[:,1:].values\n",
    "x,y"
   ]
  },
  {
   "cell_type": "markdown",
   "id": "998360fc",
   "metadata": {},
   "source": [
    "### Splitting the dataset into training and testing"
   ]
  },
  {
   "cell_type": "code",
   "execution_count": 5,
   "id": "afeafed6",
   "metadata": {},
   "outputs": [],
   "source": [
    "from sklearn.model_selection import train_test_split"
   ]
  },
  {
   "cell_type": "code",
   "execution_count": 6,
   "id": "8e8aafe7",
   "metadata": {},
   "outputs": [],
   "source": [
    "x_train,x_test,y_train,y_test = train_test_split(x,y,test_size=0.25)"
   ]
  },
  {
   "cell_type": "markdown",
   "id": "cf3d5f96",
   "metadata": {},
   "source": [
    "### Scaling the dataset "
   ]
  },
  {
   "cell_type": "code",
   "execution_count": 7,
   "id": "c603be09",
   "metadata": {},
   "outputs": [],
   "source": [
    "sc = StandardScaler()\n",
    "x_sc = sc.fit_transform(x)\n",
    "x_test_sc = sc.transform(x_test)"
   ]
  },
  {
   "cell_type": "code",
   "execution_count": null,
   "id": "f74565de",
   "metadata": {},
   "outputs": [],
   "source": []
  },
  {
   "cell_type": "code",
   "execution_count": 35,
   "id": "66ec4a52",
   "metadata": {},
   "outputs": [],
   "source": [
    "target_names = ['DoSattack','dataProbing','malitiousControl', 'malitiousOperation','scan','spying', 'wrongSetUp','Normal']"
   ]
  },
  {
   "cell_type": "code",
   "execution_count": 36,
   "id": "98020869",
   "metadata": {},
   "outputs": [
    {
     "data": {
      "text/plain": [
       "['DoSattack',\n",
       " 'dataProbing',\n",
       " 'malitiousControl',\n",
       " 'malitiousOperation',\n",
       " 'scan',\n",
       " 'spying',\n",
       " 'wrongSetUp',\n",
       " 'Normal']"
      ]
     },
     "execution_count": 36,
     "metadata": {},
     "output_type": "execute_result"
    }
   ],
   "source": [
    "target_names"
   ]
  },
  {
   "cell_type": "markdown",
   "id": "12faa44f",
   "metadata": {},
   "source": [
    "# Applying Machine Learning Algorithms"
   ]
  },
  {
   "cell_type": "markdown",
   "id": "8366102a",
   "metadata": {},
   "source": [
    "## Applying Logistic Regression"
   ]
  },
  {
   "cell_type": "code",
   "execution_count": 8,
   "id": "6a86eacc",
   "metadata": {},
   "outputs": [],
   "source": [
    "from sklearn.linear_model import LogisticRegression"
   ]
  },
  {
   "cell_type": "code",
   "execution_count": 26,
   "id": "c47cf469",
   "metadata": {},
   "outputs": [
    {
     "name": "stdout",
     "output_type": "stream",
     "text": [
      "Train Index:  [ 71179  71180  71181 ... 355888 355889 355890] \n",
      "\n",
      "Test Index:  [    0     1     2 ... 71176 71177 71178]\n"
     ]
    },
    {
     "name": "stderr",
     "output_type": "stream",
     "text": [
      "c:\\users\\hebbar\\appdata\\local\\programs\\python\\python39\\lib\\site-packages\\sklearn\\linear_model\\_logistic.py:814: ConvergenceWarning: lbfgs failed to converge (status=1):\n",
      "STOP: TOTAL NO. of ITERATIONS REACHED LIMIT.\n",
      "\n",
      "Increase the number of iterations (max_iter) or scale the data as shown in:\n",
      "    https://scikit-learn.org/stable/modules/preprocessing.html\n",
      "Please also refer to the documentation for alternative solver options:\n",
      "    https://scikit-learn.org/stable/modules/linear_model.html#logistic-regression\n",
      "  n_iter_i = _check_optimize_result(\n"
     ]
    },
    {
     "name": "stdout",
     "output_type": "stream",
     "text": [
      "Train Index:  [     0      1      2 ... 355888 355889 355890] \n",
      "\n",
      "Test Index:  [ 71179  71180  71181 ... 142354 142355 142356]\n"
     ]
    },
    {
     "name": "stderr",
     "output_type": "stream",
     "text": [
      "c:\\users\\hebbar\\appdata\\local\\programs\\python\\python39\\lib\\site-packages\\sklearn\\linear_model\\_logistic.py:814: ConvergenceWarning: lbfgs failed to converge (status=1):\n",
      "STOP: TOTAL NO. of ITERATIONS REACHED LIMIT.\n",
      "\n",
      "Increase the number of iterations (max_iter) or scale the data as shown in:\n",
      "    https://scikit-learn.org/stable/modules/preprocessing.html\n",
      "Please also refer to the documentation for alternative solver options:\n",
      "    https://scikit-learn.org/stable/modules/linear_model.html#logistic-regression\n",
      "  n_iter_i = _check_optimize_result(\n"
     ]
    },
    {
     "name": "stdout",
     "output_type": "stream",
     "text": [
      "Train Index:  [     0      1      2 ... 355888 355889 355890] \n",
      "\n",
      "Test Index:  [142357 142358 142359 ... 213532 213533 213534]\n"
     ]
    },
    {
     "name": "stderr",
     "output_type": "stream",
     "text": [
      "c:\\users\\hebbar\\appdata\\local\\programs\\python\\python39\\lib\\site-packages\\sklearn\\linear_model\\_logistic.py:814: ConvergenceWarning: lbfgs failed to converge (status=1):\n",
      "STOP: TOTAL NO. of ITERATIONS REACHED LIMIT.\n",
      "\n",
      "Increase the number of iterations (max_iter) or scale the data as shown in:\n",
      "    https://scikit-learn.org/stable/modules/preprocessing.html\n",
      "Please also refer to the documentation for alternative solver options:\n",
      "    https://scikit-learn.org/stable/modules/linear_model.html#logistic-regression\n",
      "  n_iter_i = _check_optimize_result(\n"
     ]
    },
    {
     "name": "stdout",
     "output_type": "stream",
     "text": [
      "Train Index:  [     0      1      2 ... 355888 355889 355890] \n",
      "\n",
      "Test Index:  [213535 213536 213537 ... 284710 284711 284712]\n"
     ]
    },
    {
     "name": "stderr",
     "output_type": "stream",
     "text": [
      "c:\\users\\hebbar\\appdata\\local\\programs\\python\\python39\\lib\\site-packages\\sklearn\\linear_model\\_logistic.py:814: ConvergenceWarning: lbfgs failed to converge (status=1):\n",
      "STOP: TOTAL NO. of ITERATIONS REACHED LIMIT.\n",
      "\n",
      "Increase the number of iterations (max_iter) or scale the data as shown in:\n",
      "    https://scikit-learn.org/stable/modules/preprocessing.html\n",
      "Please also refer to the documentation for alternative solver options:\n",
      "    https://scikit-learn.org/stable/modules/linear_model.html#logistic-regression\n",
      "  n_iter_i = _check_optimize_result(\n"
     ]
    },
    {
     "name": "stdout",
     "output_type": "stream",
     "text": [
      "Train Index:  [     0      1      2 ... 284710 284711 284712] \n",
      "\n",
      "Test Index:  [284713 284714 284715 ... 355888 355889 355890]\n",
      "Time elapsed 149.25176858901978\n"
     ]
    },
    {
     "name": "stderr",
     "output_type": "stream",
     "text": [
      "c:\\users\\hebbar\\appdata\\local\\programs\\python\\python39\\lib\\site-packages\\sklearn\\linear_model\\_logistic.py:814: ConvergenceWarning: lbfgs failed to converge (status=1):\n",
      "STOP: TOTAL NO. of ITERATIONS REACHED LIMIT.\n",
      "\n",
      "Increase the number of iterations (max_iter) or scale the data as shown in:\n",
      "    https://scikit-learn.org/stable/modules/preprocessing.html\n",
      "Please also refer to the documentation for alternative solver options:\n",
      "    https://scikit-learn.org/stable/modules/linear_model.html#logistic-regression\n",
      "  n_iter_i = _check_optimize_result(\n"
     ]
    }
   ],
   "source": [
    "\n",
    "lr_training_scores = []\n",
    "lr_testing_scores = []\n",
    "best_lr = LogisticRegression(multi_class = 'multinomial')\n",
    "cv = KFold(n_splits=5, shuffle=False)\n",
    "s = time()\n",
    "for train_index, test_index in cv.split(x_sc):\n",
    "    print(\"Train Index: \", train_index, \"\\n\")\n",
    "    print(\"Test Index: \", test_index)\n",
    "\n",
    "    X_train, X_test, y_train, y_test = x_sc[train_index], x_sc[test_index], y[train_index], y[test_index]\n",
    "    best_lr.fit(X_train, y_train)\n",
    "    lr_training_scores.append(best_lr.score(X_train, y_train))\n",
    "    lr_testing_scores.append(best_lr.score(X_test, y_test))\n",
    "lr_time = time()-s\n",
    "print(\"Time elapsed\",lr_time)"
   ]
  },
  {
   "cell_type": "markdown",
   "id": "8cb4545c",
   "metadata": {},
   "source": [
    "#### training accuracy scores of 5 fold are"
   ]
  },
  {
   "cell_type": "code",
   "execution_count": 27,
   "id": "b8aded6e",
   "metadata": {},
   "outputs": [
    {
     "data": {
      "text/plain": [
       "[0.996564949844053,\n",
       " 0.9881916175236115,\n",
       " 0.9875348157618373,\n",
       " 0.9887430500187908,\n",
       " 0.9873486633908533]"
      ]
     },
     "execution_count": 27,
     "metadata": {},
     "output_type": "execute_result"
    }
   ],
   "source": [
    "lr_training_scores"
   ]
  },
  {
   "cell_type": "markdown",
   "id": "4e40708f",
   "metadata": {},
   "source": [
    "#### testing accuracy scores of 5 fold are"
   ]
  },
  {
   "cell_type": "code",
   "execution_count": 28,
   "id": "2293f9ba",
   "metadata": {},
   "outputs": [
    {
     "data": {
      "text/plain": [
       "[0.9577543938521194,\n",
       " 0.9940009553513726,\n",
       " 0.9964876787771503,\n",
       " 0.97961448762258,\n",
       " 0.9694990025007727]"
      ]
     },
     "execution_count": 28,
     "metadata": {},
     "output_type": "execute_result"
    }
   ],
   "source": [
    "lr_testing_scores"
   ]
  },
  {
   "cell_type": "code",
   "execution_count": 30,
   "id": "5e6daadd",
   "metadata": {},
   "outputs": [
    {
     "name": "stdout",
     "output_type": "stream",
     "text": [
      "Average Accuracy for training data is :  0.9896766193078291\n",
      "Max Accuracy for training data is :  0.996564949844053\n",
      "Average Accuracy for testing data is :  0.9794713036207989\n",
      "Max Accuracy for testing data is :  0.9964876787771503\n"
     ]
    }
   ],
   "source": [
    "lr_avg_train = mean(lr_training_scores)\n",
    "lr_avg_test = mean(lr_testing_scores)\n",
    "lr_max_train = max(lr_training_scores)\n",
    "lr_max_test = max(lr_testing_scores)\n",
    "print(\"Average Accuracy for training data is : \",lr_avg_train)\n",
    "print(\"Max Accuracy for training data is : \",lr_max_train)\n",
    "print(\"Average Accuracy for testing data is : \",lr_avg_test)\n",
    "print(\"Max Accuracy for testing data is : \",lr_max_test)"
   ]
  },
  {
   "cell_type": "markdown",
   "id": "9ff9aa62",
   "metadata": {},
   "source": [
    "## K Nearest Neigbour"
   ]
  },
  {
   "cell_type": "code",
   "execution_count": 37,
   "id": "1ca04441",
   "metadata": {},
   "outputs": [],
   "source": [
    "from sklearn.neighbors import KNeighborsClassifier"
   ]
  },
  {
   "cell_type": "code",
   "execution_count": 38,
   "id": "bec84939",
   "metadata": {},
   "outputs": [
    {
     "name": "stdout",
     "output_type": "stream",
     "text": [
      "Train Index:  [ 71179  71180  71181 ... 355888 355889 355890] \n",
      "\n",
      "Test Index:  [    0     1     2 ... 71176 71177 71178]\n",
      "Train Index:  [     0      1      2 ... 355888 355889 355890] \n",
      "\n",
      "Test Index:  [ 71179  71180  71181 ... 142354 142355 142356]\n",
      "Train Index:  [     0      1      2 ... 355888 355889 355890] \n",
      "\n",
      "Test Index:  [142357 142358 142359 ... 213532 213533 213534]\n",
      "Train Index:  [     0      1      2 ... 355888 355889 355890] \n",
      "\n",
      "Test Index:  [213535 213536 213537 ... 284710 284711 284712]\n",
      "Train Index:  [     0      1      2 ... 284710 284711 284712] \n",
      "\n",
      "Test Index:  [284713 284714 284715 ... 355888 355889 355890]\n",
      "Time elapsed 409.9943652153015\n"
     ]
    }
   ],
   "source": [
    "\n",
    "knn_training_scores = []\n",
    "knn_testing_scores = []\n",
    "best_knn = KNeighborsClassifier(n_neighbors = 9)\n",
    "cv = KFold(n_splits=5, shuffle=False)\n",
    "s = time()\n",
    "for train_index, test_index in cv.split(x_sc):\n",
    "    print(\"Train Index: \", train_index, \"\\n\")\n",
    "    print(\"Test Index: \", test_index)\n",
    "\n",
    "    X_train, X_test, y_train, y_test = x_sc[train_index], x_sc[test_index], y[train_index], y[test_index]\n",
    "    best_knn.fit(X_train, y_train)\n",
    "    knn_training_scores.append(best_knn.score(X_train, y_train))\n",
    "    knn_testing_scores.append(best_knn.score(X_test, y_test))\n",
    "knn_time = time()-s\n",
    "print(\"Time elapsed\",knn_time)"
   ]
  },
  {
   "cell_type": "markdown",
   "id": "ac88c1e0",
   "metadata": {},
   "source": [
    "### training accuracy scores of 5 fold"
   ]
  },
  {
   "cell_type": "code",
   "execution_count": 39,
   "id": "4ae98d27",
   "metadata": {},
   "outputs": [
    {
     "data": {
      "text/plain": [
       "[0.9999824383938858,\n",
       " 0.9929472837559227,\n",
       " 0.9929507960648091,\n",
       " 0.9929613329914686,\n",
       " 0.9929578206825821]"
      ]
     },
     "execution_count": 39,
     "metadata": {},
     "output_type": "execute_result"
    }
   ],
   "source": [
    "knn_training_scores"
   ]
  },
  {
   "cell_type": "markdown",
   "id": "97c00e6a",
   "metadata": {},
   "source": [
    "### training accuracy scores of 5 fold"
   ]
  },
  {
   "cell_type": "code",
   "execution_count": 40,
   "id": "f501b275",
   "metadata": {},
   "outputs": [
    {
     "data": {
      "text/plain": [
       "[0.95879402632799,\n",
       " 0.9964174323526932,\n",
       " 0.9988339093540138,\n",
       " 0.9805417404254123,\n",
       " 0.9708336845654556]"
      ]
     },
     "execution_count": 40,
     "metadata": {},
     "output_type": "execute_result"
    }
   ],
   "source": [
    "knn_testing_scores"
   ]
  },
  {
   "cell_type": "code",
   "execution_count": 43,
   "id": "9c371c9b",
   "metadata": {},
   "outputs": [
    {
     "name": "stdout",
     "output_type": "stream",
     "text": [
      "Average Accuracy for training data is :  0.9943599343777336\n",
      "Max Accuracy for training data is :  0.9999824383938858\n",
      "Average Accuracy for testing data is :  0.981084158605113\n",
      "Max Accuracy for testing data is :  0.9988339093540138\n"
     ]
    }
   ],
   "source": [
    "knn_avg_train = mean(knn_training_scores)\n",
    "knn_avg_test = mean(knn_testing_scores)\n",
    "knn_max_train = max(knn_training_scores)\n",
    "knn_max_test = max(knn_testing_scores)\n",
    "print(\"Average Accuracy for training data is : \",knn_avg_train)\n",
    "print(\"Max Accuracy for training data is : \",knn_max_train)\n",
    "print(\"Average Accuracy for testing data is : \",knn_avg_test)\n",
    "print(\"Max Accuracy for testing data is : \",knn_max_test)"
   ]
  },
  {
   "cell_type": "markdown",
   "id": "91dbe837",
   "metadata": {},
   "source": [
    "## Decision Tree"
   ]
  },
  {
   "cell_type": "code",
   "execution_count": 44,
   "id": "40987410",
   "metadata": {},
   "outputs": [],
   "source": [
    "from sklearn.tree import DecisionTreeClassifier"
   ]
  },
  {
   "cell_type": "code",
   "execution_count": 46,
   "id": "f8d069b6",
   "metadata": {},
   "outputs": [
    {
     "name": "stdout",
     "output_type": "stream",
     "text": [
      "Train Index:  [ 71179  71180  71181 ... 355888 355889 355890] \n",
      "\n",
      "Test Index:  [    0     1     2 ... 71176 71177 71178]\n",
      "Train Index:  [     0      1      2 ... 355888 355889 355890] \n",
      "\n",
      "Test Index:  [ 71179  71180  71181 ... 142354 142355 142356]\n",
      "Train Index:  [     0      1      2 ... 355888 355889 355890] \n",
      "\n",
      "Test Index:  [142357 142358 142359 ... 213532 213533 213534]\n",
      "Train Index:  [     0      1      2 ... 355888 355889 355890] \n",
      "\n",
      "Test Index:  [213535 213536 213537 ... 284710 284711 284712]\n",
      "Train Index:  [     0      1      2 ... 284710 284711 284712] \n",
      "\n",
      "Test Index:  [284713 284714 284715 ... 355888 355889 355890]\n",
      "Time elapsed 4.353114128112793\n"
     ]
    }
   ],
   "source": [
    "\n",
    "dtc_training_scores = []\n",
    "dtc_testing_scores = []\n",
    "best_dtc = DecisionTreeClassifier()\n",
    "cv = KFold(n_splits=5, shuffle=False)\n",
    "s = time()\n",
    "for train_index, test_index in cv.split(x_sc):\n",
    "    print(\"Train Index: \", train_index, \"\\n\")\n",
    "    print(\"Test Index: \", test_index)\n",
    "\n",
    "    X_train, X_test, y_train, y_test = x_sc[train_index], x_sc[test_index], y[train_index], y[test_index]\n",
    "    best_dtc.fit(X_train, y_train)\n",
    "    dtc_training_scores.append(best_dtc.score(X_train, y_train))\n",
    "    dtc_testing_scores.append(best_dtc.score(X_test, y_test))\n",
    "dtc_time = time()-s\n",
    "print(\"Time elapsed\",dtc_time)"
   ]
  },
  {
   "cell_type": "markdown",
   "id": "9699f42d",
   "metadata": {},
   "source": [
    "### training accuracy scores for 5 fold "
   ]
  },
  {
   "cell_type": "code",
   "execution_count": 48,
   "id": "e7add0fe",
   "metadata": {},
   "outputs": [
    {
     "data": {
      "text/plain": [
       "[1.0,\n",
       " 0.9940150256574164,\n",
       " 0.9932317807757285,\n",
       " 0.9938604840664107,\n",
       " 0.9932669038645935]"
      ]
     },
     "execution_count": 48,
     "metadata": {},
     "output_type": "execute_result"
    }
   ],
   "source": [
    "dtc_training_scores"
   ]
  },
  {
   "cell_type": "markdown",
   "id": "2ef5d084",
   "metadata": {},
   "source": [
    "### training accuracy scores of 5 fold"
   ]
  },
  {
   "cell_type": "code",
   "execution_count": 49,
   "id": "4f578259",
   "metadata": {},
   "outputs": [
    {
     "data": {
      "text/plain": [
       "[0.961196420292502,\n",
       " 0.9872994464581752,\n",
       " 0.9938604625024586,\n",
       " 0.9732361122818849,\n",
       " 0.9662255191210768]"
      ]
     },
     "execution_count": 49,
     "metadata": {},
     "output_type": "execute_result"
    }
   ],
   "source": [
    "dtc_testing_scores"
   ]
  },
  {
   "cell_type": "code",
   "execution_count": 50,
   "id": "8b77f825",
   "metadata": {},
   "outputs": [
    {
     "name": "stdout",
     "output_type": "stream",
     "text": [
      "Average Accuracy for training data is :  0.9948748388728298\n",
      "Max Accuracy for training data is :  1.0\n",
      "Average Accuracy for testing data is :  0.9763635921312195\n",
      "Max Accuracy for testing data is :  0.9938604625024586\n"
     ]
    }
   ],
   "source": [
    "dtc_avg_train = mean(dtc_training_scores)\n",
    "dtc_avg_test = mean(dtc_testing_scores)\n",
    "dtc_max_train = max(dtc_training_scores)\n",
    "dtc_max_test = max(dtc_testing_scores)\n",
    "print(\"Average Accuracy for training data is : \",dtc_avg_train)\n",
    "print(\"Max Accuracy for training data is : \",dtc_max_train)\n",
    "print(\"Average Accuracy for testing data is : \",dtc_avg_test)\n",
    "print(\"Max Accuracy for testing data is : \",dtc_max_test)"
   ]
  },
  {
   "cell_type": "markdown",
   "id": "95ad7feb",
   "metadata": {},
   "source": [
    "## Random Forest"
   ]
  },
  {
   "cell_type": "code",
   "execution_count": 51,
   "id": "cab8d400",
   "metadata": {},
   "outputs": [],
   "source": [
    "from sklearn.ensemble import RandomForestClassifier"
   ]
  },
  {
   "cell_type": "code",
   "execution_count": 52,
   "id": "959deb9c",
   "metadata": {},
   "outputs": [
    {
     "name": "stdout",
     "output_type": "stream",
     "text": [
      "Train Index:  [ 71179  71180  71181 ... 355888 355889 355890] \n",
      "\n",
      "Test Index:  [    0     1     2 ... 71176 71177 71178]\n",
      "Train Index:  [     0      1      2 ... 355888 355889 355890] \n",
      "\n",
      "Test Index:  [ 71179  71180  71181 ... 142354 142355 142356]\n",
      "Train Index:  [     0      1      2 ... 355888 355889 355890] \n",
      "\n",
      "Test Index:  [142357 142358 142359 ... 213532 213533 213534]\n",
      "Train Index:  [     0      1      2 ... 355888 355889 355890] \n",
      "\n",
      "Test Index:  [213535 213536 213537 ... 284710 284711 284712]\n",
      "Train Index:  [     0      1      2 ... 284710 284711 284712] \n",
      "\n",
      "Test Index:  [284713 284714 284715 ... 355888 355889 355890]\n",
      "Time elapsed 222.89944911003113\n"
     ]
    }
   ],
   "source": [
    "\n",
    "rf_training_scores = []\n",
    "rf_testing_scores = []\n",
    "best_rf = RandomForestClassifier()\n",
    "cv = KFold(n_splits=5, shuffle=False)\n",
    "s = time()\n",
    "for train_index, test_index in cv.split(x_sc):\n",
    "    print(\"Train Index: \", train_index, \"\\n\")\n",
    "    print(\"Test Index: \", test_index)\n",
    "\n",
    "    X_train, X_test, y_train, y_test = x_sc[train_index], x_sc[test_index], y[train_index], y[test_index]\n",
    "    best_rf.fit(X_train, y_train)\n",
    "    rf_training_scores.append(best_rf.score(X_train, y_train))\n",
    "    rf_testing_scores.append(best_rf.score(X_test, y_test))\n",
    "rf_time = time()-s\n",
    "print(\"Time elapsed\",rf_time)"
   ]
  },
  {
   "cell_type": "markdown",
   "id": "2565f069",
   "metadata": {},
   "source": [
    "### training accuracy scores for 5 fold "
   ]
  },
  {
   "cell_type": "code",
   "execution_count": 53,
   "id": "09c90962",
   "metadata": {},
   "outputs": [
    {
     "data": {
      "text/plain": [
       "[1.0,\n",
       " 0.9940150256574164,\n",
       " 0.9932317807757285,\n",
       " 0.9938604840664107,\n",
       " 0.9932669038645935]"
      ]
     },
     "execution_count": 53,
     "metadata": {},
     "output_type": "execute_result"
    }
   ],
   "source": [
    "rf_training_scores"
   ]
  },
  {
   "cell_type": "markdown",
   "id": "0d1a476d",
   "metadata": {},
   "source": [
    "### training accuracy scores of 5 fold"
   ]
  },
  {
   "cell_type": "code",
   "execution_count": 54,
   "id": "df362932",
   "metadata": {},
   "outputs": [
    {
     "data": {
      "text/plain": [
       "[0.9589626153781312,\n",
       " 0.9865126865042569,\n",
       " 0.9938604625024586,\n",
       " 0.9730815701480795,\n",
       " 0.9662536176908595]"
      ]
     },
     "execution_count": 54,
     "metadata": {},
     "output_type": "execute_result"
    }
   ],
   "source": [
    "rf_testing_scores"
   ]
  },
  {
   "cell_type": "code",
   "execution_count": 55,
   "id": "2b4b7bfb",
   "metadata": {},
   "outputs": [
    {
     "name": "stdout",
     "output_type": "stream",
     "text": [
      "Average Accuracy for training data is :  0.9948748388728298\n",
      "Max Accuracy for training data is :  1.0\n",
      "Average Accuracy for testing data is :  0.9757341904447572\n",
      "Max Accuracy for testing data is :  0.9938604625024586\n"
     ]
    }
   ],
   "source": [
    "rf_avg_train = mean(rf_training_scores)\n",
    "rf_avg_test = mean(rf_testing_scores)\n",
    "rf_max_train = max(rf_training_scores)\n",
    "rf_max_test = max(rf_testing_scores)\n",
    "print(\"Average Accuracy for training data is : \",rf_avg_train)\n",
    "print(\"Max Accuracy for training data is : \",rf_max_train)\n",
    "print(\"Average Accuracy for testing data is : \",rf_avg_test)\n",
    "print(\"Max Accuracy for testing data is : \",rf_max_test)"
   ]
  },
  {
   "cell_type": "markdown",
   "id": "f23ac63a",
   "metadata": {},
   "source": [
    "## Naive Bayes"
   ]
  },
  {
   "cell_type": "code",
   "execution_count": 56,
   "id": "4ff51ae6",
   "metadata": {},
   "outputs": [],
   "source": [
    "from sklearn.naive_bayes import MultinomialNB"
   ]
  },
  {
   "cell_type": "code",
   "execution_count": 57,
   "id": "a4a81acd",
   "metadata": {},
   "outputs": [
    {
     "name": "stdout",
     "output_type": "stream",
     "text": [
      "Train Index:  [ 71179  71180  71181 ... 355888 355889 355890] \n",
      "\n",
      "Test Index:  [    0     1     2 ... 71176 71177 71178]\n"
     ]
    },
    {
     "ename": "ValueError",
     "evalue": "Negative values in data passed to MultinomialNB (input X)",
     "output_type": "error",
     "traceback": [
      "\u001b[1;31m---------------------------------------------------------------------------\u001b[0m",
      "\u001b[1;31mValueError\u001b[0m                                Traceback (most recent call last)",
      "\u001b[1;32m~\\AppData\\Local\\Temp/ipykernel_3876/3471102605.py\u001b[0m in \u001b[0;36m<module>\u001b[1;34m\u001b[0m\n\u001b[0;32m      9\u001b[0m \u001b[1;33m\u001b[0m\u001b[0m\n\u001b[0;32m     10\u001b[0m     \u001b[0mX_train\u001b[0m\u001b[1;33m,\u001b[0m \u001b[0mX_test\u001b[0m\u001b[1;33m,\u001b[0m \u001b[0my_train\u001b[0m\u001b[1;33m,\u001b[0m \u001b[0my_test\u001b[0m \u001b[1;33m=\u001b[0m \u001b[0mx_sc\u001b[0m\u001b[1;33m[\u001b[0m\u001b[0mtrain_index\u001b[0m\u001b[1;33m]\u001b[0m\u001b[1;33m,\u001b[0m \u001b[0mx_sc\u001b[0m\u001b[1;33m[\u001b[0m\u001b[0mtest_index\u001b[0m\u001b[1;33m]\u001b[0m\u001b[1;33m,\u001b[0m \u001b[0my\u001b[0m\u001b[1;33m[\u001b[0m\u001b[0mtrain_index\u001b[0m\u001b[1;33m]\u001b[0m\u001b[1;33m,\u001b[0m \u001b[0my\u001b[0m\u001b[1;33m[\u001b[0m\u001b[0mtest_index\u001b[0m\u001b[1;33m]\u001b[0m\u001b[1;33m\u001b[0m\u001b[1;33m\u001b[0m\u001b[0m\n\u001b[1;32m---> 11\u001b[1;33m     \u001b[0mbest_nb\u001b[0m\u001b[1;33m.\u001b[0m\u001b[0mfit\u001b[0m\u001b[1;33m(\u001b[0m\u001b[0mX_train\u001b[0m\u001b[1;33m,\u001b[0m \u001b[0my_train\u001b[0m\u001b[1;33m)\u001b[0m\u001b[1;33m\u001b[0m\u001b[1;33m\u001b[0m\u001b[0m\n\u001b[0m\u001b[0;32m     12\u001b[0m     \u001b[0mnb_training_scores\u001b[0m\u001b[1;33m.\u001b[0m\u001b[0mappend\u001b[0m\u001b[1;33m(\u001b[0m\u001b[0mbest_nb\u001b[0m\u001b[1;33m.\u001b[0m\u001b[0mscore\u001b[0m\u001b[1;33m(\u001b[0m\u001b[0mX_train\u001b[0m\u001b[1;33m,\u001b[0m \u001b[0my_train\u001b[0m\u001b[1;33m)\u001b[0m\u001b[1;33m)\u001b[0m\u001b[1;33m\u001b[0m\u001b[1;33m\u001b[0m\u001b[0m\n\u001b[0;32m     13\u001b[0m     \u001b[0mnb_testing_scores\u001b[0m\u001b[1;33m.\u001b[0m\u001b[0mappend\u001b[0m\u001b[1;33m(\u001b[0m\u001b[0mbest_nb\u001b[0m\u001b[1;33m.\u001b[0m\u001b[0mscore\u001b[0m\u001b[1;33m(\u001b[0m\u001b[0mX_test\u001b[0m\u001b[1;33m,\u001b[0m \u001b[0my_test\u001b[0m\u001b[1;33m)\u001b[0m\u001b[1;33m)\u001b[0m\u001b[1;33m\u001b[0m\u001b[1;33m\u001b[0m\u001b[0m\n",
      "\u001b[1;32mc:\\users\\hebbar\\appdata\\local\\programs\\python\\python39\\lib\\site-packages\\sklearn\\naive_bayes.py\u001b[0m in \u001b[0;36mfit\u001b[1;34m(self, X, y, sample_weight)\u001b[0m\n\u001b[0;32m    688\u001b[0m         \u001b[0mn_classes\u001b[0m \u001b[1;33m=\u001b[0m \u001b[0mY\u001b[0m\u001b[1;33m.\u001b[0m\u001b[0mshape\u001b[0m\u001b[1;33m[\u001b[0m\u001b[1;36m1\u001b[0m\u001b[1;33m]\u001b[0m\u001b[1;33m\u001b[0m\u001b[1;33m\u001b[0m\u001b[0m\n\u001b[0;32m    689\u001b[0m         \u001b[0mself\u001b[0m\u001b[1;33m.\u001b[0m\u001b[0m_init_counters\u001b[0m\u001b[1;33m(\u001b[0m\u001b[0mn_classes\u001b[0m\u001b[1;33m,\u001b[0m \u001b[0mn_features\u001b[0m\u001b[1;33m)\u001b[0m\u001b[1;33m\u001b[0m\u001b[1;33m\u001b[0m\u001b[0m\n\u001b[1;32m--> 690\u001b[1;33m         \u001b[0mself\u001b[0m\u001b[1;33m.\u001b[0m\u001b[0m_count\u001b[0m\u001b[1;33m(\u001b[0m\u001b[0mX\u001b[0m\u001b[1;33m,\u001b[0m \u001b[0mY\u001b[0m\u001b[1;33m)\u001b[0m\u001b[1;33m\u001b[0m\u001b[1;33m\u001b[0m\u001b[0m\n\u001b[0m\u001b[0;32m    691\u001b[0m         \u001b[0malpha\u001b[0m \u001b[1;33m=\u001b[0m \u001b[0mself\u001b[0m\u001b[1;33m.\u001b[0m\u001b[0m_check_alpha\u001b[0m\u001b[1;33m(\u001b[0m\u001b[1;33m)\u001b[0m\u001b[1;33m\u001b[0m\u001b[1;33m\u001b[0m\u001b[0m\n\u001b[0;32m    692\u001b[0m         \u001b[0mself\u001b[0m\u001b[1;33m.\u001b[0m\u001b[0m_update_feature_log_prob\u001b[0m\u001b[1;33m(\u001b[0m\u001b[0malpha\u001b[0m\u001b[1;33m)\u001b[0m\u001b[1;33m\u001b[0m\u001b[1;33m\u001b[0m\u001b[0m\n",
      "\u001b[1;32mc:\\users\\hebbar\\appdata\\local\\programs\\python\\python39\\lib\\site-packages\\sklearn\\naive_bayes.py\u001b[0m in \u001b[0;36m_count\u001b[1;34m(self, X, Y)\u001b[0m\n\u001b[0;32m    861\u001b[0m     \u001b[1;32mdef\u001b[0m \u001b[0m_count\u001b[0m\u001b[1;33m(\u001b[0m\u001b[0mself\u001b[0m\u001b[1;33m,\u001b[0m \u001b[0mX\u001b[0m\u001b[1;33m,\u001b[0m \u001b[0mY\u001b[0m\u001b[1;33m)\u001b[0m\u001b[1;33m:\u001b[0m\u001b[1;33m\u001b[0m\u001b[1;33m\u001b[0m\u001b[0m\n\u001b[0;32m    862\u001b[0m         \u001b[1;34m\"\"\"Count and smooth feature occurrences.\"\"\"\u001b[0m\u001b[1;33m\u001b[0m\u001b[1;33m\u001b[0m\u001b[0m\n\u001b[1;32m--> 863\u001b[1;33m         \u001b[0mcheck_non_negative\u001b[0m\u001b[1;33m(\u001b[0m\u001b[0mX\u001b[0m\u001b[1;33m,\u001b[0m \u001b[1;34m\"MultinomialNB (input X)\"\u001b[0m\u001b[1;33m)\u001b[0m\u001b[1;33m\u001b[0m\u001b[1;33m\u001b[0m\u001b[0m\n\u001b[0m\u001b[0;32m    864\u001b[0m         \u001b[0mself\u001b[0m\u001b[1;33m.\u001b[0m\u001b[0mfeature_count_\u001b[0m \u001b[1;33m+=\u001b[0m \u001b[0msafe_sparse_dot\u001b[0m\u001b[1;33m(\u001b[0m\u001b[0mY\u001b[0m\u001b[1;33m.\u001b[0m\u001b[0mT\u001b[0m\u001b[1;33m,\u001b[0m \u001b[0mX\u001b[0m\u001b[1;33m)\u001b[0m\u001b[1;33m\u001b[0m\u001b[1;33m\u001b[0m\u001b[0m\n\u001b[0;32m    865\u001b[0m         \u001b[0mself\u001b[0m\u001b[1;33m.\u001b[0m\u001b[0mclass_count_\u001b[0m \u001b[1;33m+=\u001b[0m \u001b[0mY\u001b[0m\u001b[1;33m.\u001b[0m\u001b[0msum\u001b[0m\u001b[1;33m(\u001b[0m\u001b[0maxis\u001b[0m\u001b[1;33m=\u001b[0m\u001b[1;36m0\u001b[0m\u001b[1;33m)\u001b[0m\u001b[1;33m\u001b[0m\u001b[1;33m\u001b[0m\u001b[0m\n",
      "\u001b[1;32mc:\\users\\hebbar\\appdata\\local\\programs\\python\\python39\\lib\\site-packages\\sklearn\\utils\\validation.py\u001b[0m in \u001b[0;36mcheck_non_negative\u001b[1;34m(X, whom)\u001b[0m\n\u001b[0;32m   1233\u001b[0m \u001b[1;33m\u001b[0m\u001b[0m\n\u001b[0;32m   1234\u001b[0m     \u001b[1;32mif\u001b[0m \u001b[0mX_min\u001b[0m \u001b[1;33m<\u001b[0m \u001b[1;36m0\u001b[0m\u001b[1;33m:\u001b[0m\u001b[1;33m\u001b[0m\u001b[1;33m\u001b[0m\u001b[0m\n\u001b[1;32m-> 1235\u001b[1;33m         \u001b[1;32mraise\u001b[0m \u001b[0mValueError\u001b[0m\u001b[1;33m(\u001b[0m\u001b[1;34m\"Negative values in data passed to %s\"\u001b[0m \u001b[1;33m%\u001b[0m \u001b[0mwhom\u001b[0m\u001b[1;33m)\u001b[0m\u001b[1;33m\u001b[0m\u001b[1;33m\u001b[0m\u001b[0m\n\u001b[0m\u001b[0;32m   1236\u001b[0m \u001b[1;33m\u001b[0m\u001b[0m\n\u001b[0;32m   1237\u001b[0m \u001b[1;33m\u001b[0m\u001b[0m\n",
      "\u001b[1;31mValueError\u001b[0m: Negative values in data passed to MultinomialNB (input X)"
     ]
    }
   ],
   "source": [
    "\n",
    "nb_training_scores = []\n",
    "nb_testing_scores = []\n",
    "best_nb = MultinomialNB()\n",
    "cv = KFold(n_splits=5, shuffle=False)\n",
    "s = time()\n",
    "for train_index, test_index in cv.split(x_sc):\n",
    "    print(\"Train Index: \", train_index, \"\\n\")\n",
    "    print(\"Test Index: \", test_index)\n",
    "\n",
    "    X_train, X_test, y_train, y_test = x_sc[train_index], x_sc[test_index], y[train_index], y[test_index]\n",
    "    best_nb.fit(X_train, y_train)\n",
    "    nb_training_scores.append(best_nb.score(X_train, y_train))\n",
    "    nb_testing_scores.append(best_nb.score(X_test, y_test))\n",
    "nb_time = time()-s\n",
    "print(\"Time elapsed\",nb_time)"
   ]
  },
  {
   "cell_type": "markdown",
   "id": "43da8875",
   "metadata": {},
   "source": [
    "### training accuracy scores for 5 fold "
   ]
  },
  {
   "cell_type": "code",
   "execution_count": null,
   "id": "f942a9b0",
   "metadata": {},
   "outputs": [],
   "source": [
    "nb_training_scores"
   ]
  },
  {
   "cell_type": "markdown",
   "id": "30c0c355",
   "metadata": {},
   "source": [
    "### training accuracy scores of 5 fold"
   ]
  },
  {
   "cell_type": "code",
   "execution_count": null,
   "id": "77bfd65f",
   "metadata": {},
   "outputs": [],
   "source": [
    "nb_testing_scores"
   ]
  },
  {
   "cell_type": "code",
   "execution_count": null,
   "id": "db3db3be",
   "metadata": {},
   "outputs": [],
   "source": [
    "nb_avg_train = mean(nb_training_scores)\n",
    "nb_avg_test = mean(nb_testing_scores)\n",
    "nb_max_train = max(nb_training_scores)\n",
    "nb_max_test = max(nb_testing_scores)\n",
    "print(\"Average Accuracy for training data is : \",nb_avg_train)\n",
    "print(\"Max Accuracy for training data is : \",nb_max_train)\n",
    "print(\"Average Accuracy for testing data is : \",nb_avg_test)\n",
    "print(\"Max Accuracy for testing data is : \",nb_max_test)"
   ]
  },
  {
   "cell_type": "markdown",
   "id": "d456cf99",
   "metadata": {},
   "source": [
    "## Support Vector Machine"
   ]
  },
  {
   "cell_type": "code",
   "execution_count": 58,
   "id": "b7f9c10e",
   "metadata": {},
   "outputs": [],
   "source": [
    "from sklearn.svm import SVC"
   ]
  },
  {
   "cell_type": "code",
   "execution_count": null,
   "id": "5653e5fe",
   "metadata": {},
   "outputs": [
    {
     "name": "stdout",
     "output_type": "stream",
     "text": [
      "Train Index:  [ 71179  71180  71181 ... 355888 355889 355890] \n",
      "\n",
      "Test Index:  [    0     1     2 ... 71176 71177 71178]\n"
     ]
    }
   ],
   "source": [
    "\n",
    "svc_training_scores = []\n",
    "svc_testing_scores = []\n",
    "best_svc = SVC()\n",
    "cv = KFold(n_splits=5, shuffle=False)\n",
    "s = time()\n",
    "for train_index, test_index in cv.split(x_sc):\n",
    "    print(\"Train Index: \", train_index, \"\\n\")\n",
    "    print(\"Test Index: \", test_index)\n",
    "\n",
    "    X_train, X_test, y_train, y_test = x_sc[train_index], x_sc[test_index], y[train_index], y[test_index]\n",
    "    best_svc.fit(X_train, y_train)\n",
    "    svc_training_scores.append(best_svc.score(X_train, y_train))\n",
    "    svc_testing_scores.append(best_svc.score(X_test, y_test))\n",
    "svc_time = time()-s\n",
    "print(\"Time elapsed\",svc_time)"
   ]
  },
  {
   "cell_type": "markdown",
   "id": "66e67b57",
   "metadata": {},
   "source": [
    "### training accuracy scores for 5 fold "
   ]
  },
  {
   "cell_type": "code",
   "execution_count": null,
   "id": "f2e8427e",
   "metadata": {},
   "outputs": [],
   "source": [
    "svc_training_scores"
   ]
  },
  {
   "cell_type": "markdown",
   "id": "a2512035",
   "metadata": {},
   "source": [
    "### training accuracy scores of 5 fold"
   ]
  },
  {
   "cell_type": "code",
   "execution_count": null,
   "id": "1356cb94",
   "metadata": {},
   "outputs": [],
   "source": [
    "svc_testing_scores"
   ]
  },
  {
   "cell_type": "code",
   "execution_count": null,
   "id": "bb59fbbd",
   "metadata": {},
   "outputs": [],
   "source": [
    "svc_avg_train = mean(svc_training_scores)\n",
    "svc_avg_test = mean(svc_testing_scores)\n",
    "svc_max_train = max(svc_training_scores)\n",
    "svc_max_test = max(svc_testing_scores)\n",
    "print(\"Average Accuracy for training data is : \",svc_avg_train)\n",
    "print(\"Max Accuracy for training data is : \",svc_max_train)\n",
    "print(\"Average Accuracy for testing data is : \",svc_avg_test)\n",
    "print(\"Max Accuracy for testing data is : \",svc_max_test)"
   ]
  },
  {
   "cell_type": "markdown",
   "id": "a557b88f",
   "metadata": {},
   "source": [
    "## Artificial Neural Network"
   ]
  },
  {
   "cell_type": "code",
   "execution_count": null,
   "id": "9adaac25",
   "metadata": {},
   "outputs": [],
   "source": []
  },
  {
   "cell_type": "code",
   "execution_count": null,
   "id": "307efd4d",
   "metadata": {},
   "outputs": [],
   "source": []
  },
  {
   "cell_type": "markdown",
   "id": "2d7ec862",
   "metadata": {},
   "source": [
    "### training accuracy scores for 5 fold "
   ]
  },
  {
   "cell_type": "code",
   "execution_count": null,
   "id": "9a46ca6d",
   "metadata": {},
   "outputs": [],
   "source": []
  },
  {
   "cell_type": "markdown",
   "id": "b0870ce8",
   "metadata": {},
   "source": [
    "### training accuracy scores of 5 fold"
   ]
  },
  {
   "cell_type": "code",
   "execution_count": null,
   "id": "bfd0ef27",
   "metadata": {},
   "outputs": [],
   "source": []
  },
  {
   "cell_type": "code",
   "execution_count": null,
   "id": "639d4589",
   "metadata": {},
   "outputs": [],
   "source": []
  },
  {
   "cell_type": "code",
   "execution_count": null,
   "id": "91304d64",
   "metadata": {},
   "outputs": [],
   "source": []
  },
  {
   "cell_type": "code",
   "execution_count": null,
   "id": "08e3acd7",
   "metadata": {},
   "outputs": [],
   "source": []
  },
  {
   "cell_type": "code",
   "execution_count": null,
   "id": "a37daeea",
   "metadata": {},
   "outputs": [],
   "source": []
  }
 ],
 "metadata": {
  "kernelspec": {
   "display_name": "Python 3 (ipykernel)",
   "language": "python",
   "name": "python3"
  },
  "language_info": {
   "codemirror_mode": {
    "name": "ipython",
    "version": 3
   },
   "file_extension": ".py",
   "mimetype": "text/x-python",
   "name": "python",
   "nbconvert_exporter": "python",
   "pygments_lexer": "ipython3",
   "version": "3.9.6"
  }
 },
 "nbformat": 4,
 "nbformat_minor": 5
}
