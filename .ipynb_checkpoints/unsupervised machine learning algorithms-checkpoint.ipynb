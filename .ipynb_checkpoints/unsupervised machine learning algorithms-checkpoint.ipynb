{
 "cells": [
  {
   "cell_type": "code",
   "execution_count": null,
   "id": "5a1a8003",
   "metadata": {},
   "outputs": [],
   "source": []
  },
  {
   "cell_type": "code",
   "execution_count": 4,
   "id": "7bfcfe58",
   "metadata": {},
   "outputs": [],
   "source": [
    "import pandas as pd\n",
    "import numpy as np\n",
    "from sklearn.cluster import KMeans"
   ]
  },
  {
   "cell_type": "code",
   "execution_count": null,
   "id": "80bae90a",
   "metadata": {},
   "outputs": [],
   "source": []
  },
  {
   "cell_type": "code",
   "execution_count": 3,
   "id": "2c6263c3",
   "metadata": {},
   "outputs": [
    {
     "data": {
      "text/html": [
       "<div>\n",
       "<style scoped>\n",
       "    .dataframe tbody tr th:only-of-type {\n",
       "        vertical-align: middle;\n",
       "    }\n",
       "\n",
       "    .dataframe tbody tr th {\n",
       "        vertical-align: top;\n",
       "    }\n",
       "\n",
       "    .dataframe thead th {\n",
       "        text-align: right;\n",
       "    }\n",
       "</style>\n",
       "<table border=\"1\" class=\"dataframe\">\n",
       "  <thead>\n",
       "    <tr style=\"text-align: right;\">\n",
       "      <th></th>\n",
       "      <th>sourceID</th>\n",
       "      <th>sourceAddress</th>\n",
       "      <th>sourceType</th>\n",
       "      <th>sourceLocation</th>\n",
       "      <th>destinationServiceAddress</th>\n",
       "      <th>destinationServiceType</th>\n",
       "      <th>destinationLocation</th>\n",
       "      <th>accessedNodeAddress</th>\n",
       "      <th>accessedNodeType</th>\n",
       "      <th>operation</th>\n",
       "      <th>value</th>\n",
       "      <th>timestamp</th>\n",
       "      <th>normality</th>\n",
       "    </tr>\n",
       "  </thead>\n",
       "  <tbody>\n",
       "    <tr>\n",
       "      <th>0</th>\n",
       "      <td>lightcontrol2</td>\n",
       "      <td>/agent2/lightcontrol2</td>\n",
       "      <td>/lightControler</td>\n",
       "      <td>BedroomParents</td>\n",
       "      <td>/agent2/lightcontrol2</td>\n",
       "      <td>/lightControler</td>\n",
       "      <td>BedroomParents</td>\n",
       "      <td>/agent2/lightcontrol2</td>\n",
       "      <td>/lightControler</td>\n",
       "      <td>registerService</td>\n",
       "      <td>none</td>\n",
       "      <td>1520031600000</td>\n",
       "      <td>normal</td>\n",
       "    </tr>\n",
       "    <tr>\n",
       "      <th>1</th>\n",
       "      <td>lightcontrol3</td>\n",
       "      <td>/agent3/lightcontrol3</td>\n",
       "      <td>/lightControler</td>\n",
       "      <td>Dinningroom</td>\n",
       "      <td>/agent3/lightcontrol3</td>\n",
       "      <td>/lightControler</td>\n",
       "      <td>Dinningroom</td>\n",
       "      <td>/agent3/lightcontrol3</td>\n",
       "      <td>/lightControler</td>\n",
       "      <td>registerService</td>\n",
       "      <td>none</td>\n",
       "      <td>1520031603269</td>\n",
       "      <td>normal</td>\n",
       "    </tr>\n",
       "    <tr>\n",
       "      <th>2</th>\n",
       "      <td>lightcontrol1</td>\n",
       "      <td>/agent1/lightcontrol1</td>\n",
       "      <td>/lightControler</td>\n",
       "      <td>BedroomChildren</td>\n",
       "      <td>/agent1/lightcontrol1</td>\n",
       "      <td>/lightControler</td>\n",
       "      <td>BedroomChildren</td>\n",
       "      <td>/agent1/lightcontrol1</td>\n",
       "      <td>/lightControler</td>\n",
       "      <td>registerService</td>\n",
       "      <td>none</td>\n",
       "      <td>1520031603279</td>\n",
       "      <td>normal</td>\n",
       "    </tr>\n",
       "    <tr>\n",
       "      <th>3</th>\n",
       "      <td>lightcontrol4</td>\n",
       "      <td>/agent4/lightcontrol4</td>\n",
       "      <td>/lightControler</td>\n",
       "      <td>Kitchen</td>\n",
       "      <td>/agent4/lightcontrol4</td>\n",
       "      <td>/lightControler</td>\n",
       "      <td>Kitchen</td>\n",
       "      <td>/agent4/lightcontrol4</td>\n",
       "      <td>/lightControler</td>\n",
       "      <td>registerService</td>\n",
       "      <td>none</td>\n",
       "      <td>1520031603290</td>\n",
       "      <td>normal</td>\n",
       "    </tr>\n",
       "    <tr>\n",
       "      <th>4</th>\n",
       "      <td>movement4</td>\n",
       "      <td>/agent4/movement4</td>\n",
       "      <td>/movementSensor</td>\n",
       "      <td>Kitchen</td>\n",
       "      <td>/agent4/movement4</td>\n",
       "      <td>/movementSensor</td>\n",
       "      <td>Kitchen</td>\n",
       "      <td>/agent4/movement4</td>\n",
       "      <td>/movementSensor</td>\n",
       "      <td>registerService</td>\n",
       "      <td>none</td>\n",
       "      <td>1520031603464</td>\n",
       "      <td>normal</td>\n",
       "    </tr>\n",
       "    <tr>\n",
       "      <th>...</th>\n",
       "      <td>...</td>\n",
       "      <td>...</td>\n",
       "      <td>...</td>\n",
       "      <td>...</td>\n",
       "      <td>...</td>\n",
       "      <td>...</td>\n",
       "      <td>...</td>\n",
       "      <td>...</td>\n",
       "      <td>...</td>\n",
       "      <td>...</td>\n",
       "      <td>...</td>\n",
       "      <td>...</td>\n",
       "      <td>...</td>\n",
       "    </tr>\n",
       "    <tr>\n",
       "      <th>357947</th>\n",
       "      <td>lightcontrol23</td>\n",
       "      <td>/agent23/lightcontrol23</td>\n",
       "      <td>/lightControler</td>\n",
       "      <td>room_4</td>\n",
       "      <td>/agent23/tempin23</td>\n",
       "      <td>/sensorService</td>\n",
       "      <td>room_4</td>\n",
       "      <td>/agent23/tempin23</td>\n",
       "      <td>/sensorService</td>\n",
       "      <td>read</td>\n",
       "      <td>20.3479</td>\n",
       "      <td>1520117997001</td>\n",
       "      <td>normal</td>\n",
       "    </tr>\n",
       "    <tr>\n",
       "      <th>357948</th>\n",
       "      <td>washingmachine2</td>\n",
       "      <td>/agent11/washingmachine2</td>\n",
       "      <td>/washingService</td>\n",
       "      <td>Watterroom</td>\n",
       "      <td>/agent11/battery4</td>\n",
       "      <td>/batteryService</td>\n",
       "      <td>Watterroom</td>\n",
       "      <td>/agent11/battery4/charge</td>\n",
       "      <td>/basic/number</td>\n",
       "      <td>read</td>\n",
       "      <td>9</td>\n",
       "      <td>1520117997339</td>\n",
       "      <td>normal</td>\n",
       "    </tr>\n",
       "    <tr>\n",
       "      <th>357949</th>\n",
       "      <td>washingmachine2</td>\n",
       "      <td>/agent11/washingmachine2</td>\n",
       "      <td>/washingService</td>\n",
       "      <td>Watterroom</td>\n",
       "      <td>/agent11/battery4</td>\n",
       "      <td>/batteryService</td>\n",
       "      <td>Watterroom</td>\n",
       "      <td>/agent11/battery4/charging</td>\n",
       "      <td>/basic/text</td>\n",
       "      <td>read</td>\n",
       "      <td>true</td>\n",
       "      <td>1520117997401</td>\n",
       "      <td>normal</td>\n",
       "    </tr>\n",
       "    <tr>\n",
       "      <th>357950</th>\n",
       "      <td>lightcontrol28</td>\n",
       "      <td>/agent28/lightcontrol28</td>\n",
       "      <td>/lightControler</td>\n",
       "      <td>room_9</td>\n",
       "      <td>/agent28/movement28</td>\n",
       "      <td>/movementSensor</td>\n",
       "      <td>room_9</td>\n",
       "      <td>/agent28/movement28/movement</td>\n",
       "      <td>/derived/boolean</td>\n",
       "      <td>read</td>\n",
       "      <td>0</td>\n",
       "      <td>1520117998907</td>\n",
       "      <td>normal</td>\n",
       "    </tr>\n",
       "    <tr>\n",
       "      <th>357951</th>\n",
       "      <td>lightcontrol28</td>\n",
       "      <td>/agent28/lightcontrol28</td>\n",
       "      <td>/lightControler</td>\n",
       "      <td>room_9</td>\n",
       "      <td>/agent28/tempin28</td>\n",
       "      <td>/sensorService</td>\n",
       "      <td>room_9</td>\n",
       "      <td>/agent28/tempin28</td>\n",
       "      <td>/sensorService</td>\n",
       "      <td>read</td>\n",
       "      <td>20.4131</td>\n",
       "      <td>1520117999000</td>\n",
       "      <td>normal</td>\n",
       "    </tr>\n",
       "  </tbody>\n",
       "</table>\n",
       "<p>357952 rows × 13 columns</p>\n",
       "</div>"
      ],
      "text/plain": [
       "               sourceID             sourceAddress       sourceType  \\\n",
       "0         lightcontrol2     /agent2/lightcontrol2  /lightControler   \n",
       "1         lightcontrol3     /agent3/lightcontrol3  /lightControler   \n",
       "2         lightcontrol1     /agent1/lightcontrol1  /lightControler   \n",
       "3         lightcontrol4     /agent4/lightcontrol4  /lightControler   \n",
       "4             movement4         /agent4/movement4  /movementSensor   \n",
       "...                 ...                       ...              ...   \n",
       "357947   lightcontrol23   /agent23/lightcontrol23  /lightControler   \n",
       "357948  washingmachine2  /agent11/washingmachine2  /washingService   \n",
       "357949  washingmachine2  /agent11/washingmachine2  /washingService   \n",
       "357950   lightcontrol28   /agent28/lightcontrol28  /lightControler   \n",
       "357951   lightcontrol28   /agent28/lightcontrol28  /lightControler   \n",
       "\n",
       "         sourceLocation destinationServiceAddress destinationServiceType  \\\n",
       "0        BedroomParents     /agent2/lightcontrol2        /lightControler   \n",
       "1           Dinningroom     /agent3/lightcontrol3        /lightControler   \n",
       "2       BedroomChildren     /agent1/lightcontrol1        /lightControler   \n",
       "3               Kitchen     /agent4/lightcontrol4        /lightControler   \n",
       "4               Kitchen         /agent4/movement4        /movementSensor   \n",
       "...                 ...                       ...                    ...   \n",
       "357947           room_4         /agent23/tempin23         /sensorService   \n",
       "357948       Watterroom         /agent11/battery4        /batteryService   \n",
       "357949       Watterroom         /agent11/battery4        /batteryService   \n",
       "357950           room_9       /agent28/movement28        /movementSensor   \n",
       "357951           room_9         /agent28/tempin28         /sensorService   \n",
       "\n",
       "       destinationLocation           accessedNodeAddress  accessedNodeType  \\\n",
       "0           BedroomParents         /agent2/lightcontrol2   /lightControler   \n",
       "1              Dinningroom         /agent3/lightcontrol3   /lightControler   \n",
       "2          BedroomChildren         /agent1/lightcontrol1   /lightControler   \n",
       "3                  Kitchen         /agent4/lightcontrol4   /lightControler   \n",
       "4                  Kitchen             /agent4/movement4   /movementSensor   \n",
       "...                    ...                           ...               ...   \n",
       "357947              room_4             /agent23/tempin23    /sensorService   \n",
       "357948          Watterroom      /agent11/battery4/charge     /basic/number   \n",
       "357949          Watterroom    /agent11/battery4/charging       /basic/text   \n",
       "357950              room_9  /agent28/movement28/movement  /derived/boolean   \n",
       "357951              room_9             /agent28/tempin28    /sensorService   \n",
       "\n",
       "              operation    value      timestamp normality  \n",
       "0       registerService     none  1520031600000    normal  \n",
       "1       registerService     none  1520031603269    normal  \n",
       "2       registerService     none  1520031603279    normal  \n",
       "3       registerService     none  1520031603290    normal  \n",
       "4       registerService     none  1520031603464    normal  \n",
       "...                 ...      ...            ...       ...  \n",
       "357947             read  20.3479  1520117997001    normal  \n",
       "357948             read        9  1520117997339    normal  \n",
       "357949             read     true  1520117997401    normal  \n",
       "357950             read        0  1520117998907    normal  \n",
       "357951             read  20.4131  1520117999000    normal  \n",
       "\n",
       "[357952 rows x 13 columns]"
      ]
     },
     "execution_count": 3,
     "metadata": {},
     "output_type": "execute_result"
    }
   ],
   "source": [
    "data = pd.read_csv('mainSimulationAccessTraces.csv')\n",
    "data"
   ]
  },
  {
   "cell_type": "code",
   "execution_count": 7,
   "id": "2e892996",
   "metadata": {},
   "outputs": [
    {
     "data": {
      "text/html": [
       "<div>\n",
       "<style scoped>\n",
       "    .dataframe tbody tr th:only-of-type {\n",
       "        vertical-align: middle;\n",
       "    }\n",
       "\n",
       "    .dataframe tbody tr th {\n",
       "        vertical-align: top;\n",
       "    }\n",
       "\n",
       "    .dataframe thead th {\n",
       "        text-align: right;\n",
       "    }\n",
       "</style>\n",
       "<table border=\"1\" class=\"dataframe\">\n",
       "  <thead>\n",
       "    <tr style=\"text-align: right;\">\n",
       "      <th></th>\n",
       "      <th>0</th>\n",
       "      <th>1</th>\n",
       "      <th>2</th>\n",
       "      <th>3</th>\n",
       "      <th>4</th>\n",
       "      <th>5</th>\n",
       "      <th>6</th>\n",
       "      <th>7</th>\n",
       "      <th>8</th>\n",
       "      <th>9</th>\n",
       "      <th>10</th>\n",
       "      <th>11</th>\n",
       "    </tr>\n",
       "  </thead>\n",
       "  <tbody>\n",
       "    <tr>\n",
       "      <th>0</th>\n",
       "      <td>7</td>\n",
       "      <td>21</td>\n",
       "      <td>30</td>\n",
       "      <td>2</td>\n",
       "      <td>3</td>\n",
       "      <td>29</td>\n",
       "      <td>2</td>\n",
       "      <td>3</td>\n",
       "      <td>57</td>\n",
       "      <td>5</td>\n",
       "      <td>1</td>\n",
       "      <td>0</td>\n",
       "    </tr>\n",
       "    <tr>\n",
       "      <th>1</th>\n",
       "      <td>7</td>\n",
       "      <td>32</td>\n",
       "      <td>70</td>\n",
       "      <td>2</td>\n",
       "      <td>4</td>\n",
       "      <td>67</td>\n",
       "      <td>2</td>\n",
       "      <td>4</td>\n",
       "      <td>132</td>\n",
       "      <td>5</td>\n",
       "      <td>1</td>\n",
       "      <td>0</td>\n",
       "    </tr>\n",
       "    <tr>\n",
       "      <th>2</th>\n",
       "      <td>7</td>\n",
       "      <td>15</td>\n",
       "      <td>1</td>\n",
       "      <td>2</td>\n",
       "      <td>2</td>\n",
       "      <td>0</td>\n",
       "      <td>2</td>\n",
       "      <td>2</td>\n",
       "      <td>0</td>\n",
       "      <td>5</td>\n",
       "      <td>1</td>\n",
       "      <td>0</td>\n",
       "    </tr>\n",
       "    <tr>\n",
       "      <th>3</th>\n",
       "      <td>7</td>\n",
       "      <td>33</td>\n",
       "      <td>77</td>\n",
       "      <td>2</td>\n",
       "      <td>7</td>\n",
       "      <td>72</td>\n",
       "      <td>2</td>\n",
       "      <td>7</td>\n",
       "      <td>142</td>\n",
       "      <td>5</td>\n",
       "      <td>1</td>\n",
       "      <td>0</td>\n",
       "    </tr>\n",
       "    <tr>\n",
       "      <th>4</th>\n",
       "      <td>7</td>\n",
       "      <td>55</td>\n",
       "      <td>78</td>\n",
       "      <td>3</td>\n",
       "      <td>7</td>\n",
       "      <td>73</td>\n",
       "      <td>3</td>\n",
       "      <td>7</td>\n",
       "      <td>144</td>\n",
       "      <td>6</td>\n",
       "      <td>1</td>\n",
       "      <td>0</td>\n",
       "    </tr>\n",
       "    <tr>\n",
       "      <th>...</th>\n",
       "      <td>...</td>\n",
       "      <td>...</td>\n",
       "      <td>...</td>\n",
       "      <td>...</td>\n",
       "      <td>...</td>\n",
       "      <td>...</td>\n",
       "      <td>...</td>\n",
       "      <td>...</td>\n",
       "      <td>...</td>\n",
       "      <td>...</td>\n",
       "      <td>...</td>\n",
       "      <td>...</td>\n",
       "    </tr>\n",
       "    <tr>\n",
       "      <th>355886</th>\n",
       "      <td>7</td>\n",
       "      <td>25</td>\n",
       "      <td>46</td>\n",
       "      <td>2</td>\n",
       "      <td>15</td>\n",
       "      <td>45</td>\n",
       "      <td>4</td>\n",
       "      <td>15</td>\n",
       "      <td>90</td>\n",
       "      <td>7</td>\n",
       "      <td>0</td>\n",
       "      <td>8505</td>\n",
       "    </tr>\n",
       "    <tr>\n",
       "      <th>355887</th>\n",
       "      <td>7</td>\n",
       "      <td>82</td>\n",
       "      <td>14</td>\n",
       "      <td>7</td>\n",
       "      <td>10</td>\n",
       "      <td>8</td>\n",
       "      <td>0</td>\n",
       "      <td>10</td>\n",
       "      <td>16</td>\n",
       "      <td>0</td>\n",
       "      <td>0</td>\n",
       "      <td>22</td>\n",
       "    </tr>\n",
       "    <tr>\n",
       "      <th>355888</th>\n",
       "      <td>7</td>\n",
       "      <td>82</td>\n",
       "      <td>14</td>\n",
       "      <td>7</td>\n",
       "      <td>10</td>\n",
       "      <td>8</td>\n",
       "      <td>0</td>\n",
       "      <td>10</td>\n",
       "      <td>17</td>\n",
       "      <td>1</td>\n",
       "      <td>0</td>\n",
       "      <td>1</td>\n",
       "    </tr>\n",
       "    <tr>\n",
       "      <th>355889</th>\n",
       "      <td>7</td>\n",
       "      <td>30</td>\n",
       "      <td>62</td>\n",
       "      <td>2</td>\n",
       "      <td>20</td>\n",
       "      <td>60</td>\n",
       "      <td>3</td>\n",
       "      <td>20</td>\n",
       "      <td>120</td>\n",
       "      <td>3</td>\n",
       "      <td>0</td>\n",
       "      <td>0</td>\n",
       "    </tr>\n",
       "    <tr>\n",
       "      <th>355890</th>\n",
       "      <td>7</td>\n",
       "      <td>30</td>\n",
       "      <td>62</td>\n",
       "      <td>2</td>\n",
       "      <td>20</td>\n",
       "      <td>61</td>\n",
       "      <td>4</td>\n",
       "      <td>20</td>\n",
       "      <td>121</td>\n",
       "      <td>7</td>\n",
       "      <td>0</td>\n",
       "      <td>9156</td>\n",
       "    </tr>\n",
       "  </tbody>\n",
       "</table>\n",
       "<p>355891 rows × 12 columns</p>\n",
       "</div>"
      ],
      "text/plain": [
       "        0   1   2  3   4   5  6   7    8  9  10    11\n",
       "0       7  21  30  2   3  29  2   3   57  5   1     0\n",
       "1       7  32  70  2   4  67  2   4  132  5   1     0\n",
       "2       7  15   1  2   2   0  2   2    0  5   1     0\n",
       "3       7  33  77  2   7  72  2   7  142  5   1     0\n",
       "4       7  55  78  3   7  73  3   7  144  6   1     0\n",
       "...    ..  ..  .. ..  ..  .. ..  ..  ... ..  ..   ...\n",
       "355886  7  25  46  2  15  45  4  15   90  7   0  8505\n",
       "355887  7  82  14  7  10   8  0  10   16  0   0    22\n",
       "355888  7  82  14  7  10   8  0  10   17  1   0     1\n",
       "355889  7  30  62  2  20  60  3  20  120  3   0     0\n",
       "355890  7  30  62  2  20  61  4  20  121  7   0  9156\n",
       "\n",
       "[355891 rows x 12 columns]"
      ]
     },
     "execution_count": 7,
     "metadata": {},
     "output_type": "execute_result"
    }
   ],
   "source": [
    "data = pd.read_csv('dataset.csv')\n",
    "data"
   ]
  },
  {
   "cell_type": "raw",
   "id": "26645fdf",
   "metadata": {},
   "source": [
    " x = data.iloc[:,0:-1].values\n",
    "x"
   ]
  },
  {
   "cell_type": "code",
   "execution_count": 8,
   "id": "6ee10d0f",
   "metadata": {},
   "outputs": [
    {
     "data": {
      "text/plain": [
       "(array([[  21,   30,    2, ...,    5,    1,    0],\n",
       "        [  32,   70,    2, ...,    5,    1,    0],\n",
       "        [  15,    1,    2, ...,    5,    1,    0],\n",
       "        ...,\n",
       "        [  82,   14,    7, ...,    1,    0,    1],\n",
       "        [  30,   62,    2, ...,    3,    0,    0],\n",
       "        [  30,   62,    2, ...,    7,    0, 9156]], dtype=int64),\n",
       " array([7, 7, 7, ..., 7, 7, 7], dtype=int64))"
      ]
     },
     "execution_count": 8,
     "metadata": {},
     "output_type": "execute_result"
    }
   ],
   "source": [
    "y = data.iloc[:,0].values\n",
    "x = data.iloc[:,1:].values\n",
    "x,y"
   ]
  },
  {
   "cell_type": "code",
   "execution_count": 12,
   "id": "4a717af0",
   "metadata": {},
   "outputs": [
    {
     "data": {
      "text/plain": [
       "(355891,)"
      ]
     },
     "execution_count": 12,
     "metadata": {},
     "output_type": "execute_result"
    }
   ],
   "source": [
    "y.shape"
   ]
  },
  {
   "cell_type": "code",
   "execution_count": 32,
   "id": "c74a06de",
   "metadata": {},
   "outputs": [
    {
     "data": {
      "text/plain": [
       "KMeans()"
      ]
     },
     "execution_count": 32,
     "metadata": {},
     "output_type": "execute_result"
    }
   ],
   "source": [
    "model = KMeans(n_clusters = 8)\n",
    "model.fit(x)"
   ]
  },
  {
   "cell_type": "code",
   "execution_count": 33,
   "id": "ada5433f",
   "metadata": {},
   "outputs": [
    {
     "data": {
      "text/plain": [
       "array([0, 0, 0, ..., 0, 0, 5])"
      ]
     },
     "execution_count": 33,
     "metadata": {},
     "output_type": "execute_result"
    }
   ],
   "source": [
    "model.labels_"
   ]
  },
  {
   "cell_type": "code",
   "execution_count": null,
   "id": "b12c16c1",
   "metadata": {},
   "outputs": [],
   "source": []
  },
  {
   "cell_type": "code",
   "execution_count": 34,
   "id": "8fd5ad5a",
   "metadata": {},
   "outputs": [
    {
     "data": {
      "text/plain": [
       "228618"
      ]
     },
     "execution_count": 34,
     "metadata": {},
     "output_type": "execute_result"
    }
   ],
   "source": [
    "c = 0\n",
    "d = {\n",
    "    0:7,1:6,2:5,3:4,4:3,5:2,6:1,7:0\n",
    "}\n",
    "for i in range(len(model.labels_)):\n",
    "    z = d[model.labels_[i]]\n",
    "    if(z == y[i]):\n",
    "        c+=1\n",
    "c"
   ]
  },
  {
   "cell_type": "code",
   "execution_count": null,
   "id": "05ad667d",
   "metadata": {},
   "outputs": [],
   "source": []
  },
  {
   "cell_type": "code",
   "execution_count": 28,
   "id": "d4b8d1cc",
   "metadata": {},
   "outputs": [
    {
     "data": {
      "text/plain": [
       "14427"
      ]
     },
     "execution_count": 28,
     "metadata": {},
     "output_type": "execute_result"
    }
   ],
   "source": [
    "c= 0\n",
    "for i in range(len(model.labels_)):\n",
    "   \n",
    "    if(model.labels_[i] == y[i]):\n",
    "        c+=1\n",
    "c"
   ]
  },
  {
   "cell_type": "code",
   "execution_count": 16,
   "id": "79ef93e4",
   "metadata": {},
   "outputs": [
    {
     "data": {
      "text/plain": [
       "0.6412497084781577"
      ]
     },
     "execution_count": 16,
     "metadata": {},
     "output_type": "execute_result"
    }
   ],
   "source": [
    "c/355891"
   ]
  },
  {
   "cell_type": "code",
   "execution_count": 17,
   "id": "2d5dd6be",
   "metadata": {},
   "outputs": [],
   "source": [
    "from sklearn.mixture import GaussianMixture"
   ]
  },
  {
   "cell_type": "code",
   "execution_count": 18,
   "id": "5fe3241e",
   "metadata": {},
   "outputs": [
    {
     "data": {
      "text/plain": [
       "GaussianMixture(n_components=8)"
      ]
     },
     "execution_count": 18,
     "metadata": {},
     "output_type": "execute_result"
    }
   ],
   "source": [
    "gmm = GaussianMixture(n_components = 8)\n",
    "gmm.fit(x)"
   ]
  },
  {
   "cell_type": "code",
   "execution_count": 19,
   "id": "865dece6",
   "metadata": {},
   "outputs": [],
   "source": [
    "yp = gmm.predict(x)"
   ]
  },
  {
   "cell_type": "code",
   "execution_count": 21,
   "id": "8dfb4ece",
   "metadata": {},
   "outputs": [
    {
     "data": {
      "text/plain": [
       "220337"
      ]
     },
     "execution_count": 21,
     "metadata": {},
     "output_type": "execute_result"
    }
   ],
   "source": [
    "c = 0\n",
    "for i in range(len(yp)):\n",
    "    a = d[yp[i]]\n",
    "    if(a == y[i]):\n",
    "        c+=1\n",
    "c"
   ]
  },
  {
   "cell_type": "code",
   "execution_count": 22,
   "id": "901eacf8",
   "metadata": {},
   "outputs": [
    {
     "data": {
      "text/plain": [
       "0.6191137174022383"
      ]
     },
     "execution_count": 22,
     "metadata": {},
     "output_type": "execute_result"
    }
   ],
   "source": [
    "c/355891"
   ]
  },
  {
   "cell_type": "code",
   "execution_count": null,
   "id": "944f8046",
   "metadata": {},
   "outputs": [],
   "source": []
  }
 ],
 "metadata": {
  "kernelspec": {
   "display_name": "Python 3 (ipykernel)",
   "language": "python",
   "name": "python3"
  },
  "language_info": {
   "codemirror_mode": {
    "name": "ipython",
    "version": 3
   },
   "file_extension": ".py",
   "mimetype": "text/x-python",
   "name": "python",
   "nbconvert_exporter": "python",
   "pygments_lexer": "ipython3",
   "version": "3.9.6"
  }
 },
 "nbformat": 4,
 "nbformat_minor": 5
}
