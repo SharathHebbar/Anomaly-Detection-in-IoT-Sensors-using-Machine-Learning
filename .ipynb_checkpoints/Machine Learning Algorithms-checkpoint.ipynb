{
 "cells": [
  {
   "cell_type": "markdown",
   "id": "39f1e663",
   "metadata": {},
   "source": [
    "## Importing Libraries"
   ]
  },
  {
   "cell_type": "code",
   "execution_count": 9,
   "id": "2aeaa985",
   "metadata": {},
   "outputs": [],
   "source": [
    "from time import time\n",
    "import pandas as pd\n",
    "import numpy as np\n",
    "from sklearn.model_selection import train_test_split\n",
    "from sklearn.preprocessing import StandardScaler\n",
    "from sklearn.metrics import accuracy_score, classification_report,confusion_matrix"
   ]
  },
  {
   "cell_type": "markdown",
   "id": "4bfc74c6",
   "metadata": {},
   "source": [
    "### Loading dataset"
   ]
  },
  {
   "cell_type": "code",
   "execution_count": 10,
   "id": "c8d10b25",
   "metadata": {},
   "outputs": [
    {
     "data": {
      "text/html": [
       "<div>\n",
       "<style scoped>\n",
       "    .dataframe tbody tr th:only-of-type {\n",
       "        vertical-align: middle;\n",
       "    }\n",
       "\n",
       "    .dataframe tbody tr th {\n",
       "        vertical-align: top;\n",
       "    }\n",
       "\n",
       "    .dataframe thead th {\n",
       "        text-align: right;\n",
       "    }\n",
       "</style>\n",
       "<table border=\"1\" class=\"dataframe\">\n",
       "  <thead>\n",
       "    <tr style=\"text-align: right;\">\n",
       "      <th></th>\n",
       "      <th>0</th>\n",
       "      <th>1</th>\n",
       "      <th>2</th>\n",
       "      <th>3</th>\n",
       "      <th>4</th>\n",
       "      <th>5</th>\n",
       "      <th>6</th>\n",
       "      <th>7</th>\n",
       "      <th>8</th>\n",
       "      <th>9</th>\n",
       "      <th>10</th>\n",
       "      <th>11</th>\n",
       "    </tr>\n",
       "  </thead>\n",
       "  <tbody>\n",
       "    <tr>\n",
       "      <th>0</th>\n",
       "      <td>7</td>\n",
       "      <td>21</td>\n",
       "      <td>30</td>\n",
       "      <td>2</td>\n",
       "      <td>3</td>\n",
       "      <td>29</td>\n",
       "      <td>2</td>\n",
       "      <td>3</td>\n",
       "      <td>57</td>\n",
       "      <td>5</td>\n",
       "      <td>1</td>\n",
       "      <td>0</td>\n",
       "    </tr>\n",
       "    <tr>\n",
       "      <th>1</th>\n",
       "      <td>7</td>\n",
       "      <td>32</td>\n",
       "      <td>70</td>\n",
       "      <td>2</td>\n",
       "      <td>4</td>\n",
       "      <td>67</td>\n",
       "      <td>2</td>\n",
       "      <td>4</td>\n",
       "      <td>132</td>\n",
       "      <td>5</td>\n",
       "      <td>1</td>\n",
       "      <td>0</td>\n",
       "    </tr>\n",
       "    <tr>\n",
       "      <th>2</th>\n",
       "      <td>7</td>\n",
       "      <td>15</td>\n",
       "      <td>1</td>\n",
       "      <td>2</td>\n",
       "      <td>2</td>\n",
       "      <td>0</td>\n",
       "      <td>2</td>\n",
       "      <td>2</td>\n",
       "      <td>0</td>\n",
       "      <td>5</td>\n",
       "      <td>1</td>\n",
       "      <td>0</td>\n",
       "    </tr>\n",
       "    <tr>\n",
       "      <th>3</th>\n",
       "      <td>7</td>\n",
       "      <td>33</td>\n",
       "      <td>77</td>\n",
       "      <td>2</td>\n",
       "      <td>7</td>\n",
       "      <td>72</td>\n",
       "      <td>2</td>\n",
       "      <td>7</td>\n",
       "      <td>142</td>\n",
       "      <td>5</td>\n",
       "      <td>1</td>\n",
       "      <td>0</td>\n",
       "    </tr>\n",
       "    <tr>\n",
       "      <th>4</th>\n",
       "      <td>7</td>\n",
       "      <td>55</td>\n",
       "      <td>78</td>\n",
       "      <td>3</td>\n",
       "      <td>7</td>\n",
       "      <td>73</td>\n",
       "      <td>3</td>\n",
       "      <td>7</td>\n",
       "      <td>144</td>\n",
       "      <td>6</td>\n",
       "      <td>1</td>\n",
       "      <td>0</td>\n",
       "    </tr>\n",
       "    <tr>\n",
       "      <th>...</th>\n",
       "      <td>...</td>\n",
       "      <td>...</td>\n",
       "      <td>...</td>\n",
       "      <td>...</td>\n",
       "      <td>...</td>\n",
       "      <td>...</td>\n",
       "      <td>...</td>\n",
       "      <td>...</td>\n",
       "      <td>...</td>\n",
       "      <td>...</td>\n",
       "      <td>...</td>\n",
       "      <td>...</td>\n",
       "    </tr>\n",
       "    <tr>\n",
       "      <th>355886</th>\n",
       "      <td>7</td>\n",
       "      <td>25</td>\n",
       "      <td>46</td>\n",
       "      <td>2</td>\n",
       "      <td>15</td>\n",
       "      <td>45</td>\n",
       "      <td>4</td>\n",
       "      <td>15</td>\n",
       "      <td>90</td>\n",
       "      <td>7</td>\n",
       "      <td>0</td>\n",
       "      <td>8505</td>\n",
       "    </tr>\n",
       "    <tr>\n",
       "      <th>355887</th>\n",
       "      <td>7</td>\n",
       "      <td>82</td>\n",
       "      <td>14</td>\n",
       "      <td>7</td>\n",
       "      <td>10</td>\n",
       "      <td>8</td>\n",
       "      <td>0</td>\n",
       "      <td>10</td>\n",
       "      <td>16</td>\n",
       "      <td>0</td>\n",
       "      <td>0</td>\n",
       "      <td>22</td>\n",
       "    </tr>\n",
       "    <tr>\n",
       "      <th>355888</th>\n",
       "      <td>7</td>\n",
       "      <td>82</td>\n",
       "      <td>14</td>\n",
       "      <td>7</td>\n",
       "      <td>10</td>\n",
       "      <td>8</td>\n",
       "      <td>0</td>\n",
       "      <td>10</td>\n",
       "      <td>17</td>\n",
       "      <td>1</td>\n",
       "      <td>0</td>\n",
       "      <td>1</td>\n",
       "    </tr>\n",
       "    <tr>\n",
       "      <th>355889</th>\n",
       "      <td>7</td>\n",
       "      <td>30</td>\n",
       "      <td>62</td>\n",
       "      <td>2</td>\n",
       "      <td>20</td>\n",
       "      <td>60</td>\n",
       "      <td>3</td>\n",
       "      <td>20</td>\n",
       "      <td>120</td>\n",
       "      <td>3</td>\n",
       "      <td>0</td>\n",
       "      <td>0</td>\n",
       "    </tr>\n",
       "    <tr>\n",
       "      <th>355890</th>\n",
       "      <td>7</td>\n",
       "      <td>30</td>\n",
       "      <td>62</td>\n",
       "      <td>2</td>\n",
       "      <td>20</td>\n",
       "      <td>61</td>\n",
       "      <td>4</td>\n",
       "      <td>20</td>\n",
       "      <td>121</td>\n",
       "      <td>7</td>\n",
       "      <td>0</td>\n",
       "      <td>9156</td>\n",
       "    </tr>\n",
       "  </tbody>\n",
       "</table>\n",
       "<p>355891 rows × 12 columns</p>\n",
       "</div>"
      ],
      "text/plain": [
       "        0   1   2  3   4   5  6   7    8  9  10    11\n",
       "0       7  21  30  2   3  29  2   3   57  5   1     0\n",
       "1       7  32  70  2   4  67  2   4  132  5   1     0\n",
       "2       7  15   1  2   2   0  2   2    0  5   1     0\n",
       "3       7  33  77  2   7  72  2   7  142  5   1     0\n",
       "4       7  55  78  3   7  73  3   7  144  6   1     0\n",
       "...    ..  ..  .. ..  ..  .. ..  ..  ... ..  ..   ...\n",
       "355886  7  25  46  2  15  45  4  15   90  7   0  8505\n",
       "355887  7  82  14  7  10   8  0  10   16  0   0    22\n",
       "355888  7  82  14  7  10   8  0  10   17  1   0     1\n",
       "355889  7  30  62  2  20  60  3  20  120  3   0     0\n",
       "355890  7  30  62  2  20  61  4  20  121  7   0  9156\n",
       "\n",
       "[355891 rows x 12 columns]"
      ]
     },
     "execution_count": 10,
     "metadata": {},
     "output_type": "execute_result"
    }
   ],
   "source": [
    "data = pd.read_csv('dataset.csv')\n",
    "data"
   ]
  },
  {
   "cell_type": "markdown",
   "id": "c519f458",
   "metadata": {},
   "source": [
    "### Data Preprocessing\n"
   ]
  },
  {
   "cell_type": "code",
   "execution_count": null,
   "id": "54afb769",
   "metadata": {},
   "outputs": [],
   "source": []
  },
  {
   "cell_type": "code",
   "execution_count": 11,
   "id": "5863d152",
   "metadata": {},
   "outputs": [
    {
     "data": {
      "text/plain": [
       "(array([[  21,   30,    2, ...,    5,    1,    0],\n",
       "        [  32,   70,    2, ...,    5,    1,    0],\n",
       "        [  15,    1,    2, ...,    5,    1,    0],\n",
       "        ...,\n",
       "        [  82,   14,    7, ...,    1,    0,    1],\n",
       "        [  30,   62,    2, ...,    3,    0,    0],\n",
       "        [  30,   62,    2, ...,    7,    0, 9156]], dtype=int64),\n",
       " array([7, 7, 7, ..., 7, 7, 7], dtype=int64))"
      ]
     },
     "execution_count": 11,
     "metadata": {},
     "output_type": "execute_result"
    }
   ],
   "source": [
    "y = data.iloc[:,0].values\n",
    "x = data.iloc[:,1:].values\n",
    "x,y"
   ]
  },
  {
   "cell_type": "markdown",
   "id": "09abae16",
   "metadata": {},
   "source": [
    "### Splitting the dataset into training and testing "
   ]
  },
  {
   "cell_type": "code",
   "execution_count": 12,
   "id": "8db23e7d",
   "metadata": {},
   "outputs": [],
   "source": [
    "x_train,x_test,y_train,y_test = train_test_split(x,y,test_size=0.25)"
   ]
  },
  {
   "cell_type": "markdown",
   "id": "b33c567b",
   "metadata": {},
   "source": [
    "### Scaling the dataset "
   ]
  },
  {
   "cell_type": "code",
   "execution_count": 13,
   "id": "e844c733",
   "metadata": {},
   "outputs": [],
   "source": [
    "sc = StandardScaler()\n",
    "x_train_sc = sc.fit_transform(x_train)\n",
    "x_test_sc = sc.transform(x_test)"
   ]
  },
  {
   "cell_type": "markdown",
   "id": "a5787dce",
   "metadata": {},
   "source": [
    "# Appliyng Machine Learning Algorithms"
   ]
  },
  {
   "cell_type": "code",
   "execution_count": null,
   "id": "a23300ae",
   "metadata": {},
   "outputs": [],
   "source": []
  },
  {
   "cell_type": "markdown",
   "id": "bc165cb4",
   "metadata": {},
   "source": [
    "## Applying logistic regression"
   ]
  },
  {
   "cell_type": "code",
   "execution_count": 14,
   "id": "442c068d",
   "metadata": {},
   "outputs": [],
   "source": [
    "from sklearn.linear_model import LogisticRegression\n",
    "lr = LogisticRegression()"
   ]
  },
  {
   "cell_type": "code",
   "execution_count": 15,
   "id": "bb3f2ffa",
   "metadata": {},
   "outputs": [
    {
     "name": "stdout",
     "output_type": "stream",
     "text": [
      "Time elapsed 23.019588947296143\n"
     ]
    },
    {
     "name": "stderr",
     "output_type": "stream",
     "text": [
      "c:\\users\\hebbar\\appdata\\local\\programs\\python\\python39\\lib\\site-packages\\sklearn\\linear_model\\_logistic.py:814: ConvergenceWarning: lbfgs failed to converge (status=1):\n",
      "STOP: TOTAL NO. of ITERATIONS REACHED LIMIT.\n",
      "\n",
      "Increase the number of iterations (max_iter) or scale the data as shown in:\n",
      "    https://scikit-learn.org/stable/modules/preprocessing.html\n",
      "Please also refer to the documentation for alternative solver options:\n",
      "    https://scikit-learn.org/stable/modules/linear_model.html#logistic-regression\n",
      "  n_iter_i = _check_optimize_result(\n"
     ]
    }
   ],
   "source": [
    "s = time()\n",
    "lr.fit(x_train_sc,y_train)\n",
    "lr_time = time()-s\n",
    "print(\"Time elapsed\",lr_time)"
   ]
  },
  {
   "cell_type": "markdown",
   "id": "1d5dec75",
   "metadata": {},
   "source": [
    "### Training accuracy"
   ]
  },
  {
   "cell_type": "code",
   "execution_count": 16,
   "id": "b97da872",
   "metadata": {},
   "outputs": [
    {
     "data": {
      "text/plain": [
       "0.9891502259120779"
      ]
     },
     "execution_count": 16,
     "metadata": {},
     "output_type": "execute_result"
    }
   ],
   "source": [
    "lr.score(x_train_sc,y_train)"
   ]
  },
  {
   "cell_type": "markdown",
   "id": "c61c7e34",
   "metadata": {},
   "source": [
    "### Testing accuracy"
   ]
  },
  {
   "cell_type": "code",
   "execution_count": 17,
   "id": "676a184e",
   "metadata": {},
   "outputs": [
    {
     "data": {
      "text/plain": [
       "0.988569566048127"
      ]
     },
     "execution_count": 17,
     "metadata": {},
     "output_type": "execute_result"
    }
   ],
   "source": [
    "lr.score(x_test_sc,y_test)"
   ]
  },
  {
   "cell_type": "markdown",
   "id": "980f4de6",
   "metadata": {},
   "source": [
    "### Accuracy of the model"
   ]
  },
  {
   "cell_type": "code",
   "execution_count": 18,
   "id": "4e11313c",
   "metadata": {},
   "outputs": [
    {
     "name": "stdout",
     "output_type": "stream",
     "text": [
      "Accuracy of Logistic Regression Training Dataset:  0.9891502259120779\n"
     ]
    }
   ],
   "source": [
    "y_lr_train_pred = lr.predict(x_train_sc)\n",
    "lr_train_accuracy = accuracy_score(y_train,y_lr_train_pred)\n",
    "print(\"Accuracy of Logistic Regression Training Dataset: \",lr_train_accuracy)"
   ]
  },
  {
   "cell_type": "code",
   "execution_count": 19,
   "id": "94d40b62",
   "metadata": {},
   "outputs": [
    {
     "name": "stdout",
     "output_type": "stream",
     "text": [
      "Accuracy of Logistic Regression Testing Dataset:  0.988569566048127\n"
     ]
    }
   ],
   "source": [
    "y_lr_test_pred = lr.predict(x_test_sc)\n",
    "lr_test_accuracy = accuracy_score(y_test,y_lr_test_pred)\n",
    "print(\"Accuracy of Logistic Regression Testing Dataset: \",lr_test_accuracy)"
   ]
  },
  {
   "cell_type": "code",
   "execution_count": null,
   "id": "583a2ff9",
   "metadata": {},
   "outputs": [],
   "source": []
  },
  {
   "cell_type": "markdown",
   "id": "03285413",
   "metadata": {},
   "source": [
    "## Applying KNN"
   ]
  },
  {
   "cell_type": "code",
   "execution_count": 20,
   "id": "6762a9b1",
   "metadata": {},
   "outputs": [],
   "source": [
    "from sklearn.neighbors import KNeighborsClassifier\n",
    "knn = KNeighborsClassifier()"
   ]
  },
  {
   "cell_type": "code",
   "execution_count": 21,
   "id": "fc8c1b7f",
   "metadata": {},
   "outputs": [
    {
     "name": "stdout",
     "output_type": "stream",
     "text": [
      "Time elapsed 1.7969074249267578\n"
     ]
    }
   ],
   "source": [
    "s = time()\n",
    "knn.fit(x_train_sc,y_train)\n",
    "knn_time = time()-s\n",
    "print(\"Time elapsed\",knn_time)"
   ]
  },
  {
   "cell_type": "markdown",
   "id": "997c1cf6",
   "metadata": {},
   "source": [
    "### Training accuracy"
   ]
  },
  {
   "cell_type": "code",
   "execution_count": 22,
   "id": "690852e1",
   "metadata": {},
   "outputs": [
    {
     "data": {
      "text/plain": [
       "0.9934961298975715"
      ]
     },
     "execution_count": 22,
     "metadata": {},
     "output_type": "execute_result"
    }
   ],
   "source": [
    "knn.score(x_train_sc,y_train)"
   ]
  },
  {
   "cell_type": "markdown",
   "id": "0cc9f129",
   "metadata": {},
   "source": [
    "### Testing accuracy"
   ]
  },
  {
   "cell_type": "code",
   "execution_count": 23,
   "id": "dca21e5b",
   "metadata": {},
   "outputs": [
    {
     "data": {
      "text/plain": [
       "0.9937846312926394"
      ]
     },
     "execution_count": 23,
     "metadata": {},
     "output_type": "execute_result"
    }
   ],
   "source": [
    "knn.score(x_test_sc,y_test)"
   ]
  },
  {
   "cell_type": "markdown",
   "id": "b7e3d12e",
   "metadata": {},
   "source": [
    "### Accuracy of the model"
   ]
  },
  {
   "cell_type": "code",
   "execution_count": 24,
   "id": "c99e3bbf",
   "metadata": {},
   "outputs": [
    {
     "name": "stdout",
     "output_type": "stream",
     "text": [
      "Accuracy of K Nearest Neigbour Training Dataset:  0.9934961298975715\n"
     ]
    }
   ],
   "source": [
    "y_knn_train_pred = knn.predict(x_train_sc)\n",
    "knn_train_accuracy = accuracy_score(y_train,y_knn_train_pred)\n",
    "print(\"Accuracy of K Nearest Neigbour Training Dataset: \",knn_train_accuracy)"
   ]
  },
  {
   "cell_type": "code",
   "execution_count": 25,
   "id": "72a506ba",
   "metadata": {},
   "outputs": [
    {
     "name": "stdout",
     "output_type": "stream",
     "text": [
      "Accuracy of K Nearest Neigbour Testing Dataset:  0.9937846312926394\n"
     ]
    }
   ],
   "source": [
    "y_knn_test_pred = knn.predict(x_test_sc)\n",
    "knn_test_accuracy = accuracy_score(y_test,y_knn_test_pred)\n",
    "print(\"Accuracy of K Nearest Neigbour Testing Dataset: \",knn_test_accuracy)"
   ]
  },
  {
   "cell_type": "code",
   "execution_count": null,
   "id": "df05a359",
   "metadata": {},
   "outputs": [],
   "source": []
  },
  {
   "cell_type": "markdown",
   "id": "30c5b1e5",
   "metadata": {},
   "source": [
    "## Applying Decision Tree Classifier"
   ]
  },
  {
   "cell_type": "code",
   "execution_count": 26,
   "id": "8e14551f",
   "metadata": {},
   "outputs": [],
   "source": [
    "from sklearn.tree import DecisionTreeClassifier\n",
    "\n",
    "dtc = DecisionTreeClassifier()"
   ]
  },
  {
   "cell_type": "code",
   "execution_count": 27,
   "id": "5d215aa6",
   "metadata": {},
   "outputs": [
    {
     "name": "stdout",
     "output_type": "stream",
     "text": [
      "Time elapsed 0.9068188667297363\n"
     ]
    }
   ],
   "source": [
    "s = time()\n",
    "dtc.fit(x_train_sc,y_train)\n",
    "dtc_time = time()-s\n",
    "print(\"Time elapsed\",dtc_time)"
   ]
  },
  {
   "cell_type": "markdown",
   "id": "288d97a1",
   "metadata": {},
   "source": [
    "### Training accuracy"
   ]
  },
  {
   "cell_type": "code",
   "execution_count": 28,
   "id": "7eaa1013",
   "metadata": {},
   "outputs": [
    {
     "data": {
      "text/plain": [
       "0.9944589724184956"
      ]
     },
     "execution_count": 28,
     "metadata": {},
     "output_type": "execute_result"
    }
   ],
   "source": [
    "dtc.score(x_train_sc,y_train)"
   ]
  },
  {
   "cell_type": "markdown",
   "id": "7daca19c",
   "metadata": {},
   "source": [
    "### Testing accuracy"
   ]
  },
  {
   "cell_type": "code",
   "execution_count": 29,
   "id": "52414162",
   "metadata": {},
   "outputs": [
    {
     "data": {
      "text/plain": [
       "0.9940993335056703"
      ]
     },
     "execution_count": 29,
     "metadata": {},
     "output_type": "execute_result"
    }
   ],
   "source": [
    "dtc.score(x_test_sc,y_test)"
   ]
  },
  {
   "cell_type": "markdown",
   "id": "a3cd2067",
   "metadata": {},
   "source": [
    "### Accuracy of the model"
   ]
  },
  {
   "cell_type": "code",
   "execution_count": 30,
   "id": "a79ff826",
   "metadata": {},
   "outputs": [
    {
     "name": "stdout",
     "output_type": "stream",
     "text": [
      "Accuracy of Decision Tree Classifier Training Dataset:  0.9944589724184956\n"
     ]
    }
   ],
   "source": [
    "y_dtc_train_pred = dtc.predict(x_train_sc)\n",
    "dtc_train_accuracy = accuracy_score(y_train,y_dtc_train_pred)\n",
    "print(\"Accuracy of Decision Tree Classifier Training Dataset: \",dtc_train_accuracy)"
   ]
  },
  {
   "cell_type": "code",
   "execution_count": 31,
   "id": "ff47067c",
   "metadata": {},
   "outputs": [
    {
     "name": "stdout",
     "output_type": "stream",
     "text": [
      "Accuracy of Decision Tree Classifier Testing Dataset:  0.9940993335056703\n"
     ]
    }
   ],
   "source": [
    "y_dtc_test_pred = dtc.predict(x_test_sc)\n",
    "dtc_test_accuracy = accuracy_score(y_test,y_dtc_test_pred)\n",
    "print(\"Accuracy of Decision Tree Classifier Testing Dataset: \",dtc_test_accuracy)"
   ]
  },
  {
   "cell_type": "markdown",
   "id": "72f3386b",
   "metadata": {},
   "source": [
    "## Applying Random Forest Classifier"
   ]
  },
  {
   "cell_type": "code",
   "execution_count": 32,
   "id": "0c9ffc63",
   "metadata": {},
   "outputs": [],
   "source": [
    "from sklearn.ensemble import RandomForestClassifier\n",
    "rfc = RandomForestClassifier()"
   ]
  },
  {
   "cell_type": "code",
   "execution_count": 33,
   "id": "8c5665ea",
   "metadata": {},
   "outputs": [
    {
     "name": "stdout",
     "output_type": "stream",
     "text": [
      "Time elapsed 47.627418994903564\n"
     ]
    }
   ],
   "source": [
    "s = time()\n",
    "rfc.fit(x_train_sc,y_train)\n",
    "rfc_time = time()-s\n",
    "print(\"Time elapsed\",rfc_time)"
   ]
  },
  {
   "cell_type": "markdown",
   "id": "1cbd4178",
   "metadata": {},
   "source": [
    "### Training accuracy"
   ]
  },
  {
   "cell_type": "code",
   "execution_count": 34,
   "id": "7efacd0c",
   "metadata": {},
   "outputs": [
    {
     "data": {
      "text/plain": [
       "0.9944589724184956"
      ]
     },
     "execution_count": 34,
     "metadata": {},
     "output_type": "execute_result"
    }
   ],
   "source": [
    "rfc.score(x_train_sc,y_train)"
   ]
  },
  {
   "cell_type": "markdown",
   "id": "83368de3",
   "metadata": {},
   "source": [
    "### Testing accuracy"
   ]
  },
  {
   "cell_type": "code",
   "execution_count": 35,
   "id": "335350ea",
   "metadata": {},
   "outputs": [
    {
     "data": {
      "text/plain": [
       "0.9941330515999236"
      ]
     },
     "execution_count": 35,
     "metadata": {},
     "output_type": "execute_result"
    }
   ],
   "source": [
    "rfc.score(x_test_sc,y_test)"
   ]
  },
  {
   "cell_type": "markdown",
   "id": "5a7f6f98",
   "metadata": {},
   "source": [
    "### Accuracy of the model"
   ]
  },
  {
   "cell_type": "code",
   "execution_count": 36,
   "id": "47235812",
   "metadata": {},
   "outputs": [
    {
     "name": "stdout",
     "output_type": "stream",
     "text": [
      "Accuracy of Random Forest Classifier Training Dataset:  0.9944589724184956\n"
     ]
    }
   ],
   "source": [
    "y_rfc_train_pred = rfc.predict(x_train_sc)\n",
    "rfc_train_accuracy = accuracy_score(y_train,y_rfc_train_pred)\n",
    "print(\"Accuracy of Random Forest Classifier Training Dataset: \",rfc_train_accuracy)"
   ]
  },
  {
   "cell_type": "code",
   "execution_count": 37,
   "id": "6b8146f0",
   "metadata": {},
   "outputs": [
    {
     "name": "stdout",
     "output_type": "stream",
     "text": [
      "Accuracy of Random Forest Classifier Testing Dataset:  0.9941330515999236\n"
     ]
    }
   ],
   "source": [
    "y_rfc_test_pred = rfc.predict(x_test_sc)\n",
    "rfc_test_accuracy = accuracy_score(y_test,y_rfc_test_pred)\n",
    "print(\"Accuracy of Random Forest Classifier Testing Dataset: \",rfc_test_accuracy)"
   ]
  },
  {
   "cell_type": "markdown",
   "id": "5effdbf7",
   "metadata": {},
   "source": [
    "## Applying Naive bayes "
   ]
  },
  {
   "cell_type": "code",
   "execution_count": 38,
   "id": "81fce8bd",
   "metadata": {},
   "outputs": [],
   "source": [
    "from sklearn.naive_bayes import GaussianNB\n",
    "nb = GaussianNB()"
   ]
  },
  {
   "cell_type": "code",
   "execution_count": 39,
   "id": "6d55c659",
   "metadata": {},
   "outputs": [
    {
     "name": "stdout",
     "output_type": "stream",
     "text": [
      "Time elapsed 0.15570878982543945\n"
     ]
    }
   ],
   "source": [
    "s = time()\n",
    "nb.fit(x_train,y_train)\n",
    "nb_time = time()-s\n",
    "print(\"Time elapsed\",nb_time)"
   ]
  },
  {
   "cell_type": "markdown",
   "id": "4537546e",
   "metadata": {},
   "source": [
    "### Training accuracy"
   ]
  },
  {
   "cell_type": "code",
   "execution_count": 40,
   "id": "334f08a9",
   "metadata": {},
   "outputs": [
    {
     "data": {
      "text/plain": [
       "0.7548835222802509"
      ]
     },
     "execution_count": 40,
     "metadata": {},
     "output_type": "execute_result"
    }
   ],
   "source": [
    "nb.score(x_train,y_train)"
   ]
  },
  {
   "cell_type": "markdown",
   "id": "c1dc7411",
   "metadata": {},
   "source": [
    "### Testing accuracy"
   ]
  },
  {
   "cell_type": "code",
   "execution_count": 41,
   "id": "aeda869d",
   "metadata": {},
   "outputs": [
    {
     "data": {
      "text/plain": [
       "0.7541501354343453"
      ]
     },
     "execution_count": 41,
     "metadata": {},
     "output_type": "execute_result"
    }
   ],
   "source": [
    "nb.score(x_test,y_test)"
   ]
  },
  {
   "cell_type": "markdown",
   "id": "1a0086fb",
   "metadata": {},
   "source": [
    "### Accuracy of the model"
   ]
  },
  {
   "cell_type": "code",
   "execution_count": 42,
   "id": "1ded6f03",
   "metadata": {},
   "outputs": [
    {
     "name": "stdout",
     "output_type": "stream",
     "text": [
      "Accuracy of Naive Bayes Training Dataset:  0.7548835222802509\n"
     ]
    }
   ],
   "source": [
    "y_nb_train_pred = nb.predict(x_train)\n",
    "nb_train_accuracy = accuracy_score(y_train,y_nb_train_pred)\n",
    "print(\"Accuracy of Naive Bayes Training Dataset: \",nb_train_accuracy)"
   ]
  },
  {
   "cell_type": "code",
   "execution_count": 43,
   "id": "5de95de5",
   "metadata": {},
   "outputs": [
    {
     "name": "stdout",
     "output_type": "stream",
     "text": [
      "Accuracy of Naive Bayes Testing Dataset:  0.7541501354343453\n"
     ]
    }
   ],
   "source": [
    "y_nb_test_pred = nb.predict(x_test)\n",
    "nb_test_accuracy = accuracy_score(y_test,y_nb_test_pred)\n",
    "print(\"Accuracy of Naive Bayes Testing Dataset: \",nb_test_accuracy)"
   ]
  },
  {
   "cell_type": "markdown",
   "id": "19c0530f",
   "metadata": {},
   "source": [
    "## Applying SVM"
   ]
  },
  {
   "cell_type": "code",
   "execution_count": 44,
   "id": "dffdc762",
   "metadata": {},
   "outputs": [],
   "source": [
    "from sklearn.svm import LinearSVC\n",
    "svc = LinearSVC()"
   ]
  },
  {
   "cell_type": "code",
   "execution_count": 103,
   "id": "2e09ab99",
   "metadata": {},
   "outputs": [
    {
     "name": "stderr",
     "output_type": "stream",
     "text": [
      "c:\\users\\hebbar\\appdata\\local\\programs\\python\\python39\\lib\\site-packages\\sklearn\\utils\\validation.py:985: DataConversionWarning: A column-vector y was passed when a 1d array was expected. Please change the shape of y to (n_samples, ), for example using ravel().\n",
      "  y = column_or_1d(y, warn=True)\n"
     ]
    },
    {
     "name": "stdout",
     "output_type": "stream",
     "text": [
      "Time elapsed 75.70233845710754\n"
     ]
    }
   ],
   "source": [
    "s = time()\n",
    "svc.fit(x_train_sc,y_train)\n",
    "svc_time = time()-s\n",
    "print(\"Time elapsed\",svc_time)"
   ]
  },
  {
   "cell_type": "markdown",
   "id": "f3b834ac",
   "metadata": {},
   "source": [
    "### Training accuracy"
   ]
  },
  {
   "cell_type": "code",
   "execution_count": 46,
   "id": "c8e88e79",
   "metadata": {},
   "outputs": [
    {
     "data": {
      "text/plain": [
       "0.984418435624424"
      ]
     },
     "execution_count": 46,
     "metadata": {},
     "output_type": "execute_result"
    }
   ],
   "source": [
    "svc.score(x_train_sc,y_train)"
   ]
  },
  {
   "cell_type": "markdown",
   "id": "f02d223b",
   "metadata": {},
   "source": [
    "### Testing accuracy"
   ]
  },
  {
   "cell_type": "code",
   "execution_count": 47,
   "id": "38e03d98",
   "metadata": {},
   "outputs": [
    {
     "data": {
      "text/plain": [
       "0.9836467242871433"
      ]
     },
     "execution_count": 47,
     "metadata": {},
     "output_type": "execute_result"
    }
   ],
   "source": [
    "svc.score(x_test_sc,y_test)"
   ]
  },
  {
   "cell_type": "markdown",
   "id": "b5c80d70",
   "metadata": {},
   "source": [
    "### Accuracy of the model"
   ]
  },
  {
   "cell_type": "code",
   "execution_count": 48,
   "id": "6bcec002",
   "metadata": {},
   "outputs": [
    {
     "name": "stdout",
     "output_type": "stream",
     "text": [
      "Accuracy of Support Vector Machine Training Dataset:  0.984418435624424\n"
     ]
    }
   ],
   "source": [
    "y_svc_train_pred = svc.predict(x_train_sc)\n",
    "svc_train_accuracy = accuracy_score(y_train,y_svc_train_pred)\n",
    "print(\"Accuracy of Support Vector Machine Training Dataset: \",svc_train_accuracy)"
   ]
  },
  {
   "cell_type": "code",
   "execution_count": 49,
   "id": "f60d9b13",
   "metadata": {},
   "outputs": [
    {
     "name": "stdout",
     "output_type": "stream",
     "text": [
      "Accuracy of Support Vector Machine Testing Dataset:  0.9836467242871433\n"
     ]
    }
   ],
   "source": [
    "y_svc_test_pred = svc.predict(x_test_sc)\n",
    "svc_test_accuracy = accuracy_score(y_test,y_svc_test_pred)\n",
    "print(\"Accuracy of Support Vector Machine Testing Dataset: \",svc_test_accuracy)"
   ]
  },
  {
   "cell_type": "markdown",
   "id": "18f27129",
   "metadata": {},
   "source": [
    "## Applying Artificial Neural Network using Tensorflow"
   ]
  },
  {
   "cell_type": "code",
   "execution_count": 50,
   "id": "26c08d5a",
   "metadata": {},
   "outputs": [],
   "source": [
    "import tensorflow as tf\n",
    "from tensorflow.keras import Sequential,layers"
   ]
  },
  {
   "cell_type": "code",
   "execution_count": 51,
   "id": "1a7ab62b",
   "metadata": {},
   "outputs": [
    {
     "data": {
      "text/plain": [
       "((266918,), (88973,))"
      ]
     },
     "execution_count": 51,
     "metadata": {},
     "output_type": "execute_result"
    }
   ],
   "source": [
    "y_train.shape,y_test.shape"
   ]
  },
  {
   "cell_type": "code",
   "execution_count": 52,
   "id": "dd443612",
   "metadata": {},
   "outputs": [],
   "source": [
    "y_train = y_train.reshape(-1,1)"
   ]
  },
  {
   "cell_type": "code",
   "execution_count": 53,
   "id": "e766391d",
   "metadata": {},
   "outputs": [],
   "source": [
    "y_test = y_test.reshape(-1,1)"
   ]
  },
  {
   "cell_type": "code",
   "execution_count": 54,
   "id": "34aa8b19",
   "metadata": {},
   "outputs": [
    {
     "data": {
      "text/plain": [
       "((266918, 1), (88973, 1))"
      ]
     },
     "execution_count": 54,
     "metadata": {},
     "output_type": "execute_result"
    }
   ],
   "source": [
    "y_train.shape,y_test.shape"
   ]
  },
  {
   "cell_type": "code",
   "execution_count": 55,
   "id": "6e0afb52",
   "metadata": {},
   "outputs": [
    {
     "data": {
      "text/plain": [
       "((266918, 11), (266918, 11), (88973, 11), (88973, 11))"
      ]
     },
     "execution_count": 55,
     "metadata": {},
     "output_type": "execute_result"
    }
   ],
   "source": [
    "x_train.shape,x_train_sc.shape,x_test.shape,x_test_sc.shape"
   ]
  },
  {
   "cell_type": "code",
   "execution_count": 102,
   "id": "0bac471d",
   "metadata": {},
   "outputs": [
    {
     "name": "stdout",
     "output_type": "stream",
     "text": [
      "Epoch 1/20\n",
      "8342/8342 [==============================] - 6s 665us/step - loss: 0.0598 - accuracy: 0.9856\n",
      "Epoch 2/20\n",
      "8342/8342 [==============================] - 6s 743us/step - loss: 0.0217 - accuracy: 0.9919\n",
      "Epoch 3/20\n",
      "8342/8342 [==============================] - 10s 1ms/step - loss: 0.0150 - accuracy: 0.9933\n",
      "Epoch 4/20\n",
      "8342/8342 [==============================] - 17s 2ms/step - loss: 0.0125 - accuracy: 0.9940\n",
      "Epoch 5/20\n",
      "8342/8342 [==============================] - 17s 2ms/step - loss: 0.0118 - accuracy: 0.9943\n",
      "Epoch 6/20\n",
      "8342/8342 [==============================] - 23s 3ms/step - loss: 0.0115 - accuracy: 0.9943\n",
      "Epoch 7/20\n",
      "8342/8342 [==============================] - 17s 2ms/step - loss: 0.0114 - accuracy: 0.9943\n",
      "Epoch 8/20\n",
      "8342/8342 [==============================] - 15s 2ms/step - loss: 0.0115 - accuracy: 0.9943\n",
      "Epoch 9/20\n",
      "8342/8342 [==============================] - 15s 2ms/step - loss: 0.0113 - accuracy: 0.9944\n",
      "Epoch 10/20\n",
      "8342/8342 [==============================] - 13s 2ms/step - loss: 0.0113 - accuracy: 0.9944\n",
      "Epoch 11/20\n",
      "8342/8342 [==============================] - 12s 1ms/step - loss: 0.0114 - accuracy: 0.9943\n",
      "Epoch 12/20\n",
      "8342/8342 [==============================] - 15s 2ms/step - loss: 0.0111 - accuracy: 0.9944\n",
      "Epoch 13/20\n",
      "8342/8342 [==============================] - 18s 2ms/step - loss: 0.0111 - accuracy: 0.9944\n",
      "Epoch 14/20\n",
      "8342/8342 [==============================] - 18s 2ms/step - loss: 0.0114 - accuracy: 0.9944 0s - loss: 0.0\n",
      "Epoch 15/20\n",
      "8342/8342 [==============================] - 17s 2ms/step - loss: 0.0114 - accuracy: 0.9944\n",
      "Epoch 16/20\n",
      "8342/8342 [==============================] - 18s 2ms/step - loss: 0.0112 - accuracy: 0.9944ETA: 2s - loss: 0.011\n",
      "Epoch 17/20\n",
      "8342/8342 [==============================] - 20s 2ms/step - loss: 0.0113 - accuracy: 0.9944\n",
      "Epoch 18/20\n",
      "8342/8342 [==============================] - 19s 2ms/step - loss: 0.0111 - accuracy: 0.9944\n",
      "Epoch 19/20\n",
      "8342/8342 [==============================] - 16s 2ms/step - loss: 0.0113 - accuracy: 0.9944\n",
      "Epoch 20/20\n",
      "8342/8342 [==============================] - 15s 2ms/step - loss: 0.0112 - accuracy: 0.9944\n",
      "Time elapsed 310.154185295105\n"
     ]
    }
   ],
   "source": [
    "ann = Sequential([\n",
    "    layers.Dense(10,input_shape=(11,),activation='relu'),\n",
    "    layers.Dense(20,activation='relu'),\n",
    "    layers.Dense(20,activation='relu'),\n",
    "    layers.Dense(8,activation='sigmoid'),\n",
    "    \n",
    "])\n",
    "\n",
    "ann.compile(optimizer='adam',\n",
    "             loss = 'sparse_categorical_crossentropy',\n",
    "             metrics=['accuracy'])\n",
    "s = time()\n",
    "ann.fit(x_train_sc,y_train,epochs= 20)\n",
    "ann_time = time()-s\n",
    "print(\"Time elapsed\",ann_time)"
   ]
  },
  {
   "cell_type": "markdown",
   "id": "0f001ce9",
   "metadata": {},
   "source": [
    "## Training Accuracy"
   ]
  },
  {
   "cell_type": "code",
   "execution_count": 105,
   "id": "a2e40840",
   "metadata": {},
   "outputs": [
    {
     "name": "stdout",
     "output_type": "stream",
     "text": [
      "8342/8342 [==============================] - 4s 527us/step - loss: 0.0109 - accuracy: 0.99440s - loss: 0.0\n"
     ]
    },
    {
     "data": {
      "text/plain": [
       "0.9944440126419067"
      ]
     },
     "execution_count": 105,
     "metadata": {},
     "output_type": "execute_result"
    }
   ],
   "source": [
    "loss_train, ann_train_accuracy = ann.evaluate(x_train_sc,y_train)\n",
    "ann_train_accuracy"
   ]
  },
  {
   "cell_type": "code",
   "execution_count": 106,
   "id": "85c45250",
   "metadata": {},
   "outputs": [
    {
     "name": "stdout",
     "output_type": "stream",
     "text": [
      "2781/2781 [==============================] - 1s 526us/step - loss: 0.0112 - accuracy: 0.9941\n"
     ]
    },
    {
     "data": {
      "text/plain": [
       "0.9941105842590332"
      ]
     },
     "execution_count": 106,
     "metadata": {},
     "output_type": "execute_result"
    }
   ],
   "source": [
    "loss_test, ann_test_accuracy = ann.evaluate(x_test_sc,y_test)\n",
    "ann_test_accuracy"
   ]
  },
  {
   "cell_type": "markdown",
   "id": "393179e6",
   "metadata": {},
   "source": [
    "## Evaluation Metrics"
   ]
  },
  {
   "cell_type": "code",
   "execution_count": 59,
   "id": "440f0d5d",
   "metadata": {},
   "outputs": [],
   "source": [
    "target_names = ['Normal', 'DoSattack', 'scan', 'malitiousControl', 'malitiousOperation', 'spying', 'dataProbing', 'wrongSetUp']"
   ]
  },
  {
   "cell_type": "code",
   "execution_count": 60,
   "id": "404c408e",
   "metadata": {},
   "outputs": [
    {
     "data": {
      "text/plain": [
       "['Normal',\n",
       " 'DoSattack',\n",
       " 'scan',\n",
       " 'malitiousControl',\n",
       " 'malitiousOperation',\n",
       " 'spying',\n",
       " 'dataProbing',\n",
       " 'wrongSetUp']"
      ]
     },
     "execution_count": 60,
     "metadata": {},
     "output_type": "execute_result"
    }
   ],
   "source": [
    "target_names"
   ]
  },
  {
   "cell_type": "markdown",
   "id": "b4866fb6",
   "metadata": {},
   "source": [
    "## Classification Report of Logistic Regression"
   ]
  },
  {
   "cell_type": "markdown",
   "id": "e3b17bd2",
   "metadata": {},
   "source": [
    "### For Training Dataset"
   ]
  },
  {
   "cell_type": "code",
   "execution_count": 61,
   "id": "da2e5dac",
   "metadata": {},
   "outputs": [
    {
     "name": "stdout",
     "output_type": "stream",
     "text": [
      "                    precision    recall  f1-score   support\n",
      "\n",
      "            Normal       0.95      0.50      0.66      2986\n",
      "         DoSattack       1.00      0.83      0.90       183\n",
      "              scan       0.98      0.93      0.95       679\n",
      "  malitiousControl       0.82      0.75      0.78       508\n",
      "malitiousOperation       0.88      0.47      0.62      1129\n",
      "            spying       0.00      0.00      0.00       378\n",
      "       dataProbing       0.94      1.00      0.97        91\n",
      "        wrongSetUp       0.99      1.00      0.99    260964\n",
      "\n",
      "          accuracy                           0.99    266918\n",
      "         macro avg       0.82      0.68      0.73    266918\n",
      "      weighted avg       0.99      0.99      0.99    266918\n",
      "\n"
     ]
    }
   ],
   "source": [
    "print(classification_report(y_train, y_lr_train_pred, target_names=target_names))"
   ]
  },
  {
   "cell_type": "markdown",
   "id": "8e654888",
   "metadata": {},
   "source": [
    "### For Testing Dataset"
   ]
  },
  {
   "cell_type": "code",
   "execution_count": 62,
   "id": "9f440d5f",
   "metadata": {},
   "outputs": [
    {
     "name": "stdout",
     "output_type": "stream",
     "text": [
      "                    precision    recall  f1-score   support\n",
      "\n",
      "            Normal       0.94      0.49      0.64      1014\n",
      "         DoSattack       1.00      0.83      0.91        59\n",
      "              scan       1.00      0.91      0.95       210\n",
      "  malitiousControl       0.80      0.68      0.74       149\n",
      "malitiousOperation       0.90      0.50      0.64       402\n",
      "            spying       0.00      0.00      0.00       154\n",
      "       dataProbing       0.86      1.00      0.93        31\n",
      "        wrongSetUp       0.99      1.00      0.99     86954\n",
      "\n",
      "          accuracy                           0.99     88973\n",
      "         macro avg       0.81      0.68      0.73     88973\n",
      "      weighted avg       0.99      0.99      0.99     88973\n",
      "\n"
     ]
    }
   ],
   "source": [
    "print(classification_report(y_test, y_lr_test_pred, target_names=target_names))"
   ]
  },
  {
   "cell_type": "markdown",
   "id": "9e97ba97",
   "metadata": {},
   "source": [
    "## Confusion Matrix for Logistic Regression"
   ]
  },
  {
   "cell_type": "markdown",
   "id": "8c26386c",
   "metadata": {},
   "source": [
    "### For Training dataset"
   ]
  },
  {
   "cell_type": "code",
   "execution_count": 63,
   "id": "e4f71e0d",
   "metadata": {},
   "outputs": [
    {
     "data": {
      "text/plain": [
       "array([[  1507,      0,      0,      0,      0,      0,      0,   1479],\n",
       "       [     0,    151,      0,      0,      0,      0,      0,     32],\n",
       "       [     0,      0,    629,      9,     28,      0,      0,     13],\n",
       "       [     0,      0,      0,    381,      0,      0,      0,    127],\n",
       "       [     0,      0,     10,      0,    534,      0,      6,    579],\n",
       "       [     0,      0,      0,      0,     26,      0,      0,    352],\n",
       "       [     0,      0,      0,      0,      0,      0,     91,      0],\n",
       "       [    86,      0,      1,     76,     16,     56,      0, 260729]],\n",
       "      dtype=int64)"
      ]
     },
     "execution_count": 63,
     "metadata": {},
     "output_type": "execute_result"
    }
   ],
   "source": [
    "confusion_matrix(y_train, y_lr_train_pred)"
   ]
  },
  {
   "cell_type": "markdown",
   "id": "3b08805a",
   "metadata": {},
   "source": [
    "### For Testing dataset"
   ]
  },
  {
   "cell_type": "code",
   "execution_count": 64,
   "id": "29973fe3",
   "metadata": {},
   "outputs": [
    {
     "data": {
      "text/plain": [
       "array([[  493,     0,     0,     0,     0,     0,     0,   521],\n",
       "       [    0,    49,     0,     0,     0,     0,     0,    10],\n",
       "       [    0,     0,   191,     4,    10,     0,     0,     5],\n",
       "       [    0,     0,     0,   102,     0,     0,     0,    47],\n",
       "       [    0,     0,     0,     0,   201,     0,     5,   196],\n",
       "       [    0,     0,     0,     0,     9,     0,     0,   145],\n",
       "       [    0,     0,     0,     0,     0,     0,    31,     0],\n",
       "       [   29,     0,     0,    21,     4,    11,     0, 86889]],\n",
       "      dtype=int64)"
      ]
     },
     "execution_count": 64,
     "metadata": {},
     "output_type": "execute_result"
    }
   ],
   "source": [
    "confusion_matrix(y_test, y_lr_test_pred)"
   ]
  },
  {
   "cell_type": "markdown",
   "id": "a725405d",
   "metadata": {},
   "source": [
    "## Classification Report for K Nearest Neighbour"
   ]
  },
  {
   "cell_type": "markdown",
   "id": "b0832fe2",
   "metadata": {},
   "source": [
    "### For Training Dataset"
   ]
  },
  {
   "cell_type": "code",
   "execution_count": 65,
   "id": "dbdb8eb8",
   "metadata": {},
   "outputs": [
    {
     "name": "stdout",
     "output_type": "stream",
     "text": [
      "                    precision    recall  f1-score   support\n",
      "\n",
      "            Normal       0.63      1.00      0.78      2986\n",
      "         DoSattack       1.00      1.00      1.00       183\n",
      "              scan       1.00      1.00      1.00       679\n",
      "  malitiousControl       1.00      1.00      1.00       508\n",
      "malitiousOperation       1.00      1.00      1.00      1129\n",
      "            spying       1.00      1.00      1.00       378\n",
      "       dataProbing       1.00      1.00      1.00        91\n",
      "        wrongSetUp       1.00      0.99      1.00    260964\n",
      "\n",
      "          accuracy                           0.99    266918\n",
      "         macro avg       0.95      1.00      0.97    266918\n",
      "      weighted avg       1.00      0.99      0.99    266918\n",
      "\n"
     ]
    }
   ],
   "source": [
    "print(classification_report(y_train, y_knn_train_pred, target_names=target_names))"
   ]
  },
  {
   "cell_type": "markdown",
   "id": "e09daac5",
   "metadata": {},
   "source": [
    "### For Testing Dataset"
   ]
  },
  {
   "cell_type": "code",
   "execution_count": 66,
   "id": "b47a2807",
   "metadata": {},
   "outputs": [
    {
     "name": "stdout",
     "output_type": "stream",
     "text": [
      "                    precision    recall  f1-score   support\n",
      "\n",
      "            Normal       0.65      1.00      0.79      1014\n",
      "         DoSattack       1.00      1.00      1.00        59\n",
      "              scan       1.00      1.00      1.00       210\n",
      "  malitiousControl       1.00      1.00      1.00       149\n",
      "malitiousOperation       1.00      1.00      1.00       402\n",
      "            spying       1.00      1.00      1.00       154\n",
      "       dataProbing       1.00      1.00      1.00        31\n",
      "        wrongSetUp       1.00      0.99      1.00     86954\n",
      "\n",
      "          accuracy                           0.99     88973\n",
      "         macro avg       0.96      1.00      0.97     88973\n",
      "      weighted avg       1.00      0.99      0.99     88973\n",
      "\n"
     ]
    }
   ],
   "source": [
    "print(classification_report(y_test, y_knn_test_pred, target_names=target_names))"
   ]
  },
  {
   "cell_type": "markdown",
   "id": "10d26a18",
   "metadata": {},
   "source": [
    "## Confusion Matrix for K Nearest Neighbour"
   ]
  },
  {
   "cell_type": "markdown",
   "id": "5c9ec8d9",
   "metadata": {},
   "source": [
    "### For Training dataset"
   ]
  },
  {
   "cell_type": "code",
   "execution_count": 67,
   "id": "59266b1c",
   "metadata": {},
   "outputs": [
    {
     "data": {
      "text/plain": [
       "array([[  2986,      0,      0,      0,      0,      0,      0,      0],\n",
       "       [     0,    183,      0,      0,      0,      0,      0,      0],\n",
       "       [     0,      0,    679,      0,      0,      0,      0,      0],\n",
       "       [     0,      0,      0,    508,      0,      0,      0,      0],\n",
       "       [     0,      0,      0,      0,   1129,      0,      0,      0],\n",
       "       [     0,      0,      0,      0,      0,    378,      0,      0],\n",
       "       [     0,      0,      0,      0,      0,      0,     91,      0],\n",
       "       [  1733,      0,      0,      0,      2,      1,      0, 259228]],\n",
       "      dtype=int64)"
      ]
     },
     "execution_count": 67,
     "metadata": {},
     "output_type": "execute_result"
    }
   ],
   "source": [
    "confusion_matrix(y_train, y_knn_train_pred)"
   ]
  },
  {
   "cell_type": "markdown",
   "id": "0d3b6e87",
   "metadata": {},
   "source": [
    "### For Testing dataset"
   ]
  },
  {
   "cell_type": "code",
   "execution_count": 68,
   "id": "96583eb4",
   "metadata": {},
   "outputs": [
    {
     "data": {
      "text/plain": [
       "array([[ 1014,     0,     0,     0,     0,     0,     0,     0],\n",
       "       [    0,    59,     0,     0,     0,     0,     0,     0],\n",
       "       [    0,     0,   210,     0,     0,     0,     0,     0],\n",
       "       [    0,     0,     0,   149,     0,     0,     0,     0],\n",
       "       [    0,     0,     0,     0,   402,     0,     0,     0],\n",
       "       [    0,     0,     0,     0,     0,   154,     0,     0],\n",
       "       [    0,     0,     0,     0,     0,     0,    31,     0],\n",
       "       [  551,     0,     0,     0,     2,     0,     0, 86401]],\n",
       "      dtype=int64)"
      ]
     },
     "execution_count": 68,
     "metadata": {},
     "output_type": "execute_result"
    }
   ],
   "source": [
    "confusion_matrix(y_test, y_knn_test_pred)"
   ]
  },
  {
   "cell_type": "markdown",
   "id": "7ecf1876",
   "metadata": {},
   "source": [
    "## Classification Report for Decision Tree Classifier"
   ]
  },
  {
   "cell_type": "markdown",
   "id": "a9cc10f5",
   "metadata": {},
   "source": [
    "### For Training Dataset"
   ]
  },
  {
   "cell_type": "code",
   "execution_count": 69,
   "id": "316ae4a9",
   "metadata": {},
   "outputs": [
    {
     "name": "stdout",
     "output_type": "stream",
     "text": [
      "                    precision    recall  f1-score   support\n",
      "\n",
      "            Normal       1.00      0.50      0.67      2986\n",
      "         DoSattack       1.00      1.00      1.00       183\n",
      "              scan       1.00      1.00      1.00       679\n",
      "  malitiousControl       1.00      1.00      1.00       508\n",
      "malitiousOperation       1.00      1.00      1.00      1129\n",
      "            spying       1.00      1.00      1.00       378\n",
      "       dataProbing       1.00      1.00      1.00        91\n",
      "        wrongSetUp       0.99      1.00      1.00    260964\n",
      "\n",
      "          accuracy                           0.99    266918\n",
      "         macro avg       1.00      0.94      0.96    266918\n",
      "      weighted avg       0.99      0.99      0.99    266918\n",
      "\n"
     ]
    }
   ],
   "source": [
    "print(classification_report(y_train, y_dtc_train_pred, target_names=target_names))"
   ]
  },
  {
   "cell_type": "markdown",
   "id": "5f63aec7",
   "metadata": {},
   "source": [
    "### For Testing Dataset"
   ]
  },
  {
   "cell_type": "code",
   "execution_count": 70,
   "id": "7c8f4d73",
   "metadata": {},
   "outputs": [
    {
     "name": "stdout",
     "output_type": "stream",
     "text": [
      "                    precision    recall  f1-score   support\n",
      "\n",
      "            Normal       1.00      0.49      0.65      1014\n",
      "         DoSattack       1.00      1.00      1.00        59\n",
      "              scan       1.00      1.00      1.00       210\n",
      "  malitiousControl       1.00      1.00      1.00       149\n",
      "malitiousOperation       1.00      1.00      1.00       402\n",
      "            spying       0.99      1.00      0.99       154\n",
      "       dataProbing       1.00      1.00      1.00        31\n",
      "        wrongSetUp       0.99      1.00      1.00     86954\n",
      "\n",
      "          accuracy                           0.99     88973\n",
      "         macro avg       1.00      0.94      0.96     88973\n",
      "      weighted avg       0.99      0.99      0.99     88973\n",
      "\n"
     ]
    }
   ],
   "source": [
    "print(classification_report(y_test, y_dtc_test_pred, target_names=target_names))"
   ]
  },
  {
   "cell_type": "markdown",
   "id": "70cca8da",
   "metadata": {},
   "source": [
    "## Confusion Matrix for Decision Tree Classifier"
   ]
  },
  {
   "cell_type": "markdown",
   "id": "58b77a79",
   "metadata": {},
   "source": [
    "### For Training dataset"
   ]
  },
  {
   "cell_type": "code",
   "execution_count": 71,
   "id": "4c95e029",
   "metadata": {},
   "outputs": [
    {
     "data": {
      "text/plain": [
       "array([[  1507,      0,      0,      0,      0,      0,      0,   1479],\n",
       "       [     0,    183,      0,      0,      0,      0,      0,      0],\n",
       "       [     0,      0,    679,      0,      0,      0,      0,      0],\n",
       "       [     0,      0,      0,    508,      0,      0,      0,      0],\n",
       "       [     0,      0,      0,      0,   1129,      0,      0,      0],\n",
       "       [     0,      0,      0,      0,      0,    378,      0,      0],\n",
       "       [     0,      0,      0,      0,      0,      0,     91,      0],\n",
       "       [     0,      0,      0,      0,      0,      0,      0, 260964]],\n",
       "      dtype=int64)"
      ]
     },
     "execution_count": 71,
     "metadata": {},
     "output_type": "execute_result"
    }
   ],
   "source": [
    "confusion_matrix(y_train, y_dtc_train_pred)"
   ]
  },
  {
   "cell_type": "markdown",
   "id": "bd86d021",
   "metadata": {},
   "source": [
    "### For Testing dataset"
   ]
  },
  {
   "cell_type": "code",
   "execution_count": 72,
   "id": "21f53493",
   "metadata": {},
   "outputs": [
    {
     "data": {
      "text/plain": [
       "array([[  493,     0,     0,     0,     0,     0,     0,   521],\n",
       "       [    0,    59,     0,     0,     0,     0,     0,     0],\n",
       "       [    0,     0,   210,     0,     0,     0,     0,     0],\n",
       "       [    0,     0,     0,   149,     0,     0,     0,     0],\n",
       "       [    0,     0,     0,     0,   402,     0,     0,     0],\n",
       "       [    0,     0,     0,     0,     0,   154,     0,     0],\n",
       "       [    0,     0,     0,     0,     0,     0,    31,     0],\n",
       "       [    0,     0,     0,     0,     2,     2,     0, 86950]],\n",
       "      dtype=int64)"
      ]
     },
     "execution_count": 72,
     "metadata": {},
     "output_type": "execute_result"
    }
   ],
   "source": [
    "confusion_matrix(y_test, y_dtc_test_pred)"
   ]
  },
  {
   "cell_type": "markdown",
   "id": "a541386d",
   "metadata": {},
   "source": [
    "## Classification Report for Random Forest Classifier"
   ]
  },
  {
   "cell_type": "markdown",
   "id": "1a137861",
   "metadata": {},
   "source": [
    "### For Training Dataset"
   ]
  },
  {
   "cell_type": "code",
   "execution_count": 73,
   "id": "554e2cbb",
   "metadata": {},
   "outputs": [
    {
     "name": "stdout",
     "output_type": "stream",
     "text": [
      "                    precision    recall  f1-score   support\n",
      "\n",
      "            Normal       1.00      0.50      0.67      2986\n",
      "         DoSattack       1.00      1.00      1.00       183\n",
      "              scan       1.00      1.00      1.00       679\n",
      "  malitiousControl       1.00      1.00      1.00       508\n",
      "malitiousOperation       1.00      1.00      1.00      1129\n",
      "            spying       1.00      1.00      1.00       378\n",
      "       dataProbing       1.00      1.00      1.00        91\n",
      "        wrongSetUp       0.99      1.00      1.00    260964\n",
      "\n",
      "          accuracy                           0.99    266918\n",
      "         macro avg       1.00      0.94      0.96    266918\n",
      "      weighted avg       0.99      0.99      0.99    266918\n",
      "\n"
     ]
    }
   ],
   "source": [
    "print(classification_report(y_train, y_rfc_train_pred, target_names=target_names))"
   ]
  },
  {
   "cell_type": "markdown",
   "id": "e1df52d5",
   "metadata": {},
   "source": [
    "### For Testing Dataset"
   ]
  },
  {
   "cell_type": "code",
   "execution_count": 74,
   "id": "e3517fbc",
   "metadata": {},
   "outputs": [
    {
     "name": "stdout",
     "output_type": "stream",
     "text": [
      "                    precision    recall  f1-score   support\n",
      "\n",
      "            Normal       1.00      0.49      0.65      1014\n",
      "         DoSattack       1.00      1.00      1.00        59\n",
      "              scan       1.00      1.00      1.00       210\n",
      "  malitiousControl       1.00      1.00      1.00       149\n",
      "malitiousOperation       1.00      1.00      1.00       402\n",
      "            spying       1.00      1.00      1.00       154\n",
      "       dataProbing       1.00      1.00      1.00        31\n",
      "        wrongSetUp       0.99      1.00      1.00     86954\n",
      "\n",
      "          accuracy                           0.99     88973\n",
      "         macro avg       1.00      0.94      0.96     88973\n",
      "      weighted avg       0.99      0.99      0.99     88973\n",
      "\n"
     ]
    }
   ],
   "source": [
    "print(classification_report(y_test, y_rfc_test_pred, target_names=target_names))"
   ]
  },
  {
   "cell_type": "markdown",
   "id": "01fd0aee",
   "metadata": {},
   "source": [
    "## Confusion Matrix for Random Forest Classifier"
   ]
  },
  {
   "cell_type": "markdown",
   "id": "dcb4c6fe",
   "metadata": {},
   "source": [
    "### For Training dataset"
   ]
  },
  {
   "cell_type": "code",
   "execution_count": 75,
   "id": "4af729e7",
   "metadata": {},
   "outputs": [
    {
     "data": {
      "text/plain": [
       "array([[  1507,      0,      0,      0,      0,      0,      0,   1479],\n",
       "       [     0,    183,      0,      0,      0,      0,      0,      0],\n",
       "       [     0,      0,    679,      0,      0,      0,      0,      0],\n",
       "       [     0,      0,      0,    508,      0,      0,      0,      0],\n",
       "       [     0,      0,      0,      0,   1129,      0,      0,      0],\n",
       "       [     0,      0,      0,      0,      0,    378,      0,      0],\n",
       "       [     0,      0,      0,      0,      0,      0,     91,      0],\n",
       "       [     0,      0,      0,      0,      0,      0,      0, 260964]],\n",
       "      dtype=int64)"
      ]
     },
     "execution_count": 75,
     "metadata": {},
     "output_type": "execute_result"
    }
   ],
   "source": [
    "confusion_matrix(y_train, y_rfc_train_pred)"
   ]
  },
  {
   "cell_type": "markdown",
   "id": "1f780586",
   "metadata": {},
   "source": [
    "### For Testing dataset"
   ]
  },
  {
   "cell_type": "code",
   "execution_count": 76,
   "id": "f2a49166",
   "metadata": {},
   "outputs": [
    {
     "data": {
      "text/plain": [
       "array([[  493,     0,     0,     0,     0,     0,     0,   521],\n",
       "       [    0,    59,     0,     0,     0,     0,     0,     0],\n",
       "       [    0,     0,   210,     0,     0,     0,     0,     0],\n",
       "       [    0,     0,     0,   149,     0,     0,     0,     0],\n",
       "       [    0,     0,     0,     0,   402,     0,     0,     0],\n",
       "       [    0,     0,     0,     0,     0,   154,     0,     0],\n",
       "       [    0,     0,     0,     0,     0,     0,    31,     0],\n",
       "       [    0,     0,     0,     0,     1,     0,     0, 86953]],\n",
       "      dtype=int64)"
      ]
     },
     "execution_count": 76,
     "metadata": {},
     "output_type": "execute_result"
    }
   ],
   "source": [
    "confusion_matrix(y_test, y_rfc_test_pred)"
   ]
  },
  {
   "cell_type": "markdown",
   "id": "a84915ff",
   "metadata": {},
   "source": [
    "## Classification Report for Naive Bayes"
   ]
  },
  {
   "cell_type": "markdown",
   "id": "bfae14e4",
   "metadata": {},
   "source": [
    "### For Training Dataset"
   ]
  },
  {
   "cell_type": "code",
   "execution_count": 77,
   "id": "84e52f03",
   "metadata": {},
   "outputs": [
    {
     "name": "stdout",
     "output_type": "stream",
     "text": [
      "                    precision    recall  f1-score   support\n",
      "\n",
      "            Normal       0.34      1.00      0.50      2986\n",
      "         DoSattack       0.04      0.83      0.07       183\n",
      "              scan       0.19      0.93      0.32       679\n",
      "  malitiousControl       0.66      1.00      0.80       508\n",
      "malitiousOperation       1.00      0.12      0.22      1129\n",
      "            spying       0.01      0.93      0.01       378\n",
      "       dataProbing       1.00      1.00      1.00        91\n",
      "        wrongSetUp       1.00      0.75      0.86    260964\n",
      "\n",
      "          accuracy                           0.75    266918\n",
      "         macro avg       0.53      0.82      0.47    266918\n",
      "      weighted avg       0.99      0.75      0.85    266918\n",
      "\n"
     ]
    }
   ],
   "source": [
    "print(classification_report(y_train, y_nb_train_pred, target_names=target_names))"
   ]
  },
  {
   "cell_type": "markdown",
   "id": "7211c211",
   "metadata": {},
   "source": [
    "### For Testing Dataset"
   ]
  },
  {
   "cell_type": "code",
   "execution_count": 78,
   "id": "f110328e",
   "metadata": {},
   "outputs": [
    {
     "name": "stdout",
     "output_type": "stream",
     "text": [
      "                    precision    recall  f1-score   support\n",
      "\n",
      "            Normal       0.34      1.00      0.51      1014\n",
      "         DoSattack       0.04      0.83      0.07        59\n",
      "              scan       0.18      0.91      0.30       210\n",
      "  malitiousControl       0.67      1.00      0.80       149\n",
      "malitiousOperation       1.00      0.13      0.24       402\n",
      "            spying       0.01      0.95      0.02       154\n",
      "       dataProbing       1.00      1.00      1.00        31\n",
      "        wrongSetUp       1.00      0.75      0.86     86954\n",
      "\n",
      "          accuracy                           0.75     88973\n",
      "         macro avg       0.53      0.82      0.47     88973\n",
      "      weighted avg       0.99      0.75      0.85     88973\n",
      "\n"
     ]
    }
   ],
   "source": [
    "print(classification_report(y_test, y_nb_test_pred, target_names=target_names))"
   ]
  },
  {
   "cell_type": "markdown",
   "id": "7330cb72",
   "metadata": {},
   "source": [
    "## Confusion Matrix for Naive Bayes"
   ]
  },
  {
   "cell_type": "markdown",
   "id": "865fc567",
   "metadata": {},
   "source": [
    "### For Training dataset"
   ]
  },
  {
   "cell_type": "code",
   "execution_count": 79,
   "id": "bd74af34",
   "metadata": {},
   "outputs": [
    {
     "data": {
      "text/plain": [
       "array([[  2986,      0,      0,      0,      0,      0,      0,      0],\n",
       "       [     0,    151,      0,      0,      0,      0,      0,     32],\n",
       "       [     0,      0,    629,      0,      0,      7,      0,     43],\n",
       "       [     0,      0,      0,    508,      0,      0,      0,      0],\n",
       "       [    14,      0,      0,      0,    140,    624,      0,    351],\n",
       "       [     0,      0,     27,      0,      0,    351,      0,      0],\n",
       "       [     0,      0,      0,      0,      0,      0,     91,      0],\n",
       "       [  5905,   3808,   2616,    258,      0,  51741,      0, 196636]],\n",
       "      dtype=int64)"
      ]
     },
     "execution_count": 79,
     "metadata": {},
     "output_type": "execute_result"
    }
   ],
   "source": [
    "confusion_matrix(y_train, y_nb_train_pred)"
   ]
  },
  {
   "cell_type": "markdown",
   "id": "9a8377ed",
   "metadata": {},
   "source": [
    "### For Testing dataset"
   ]
  },
  {
   "cell_type": "code",
   "execution_count": 80,
   "id": "a18bfa3a",
   "metadata": {},
   "outputs": [
    {
     "data": {
      "text/plain": [
       "array([[ 1014,     0,     0,     0,     0,     0,     0,     0],\n",
       "       [    0,    49,     0,     0,     0,     0,     0,    10],\n",
       "       [    0,     0,   191,     0,     0,     2,     0,    17],\n",
       "       [    0,     0,     0,   149,     0,     0,     0,     0],\n",
       "       [    8,     0,     0,     0,    54,   224,     0,   116],\n",
       "       [    0,     0,     8,     0,     0,   146,     0,     0],\n",
       "       [    0,     0,     0,     0,     0,     0,    31,     0],\n",
       "       [ 1927,  1267,   878,    74,     0, 17343,     0, 65465]],\n",
       "      dtype=int64)"
      ]
     },
     "execution_count": 80,
     "metadata": {},
     "output_type": "execute_result"
    }
   ],
   "source": [
    "confusion_matrix(y_test, y_nb_test_pred)"
   ]
  },
  {
   "cell_type": "markdown",
   "id": "c0d765e0",
   "metadata": {},
   "source": [
    "## Classification Report for Support Vector Machine Classifier"
   ]
  },
  {
   "cell_type": "markdown",
   "id": "450a3aec",
   "metadata": {},
   "source": [
    "### For Training Dataset"
   ]
  },
  {
   "cell_type": "code",
   "execution_count": 81,
   "id": "e2cc3a78",
   "metadata": {},
   "outputs": [
    {
     "data": {
      "text/plain": [
       "array([[ 1014,     0,     0,     0,     0,     0,     0,     0],\n",
       "       [    0,    49,     0,     0,     0,     0,     0,    10],\n",
       "       [    0,     0,   191,     0,     0,     2,     0,    17],\n",
       "       [    0,     0,     0,   149,     0,     0,     0,     0],\n",
       "       [    8,     0,     0,     0,    54,   224,     0,   116],\n",
       "       [    0,     0,     8,     0,     0,   146,     0,     0],\n",
       "       [    0,     0,     0,     0,     0,     0,    31,     0],\n",
       "       [ 1927,  1267,   878,    74,     0, 17343,     0, 65465]],\n",
       "      dtype=int64)"
      ]
     },
     "execution_count": 81,
     "metadata": {},
     "output_type": "execute_result"
    }
   ],
   "source": [
    "confusion_matrix(y_test, y_nb_test_pred)"
   ]
  },
  {
   "cell_type": "markdown",
   "id": "1a83bd86",
   "metadata": {},
   "source": [
    "## Classification Report for Support Vector Machine Classifier"
   ]
  },
  {
   "cell_type": "markdown",
   "id": "4093508d",
   "metadata": {},
   "source": [
    "### For Training Dataset"
   ]
  },
  {
   "cell_type": "code",
   "execution_count": 82,
   "id": "f925d749",
   "metadata": {},
   "outputs": [
    {
     "name": "stderr",
     "output_type": "stream",
     "text": [
      "c:\\users\\hebbar\\appdata\\local\\programs\\python\\python39\\lib\\site-packages\\sklearn\\metrics\\_classification.py:1308: UndefinedMetricWarning: Precision and F-score are ill-defined and being set to 0.0 in labels with no predicted samples. Use `zero_division` parameter to control this behavior.\n",
      "  _warn_prf(average, modifier, msg_start, len(result))\n",
      "c:\\users\\hebbar\\appdata\\local\\programs\\python\\python39\\lib\\site-packages\\sklearn\\metrics\\_classification.py:1308: UndefinedMetricWarning: Precision and F-score are ill-defined and being set to 0.0 in labels with no predicted samples. Use `zero_division` parameter to control this behavior.\n",
      "  _warn_prf(average, modifier, msg_start, len(result))\n"
     ]
    },
    {
     "name": "stdout",
     "output_type": "stream",
     "text": [
      "                    precision    recall  f1-score   support\n",
      "\n",
      "            Normal       0.94      0.50      0.66      2986\n",
      "         DoSattack       0.00      0.00      0.00       183\n",
      "              scan       0.00      0.00      0.00       679\n",
      "  malitiousControl       1.00      0.75      0.86       508\n",
      "malitiousOperation       0.00      0.00      0.00      1129\n",
      "            spying       0.00      0.00      0.00       378\n",
      "       dataProbing       0.00      0.00      0.00        91\n",
      "        wrongSetUp       0.98      1.00      0.99    260964\n",
      "\n",
      "          accuracy                           0.98    266918\n",
      "         macro avg       0.37      0.28      0.31    266918\n",
      "      weighted avg       0.98      0.98      0.98    266918\n",
      "\n"
     ]
    },
    {
     "name": "stderr",
     "output_type": "stream",
     "text": [
      "c:\\users\\hebbar\\appdata\\local\\programs\\python\\python39\\lib\\site-packages\\sklearn\\metrics\\_classification.py:1308: UndefinedMetricWarning: Precision and F-score are ill-defined and being set to 0.0 in labels with no predicted samples. Use `zero_division` parameter to control this behavior.\n",
      "  _warn_prf(average, modifier, msg_start, len(result))\n"
     ]
    }
   ],
   "source": [
    "print(classification_report(y_train, y_svc_train_pred, target_names=target_names))"
   ]
  },
  {
   "cell_type": "markdown",
   "id": "6f97cbfd",
   "metadata": {},
   "source": [
    "### For Testing Dataset"
   ]
  },
  {
   "cell_type": "code",
   "execution_count": 83,
   "id": "38f427c1",
   "metadata": {},
   "outputs": [
    {
     "name": "stdout",
     "output_type": "stream",
     "text": [
      "                    precision    recall  f1-score   support\n",
      "\n",
      "            Normal       0.94      0.49      0.64      1014\n",
      "         DoSattack       0.00      0.00      0.00        59\n",
      "              scan       0.00      0.00      0.00       210\n",
      "  malitiousControl       0.98      0.68      0.81       149\n",
      "malitiousOperation       0.00      0.00      0.00       402\n",
      "            spying       0.00      0.00      0.00       154\n",
      "       dataProbing       0.00      0.00      0.00        31\n",
      "        wrongSetUp       0.98      1.00      0.99     86954\n",
      "\n",
      "          accuracy                           0.98     88973\n",
      "         macro avg       0.36      0.27      0.30     88973\n",
      "      weighted avg       0.97      0.98      0.98     88973\n",
      "\n"
     ]
    },
    {
     "name": "stderr",
     "output_type": "stream",
     "text": [
      "c:\\users\\hebbar\\appdata\\local\\programs\\python\\python39\\lib\\site-packages\\sklearn\\metrics\\_classification.py:1308: UndefinedMetricWarning: Precision and F-score are ill-defined and being set to 0.0 in labels with no predicted samples. Use `zero_division` parameter to control this behavior.\n",
      "  _warn_prf(average, modifier, msg_start, len(result))\n",
      "c:\\users\\hebbar\\appdata\\local\\programs\\python\\python39\\lib\\site-packages\\sklearn\\metrics\\_classification.py:1308: UndefinedMetricWarning: Precision and F-score are ill-defined and being set to 0.0 in labels with no predicted samples. Use `zero_division` parameter to control this behavior.\n",
      "  _warn_prf(average, modifier, msg_start, len(result))\n",
      "c:\\users\\hebbar\\appdata\\local\\programs\\python\\python39\\lib\\site-packages\\sklearn\\metrics\\_classification.py:1308: UndefinedMetricWarning: Precision and F-score are ill-defined and being set to 0.0 in labels with no predicted samples. Use `zero_division` parameter to control this behavior.\n",
      "  _warn_prf(average, modifier, msg_start, len(result))\n"
     ]
    }
   ],
   "source": [
    "print(classification_report(y_test, y_svc_test_pred, target_names=target_names))"
   ]
  },
  {
   "cell_type": "markdown",
   "id": "a87f2be0",
   "metadata": {},
   "source": [
    "## Confusion Matrix for Support Vector Machine Classifier"
   ]
  },
  {
   "cell_type": "markdown",
   "id": "5af66b80",
   "metadata": {},
   "source": [
    "### For Training dataset"
   ]
  },
  {
   "cell_type": "code",
   "execution_count": 84,
   "id": "89579e62",
   "metadata": {},
   "outputs": [
    {
     "data": {
      "text/plain": [
       "array([[  1507,      0,      0,      0,      0,      0,      0,   1479],\n",
       "       [     0,      0,      0,      0,      0,      0,      0,    183],\n",
       "       [     0,      0,      0,      0,      0,      0,      0,    679],\n",
       "       [     0,      0,      0,    381,      0,      0,      0,    127],\n",
       "       [     9,      0,     10,      0,      0,      0,      0,   1110],\n",
       "       [     0,      0,      0,      0,      0,      0,      0,    378],\n",
       "       [     0,      0,      0,      0,      0,      0,      0,     91],\n",
       "       [    80,      0,      0,      1,      0,     12,      0, 260871]],\n",
       "      dtype=int64)"
      ]
     },
     "execution_count": 84,
     "metadata": {},
     "output_type": "execute_result"
    }
   ],
   "source": [
    "confusion_matrix(y_train, y_svc_train_pred)"
   ]
  },
  {
   "cell_type": "markdown",
   "id": "1a41ac4d",
   "metadata": {},
   "source": [
    "### For Testing dataset"
   ]
  },
  {
   "cell_type": "code",
   "execution_count": 85,
   "id": "7cfb8693",
   "metadata": {},
   "outputs": [
    {
     "data": {
      "text/plain": [
       "array([[  493,     0,     0,     0,     0,     0,     0,   521],\n",
       "       [    0,     0,     0,     0,     0,     0,     0,    59],\n",
       "       [    0,     0,     0,     0,     0,     0,     0,   210],\n",
       "       [    0,     0,     0,   102,     0,     0,     0,    47],\n",
       "       [    2,     0,     0,     0,     0,     0,     0,   400],\n",
       "       [    0,     0,     0,     0,     0,     0,     0,   154],\n",
       "       [    0,     0,     0,     0,     0,     0,     0,    31],\n",
       "       [   27,     0,     0,     2,     0,     2,     0, 86923]],\n",
       "      dtype=int64)"
      ]
     },
     "execution_count": 85,
     "metadata": {},
     "output_type": "execute_result"
    }
   ],
   "source": [
    "confusion_matrix(y_test, y_svc_test_pred)"
   ]
  },
  {
   "cell_type": "markdown",
   "id": "9540e30e",
   "metadata": {},
   "source": [
    "## Confusion Matrix for Artificial Neural Network"
   ]
  },
  {
   "cell_type": "markdown",
   "id": "7518053c",
   "metadata": {},
   "source": [
    "### For Training dataset"
   ]
  },
  {
   "cell_type": "code",
   "execution_count": 108,
   "id": "930231d7",
   "metadata": {},
   "outputs": [
    {
     "data": {
      "text/plain": [
       "array([[1.2271275e-18, 6.2446466e-18, 1.3138791e-07, ..., 1.2894417e-06,\n",
       "        3.2677865e-22, 9.6070826e-01],\n",
       "       [4.7563413e-30, 2.0728058e-18, 3.0238551e-31, ..., 4.2628978e-19,\n",
       "        0.0000000e+00, 5.7525247e-02],\n",
       "       [2.0524337e-27, 3.4451483e-19, 1.8556358e-18, ..., 4.5061130e-17,\n",
       "        0.0000000e+00, 8.2059377e-01],\n",
       "       ...,\n",
       "       [0.0000000e+00, 0.0000000e+00, 0.0000000e+00, ..., 0.0000000e+00,\n",
       "        0.0000000e+00, 7.1368957e-01],\n",
       "       [0.0000000e+00, 3.7470693e-27, 1.0678927e-11, ..., 1.3656958e-16,\n",
       "        0.0000000e+00, 6.4118016e-05],\n",
       "       [0.0000000e+00, 0.0000000e+00, 0.0000000e+00, ..., 0.0000000e+00,\n",
       "        0.0000000e+00, 9.8896778e-01]], dtype=float32)"
      ]
     },
     "execution_count": 108,
     "metadata": {},
     "output_type": "execute_result"
    }
   ],
   "source": [
    "y_ann_train_pred = ann.predict(x_train_sc)\n",
    "y_ann_train_pred"
   ]
  },
  {
   "cell_type": "code",
   "execution_count": 109,
   "id": "d70a701f",
   "metadata": {},
   "outputs": [
    {
     "data": {
      "text/plain": [
       "(266918, 1)"
      ]
     },
     "execution_count": 109,
     "metadata": {},
     "output_type": "execute_result"
    }
   ],
   "source": [
    "y_train.shape"
   ]
  },
  {
   "cell_type": "code",
   "execution_count": 110,
   "id": "2e3ac6d9",
   "metadata": {},
   "outputs": [
    {
     "data": {
      "text/plain": [
       "(266918, 8)"
      ]
     },
     "execution_count": 110,
     "metadata": {},
     "output_type": "execute_result"
    }
   ],
   "source": [
    "y_ann_train_pred.shape"
   ]
  },
  {
   "cell_type": "code",
   "execution_count": 111,
   "id": "3eeb2354",
   "metadata": {},
   "outputs": [
    {
     "data": {
      "text/plain": [
       "[7, 7, 7, 7, 7]"
      ]
     },
     "execution_count": 111,
     "metadata": {},
     "output_type": "execute_result"
    }
   ],
   "source": [
    "y_ann_train_pred_labels = [np.argmax(i) for i in y_ann_train_pred]\n",
    "y_ann_train_pred_labels[:5]"
   ]
  },
  {
   "cell_type": "code",
   "execution_count": 112,
   "id": "15221893",
   "metadata": {},
   "outputs": [
    {
     "name": "stdout",
     "output_type": "stream",
     "text": [
      "tf.Tensor(\n",
      "[[  1507      0      0      0      0      0      0   1479]\n",
      " [     0    183      0      0      0      0      0      0]\n",
      " [     0      0    679      0      0      0      0      0]\n",
      " [     0      0      0    508      0      0      0      0]\n",
      " [     0      0      0      0   1129      0      0      0]\n",
      " [     0      0      0      0      0    378      0      0]\n",
      " [     0      0      0      0      0      0     91      0]\n",
      " [     3      0      1      0      0      0      0 260960]], shape=(8, 8), dtype=int32)\n"
     ]
    }
   ],
   "source": [
    "print(tf.math.confusion_matrix(labels=y_train, predictions=y_ann_train_pred_labels))"
   ]
  },
  {
   "cell_type": "markdown",
   "id": "62a478de",
   "metadata": {},
   "source": [
    "### For Testing dataset"
   ]
  },
  {
   "cell_type": "code",
   "execution_count": 113,
   "id": "26bdbdc9",
   "metadata": {},
   "outputs": [
    {
     "data": {
      "text/plain": [
       "array([[1.0671364e-24, 7.6887861e-18, 2.7698234e-30, ..., 6.1102570e-19,\n",
       "        0.0000000e+00, 5.9270155e-01],\n",
       "       [3.0931572e-15, 2.1055540e-24, 5.0639678e-15, ..., 3.9616470e-14,\n",
       "        0.0000000e+00, 9.9710220e-01],\n",
       "       [7.9377699e-30, 4.3327612e-31, 1.0577173e-32, ..., 1.0247739e-36,\n",
       "        0.0000000e+00, 2.3322988e-01],\n",
       "       ...,\n",
       "       [5.6175099e-07, 1.1239664e-10, 5.0504173e-07, ..., 9.5696964e-07,\n",
       "        8.1079569e-15, 8.8947737e-01],\n",
       "       [0.0000000e+00, 0.0000000e+00, 0.0000000e+00, ..., 0.0000000e+00,\n",
       "        0.0000000e+00, 5.2788258e-03],\n",
       "       [0.0000000e+00, 0.0000000e+00, 0.0000000e+00, ..., 0.0000000e+00,\n",
       "        0.0000000e+00, 9.8404014e-01]], dtype=float32)"
      ]
     },
     "execution_count": 113,
     "metadata": {},
     "output_type": "execute_result"
    }
   ],
   "source": [
    "y_ann_test_pred = ann.predict(x_test_sc)\n",
    "y_ann_test_pred"
   ]
  },
  {
   "cell_type": "code",
   "execution_count": 114,
   "id": "0259f597",
   "metadata": {},
   "outputs": [
    {
     "data": {
      "text/plain": [
       "(88973, 1)"
      ]
     },
     "execution_count": 114,
     "metadata": {},
     "output_type": "execute_result"
    }
   ],
   "source": [
    "y_test.shape"
   ]
  },
  {
   "cell_type": "code",
   "execution_count": 115,
   "id": "c9530aec",
   "metadata": {},
   "outputs": [
    {
     "data": {
      "text/plain": [
       "(88973, 8)"
      ]
     },
     "execution_count": 115,
     "metadata": {},
     "output_type": "execute_result"
    }
   ],
   "source": [
    "y_ann_test_pred.shape"
   ]
  },
  {
   "cell_type": "code",
   "execution_count": 116,
   "id": "3dcda1ee",
   "metadata": {},
   "outputs": [
    {
     "data": {
      "text/plain": [
       "[7, 7, 7, 7, 7]"
      ]
     },
     "execution_count": 116,
     "metadata": {},
     "output_type": "execute_result"
    }
   ],
   "source": [
    "y_ann_test_pred_labels = [np.argmax(i) for i in y_ann_test_pred]\n",
    "y_ann_test_pred_labels[:5]"
   ]
  },
  {
   "cell_type": "code",
   "execution_count": 117,
   "id": "cc3702dd",
   "metadata": {},
   "outputs": [
    {
     "name": "stdout",
     "output_type": "stream",
     "text": [
      "tf.Tensor(\n",
      "[[  493     0     0     0     0     0     0   521]\n",
      " [    0    59     0     0     0     0     0     0]\n",
      " [    0     0   210     0     0     0     0     0]\n",
      " [    0     0     0   149     0     0     0     0]\n",
      " [    0     0     0     0   402     0     0     0]\n",
      " [    0     0     0     0     0   154     0     0]\n",
      " [    0     0     0     0     0     0    31     0]\n",
      " [    3     0     0     0     0     0     0 86951]], shape=(8, 8), dtype=int32)\n"
     ]
    }
   ],
   "source": [
    "print(tf.math.confusion_matrix(labels=y_test, predictions=y_ann_test_pred_labels))"
   ]
  },
  {
   "cell_type": "markdown",
   "id": "13161528",
   "metadata": {},
   "source": [
    "## Classification Report for Artificial Neural Network"
   ]
  },
  {
   "cell_type": "markdown",
   "id": "70bb6340",
   "metadata": {},
   "source": [
    "### For Training dataset"
   ]
  },
  {
   "cell_type": "code",
   "execution_count": null,
   "id": "a9bf03d0",
   "metadata": {},
   "outputs": [],
   "source": [
    "print(classification_report(y_train, y_ann_train_pred_labels, target_names=target_names))"
   ]
  },
  {
   "cell_type": "markdown",
   "id": "0a2772c0",
   "metadata": {},
   "source": [
    "### For Testing dataset"
   ]
  },
  {
   "cell_type": "code",
   "execution_count": null,
   "id": "2086dc8a",
   "metadata": {},
   "outputs": [],
   "source": [
    "print(classification_report(y_test, y_ann_test_pred_labels, target_names=target_names))"
   ]
  },
  {
   "cell_type": "code",
   "execution_count": 125,
   "id": "df49362f",
   "metadata": {},
   "outputs": [
    {
     "data": {
      "text/plain": [
       "(array([7, 7, 7, ..., 7, 7, 7], dtype=int64),\n",
       " array([7, 7, 7, ..., 7, 7, 7], dtype=int64))"
      ]
     },
     "execution_count": 125,
     "metadata": {},
     "output_type": "execute_result"
    }
   ],
   "source": [
    "y_ann_train_labels = np.array(y_ann_train_pred_labels)\n",
    "y_ann_test_labels = np.array(y_ann_test_pred_labels)\n",
    "y_ann_train_labels, y_ann_test_labels"
   ]
  },
  {
   "cell_type": "code",
   "execution_count": 126,
   "id": "85bf5edc",
   "metadata": {},
   "outputs": [],
   "source": [
    "dataset = [[lr_time,lr_train_accuracy,lr_test_accuracy,y_lr_train_pred,y_lr_test_pred],\n",
    "           [knn_time,knn_train_accuracy,knn_test_accuracy,y_knn_train_pred,y_knn_test_pred],\n",
    "           [dtc_time,dtc_train_accuracy,dtc_test_accuracy,y_dtc_train_pred,y_dtc_test_pred],\n",
    "           [rfc_time,rfc_train_accuracy,rfc_test_accuracy,y_rfc_train_pred,y_rfc_test_pred],\n",
    "           [nb_time,nb_train_accuracy,nb_test_accuracy,y_nb_train_pred,y_nb_test_pred],\n",
    "           [svc_time,svc_train_accuracy,svc_test_accuracy,y_svc_train_pred,y_svc_test_pred],\n",
    "           [ann_time,ann_train_accuracy,ann_test_accuracy,y_ann_train_labels,y_ann_test_labels],\n",
    "          ]"
   ]
  },
  {
   "cell_type": "code",
   "execution_count": 127,
   "id": "4bb0cc34",
   "metadata": {},
   "outputs": [
    {
     "data": {
      "text/plain": [
       "[[23.019588947296143,\n",
       "  0.9891502259120779,\n",
       "  0.988569566048127,\n",
       "  array([7, 7, 7, ..., 7, 7, 7], dtype=int64),\n",
       "  array([7, 7, 7, ..., 7, 7, 7], dtype=int64)],\n",
       " [1.7969074249267578,\n",
       "  0.9934961298975715,\n",
       "  0.9937846312926394,\n",
       "  array([7, 7, 7, ..., 7, 7, 7], dtype=int64),\n",
       "  array([7, 7, 7, ..., 7, 7, 7], dtype=int64)],\n",
       " [0.9068188667297363,\n",
       "  0.9944589724184956,\n",
       "  0.9940993335056703,\n",
       "  array([7, 7, 7, ..., 7, 7, 7], dtype=int64),\n",
       "  array([7, 7, 7, ..., 7, 7, 7], dtype=int64)],\n",
       " [47.627418994903564,\n",
       "  0.9944589724184956,\n",
       "  0.9941330515999236,\n",
       "  array([7, 7, 7, ..., 7, 7, 7], dtype=int64),\n",
       "  array([7, 7, 7, ..., 7, 7, 7], dtype=int64)],\n",
       " [0.15570878982543945,\n",
       "  0.7548835222802509,\n",
       "  0.7541501354343453,\n",
       "  array([5, 7, 7, ..., 7, 7, 7], dtype=int64),\n",
       "  array([7, 7, 7, ..., 5, 7, 7], dtype=int64)],\n",
       " [75.70233845710754,\n",
       "  0.984418435624424,\n",
       "  0.9836467242871433,\n",
       "  array([7, 7, 7, ..., 7, 7, 7], dtype=int64),\n",
       "  array([7, 7, 7, ..., 7, 7, 7], dtype=int64)],\n",
       " [310.154185295105,\n",
       "  0.9944440126419067,\n",
       "  0.9941105842590332,\n",
       "  array([7, 7, 7, ..., 7, 7, 7], dtype=int64),\n",
       "  array([7, 7, 7, ..., 7, 7, 7], dtype=int64)]]"
      ]
     },
     "execution_count": 127,
     "metadata": {},
     "output_type": "execute_result"
    }
   ],
   "source": [
    "dataset"
   ]
  },
  {
   "cell_type": "code",
   "execution_count": 131,
   "id": "37886b0c",
   "metadata": {},
   "outputs": [
    {
     "data": {
      "text/html": [
       "<div>\n",
       "<style scoped>\n",
       "    .dataframe tbody tr th:only-of-type {\n",
       "        vertical-align: middle;\n",
       "    }\n",
       "\n",
       "    .dataframe tbody tr th {\n",
       "        vertical-align: top;\n",
       "    }\n",
       "\n",
       "    .dataframe thead th {\n",
       "        text-align: right;\n",
       "    }\n",
       "</style>\n",
       "<table border=\"1\" class=\"dataframe\">\n",
       "  <thead>\n",
       "    <tr style=\"text-align: right;\">\n",
       "      <th></th>\n",
       "      <th>Time Taken</th>\n",
       "      <th>Training Accuracy</th>\n",
       "      <th>Testing Accuracy</th>\n",
       "      <th>Training Prediction</th>\n",
       "      <th>Testing Prediction</th>\n",
       "    </tr>\n",
       "  </thead>\n",
       "  <tbody>\n",
       "    <tr>\n",
       "      <th>Logistic Regression</th>\n",
       "      <td>23.019589</td>\n",
       "      <td>0.989150</td>\n",
       "      <td>0.988570</td>\n",
       "      <td>[7, 7, 7, 7, 7, 7, 7, 7, 7, 0, 7, 7, 7, 7, 7, ...</td>\n",
       "      <td>[7, 7, 7, 7, 7, 7, 7, 7, 7, 7, 7, 7, 7, 7, 7, ...</td>\n",
       "    </tr>\n",
       "    <tr>\n",
       "      <th>K Nearest Neighbour</th>\n",
       "      <td>1.796907</td>\n",
       "      <td>0.993496</td>\n",
       "      <td>0.993785</td>\n",
       "      <td>[7, 7, 7, 7, 7, 7, 7, 7, 7, 0, 7, 7, 7, 7, 7, ...</td>\n",
       "      <td>[7, 7, 7, 7, 7, 7, 7, 7, 7, 7, 7, 7, 7, 7, 7, ...</td>\n",
       "    </tr>\n",
       "    <tr>\n",
       "      <th>Decision Tree</th>\n",
       "      <td>0.906819</td>\n",
       "      <td>0.994459</td>\n",
       "      <td>0.994099</td>\n",
       "      <td>[7, 7, 7, 7, 7, 7, 7, 7, 7, 0, 7, 7, 7, 7, 7, ...</td>\n",
       "      <td>[7, 7, 7, 7, 7, 7, 7, 7, 7, 7, 7, 7, 7, 7, 7, ...</td>\n",
       "    </tr>\n",
       "    <tr>\n",
       "      <th>Random Forest</th>\n",
       "      <td>47.627419</td>\n",
       "      <td>0.994459</td>\n",
       "      <td>0.994133</td>\n",
       "      <td>[7, 7, 7, 7, 7, 7, 7, 7, 7, 0, 7, 7, 7, 7, 7, ...</td>\n",
       "      <td>[7, 7, 7, 7, 7, 7, 7, 7, 7, 7, 7, 7, 7, 7, 7, ...</td>\n",
       "    </tr>\n",
       "    <tr>\n",
       "      <th>Naive Bayes</th>\n",
       "      <td>0.155709</td>\n",
       "      <td>0.754884</td>\n",
       "      <td>0.754150</td>\n",
       "      <td>[5, 7, 7, 7, 7, 7, 7, 7, 5, 0, 5, 5, 7, 7, 7, ...</td>\n",
       "      <td>[7, 7, 7, 7, 7, 7, 5, 7, 7, 7, 5, 7, 7, 7, 7, ...</td>\n",
       "    </tr>\n",
       "    <tr>\n",
       "      <th>Support Vector Machine</th>\n",
       "      <td>75.702338</td>\n",
       "      <td>0.984418</td>\n",
       "      <td>0.983647</td>\n",
       "      <td>[7, 7, 7, 7, 7, 7, 7, 7, 7, 0, 7, 7, 7, 7, 7, ...</td>\n",
       "      <td>[7, 7, 7, 7, 7, 7, 7, 7, 7, 7, 7, 7, 7, 7, 7, ...</td>\n",
       "    </tr>\n",
       "    <tr>\n",
       "      <th>Artificial Neural Network</th>\n",
       "      <td>310.154185</td>\n",
       "      <td>0.994444</td>\n",
       "      <td>0.994111</td>\n",
       "      <td>[7, 7, 7, 7, 7, 7, 7, 7, 7, 0, 7, 7, 7, 7, 7, ...</td>\n",
       "      <td>[7, 7, 7, 7, 7, 7, 7, 7, 7, 7, 7, 7, 7, 7, 7, ...</td>\n",
       "    </tr>\n",
       "  </tbody>\n",
       "</table>\n",
       "</div>"
      ],
      "text/plain": [
       "                           Time Taken  Training Accuracy  Testing Accuracy  \\\n",
       "Logistic Regression         23.019589           0.989150          0.988570   \n",
       "K Nearest Neighbour          1.796907           0.993496          0.993785   \n",
       "Decision Tree                0.906819           0.994459          0.994099   \n",
       "Random Forest               47.627419           0.994459          0.994133   \n",
       "Naive Bayes                  0.155709           0.754884          0.754150   \n",
       "Support Vector Machine      75.702338           0.984418          0.983647   \n",
       "Artificial Neural Network  310.154185           0.994444          0.994111   \n",
       "\n",
       "                                                         Training Prediction  \\\n",
       "Logistic Regression        [7, 7, 7, 7, 7, 7, 7, 7, 7, 0, 7, 7, 7, 7, 7, ...   \n",
       "K Nearest Neighbour        [7, 7, 7, 7, 7, 7, 7, 7, 7, 0, 7, 7, 7, 7, 7, ...   \n",
       "Decision Tree              [7, 7, 7, 7, 7, 7, 7, 7, 7, 0, 7, 7, 7, 7, 7, ...   \n",
       "Random Forest              [7, 7, 7, 7, 7, 7, 7, 7, 7, 0, 7, 7, 7, 7, 7, ...   \n",
       "Naive Bayes                [5, 7, 7, 7, 7, 7, 7, 7, 5, 0, 5, 5, 7, 7, 7, ...   \n",
       "Support Vector Machine     [7, 7, 7, 7, 7, 7, 7, 7, 7, 0, 7, 7, 7, 7, 7, ...   \n",
       "Artificial Neural Network  [7, 7, 7, 7, 7, 7, 7, 7, 7, 0, 7, 7, 7, 7, 7, ...   \n",
       "\n",
       "                                                          Testing Prediction  \n",
       "Logistic Regression        [7, 7, 7, 7, 7, 7, 7, 7, 7, 7, 7, 7, 7, 7, 7, ...  \n",
       "K Nearest Neighbour        [7, 7, 7, 7, 7, 7, 7, 7, 7, 7, 7, 7, 7, 7, 7, ...  \n",
       "Decision Tree              [7, 7, 7, 7, 7, 7, 7, 7, 7, 7, 7, 7, 7, 7, 7, ...  \n",
       "Random Forest              [7, 7, 7, 7, 7, 7, 7, 7, 7, 7, 7, 7, 7, 7, 7, ...  \n",
       "Naive Bayes                [7, 7, 7, 7, 7, 7, 5, 7, 7, 7, 5, 7, 7, 7, 7, ...  \n",
       "Support Vector Machine     [7, 7, 7, 7, 7, 7, 7, 7, 7, 7, 7, 7, 7, 7, 7, ...  \n",
       "Artificial Neural Network  [7, 7, 7, 7, 7, 7, 7, 7, 7, 7, 7, 7, 7, 7, 7, ...  "
      ]
     },
     "execution_count": 131,
     "metadata": {},
     "output_type": "execute_result"
    }
   ],
   "source": [
    "comparison = pd.DataFrame(dataset, columns = ['Time_Taken','Training_Accuracy','Testing_Accuracy','Training_Prediction','Testing_Prediction'], \n",
    "                         index=['Logistic Regression','K Nearest Neighbour','Decision Tree','Random Forest','Naive Bayes','Support Vector Machine','Artificial Neural Network',])\n",
    "comparison"
   ]
  },
  {
   "cell_type": "code",
   "execution_count": 136,
   "id": "4c40b370",
   "metadata": {},
   "outputs": [],
   "source": [
    "comparison.to_csv('performance.csv',index = False)"
   ]
  },
  {
   "cell_type": "code",
   "execution_count": null,
   "id": "9be9c657",
   "metadata": {},
   "outputs": [],
   "source": []
  }
 ],
 "metadata": {
  "kernelspec": {
   "display_name": "Python 3 (ipykernel)",
   "language": "python",
   "name": "python3"
  },
  "language_info": {
   "codemirror_mode": {
    "name": "ipython",
    "version": 3
   },
   "file_extension": ".py",
   "mimetype": "text/x-python",
   "name": "python",
   "nbconvert_exporter": "python",
   "pygments_lexer": "ipython3",
   "version": "3.9.6"
  }
 },
 "nbformat": 4,
 "nbformat_minor": 5
}
