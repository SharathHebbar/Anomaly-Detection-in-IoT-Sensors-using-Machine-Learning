{
 "cells": [
  {
   "cell_type": "markdown",
   "id": "be55d914",
   "metadata": {},
   "source": [
    "## Importing Libraries"
   ]
  },
  {
   "cell_type": "code",
   "execution_count": 36,
   "id": "b6a84b32",
   "metadata": {},
   "outputs": [],
   "source": [
    "from time import time\n",
    "import pandas as pd\n",
    "import numpy as np\n",
    "from sklearn.model_selection import train_test_split\n",
    "from sklearn.preprocessing import StandardScaler\n",
    "from sklearn.metrics import accuracy_score, classification_report,confusion_matrix"
   ]
  },
  {
   "cell_type": "markdown",
   "id": "30a15ad2",
   "metadata": {},
   "source": [
    "### Loading dataset"
   ]
  },
  {
   "cell_type": "code",
   "execution_count": 2,
   "id": "cbfe1dff",
   "metadata": {},
   "outputs": [
    {
     "data": {
      "text/html": [
       "<div>\n",
       "<style scoped>\n",
       "    .dataframe tbody tr th:only-of-type {\n",
       "        vertical-align: middle;\n",
       "    }\n",
       "\n",
       "    .dataframe tbody tr th {\n",
       "        vertical-align: top;\n",
       "    }\n",
       "\n",
       "    .dataframe thead th {\n",
       "        text-align: right;\n",
       "    }\n",
       "</style>\n",
       "<table border=\"1\" class=\"dataframe\">\n",
       "  <thead>\n",
       "    <tr style=\"text-align: right;\">\n",
       "      <th></th>\n",
       "      <th>Unnamed: 0</th>\n",
       "      <th>0</th>\n",
       "      <th>1</th>\n",
       "      <th>2</th>\n",
       "      <th>3</th>\n",
       "      <th>4</th>\n",
       "      <th>5</th>\n",
       "      <th>6</th>\n",
       "      <th>7</th>\n",
       "      <th>8</th>\n",
       "      <th>9</th>\n",
       "      <th>10</th>\n",
       "      <th>11</th>\n",
       "    </tr>\n",
       "  </thead>\n",
       "  <tbody>\n",
       "    <tr>\n",
       "      <th>0</th>\n",
       "      <td>0</td>\n",
       "      <td>7</td>\n",
       "      <td>21</td>\n",
       "      <td>30</td>\n",
       "      <td>2</td>\n",
       "      <td>3</td>\n",
       "      <td>29</td>\n",
       "      <td>2</td>\n",
       "      <td>3</td>\n",
       "      <td>57</td>\n",
       "      <td>5</td>\n",
       "      <td>1</td>\n",
       "      <td>0</td>\n",
       "    </tr>\n",
       "    <tr>\n",
       "      <th>1</th>\n",
       "      <td>1</td>\n",
       "      <td>7</td>\n",
       "      <td>32</td>\n",
       "      <td>70</td>\n",
       "      <td>2</td>\n",
       "      <td>4</td>\n",
       "      <td>67</td>\n",
       "      <td>2</td>\n",
       "      <td>4</td>\n",
       "      <td>132</td>\n",
       "      <td>5</td>\n",
       "      <td>1</td>\n",
       "      <td>0</td>\n",
       "    </tr>\n",
       "    <tr>\n",
       "      <th>2</th>\n",
       "      <td>2</td>\n",
       "      <td>7</td>\n",
       "      <td>15</td>\n",
       "      <td>1</td>\n",
       "      <td>2</td>\n",
       "      <td>2</td>\n",
       "      <td>0</td>\n",
       "      <td>2</td>\n",
       "      <td>2</td>\n",
       "      <td>0</td>\n",
       "      <td>5</td>\n",
       "      <td>1</td>\n",
       "      <td>0</td>\n",
       "    </tr>\n",
       "    <tr>\n",
       "      <th>3</th>\n",
       "      <td>3</td>\n",
       "      <td>7</td>\n",
       "      <td>33</td>\n",
       "      <td>77</td>\n",
       "      <td>2</td>\n",
       "      <td>7</td>\n",
       "      <td>72</td>\n",
       "      <td>2</td>\n",
       "      <td>7</td>\n",
       "      <td>142</td>\n",
       "      <td>5</td>\n",
       "      <td>1</td>\n",
       "      <td>0</td>\n",
       "    </tr>\n",
       "    <tr>\n",
       "      <th>4</th>\n",
       "      <td>4</td>\n",
       "      <td>7</td>\n",
       "      <td>55</td>\n",
       "      <td>78</td>\n",
       "      <td>3</td>\n",
       "      <td>7</td>\n",
       "      <td>73</td>\n",
       "      <td>3</td>\n",
       "      <td>7</td>\n",
       "      <td>144</td>\n",
       "      <td>6</td>\n",
       "      <td>1</td>\n",
       "      <td>0</td>\n",
       "    </tr>\n",
       "    <tr>\n",
       "      <th>...</th>\n",
       "      <td>...</td>\n",
       "      <td>...</td>\n",
       "      <td>...</td>\n",
       "      <td>...</td>\n",
       "      <td>...</td>\n",
       "      <td>...</td>\n",
       "      <td>...</td>\n",
       "      <td>...</td>\n",
       "      <td>...</td>\n",
       "      <td>...</td>\n",
       "      <td>...</td>\n",
       "      <td>...</td>\n",
       "      <td>...</td>\n",
       "    </tr>\n",
       "    <tr>\n",
       "      <th>355886</th>\n",
       "      <td>355886</td>\n",
       "      <td>7</td>\n",
       "      <td>25</td>\n",
       "      <td>46</td>\n",
       "      <td>2</td>\n",
       "      <td>15</td>\n",
       "      <td>45</td>\n",
       "      <td>4</td>\n",
       "      <td>15</td>\n",
       "      <td>90</td>\n",
       "      <td>7</td>\n",
       "      <td>0</td>\n",
       "      <td>8505</td>\n",
       "    </tr>\n",
       "    <tr>\n",
       "      <th>355887</th>\n",
       "      <td>355887</td>\n",
       "      <td>7</td>\n",
       "      <td>82</td>\n",
       "      <td>14</td>\n",
       "      <td>7</td>\n",
       "      <td>10</td>\n",
       "      <td>8</td>\n",
       "      <td>0</td>\n",
       "      <td>10</td>\n",
       "      <td>16</td>\n",
       "      <td>0</td>\n",
       "      <td>0</td>\n",
       "      <td>22</td>\n",
       "    </tr>\n",
       "    <tr>\n",
       "      <th>355888</th>\n",
       "      <td>355888</td>\n",
       "      <td>7</td>\n",
       "      <td>82</td>\n",
       "      <td>14</td>\n",
       "      <td>7</td>\n",
       "      <td>10</td>\n",
       "      <td>8</td>\n",
       "      <td>0</td>\n",
       "      <td>10</td>\n",
       "      <td>17</td>\n",
       "      <td>1</td>\n",
       "      <td>0</td>\n",
       "      <td>1</td>\n",
       "    </tr>\n",
       "    <tr>\n",
       "      <th>355889</th>\n",
       "      <td>355889</td>\n",
       "      <td>7</td>\n",
       "      <td>30</td>\n",
       "      <td>62</td>\n",
       "      <td>2</td>\n",
       "      <td>20</td>\n",
       "      <td>60</td>\n",
       "      <td>3</td>\n",
       "      <td>20</td>\n",
       "      <td>120</td>\n",
       "      <td>3</td>\n",
       "      <td>0</td>\n",
       "      <td>0</td>\n",
       "    </tr>\n",
       "    <tr>\n",
       "      <th>355890</th>\n",
       "      <td>355890</td>\n",
       "      <td>7</td>\n",
       "      <td>30</td>\n",
       "      <td>62</td>\n",
       "      <td>2</td>\n",
       "      <td>20</td>\n",
       "      <td>61</td>\n",
       "      <td>4</td>\n",
       "      <td>20</td>\n",
       "      <td>121</td>\n",
       "      <td>7</td>\n",
       "      <td>0</td>\n",
       "      <td>9156</td>\n",
       "    </tr>\n",
       "  </tbody>\n",
       "</table>\n",
       "<p>355891 rows × 13 columns</p>\n",
       "</div>"
      ],
      "text/plain": [
       "        Unnamed: 0  0   1   2  3   4   5  6   7    8  9  10    11\n",
       "0                0  7  21  30  2   3  29  2   3   57  5   1     0\n",
       "1                1  7  32  70  2   4  67  2   4  132  5   1     0\n",
       "2                2  7  15   1  2   2   0  2   2    0  5   1     0\n",
       "3                3  7  33  77  2   7  72  2   7  142  5   1     0\n",
       "4                4  7  55  78  3   7  73  3   7  144  6   1     0\n",
       "...            ... ..  ..  .. ..  ..  .. ..  ..  ... ..  ..   ...\n",
       "355886      355886  7  25  46  2  15  45  4  15   90  7   0  8505\n",
       "355887      355887  7  82  14  7  10   8  0  10   16  0   0    22\n",
       "355888      355888  7  82  14  7  10   8  0  10   17  1   0     1\n",
       "355889      355889  7  30  62  2  20  60  3  20  120  3   0     0\n",
       "355890      355890  7  30  62  2  20  61  4  20  121  7   0  9156\n",
       "\n",
       "[355891 rows x 13 columns]"
      ]
     },
     "execution_count": 2,
     "metadata": {},
     "output_type": "execute_result"
    }
   ],
   "source": [
    "data = pd.read_csv('dataset.csv')\n",
    "data"
   ]
  },
  {
   "cell_type": "markdown",
   "id": "ea582fe4",
   "metadata": {},
   "source": [
    "### Data Preprocessing"
   ]
  },
  {
   "cell_type": "code",
   "execution_count": 3,
   "id": "29816807",
   "metadata": {},
   "outputs": [
    {
     "data": {
      "text/html": [
       "<div>\n",
       "<style scoped>\n",
       "    .dataframe tbody tr th:only-of-type {\n",
       "        vertical-align: middle;\n",
       "    }\n",
       "\n",
       "    .dataframe tbody tr th {\n",
       "        vertical-align: top;\n",
       "    }\n",
       "\n",
       "    .dataframe thead th {\n",
       "        text-align: right;\n",
       "    }\n",
       "</style>\n",
       "<table border=\"1\" class=\"dataframe\">\n",
       "  <thead>\n",
       "    <tr style=\"text-align: right;\">\n",
       "      <th></th>\n",
       "      <th>0</th>\n",
       "      <th>1</th>\n",
       "      <th>2</th>\n",
       "      <th>3</th>\n",
       "      <th>4</th>\n",
       "      <th>5</th>\n",
       "      <th>6</th>\n",
       "      <th>7</th>\n",
       "      <th>8</th>\n",
       "      <th>9</th>\n",
       "      <th>10</th>\n",
       "      <th>11</th>\n",
       "    </tr>\n",
       "  </thead>\n",
       "  <tbody>\n",
       "    <tr>\n",
       "      <th>0</th>\n",
       "      <td>7</td>\n",
       "      <td>21</td>\n",
       "      <td>30</td>\n",
       "      <td>2</td>\n",
       "      <td>3</td>\n",
       "      <td>29</td>\n",
       "      <td>2</td>\n",
       "      <td>3</td>\n",
       "      <td>57</td>\n",
       "      <td>5</td>\n",
       "      <td>1</td>\n",
       "      <td>0</td>\n",
       "    </tr>\n",
       "    <tr>\n",
       "      <th>1</th>\n",
       "      <td>7</td>\n",
       "      <td>32</td>\n",
       "      <td>70</td>\n",
       "      <td>2</td>\n",
       "      <td>4</td>\n",
       "      <td>67</td>\n",
       "      <td>2</td>\n",
       "      <td>4</td>\n",
       "      <td>132</td>\n",
       "      <td>5</td>\n",
       "      <td>1</td>\n",
       "      <td>0</td>\n",
       "    </tr>\n",
       "    <tr>\n",
       "      <th>2</th>\n",
       "      <td>7</td>\n",
       "      <td>15</td>\n",
       "      <td>1</td>\n",
       "      <td>2</td>\n",
       "      <td>2</td>\n",
       "      <td>0</td>\n",
       "      <td>2</td>\n",
       "      <td>2</td>\n",
       "      <td>0</td>\n",
       "      <td>5</td>\n",
       "      <td>1</td>\n",
       "      <td>0</td>\n",
       "    </tr>\n",
       "    <tr>\n",
       "      <th>3</th>\n",
       "      <td>7</td>\n",
       "      <td>33</td>\n",
       "      <td>77</td>\n",
       "      <td>2</td>\n",
       "      <td>7</td>\n",
       "      <td>72</td>\n",
       "      <td>2</td>\n",
       "      <td>7</td>\n",
       "      <td>142</td>\n",
       "      <td>5</td>\n",
       "      <td>1</td>\n",
       "      <td>0</td>\n",
       "    </tr>\n",
       "    <tr>\n",
       "      <th>4</th>\n",
       "      <td>7</td>\n",
       "      <td>55</td>\n",
       "      <td>78</td>\n",
       "      <td>3</td>\n",
       "      <td>7</td>\n",
       "      <td>73</td>\n",
       "      <td>3</td>\n",
       "      <td>7</td>\n",
       "      <td>144</td>\n",
       "      <td>6</td>\n",
       "      <td>1</td>\n",
       "      <td>0</td>\n",
       "    </tr>\n",
       "  </tbody>\n",
       "</table>\n",
       "</div>"
      ],
      "text/plain": [
       "   0   1   2  3  4   5  6  7    8  9  10  11\n",
       "0  7  21  30  2  3  29  2  3   57  5   1   0\n",
       "1  7  32  70  2  4  67  2  4  132  5   1   0\n",
       "2  7  15   1  2  2   0  2  2    0  5   1   0\n",
       "3  7  33  77  2  7  72  2  7  142  5   1   0\n",
       "4  7  55  78  3  7  73  3  7  144  6   1   0"
      ]
     },
     "execution_count": 3,
     "metadata": {},
     "output_type": "execute_result"
    }
   ],
   "source": [
    "data.drop(columns = \"Unnamed: 0\", inplace = True)\n",
    "data.head()"
   ]
  },
  {
   "cell_type": "code",
   "execution_count": 4,
   "id": "e606b2c4",
   "metadata": {},
   "outputs": [
    {
     "data": {
      "text/plain": [
       "(array([[  21,   30,    2, ...,    5,    1,    0],\n",
       "        [  32,   70,    2, ...,    5,    1,    0],\n",
       "        [  15,    1,    2, ...,    5,    1,    0],\n",
       "        ...,\n",
       "        [  82,   14,    7, ...,    1,    0,    1],\n",
       "        [  30,   62,    2, ...,    3,    0,    0],\n",
       "        [  30,   62,    2, ...,    7,    0, 9156]], dtype=int64),\n",
       " array([7, 7, 7, ..., 7, 7, 7], dtype=int64))"
      ]
     },
     "execution_count": 4,
     "metadata": {},
     "output_type": "execute_result"
    }
   ],
   "source": [
    "y = data.iloc[:,0].values\n",
    "x = data.iloc[:,1:].values\n",
    "x,y"
   ]
  },
  {
   "cell_type": "markdown",
   "id": "99542275",
   "metadata": {},
   "source": [
    "### Splitting the dataset into training and testing "
   ]
  },
  {
   "cell_type": "code",
   "execution_count": 5,
   "id": "d6558322",
   "metadata": {},
   "outputs": [],
   "source": [
    "x_train,x_test,y_train,y_test = train_test_split(x,y,test_size=0.25)"
   ]
  },
  {
   "cell_type": "markdown",
   "id": "9c68d0f5",
   "metadata": {},
   "source": [
    "### Scaling the dataset "
   ]
  },
  {
   "cell_type": "code",
   "execution_count": 6,
   "id": "2fa31dd7",
   "metadata": {},
   "outputs": [],
   "source": [
    "sc = StandardScaler()\n",
    "x_train_sc = sc.fit_transform(x_train)\n",
    "x_test_sc = sc.transform(x_test)"
   ]
  },
  {
   "cell_type": "markdown",
   "id": "876e361f",
   "metadata": {},
   "source": [
    "# Appliyng Machine Learning Algorithms"
   ]
  },
  {
   "cell_type": "markdown",
   "id": "d799a2ba",
   "metadata": {},
   "source": [
    "## Applying logistic regression"
   ]
  },
  {
   "cell_type": "code",
   "execution_count": 7,
   "id": "e7916802",
   "metadata": {},
   "outputs": [],
   "source": [
    "from sklearn.linear_model import LogisticRegression\n",
    "lr = LogisticRegression()"
   ]
  },
  {
   "cell_type": "code",
   "execution_count": 8,
   "id": "819b634b",
   "metadata": {},
   "outputs": [
    {
     "name": "stdout",
     "output_type": "stream",
     "text": [
      "Time elapsed 20.73866844177246\n"
     ]
    },
    {
     "name": "stderr",
     "output_type": "stream",
     "text": [
      "c:\\users\\hebbar\\appdata\\local\\programs\\python\\python39\\lib\\site-packages\\sklearn\\linear_model\\_logistic.py:814: ConvergenceWarning: lbfgs failed to converge (status=1):\n",
      "STOP: TOTAL NO. of ITERATIONS REACHED LIMIT.\n",
      "\n",
      "Increase the number of iterations (max_iter) or scale the data as shown in:\n",
      "    https://scikit-learn.org/stable/modules/preprocessing.html\n",
      "Please also refer to the documentation for alternative solver options:\n",
      "    https://scikit-learn.org/stable/modules/linear_model.html#logistic-regression\n",
      "  n_iter_i = _check_optimize_result(\n"
     ]
    }
   ],
   "source": [
    "s = time()\n",
    "lr.fit(x_train_sc,y_train)\n",
    "print(\"Time elapsed\",time()-s)\n"
   ]
  },
  {
   "cell_type": "markdown",
   "id": "66e5f51b",
   "metadata": {},
   "source": [
    "### Training accuracy"
   ]
  },
  {
   "cell_type": "code",
   "execution_count": 9,
   "id": "ca758d08",
   "metadata": {},
   "outputs": [
    {
     "data": {
      "text/plain": [
       "0.9889591559954742"
      ]
     },
     "execution_count": 9,
     "metadata": {},
     "output_type": "execute_result"
    }
   ],
   "source": [
    "lr.score(x_train_sc,y_train)"
   ]
  },
  {
   "cell_type": "markdown",
   "id": "960df353",
   "metadata": {},
   "source": [
    "### Testing accuracy"
   ]
  },
  {
   "cell_type": "code",
   "execution_count": 10,
   "id": "1970a363",
   "metadata": {},
   "outputs": [
    {
     "data": {
      "text/plain": [
       "0.9888505501669046"
      ]
     },
     "execution_count": 10,
     "metadata": {},
     "output_type": "execute_result"
    }
   ],
   "source": [
    "lr.score(x_test_sc,y_test)"
   ]
  },
  {
   "cell_type": "markdown",
   "id": "a0e69c15",
   "metadata": {},
   "source": [
    "### Accuracy of the model"
   ]
  },
  {
   "cell_type": "code",
   "execution_count": 60,
   "id": "c3f561c5",
   "metadata": {},
   "outputs": [
    {
     "name": "stdout",
     "output_type": "stream",
     "text": [
      "Accuracy of Logistic Regression Training Dataset:  0.9889591559954742\n"
     ]
    }
   ],
   "source": [
    "y_lr_train_pred = lr.predict(x_train_sc)\n",
    "accuracy = accuracy_score(y_train,y_lr_train_pred)\n",
    "print(\"Accuracy of Logistic Regression Training Dataset: \",accuracy)"
   ]
  },
  {
   "cell_type": "code",
   "execution_count": 61,
   "id": "0ffeb71b",
   "metadata": {},
   "outputs": [
    {
     "name": "stdout",
     "output_type": "stream",
     "text": [
      "Accuracy of Logistic Regression Testing Dataset:  0.9888505501669046\n"
     ]
    }
   ],
   "source": [
    "y_lr_test_pred = lr.predict(x_test_sc)\n",
    "accuracy = accuracy_score(y_test,y_lr_test_pred)\n",
    "print(\"Accuracy of Logistic Regression Testing Dataset: \",accuracy)"
   ]
  },
  {
   "cell_type": "markdown",
   "id": "711079bb",
   "metadata": {},
   "source": [
    "## Applying KNN"
   ]
  },
  {
   "cell_type": "code",
   "execution_count": 11,
   "id": "9be70c16",
   "metadata": {},
   "outputs": [],
   "source": [
    "from sklearn.neighbors import KNeighborsClassifier\n",
    "knn = KNeighborsClassifier()"
   ]
  },
  {
   "cell_type": "code",
   "execution_count": 12,
   "id": "048d9e99",
   "metadata": {},
   "outputs": [
    {
     "name": "stdout",
     "output_type": "stream",
     "text": [
      "Time elapsed 1.931051254272461\n"
     ]
    }
   ],
   "source": [
    "s = time()\n",
    "knn.fit(x_train_sc,y_train)\n",
    "print(\"Time elapsed\",time()-s)"
   ]
  },
  {
   "cell_type": "markdown",
   "id": "92d2b7b0",
   "metadata": {},
   "source": [
    "### Training accuracy"
   ]
  },
  {
   "cell_type": "code",
   "execution_count": 13,
   "id": "7ea04959",
   "metadata": {},
   "outputs": [
    {
     "data": {
      "text/plain": [
       "0.9934961298975715"
      ]
     },
     "execution_count": 13,
     "metadata": {},
     "output_type": "execute_result"
    }
   ],
   "source": [
    "knn.score(x_train_sc,y_train)"
   ]
  },
  {
   "cell_type": "markdown",
   "id": "faabea11",
   "metadata": {},
   "source": [
    "### Testing accuracy"
   ]
  },
  {
   "cell_type": "code",
   "execution_count": 14,
   "id": "9509818a",
   "metadata": {},
   "outputs": [
    {
     "data": {
      "text/plain": [
       "0.9937846312926394"
      ]
     },
     "execution_count": 14,
     "metadata": {},
     "output_type": "execute_result"
    }
   ],
   "source": [
    "knn.score(x_test_sc,y_test)"
   ]
  },
  {
   "cell_type": "markdown",
   "id": "2319f814",
   "metadata": {},
   "source": [
    "### Accuracy of the model"
   ]
  },
  {
   "cell_type": "code",
   "execution_count": 62,
   "id": "8c71d6b2",
   "metadata": {},
   "outputs": [
    {
     "name": "stdout",
     "output_type": "stream",
     "text": [
      "Accuracy of K Nearest Neigbour Training Dataset:  0.9934961298975715\n"
     ]
    }
   ],
   "source": [
    "y_knn_train_pred = knn.predict(x_train_sc)\n",
    "accuracy = accuracy_score(y_train,y_knn_train_pred)\n",
    "print(\"Accuracy of K Nearest Neigbour Training Dataset: \",accuracy)"
   ]
  },
  {
   "cell_type": "code",
   "execution_count": 63,
   "id": "abda9175",
   "metadata": {},
   "outputs": [
    {
     "name": "stdout",
     "output_type": "stream",
     "text": [
      "Accuracy of K Nearest Neigbour Testing Dataset:  0.9937846312926394\n"
     ]
    }
   ],
   "source": [
    "y_knn_test_pred = knn.predict(x_test_sc)\n",
    "accuracy = accuracy_score(y_test,y_knn_test_pred)\n",
    "print(\"Accuracy of K Nearest Neigbour Testing Dataset: \",accuracy)"
   ]
  },
  {
   "cell_type": "markdown",
   "id": "3e0be19b",
   "metadata": {},
   "source": [
    "## Applying Decision Tree Classifier"
   ]
  },
  {
   "cell_type": "code",
   "execution_count": 15,
   "id": "2cc54558",
   "metadata": {},
   "outputs": [],
   "source": [
    "from sklearn.tree import DecisionTreeClassifier\n",
    "\n",
    "dtc = DecisionTreeClassifier()"
   ]
  },
  {
   "cell_type": "code",
   "execution_count": 16,
   "id": "41e5e773",
   "metadata": {},
   "outputs": [
    {
     "name": "stdout",
     "output_type": "stream",
     "text": [
      "Time elapsed 1.2057952880859375\n"
     ]
    }
   ],
   "source": [
    "s = time()\n",
    "dtc.fit(x_train_sc,y_train)\n",
    "print(\"Time elapsed\",time()-s)"
   ]
  },
  {
   "cell_type": "markdown",
   "id": "8b99085a",
   "metadata": {},
   "source": [
    "### Training accuracy"
   ]
  },
  {
   "cell_type": "code",
   "execution_count": 17,
   "id": "44aea839",
   "metadata": {},
   "outputs": [
    {
     "data": {
      "text/plain": [
       "0.9944814512322137"
      ]
     },
     "execution_count": 17,
     "metadata": {},
     "output_type": "execute_result"
    }
   ],
   "source": [
    "dtc.score(x_train_sc,y_train)"
   ]
  },
  {
   "cell_type": "markdown",
   "id": "170c5819",
   "metadata": {},
   "source": [
    "### Testing accuracy"
   ]
  },
  {
   "cell_type": "code",
   "execution_count": 18,
   "id": "64d37aee",
   "metadata": {},
   "outputs": [
    {
     "data": {
      "text/plain": [
       "0.994076854776168"
      ]
     },
     "execution_count": 18,
     "metadata": {},
     "output_type": "execute_result"
    }
   ],
   "source": [
    "dtc.score(x_test_sc,y_test)"
   ]
  },
  {
   "cell_type": "markdown",
   "id": "6b71d5ef",
   "metadata": {},
   "source": [
    "### Accuracy of the model"
   ]
  },
  {
   "cell_type": "code",
   "execution_count": 64,
   "id": "27212a5a",
   "metadata": {},
   "outputs": [
    {
     "name": "stdout",
     "output_type": "stream",
     "text": [
      "Accuracy of Decision Tree Classifier Training Dataset:  0.9944814512322137\n"
     ]
    }
   ],
   "source": [
    "y_dtc_train_pred = dtc.predict(x_train_sc)\n",
    "accuracy = accuracy_score(y_train,y_dtc_train_pred)\n",
    "print(\"Accuracy of Decision Tree Classifier Training Dataset: \",accuracy)"
   ]
  },
  {
   "cell_type": "code",
   "execution_count": 66,
   "id": "880d3ecc",
   "metadata": {},
   "outputs": [
    {
     "name": "stdout",
     "output_type": "stream",
     "text": [
      "Accuracy of Decision Tree Classifier Testing Dataset:  0.994076854776168\n"
     ]
    }
   ],
   "source": [
    "y_dtc_test_pred = dtc.predict(x_test_sc)\n",
    "accuracy = accuracy_score(y_test,y_dtc_test_pred)\n",
    "print(\"Accuracy of Decision Tree Classifier Testing Dataset: \",accuracy)"
   ]
  },
  {
   "cell_type": "markdown",
   "id": "c422d3a2",
   "metadata": {},
   "source": [
    "## Applying Random Forest Classifier"
   ]
  },
  {
   "cell_type": "code",
   "execution_count": 19,
   "id": "7670ed7d",
   "metadata": {},
   "outputs": [],
   "source": [
    "from sklearn.ensemble import RandomForestClassifier\n",
    "rfc = RandomForestClassifier()"
   ]
  },
  {
   "cell_type": "code",
   "execution_count": 20,
   "id": "0dc409c9",
   "metadata": {},
   "outputs": [
    {
     "name": "stdout",
     "output_type": "stream",
     "text": [
      "Time elapsed 32.81076097488403\n"
     ]
    }
   ],
   "source": [
    "s = time()\n",
    "rfc.fit(x_train_sc,y_train)\n",
    "print(\"Time elapsed\",time()-s)"
   ]
  },
  {
   "cell_type": "markdown",
   "id": "dbf0f7ff",
   "metadata": {},
   "source": [
    "### Training accuracy"
   ]
  },
  {
   "cell_type": "code",
   "execution_count": 21,
   "id": "dc2cc964",
   "metadata": {},
   "outputs": [
    {
     "data": {
      "text/plain": [
       "0.9944814512322137"
      ]
     },
     "execution_count": 21,
     "metadata": {},
     "output_type": "execute_result"
    }
   ],
   "source": [
    "rfc.score(x_train_sc,y_train)"
   ]
  },
  {
   "cell_type": "markdown",
   "id": "901e50af",
   "metadata": {},
   "source": [
    "### Testing accuracy"
   ]
  },
  {
   "cell_type": "code",
   "execution_count": 22,
   "id": "e8cfac72",
   "metadata": {},
   "outputs": [
    {
     "data": {
      "text/plain": [
       "0.994076854776168"
      ]
     },
     "execution_count": 22,
     "metadata": {},
     "output_type": "execute_result"
    }
   ],
   "source": [
    "rfc.score(x_test_sc,y_test)"
   ]
  },
  {
   "cell_type": "markdown",
   "id": "27e35132",
   "metadata": {},
   "source": [
    "### Accuracy of the model"
   ]
  },
  {
   "cell_type": "code",
   "execution_count": 67,
   "id": "bd26341b",
   "metadata": {},
   "outputs": [
    {
     "name": "stdout",
     "output_type": "stream",
     "text": [
      "Accuracy of Random Forest Classifier Training Dataset:  0.9944814512322137\n"
     ]
    }
   ],
   "source": [
    "y_rfc_train_pred = rfc.predict(x_train_sc)\n",
    "accuracy = accuracy_score(y_train,y_rfc_train_pred)\n",
    "print(\"Accuracy of Random Forest Classifier Training Dataset: \",accuracy)"
   ]
  },
  {
   "cell_type": "code",
   "execution_count": 68,
   "id": "cadd8adf",
   "metadata": {},
   "outputs": [
    {
     "name": "stdout",
     "output_type": "stream",
     "text": [
      "Accuracy of Random Forest Classifier Testing Dataset:  0.994076854776168\n"
     ]
    }
   ],
   "source": [
    "y_rfc_test_pred = rfc.predict(x_test_sc)\n",
    "accuracy = accuracy_score(y_test,y_rfc_test_pred)\n",
    "print(\"Accuracy of Random Forest Classifier Testing Dataset: \",accuracy)"
   ]
  },
  {
   "cell_type": "markdown",
   "id": "8220390e",
   "metadata": {},
   "source": [
    "## Applying Naive bayes "
   ]
  },
  {
   "cell_type": "code",
   "execution_count": 23,
   "id": "e7f78010",
   "metadata": {},
   "outputs": [],
   "source": [
    "from sklearn.naive_bayes import GaussianNB\n",
    "nb = GaussianNB()"
   ]
  },
  {
   "cell_type": "code",
   "execution_count": 24,
   "id": "13f90ef9",
   "metadata": {},
   "outputs": [
    {
     "name": "stdout",
     "output_type": "stream",
     "text": [
      "Time elapsed 0.20797514915466309\n"
     ]
    }
   ],
   "source": [
    "s = time()\n",
    "nb.fit(x_train,y_train)\n",
    "print(\"Time elapsed\",time()-s)"
   ]
  },
  {
   "cell_type": "markdown",
   "id": "e3ca0ddf",
   "metadata": {},
   "source": [
    "### Training accuracy"
   ]
  },
  {
   "cell_type": "code",
   "execution_count": 25,
   "id": "06244728",
   "metadata": {},
   "outputs": [
    {
     "data": {
      "text/plain": [
       "0.7526768520669269"
      ]
     },
     "execution_count": 25,
     "metadata": {},
     "output_type": "execute_result"
    }
   ],
   "source": [
    "nb.score(x_train,y_train)"
   ]
  },
  {
   "cell_type": "markdown",
   "id": "7020b233",
   "metadata": {},
   "source": [
    "### Testing accuracy"
   ]
  },
  {
   "cell_type": "code",
   "execution_count": 26,
   "id": "32e77ca2",
   "metadata": {},
   "outputs": [
    {
     "data": {
      "text/plain": [
       "0.7529587627707282"
      ]
     },
     "execution_count": 26,
     "metadata": {},
     "output_type": "execute_result"
    }
   ],
   "source": [
    "nb.score(x_test,y_test)"
   ]
  },
  {
   "cell_type": "markdown",
   "id": "885cdc34",
   "metadata": {},
   "source": [
    "### Accuracy of the model"
   ]
  },
  {
   "cell_type": "code",
   "execution_count": 69,
   "id": "992033a8",
   "metadata": {},
   "outputs": [
    {
     "name": "stdout",
     "output_type": "stream",
     "text": [
      "Accuracy of Naive Bayes Training Dataset:  0.7526768520669269\n"
     ]
    }
   ],
   "source": [
    "y_nb_train_pred = nb.predict(x_train)\n",
    "accuracy = accuracy_score(y_train,y_nb_train_pred)\n",
    "print(\"Accuracy of Naive Bayes Training Dataset: \",accuracy)"
   ]
  },
  {
   "cell_type": "code",
   "execution_count": 70,
   "id": "f2811533",
   "metadata": {},
   "outputs": [
    {
     "name": "stdout",
     "output_type": "stream",
     "text": [
      "Accuracy of Naive Bayes Testing Dataset:  0.7529587627707282\n"
     ]
    }
   ],
   "source": [
    "y_nb_test_pred = nb.predict(x_test)\n",
    "accuracy = accuracy_score(y_test,y_nb_test_pred)\n",
    "print(\"Accuracy of Naive Bayes Testing Dataset: \",accuracy)"
   ]
  },
  {
   "cell_type": "markdown",
   "id": "7934ffce",
   "metadata": {},
   "source": [
    "## Applying SVM"
   ]
  },
  {
   "cell_type": "code",
   "execution_count": 27,
   "id": "3ca80e36",
   "metadata": {},
   "outputs": [],
   "source": [
    "from sklearn.svm import LinearSVC\n",
    "svc = LinearSVC()"
   ]
  },
  {
   "cell_type": "code",
   "execution_count": 28,
   "id": "e57c48e5",
   "metadata": {},
   "outputs": [
    {
     "name": "stdout",
     "output_type": "stream",
     "text": [
      "Time elapsed 76.34469270706177\n"
     ]
    }
   ],
   "source": [
    "s = time()\n",
    "svc.fit(x_train_sc,y_train)\n",
    "print(\"Time elapsed\",time()-s)"
   ]
  },
  {
   "cell_type": "markdown",
   "id": "e9ef3d23",
   "metadata": {},
   "source": [
    "### Training accuracy"
   ]
  },
  {
   "cell_type": "code",
   "execution_count": 29,
   "id": "06abab58",
   "metadata": {},
   "outputs": [
    {
     "data": {
      "text/plain": [
       "0.9842535909904915"
      ]
     },
     "execution_count": 29,
     "metadata": {},
     "output_type": "execute_result"
    }
   ],
   "source": [
    "svc.score(x_train_sc,y_train)"
   ]
  },
  {
   "cell_type": "markdown",
   "id": "a5320125",
   "metadata": {},
   "source": [
    "### Testing accuracy"
   ]
  },
  {
   "cell_type": "code",
   "execution_count": 30,
   "id": "4dfa7026",
   "metadata": {
    "scrolled": true
   },
   "outputs": [
    {
     "data": {
      "text/plain": [
       "0.9841749744304452"
      ]
     },
     "execution_count": 30,
     "metadata": {},
     "output_type": "execute_result"
    }
   ],
   "source": [
    "svc.score(x_test_sc,y_test)"
   ]
  },
  {
   "cell_type": "markdown",
   "id": "1dfcde7b",
   "metadata": {},
   "source": [
    "### Accuracy of the model"
   ]
  },
  {
   "cell_type": "code",
   "execution_count": 72,
   "id": "7fb464be",
   "metadata": {},
   "outputs": [
    {
     "name": "stdout",
     "output_type": "stream",
     "text": [
      "Accuracy of Support Vector Machine Training Dataset:  0.9842535909904915\n"
     ]
    }
   ],
   "source": [
    "y_svc_train_pred = svc.predict(x_train_sc)\n",
    "accuracy = accuracy_score(y_train,y_svc_train_pred)\n",
    "print(\"Accuracy of Support Vector Machine Training Dataset: \",accuracy)"
   ]
  },
  {
   "cell_type": "code",
   "execution_count": 73,
   "id": "710ee1bf",
   "metadata": {},
   "outputs": [
    {
     "name": "stdout",
     "output_type": "stream",
     "text": [
      "Accuracy of Support Vector Machine Testing Dataset:  0.9841749744304452\n"
     ]
    }
   ],
   "source": [
    "y_svc_test_pred = svc.predict(x_test_sc)\n",
    "accuracy = accuracy_score(y_test,y_svc_test_pred)\n",
    "print(\"Accuracy of Support Vector Machine Testing Dataset: \",accuracy)"
   ]
  },
  {
   "cell_type": "markdown",
   "id": "f7ce6826",
   "metadata": {},
   "source": [
    "## Evaluation Metrics"
   ]
  },
  {
   "cell_type": "code",
   "execution_count": 74,
   "id": "e244e352",
   "metadata": {},
   "outputs": [],
   "source": [
    "target_names = ['Normal', 'DoSattack', 'scan', 'malitiousControl', 'malitiousOperation', 'spying', 'dataProbing', 'wrongSetUp']"
   ]
  },
  {
   "cell_type": "code",
   "execution_count": 75,
   "id": "904f849f",
   "metadata": {},
   "outputs": [
    {
     "data": {
      "text/plain": [
       "['Normal',\n",
       " 'DoSattack',\n",
       " 'scan',\n",
       " 'malitiousControl',\n",
       " 'malitiousOperation',\n",
       " 'spying',\n",
       " 'dataProbing',\n",
       " 'wrongSetUp']"
      ]
     },
     "execution_count": 75,
     "metadata": {},
     "output_type": "execute_result"
    }
   ],
   "source": [
    "target_names"
   ]
  },
  {
   "cell_type": "markdown",
   "id": "8b02d95d",
   "metadata": {},
   "source": [
    "## Logistic Regression"
   ]
  },
  {
   "cell_type": "markdown",
   "id": "7e4b1336",
   "metadata": {},
   "source": [
    "### For Training Dataset"
   ]
  },
  {
   "cell_type": "code",
   "execution_count": 77,
   "id": "7ce27101",
   "metadata": {},
   "outputs": [
    {
     "name": "stdout",
     "output_type": "stream",
     "text": [
      "                    precision    recall  f1-score   support\n",
      "\n",
      "            Normal       0.94      0.50      0.66      2963\n",
      "         DoSattack       1.00      0.84      0.91       179\n",
      "              scan       0.98      0.93      0.95       671\n",
      "  malitiousControl       0.84      0.73      0.78       501\n",
      "malitiousOperation       0.87      0.46      0.60      1150\n",
      "            spying       0.00      0.00      0.00       398\n",
      "       dataProbing       0.92      1.00      0.96       101\n",
      "        wrongSetUp       0.99      1.00      0.99    260955\n",
      "\n",
      "          accuracy                           0.99    266918\n",
      "         macro avg       0.82      0.68      0.73    266918\n",
      "      weighted avg       0.99      0.99      0.99    266918\n",
      "\n"
     ]
    }
   ],
   "source": [
    "print(classification_report(y_train, y_lr_train_pred, target_names=target_names))"
   ]
  },
  {
   "cell_type": "markdown",
   "id": "770cdec8",
   "metadata": {},
   "source": [
    "### For Testing Dataset"
   ]
  },
  {
   "cell_type": "code",
   "execution_count": 78,
   "id": "bbbd2f2d",
   "metadata": {
    "scrolled": true
   },
   "outputs": [
    {
     "name": "stdout",
     "output_type": "stream",
     "text": [
      "                    precision    recall  f1-score   support\n",
      "\n",
      "            Normal       0.96      0.49      0.65      1037\n",
      "         DoSattack       1.00      0.79      0.88        63\n",
      "              scan       0.99      0.91      0.95       218\n",
      "  malitiousControl       0.83      0.74      0.78       156\n",
      "malitiousOperation       0.89      0.50      0.64       381\n",
      "            spying       0.00      0.00      0.00       134\n",
      "       dataProbing       0.91      1.00      0.95        21\n",
      "        wrongSetUp       0.99      1.00      0.99     86963\n",
      "\n",
      "          accuracy                           0.99     88973\n",
      "         macro avg       0.82      0.68      0.73     88973\n",
      "      weighted avg       0.99      0.99      0.99     88973\n",
      "\n"
     ]
    }
   ],
   "source": [
    "print(classification_report(y_test, y_lr_test_pred, target_names=target_names))"
   ]
  },
  {
   "cell_type": "markdown",
   "id": "ebc4387a",
   "metadata": {},
   "source": [
    "## Confusion Matrix for Logistic Regression"
   ]
  },
  {
   "cell_type": "markdown",
   "id": "505c7c20",
   "metadata": {},
   "source": [
    "### For Training dataset"
   ]
  },
  {
   "cell_type": "code",
   "execution_count": 82,
   "id": "fb8acf79",
   "metadata": {},
   "outputs": [
    {
     "data": {
      "text/plain": [
       "array([[  1490,      0,      0,      0,      0,      0,      0,   1473],\n",
       "       [     0,    150,      0,      0,      0,      0,      0,     29],\n",
       "       [     0,      0,    622,      0,     28,      0,      0,     21],\n",
       "       [     0,      0,      0,    367,      0,      0,      0,    134],\n",
       "       [     0,      0,      9,      0,    529,      0,      9,    603],\n",
       "       [     0,      0,      0,      0,     27,      0,      0,    371],\n",
       "       [     0,      0,      0,      0,      0,      0,    101,      0],\n",
       "       [    92,      0,      3,     68,     24,     56,      0, 260712]],\n",
       "      dtype=int64)"
      ]
     },
     "execution_count": 82,
     "metadata": {},
     "output_type": "execute_result"
    }
   ],
   "source": [
    "confusion_matrix(y_train, y_lr_train_pred)"
   ]
  },
  {
   "cell_type": "markdown",
   "id": "86d8b450",
   "metadata": {},
   "source": [
    "### For Testing dataset"
   ]
  },
  {
   "cell_type": "code",
   "execution_count": 81,
   "id": "1db6db1d",
   "metadata": {},
   "outputs": [
    {
     "data": {
      "text/plain": [
       "array([[  510,     0,     0,     0,     0,     0,     0,   527],\n",
       "       [    0,    50,     0,     0,     0,     0,     0,    13],\n",
       "       [    0,     0,   198,     0,    10,     0,     0,    10],\n",
       "       [    0,     0,     0,   116,     0,     0,     0,    40],\n",
       "       [    0,     0,     1,     0,   190,     0,     2,   188],\n",
       "       [    0,     0,     0,     0,     8,     0,     0,   126],\n",
       "       [    0,     0,     0,     0,     0,     0,    21,     0],\n",
       "       [   22,     0,     0,    24,     6,    15,     0, 86896]],\n",
       "      dtype=int64)"
      ]
     },
     "execution_count": 81,
     "metadata": {},
     "output_type": "execute_result"
    }
   ],
   "source": [
    "confusion_matrix(y_test, y_lr_test_pred)"
   ]
  },
  {
   "cell_type": "markdown",
   "id": "8ab29451",
   "metadata": {},
   "source": [
    "## K Nearest Neigbour"
   ]
  },
  {
   "cell_type": "markdown",
   "id": "d6925d74",
   "metadata": {},
   "source": [
    "### For Training Dataset"
   ]
  },
  {
   "cell_type": "code",
   "execution_count": 79,
   "id": "94833b51",
   "metadata": {},
   "outputs": [
    {
     "name": "stdout",
     "output_type": "stream",
     "text": [
      "                    precision    recall  f1-score   support\n",
      "\n",
      "            Normal       0.63      1.00      0.77      2963\n",
      "         DoSattack       1.00      1.00      1.00       179\n",
      "              scan       1.00      1.00      1.00       671\n",
      "  malitiousControl       1.00      1.00      1.00       501\n",
      "malitiousOperation       1.00      1.00      1.00      1150\n",
      "            spying       1.00      1.00      1.00       398\n",
      "       dataProbing       1.00      1.00      1.00       101\n",
      "        wrongSetUp       1.00      0.99      1.00    260955\n",
      "\n",
      "          accuracy                           0.99    266918\n",
      "         macro avg       0.95      1.00      0.97    266918\n",
      "      weighted avg       1.00      0.99      0.99    266918\n",
      "\n"
     ]
    }
   ],
   "source": [
    "print(classification_report(y_train, y_knn_train_pred, target_names=target_names))"
   ]
  },
  {
   "cell_type": "markdown",
   "id": "111ffdd6",
   "metadata": {},
   "source": [
    "### For Testing Dataset"
   ]
  },
  {
   "cell_type": "code",
   "execution_count": 80,
   "id": "138d6186",
   "metadata": {
    "scrolled": true
   },
   "outputs": [
    {
     "name": "stdout",
     "output_type": "stream",
     "text": [
      "                    precision    recall  f1-score   support\n",
      "\n",
      "            Normal       0.65      1.00      0.79      1037\n",
      "         DoSattack       1.00      1.00      1.00        63\n",
      "              scan       1.00      1.00      1.00       218\n",
      "  malitiousControl       1.00      1.00      1.00       156\n",
      "malitiousOperation       1.00      1.00      1.00       381\n",
      "            spying       1.00      1.00      1.00       134\n",
      "       dataProbing       1.00      1.00      1.00        21\n",
      "        wrongSetUp       1.00      0.99      1.00     86963\n",
      "\n",
      "          accuracy                           0.99     88973\n",
      "         macro avg       0.96      1.00      0.97     88973\n",
      "      weighted avg       1.00      0.99      0.99     88973\n",
      "\n"
     ]
    }
   ],
   "source": [
    "print(classification_report(y_test, y_knn_test_pred, target_names=target_names))"
   ]
  },
  {
   "cell_type": "markdown",
   "id": "f3b02f7b",
   "metadata": {},
   "source": [
    "## Confusion Matrix for K Nearest Neigbour"
   ]
  },
  {
   "cell_type": "markdown",
   "id": "1aaa0b07",
   "metadata": {},
   "source": [
    "### For Training dataset"
   ]
  },
  {
   "cell_type": "code",
   "execution_count": 83,
   "id": "271461b3",
   "metadata": {},
   "outputs": [
    {
     "data": {
      "text/plain": [
       "array([[  2963,      0,      0,      0,      0,      0,      0,      0],\n",
       "       [     0,    179,      0,      0,      0,      0,      0,      0],\n",
       "       [     0,      0,    671,      0,      0,      0,      0,      0],\n",
       "       [     0,      0,      0,    501,      0,      0,      0,      0],\n",
       "       [     0,      0,      0,      0,   1150,      0,      0,      0],\n",
       "       [     0,      0,      0,      0,      0,    398,      0,      0],\n",
       "       [     0,      0,      0,      0,      0,      0,    101,      0],\n",
       "       [  1732,      0,      0,      0,      3,      1,      0, 259219]],\n",
       "      dtype=int64)"
      ]
     },
     "execution_count": 83,
     "metadata": {},
     "output_type": "execute_result"
    }
   ],
   "source": [
    "confusion_matrix(y_train, y_knn_train_pred)"
   ]
  },
  {
   "cell_type": "markdown",
   "id": "c7f62c96",
   "metadata": {},
   "source": [
    "### For Testing dataset"
   ]
  },
  {
   "cell_type": "code",
   "execution_count": 84,
   "id": "38b1100c",
   "metadata": {},
   "outputs": [
    {
     "data": {
      "text/plain": [
       "array([[ 1037,     0,     0,     0,     0,     0,     0,     0],\n",
       "       [    0,    63,     0,     0,     0,     0,     0,     0],\n",
       "       [    0,     0,   218,     0,     0,     0,     0,     0],\n",
       "       [    0,     0,     0,   156,     0,     0,     0,     0],\n",
       "       [    0,     0,     0,     0,   381,     0,     0,     0],\n",
       "       [    0,     0,     0,     0,     0,   134,     0,     0],\n",
       "       [    0,     0,     0,     0,     0,     0,    21,     0],\n",
       "       [  552,     0,     0,     0,     1,     0,     0, 86410]],\n",
       "      dtype=int64)"
      ]
     },
     "execution_count": 84,
     "metadata": {},
     "output_type": "execute_result"
    }
   ],
   "source": [
    "confusion_matrix(y_test, y_knn_test_pred)"
   ]
  },
  {
   "cell_type": "markdown",
   "id": "f2125093",
   "metadata": {},
   "source": [
    "## Decision Tree Classifier"
   ]
  },
  {
   "cell_type": "markdown",
   "id": "6d94b263",
   "metadata": {},
   "source": [
    "### For Training Dataset"
   ]
  },
  {
   "cell_type": "code",
   "execution_count": 85,
   "id": "1a83cce5",
   "metadata": {},
   "outputs": [
    {
     "name": "stdout",
     "output_type": "stream",
     "text": [
      "                    precision    recall  f1-score   support\n",
      "\n",
      "            Normal       1.00      0.50      0.67      2963\n",
      "         DoSattack       1.00      1.00      1.00       179\n",
      "              scan       1.00      1.00      1.00       671\n",
      "  malitiousControl       1.00      1.00      1.00       501\n",
      "malitiousOperation       1.00      1.00      1.00      1150\n",
      "            spying       1.00      1.00      1.00       398\n",
      "       dataProbing       1.00      1.00      1.00       101\n",
      "        wrongSetUp       0.99      1.00      1.00    260955\n",
      "\n",
      "          accuracy                           0.99    266918\n",
      "         macro avg       1.00      0.94      0.96    266918\n",
      "      weighted avg       0.99      0.99      0.99    266918\n",
      "\n"
     ]
    }
   ],
   "source": [
    "print(classification_report(y_train, y_dtc_train_pred, target_names=target_names))"
   ]
  },
  {
   "cell_type": "markdown",
   "id": "1acae72e",
   "metadata": {},
   "source": [
    "### For Testing Dataset"
   ]
  },
  {
   "cell_type": "code",
   "execution_count": 86,
   "id": "6e006de4",
   "metadata": {
    "scrolled": true
   },
   "outputs": [
    {
     "name": "stdout",
     "output_type": "stream",
     "text": [
      "                    precision    recall  f1-score   support\n",
      "\n",
      "            Normal       1.00      0.49      0.66      1037\n",
      "         DoSattack       1.00      1.00      1.00        63\n",
      "              scan       1.00      1.00      1.00       218\n",
      "  malitiousControl       1.00      1.00      1.00       156\n",
      "malitiousOperation       1.00      1.00      1.00       381\n",
      "            spying       1.00      1.00      1.00       134\n",
      "       dataProbing       1.00      1.00      1.00        21\n",
      "        wrongSetUp       0.99      1.00      1.00     86963\n",
      "\n",
      "          accuracy                           0.99     88973\n",
      "         macro avg       1.00      0.94      0.96     88973\n",
      "      weighted avg       0.99      0.99      0.99     88973\n",
      "\n"
     ]
    }
   ],
   "source": [
    "print(classification_report(y_test, y_dtc_test_pred, target_names=target_names))"
   ]
  },
  {
   "cell_type": "markdown",
   "id": "e980d977",
   "metadata": {},
   "source": [
    "## Confusion Matrix for Decision Tree Classifier"
   ]
  },
  {
   "cell_type": "markdown",
   "id": "9539a8d8",
   "metadata": {},
   "source": [
    "### For Training dataset"
   ]
  },
  {
   "cell_type": "code",
   "execution_count": 87,
   "id": "f56bc95c",
   "metadata": {},
   "outputs": [
    {
     "data": {
      "text/plain": [
       "array([[  1490,      0,      0,      0,      0,      0,      0,   1473],\n",
       "       [     0,    179,      0,      0,      0,      0,      0,      0],\n",
       "       [     0,      0,    671,      0,      0,      0,      0,      0],\n",
       "       [     0,      0,      0,    501,      0,      0,      0,      0],\n",
       "       [     0,      0,      0,      0,   1150,      0,      0,      0],\n",
       "       [     0,      0,      0,      0,      0,    398,      0,      0],\n",
       "       [     0,      0,      0,      0,      0,      0,    101,      0],\n",
       "       [     0,      0,      0,      0,      0,      0,      0, 260955]],\n",
       "      dtype=int64)"
      ]
     },
     "execution_count": 87,
     "metadata": {},
     "output_type": "execute_result"
    }
   ],
   "source": [
    "confusion_matrix(y_train, y_dtc_train_pred)"
   ]
  },
  {
   "cell_type": "markdown",
   "id": "7bf15a85",
   "metadata": {},
   "source": [
    "### For Testing dataset"
   ]
  },
  {
   "cell_type": "code",
   "execution_count": 88,
   "id": "06d24f39",
   "metadata": {},
   "outputs": [
    {
     "data": {
      "text/plain": [
       "array([[  510,     0,     0,     0,     0,     0,     0,   527],\n",
       "       [    0,    63,     0,     0,     0,     0,     0,     0],\n",
       "       [    0,     0,   218,     0,     0,     0,     0,     0],\n",
       "       [    0,     0,     0,   156,     0,     0,     0,     0],\n",
       "       [    0,     0,     0,     0,   381,     0,     0,     0],\n",
       "       [    0,     0,     0,     0,     0,   134,     0,     0],\n",
       "       [    0,     0,     0,     0,     0,     0,    21,     0],\n",
       "       [    0,     0,     0,     0,     0,     0,     0, 86963]],\n",
       "      dtype=int64)"
      ]
     },
     "execution_count": 88,
     "metadata": {},
     "output_type": "execute_result"
    }
   ],
   "source": [
    "confusion_matrix(y_test, y_dtc_test_pred)"
   ]
  },
  {
   "cell_type": "markdown",
   "id": "96e22ab5",
   "metadata": {},
   "source": [
    "## Random Forest Classifier"
   ]
  },
  {
   "cell_type": "markdown",
   "id": "96b34f96",
   "metadata": {},
   "source": [
    "### For Training Dataset"
   ]
  },
  {
   "cell_type": "code",
   "execution_count": 89,
   "id": "7c620887",
   "metadata": {},
   "outputs": [
    {
     "name": "stdout",
     "output_type": "stream",
     "text": [
      "                    precision    recall  f1-score   support\n",
      "\n",
      "            Normal       1.00      0.50      0.67      2963\n",
      "         DoSattack       1.00      1.00      1.00       179\n",
      "              scan       1.00      1.00      1.00       671\n",
      "  malitiousControl       1.00      1.00      1.00       501\n",
      "malitiousOperation       1.00      1.00      1.00      1150\n",
      "            spying       1.00      1.00      1.00       398\n",
      "       dataProbing       1.00      1.00      1.00       101\n",
      "        wrongSetUp       0.99      1.00      1.00    260955\n",
      "\n",
      "          accuracy                           0.99    266918\n",
      "         macro avg       1.00      0.94      0.96    266918\n",
      "      weighted avg       0.99      0.99      0.99    266918\n",
      "\n"
     ]
    }
   ],
   "source": [
    "print(classification_report(y_train, y_rfc_train_pred, target_names=target_names))"
   ]
  },
  {
   "cell_type": "markdown",
   "id": "51bcaf08",
   "metadata": {},
   "source": [
    "### For Testing Dataset"
   ]
  },
  {
   "cell_type": "code",
   "execution_count": 91,
   "id": "690149e5",
   "metadata": {
    "scrolled": true
   },
   "outputs": [
    {
     "name": "stdout",
     "output_type": "stream",
     "text": [
      "                    precision    recall  f1-score   support\n",
      "\n",
      "            Normal       1.00      0.49      0.66      1037\n",
      "         DoSattack       1.00      1.00      1.00        63\n",
      "              scan       1.00      1.00      1.00       218\n",
      "  malitiousControl       1.00      1.00      1.00       156\n",
      "malitiousOperation       1.00      1.00      1.00       381\n",
      "            spying       1.00      1.00      1.00       134\n",
      "       dataProbing       1.00      1.00      1.00        21\n",
      "        wrongSetUp       0.99      1.00      1.00     86963\n",
      "\n",
      "          accuracy                           0.99     88973\n",
      "         macro avg       1.00      0.94      0.96     88973\n",
      "      weighted avg       0.99      0.99      0.99     88973\n",
      "\n"
     ]
    }
   ],
   "source": [
    "print(classification_report(y_test, y_rfc_test_pred, target_names=target_names))"
   ]
  },
  {
   "cell_type": "markdown",
   "id": "fdaa2ff0",
   "metadata": {},
   "source": [
    "## Confusion Matrix for Random Forest Classifier"
   ]
  },
  {
   "cell_type": "markdown",
   "id": "8a388bae",
   "metadata": {},
   "source": [
    "### For Training dataset"
   ]
  },
  {
   "cell_type": "code",
   "execution_count": 92,
   "id": "2371ff38",
   "metadata": {},
   "outputs": [
    {
     "data": {
      "text/plain": [
       "array([[  1490,      0,      0,      0,      0,      0,      0,   1473],\n",
       "       [     0,    179,      0,      0,      0,      0,      0,      0],\n",
       "       [     0,      0,    671,      0,      0,      0,      0,      0],\n",
       "       [     0,      0,      0,    501,      0,      0,      0,      0],\n",
       "       [     0,      0,      0,      0,   1150,      0,      0,      0],\n",
       "       [     0,      0,      0,      0,      0,    398,      0,      0],\n",
       "       [     0,      0,      0,      0,      0,      0,    101,      0],\n",
       "       [     0,      0,      0,      0,      0,      0,      0, 260955]],\n",
       "      dtype=int64)"
      ]
     },
     "execution_count": 92,
     "metadata": {},
     "output_type": "execute_result"
    }
   ],
   "source": [
    "confusion_matrix(y_train, y_rfc_train_pred)"
   ]
  },
  {
   "cell_type": "markdown",
   "id": "63de6a37",
   "metadata": {},
   "source": [
    "### For Testing dataset"
   ]
  },
  {
   "cell_type": "code",
   "execution_count": 93,
   "id": "cc47f8f5",
   "metadata": {},
   "outputs": [
    {
     "data": {
      "text/plain": [
       "array([[  510,     0,     0,     0,     0,     0,     0,   527],\n",
       "       [    0,    63,     0,     0,     0,     0,     0,     0],\n",
       "       [    0,     0,   218,     0,     0,     0,     0,     0],\n",
       "       [    0,     0,     0,   156,     0,     0,     0,     0],\n",
       "       [    0,     0,     0,     0,   381,     0,     0,     0],\n",
       "       [    0,     0,     0,     0,     0,   134,     0,     0],\n",
       "       [    0,     0,     0,     0,     0,     0,    21,     0],\n",
       "       [    0,     0,     0,     0,     0,     0,     0, 86963]],\n",
       "      dtype=int64)"
      ]
     },
     "execution_count": 93,
     "metadata": {},
     "output_type": "execute_result"
    }
   ],
   "source": [
    "confusion_matrix(y_test, y_rfc_test_pred)"
   ]
  },
  {
   "cell_type": "markdown",
   "id": "1ef43a42",
   "metadata": {},
   "source": [
    "## Naive Bayes"
   ]
  },
  {
   "cell_type": "markdown",
   "id": "326bb1b6",
   "metadata": {},
   "source": [
    "### For Training Dataset"
   ]
  },
  {
   "cell_type": "code",
   "execution_count": 94,
   "id": "475d8e8d",
   "metadata": {},
   "outputs": [
    {
     "name": "stdout",
     "output_type": "stream",
     "text": [
      "                    precision    recall  f1-score   support\n",
      "\n",
      "            Normal       0.34      1.00      0.50      2963\n",
      "         DoSattack       0.04      0.84      0.07       179\n",
      "              scan       0.19      0.93      0.31       671\n",
      "  malitiousControl       0.67      1.00      0.81       501\n",
      "malitiousOperation       1.00      0.13      0.23      1150\n",
      "            spying       0.01      0.93      0.01       398\n",
      "       dataProbing       1.00      1.00      1.00       101\n",
      "        wrongSetUp       1.00      0.75      0.86    260955\n",
      "\n",
      "          accuracy                           0.75    266918\n",
      "         macro avg       0.53      0.82      0.47    266918\n",
      "      weighted avg       0.99      0.75      0.85    266918\n",
      "\n"
     ]
    }
   ],
   "source": [
    "print(classification_report(y_train, y_nb_train_pred, target_names=target_names))"
   ]
  },
  {
   "cell_type": "markdown",
   "id": "679bf563",
   "metadata": {},
   "source": [
    "### For Testing Dataset"
   ]
  },
  {
   "cell_type": "code",
   "execution_count": 95,
   "id": "c4ad2501",
   "metadata": {
    "scrolled": true
   },
   "outputs": [
    {
     "name": "stdout",
     "output_type": "stream",
     "text": [
      "                    precision    recall  f1-score   support\n",
      "\n",
      "            Normal       0.34      1.00      0.51      1037\n",
      "         DoSattack       0.04      0.79      0.08        63\n",
      "              scan       0.19      0.91      0.31       218\n",
      "  malitiousControl       0.63      1.00      0.78       156\n",
      "malitiousOperation       1.00      0.10      0.19       381\n",
      "            spying       0.01      0.96      0.01       134\n",
      "       dataProbing       1.00      1.00      1.00        21\n",
      "        wrongSetUp       1.00      0.75      0.86     86963\n",
      "\n",
      "          accuracy                           0.75     88973\n",
      "         macro avg       0.53      0.81      0.47     88973\n",
      "      weighted avg       0.99      0.75      0.85     88973\n",
      "\n"
     ]
    }
   ],
   "source": [
    "print(classification_report(y_test, y_nb_test_pred, target_names=target_names))"
   ]
  },
  {
   "cell_type": "markdown",
   "id": "cc99ac47",
   "metadata": {},
   "source": [
    "## Confusion Matrix for Naive Bayes"
   ]
  },
  {
   "cell_type": "markdown",
   "id": "71f30a0b",
   "metadata": {},
   "source": [
    "### For Training dataset"
   ]
  },
  {
   "cell_type": "code",
   "execution_count": 96,
   "id": "3c936d98",
   "metadata": {},
   "outputs": [
    {
     "data": {
      "text/plain": [
       "array([[  2963,      0,      0,      0,      0,      0,      0,      0],\n",
       "       [     0,    150,      0,      0,      0,      0,      0,     29],\n",
       "       [     0,      0,    622,      0,      0,      6,      0,     43],\n",
       "       [     0,      0,      0,    501,      0,      0,      0,      0],\n",
       "       [     7,      0,      0,      0,    146,    635,      0,    362],\n",
       "       [     0,      0,     29,      0,      0,    369,      0,      0],\n",
       "       [     0,      0,      0,      0,      0,      0,    101,      0],\n",
       "       [  5851,   3770,   2644,    242,      0,  52397,      0, 196051]],\n",
       "      dtype=int64)"
      ]
     },
     "execution_count": 96,
     "metadata": {},
     "output_type": "execute_result"
    }
   ],
   "source": [
    "confusion_matrix(y_train, y_nb_train_pred)"
   ]
  },
  {
   "cell_type": "markdown",
   "id": "7198c5d7",
   "metadata": {},
   "source": [
    "### For Testing dataset"
   ]
  },
  {
   "cell_type": "code",
   "execution_count": 97,
   "id": "8fd2e5cd",
   "metadata": {},
   "outputs": [
    {
     "data": {
      "text/plain": [
       "array([[ 1037,     0,     0,     0,     0,     0,     0,     0],\n",
       "       [    0,    50,     0,     0,     0,     0,     0,    13],\n",
       "       [    0,     0,   198,     0,     0,     3,     0,    17],\n",
       "       [    0,     0,     0,   156,     0,     0,     0,     0],\n",
       "       [    4,     0,     0,     0,    40,   232,     0,   105],\n",
       "       [    0,     0,     6,     0,     0,   128,     0,     0],\n",
       "       [    0,     0,     0,     0,     0,     0,    21,     0],\n",
       "       [ 1982,  1181,   850,    90,     0, 17497,     0, 65363]],\n",
       "      dtype=int64)"
      ]
     },
     "execution_count": 97,
     "metadata": {},
     "output_type": "execute_result"
    }
   ],
   "source": [
    "confusion_matrix(y_test, y_nb_test_pred)"
   ]
  },
  {
   "cell_type": "markdown",
   "id": "20d3a252",
   "metadata": {},
   "source": [
    "## Support Vector Machine Classifier"
   ]
  },
  {
   "cell_type": "markdown",
   "id": "31bca470",
   "metadata": {},
   "source": [
    "### For Training Dataset"
   ]
  },
  {
   "cell_type": "code",
   "execution_count": 98,
   "id": "c299d163",
   "metadata": {},
   "outputs": [
    {
     "name": "stdout",
     "output_type": "stream",
     "text": [
      "                    precision    recall  f1-score   support\n",
      "\n",
      "            Normal       0.94      0.50      0.66      2963\n",
      "         DoSattack       0.00      0.00      0.00       179\n",
      "              scan       0.00      0.00      0.00       671\n",
      "  malitiousControl       0.99      0.73      0.84       501\n",
      "malitiousOperation       0.00      0.00      0.00      1150\n",
      "            spying       0.00      0.00      0.00       398\n",
      "       dataProbing       0.00      0.00      0.00       101\n",
      "        wrongSetUp       0.98      1.00      0.99    260955\n",
      "\n",
      "          accuracy                           0.98    266918\n",
      "         macro avg       0.37      0.28      0.31    266918\n",
      "      weighted avg       0.97      0.98      0.98    266918\n",
      "\n"
     ]
    },
    {
     "name": "stderr",
     "output_type": "stream",
     "text": [
      "c:\\users\\hebbar\\appdata\\local\\programs\\python\\python39\\lib\\site-packages\\sklearn\\metrics\\_classification.py:1308: UndefinedMetricWarning: Precision and F-score are ill-defined and being set to 0.0 in labels with no predicted samples. Use `zero_division` parameter to control this behavior.\n",
      "  _warn_prf(average, modifier, msg_start, len(result))\n",
      "c:\\users\\hebbar\\appdata\\local\\programs\\python\\python39\\lib\\site-packages\\sklearn\\metrics\\_classification.py:1308: UndefinedMetricWarning: Precision and F-score are ill-defined and being set to 0.0 in labels with no predicted samples. Use `zero_division` parameter to control this behavior.\n",
      "  _warn_prf(average, modifier, msg_start, len(result))\n",
      "c:\\users\\hebbar\\appdata\\local\\programs\\python\\python39\\lib\\site-packages\\sklearn\\metrics\\_classification.py:1308: UndefinedMetricWarning: Precision and F-score are ill-defined and being set to 0.0 in labels with no predicted samples. Use `zero_division` parameter to control this behavior.\n",
      "  _warn_prf(average, modifier, msg_start, len(result))\n"
     ]
    }
   ],
   "source": [
    "print(classification_report(y_train, y_svc_train_pred, target_names=target_names))"
   ]
  },
  {
   "cell_type": "markdown",
   "id": "2c804480",
   "metadata": {},
   "source": [
    "### For Testing Dataset"
   ]
  },
  {
   "cell_type": "code",
   "execution_count": 99,
   "id": "3005aac2",
   "metadata": {
    "scrolled": true
   },
   "outputs": [
    {
     "name": "stdout",
     "output_type": "stream",
     "text": [
      "                    precision    recall  f1-score   support\n",
      "\n",
      "            Normal       0.96      0.49      0.65      1037\n",
      "         DoSattack       0.00      0.00      0.00        63\n",
      "              scan       0.00      0.00      0.00       218\n",
      "  malitiousControl       0.99      0.74      0.85       156\n",
      "malitiousOperation       0.00      0.00      0.00       381\n",
      "            spying       0.00      0.00      0.00       134\n",
      "       dataProbing       0.00      0.00      0.00        21\n",
      "        wrongSetUp       0.98      1.00      0.99     86963\n",
      "\n",
      "          accuracy                           0.98     88973\n",
      "         macro avg       0.37      0.28      0.31     88973\n",
      "      weighted avg       0.98      0.98      0.98     88973\n",
      "\n"
     ]
    },
    {
     "name": "stderr",
     "output_type": "stream",
     "text": [
      "c:\\users\\hebbar\\appdata\\local\\programs\\python\\python39\\lib\\site-packages\\sklearn\\metrics\\_classification.py:1308: UndefinedMetricWarning: Precision and F-score are ill-defined and being set to 0.0 in labels with no predicted samples. Use `zero_division` parameter to control this behavior.\n",
      "  _warn_prf(average, modifier, msg_start, len(result))\n",
      "c:\\users\\hebbar\\appdata\\local\\programs\\python\\python39\\lib\\site-packages\\sklearn\\metrics\\_classification.py:1308: UndefinedMetricWarning: Precision and F-score are ill-defined and being set to 0.0 in labels with no predicted samples. Use `zero_division` parameter to control this behavior.\n",
      "  _warn_prf(average, modifier, msg_start, len(result))\n",
      "c:\\users\\hebbar\\appdata\\local\\programs\\python\\python39\\lib\\site-packages\\sklearn\\metrics\\_classification.py:1308: UndefinedMetricWarning: Precision and F-score are ill-defined and being set to 0.0 in labels with no predicted samples. Use `zero_division` parameter to control this behavior.\n",
      "  _warn_prf(average, modifier, msg_start, len(result))\n"
     ]
    }
   ],
   "source": [
    "print(classification_report(y_test, y_svc_test_pred, target_names=target_names))"
   ]
  },
  {
   "cell_type": "markdown",
   "id": "2cfac757",
   "metadata": {},
   "source": [
    "## Confusion Matrix for Support Vector Machine Classifier"
   ]
  },
  {
   "cell_type": "markdown",
   "id": "c5517092",
   "metadata": {},
   "source": [
    "### For Training dataset"
   ]
  },
  {
   "cell_type": "code",
   "execution_count": 100,
   "id": "414e155a",
   "metadata": {},
   "outputs": [
    {
     "data": {
      "text/plain": [
       "array([[  1490,      0,      0,      0,      0,      0,      0,   1473],\n",
       "       [     0,      0,      0,      0,      0,      0,      0,    179],\n",
       "       [     0,      0,      0,      0,      0,      0,      0,    671],\n",
       "       [     0,      0,      0,    367,      0,      0,      0,    134],\n",
       "       [     8,      0,      9,      0,      0,      0,      0,   1133],\n",
       "       [     0,      0,      0,      0,      0,      0,      0,    398],\n",
       "       [     0,      0,      0,      0,      0,      0,      0,    101],\n",
       "       [    82,      0,      0,      2,      0,     13,      0, 260858]],\n",
       "      dtype=int64)"
      ]
     },
     "execution_count": 100,
     "metadata": {},
     "output_type": "execute_result"
    }
   ],
   "source": [
    "confusion_matrix(y_train, y_svc_train_pred)"
   ]
  },
  {
   "cell_type": "markdown",
   "id": "4e0ed590",
   "metadata": {},
   "source": [
    "### For Testing dataset"
   ]
  },
  {
   "cell_type": "code",
   "execution_count": 101,
   "id": "acc46cb0",
   "metadata": {},
   "outputs": [
    {
     "data": {
      "text/plain": [
       "array([[  510,     0,     0,     0,     0,     0,     0,   527],\n",
       "       [    0,     0,     0,     0,     0,     0,     0,    63],\n",
       "       [    0,     0,     0,     0,     0,     0,     0,   218],\n",
       "       [    0,     0,     0,   116,     0,     0,     0,    40],\n",
       "       [    3,     0,     1,     0,     0,     0,     0,   377],\n",
       "       [    0,     0,     0,     0,     0,     0,     0,   134],\n",
       "       [    0,     0,     0,     0,     0,     0,     0,    21],\n",
       "       [   21,     0,     0,     1,     0,     2,     0, 86939]],\n",
       "      dtype=int64)"
      ]
     },
     "execution_count": 101,
     "metadata": {},
     "output_type": "execute_result"
    }
   ],
   "source": [
    "confusion_matrix(y_test, y_svc_test_pred)"
   ]
  },
  {
   "cell_type": "code",
   "execution_count": null,
   "id": "e844de42",
   "metadata": {},
   "outputs": [],
   "source": []
  },
  {
   "cell_type": "code",
   "execution_count": null,
   "id": "a27e587b",
   "metadata": {},
   "outputs": [],
   "source": []
  },
  {
   "cell_type": "code",
   "execution_count": null,
   "id": "242362ca",
   "metadata": {},
   "outputs": [],
   "source": []
  },
  {
   "cell_type": "code",
   "execution_count": null,
   "id": "37ab4f4a",
   "metadata": {},
   "outputs": [],
   "source": []
  },
  {
   "cell_type": "code",
   "execution_count": null,
   "id": "3ec95337",
   "metadata": {},
   "outputs": [],
   "source": []
  },
  {
   "cell_type": "code",
   "execution_count": null,
   "id": "b0390f98",
   "metadata": {},
   "outputs": [],
   "source": []
  }
 ],
 "metadata": {
  "kernelspec": {
   "display_name": "Python 3 (ipykernel)",
   "language": "python",
   "name": "python3"
  },
  "language_info": {
   "codemirror_mode": {
    "name": "ipython",
    "version": 3
   },
   "file_extension": ".py",
   "mimetype": "text/x-python",
   "name": "python",
   "nbconvert_exporter": "python",
   "pygments_lexer": "ipython3",
   "version": "3.9.6"
  }
 },
 "nbformat": 4,
 "nbformat_minor": 5
}
