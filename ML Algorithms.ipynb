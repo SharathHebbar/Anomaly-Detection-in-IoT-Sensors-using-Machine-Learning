{
 "cells": [
  {
   "cell_type": "markdown",
   "id": "be55d914",
   "metadata": {},
   "source": [
    "## Importing Libraries"
   ]
  },
  {
   "cell_type": "code",
   "execution_count": 113,
   "id": "b6a84b32",
   "metadata": {},
   "outputs": [],
   "source": [
    "from time import time\n",
    "import pandas as pd\n",
    "import numpy as np\n",
    "from sklearn.model_selection import train_test_split\n",
    "from sklearn.preprocessing import StandardScaler\n",
    "from sklearn.metrics import accuracy_score, classification_report,confusion_matrix"
   ]
  },
  {
   "cell_type": "markdown",
   "id": "30a15ad2",
   "metadata": {},
   "source": [
    "### Loading dataset"
   ]
  },
  {
   "cell_type": "code",
   "execution_count": 114,
   "id": "cbfe1dff",
   "metadata": {},
   "outputs": [
    {
     "data": {
      "text/html": [
       "<div>\n",
       "<style scoped>\n",
       "    .dataframe tbody tr th:only-of-type {\n",
       "        vertical-align: middle;\n",
       "    }\n",
       "\n",
       "    .dataframe tbody tr th {\n",
       "        vertical-align: top;\n",
       "    }\n",
       "\n",
       "    .dataframe thead th {\n",
       "        text-align: right;\n",
       "    }\n",
       "</style>\n",
       "<table border=\"1\" class=\"dataframe\">\n",
       "  <thead>\n",
       "    <tr style=\"text-align: right;\">\n",
       "      <th></th>\n",
       "      <th>Unnamed: 0</th>\n",
       "      <th>0</th>\n",
       "      <th>1</th>\n",
       "      <th>2</th>\n",
       "      <th>3</th>\n",
       "      <th>4</th>\n",
       "      <th>5</th>\n",
       "      <th>6</th>\n",
       "      <th>7</th>\n",
       "      <th>8</th>\n",
       "      <th>9</th>\n",
       "      <th>10</th>\n",
       "      <th>11</th>\n",
       "    </tr>\n",
       "  </thead>\n",
       "  <tbody>\n",
       "    <tr>\n",
       "      <th>0</th>\n",
       "      <td>0</td>\n",
       "      <td>7</td>\n",
       "      <td>21</td>\n",
       "      <td>30</td>\n",
       "      <td>2</td>\n",
       "      <td>3</td>\n",
       "      <td>29</td>\n",
       "      <td>2</td>\n",
       "      <td>3</td>\n",
       "      <td>57</td>\n",
       "      <td>5</td>\n",
       "      <td>1</td>\n",
       "      <td>0</td>\n",
       "    </tr>\n",
       "    <tr>\n",
       "      <th>1</th>\n",
       "      <td>1</td>\n",
       "      <td>7</td>\n",
       "      <td>32</td>\n",
       "      <td>70</td>\n",
       "      <td>2</td>\n",
       "      <td>4</td>\n",
       "      <td>67</td>\n",
       "      <td>2</td>\n",
       "      <td>4</td>\n",
       "      <td>132</td>\n",
       "      <td>5</td>\n",
       "      <td>1</td>\n",
       "      <td>0</td>\n",
       "    </tr>\n",
       "    <tr>\n",
       "      <th>2</th>\n",
       "      <td>2</td>\n",
       "      <td>7</td>\n",
       "      <td>15</td>\n",
       "      <td>1</td>\n",
       "      <td>2</td>\n",
       "      <td>2</td>\n",
       "      <td>0</td>\n",
       "      <td>2</td>\n",
       "      <td>2</td>\n",
       "      <td>0</td>\n",
       "      <td>5</td>\n",
       "      <td>1</td>\n",
       "      <td>0</td>\n",
       "    </tr>\n",
       "    <tr>\n",
       "      <th>3</th>\n",
       "      <td>3</td>\n",
       "      <td>7</td>\n",
       "      <td>33</td>\n",
       "      <td>77</td>\n",
       "      <td>2</td>\n",
       "      <td>7</td>\n",
       "      <td>72</td>\n",
       "      <td>2</td>\n",
       "      <td>7</td>\n",
       "      <td>142</td>\n",
       "      <td>5</td>\n",
       "      <td>1</td>\n",
       "      <td>0</td>\n",
       "    </tr>\n",
       "    <tr>\n",
       "      <th>4</th>\n",
       "      <td>4</td>\n",
       "      <td>7</td>\n",
       "      <td>55</td>\n",
       "      <td>78</td>\n",
       "      <td>3</td>\n",
       "      <td>7</td>\n",
       "      <td>73</td>\n",
       "      <td>3</td>\n",
       "      <td>7</td>\n",
       "      <td>144</td>\n",
       "      <td>6</td>\n",
       "      <td>1</td>\n",
       "      <td>0</td>\n",
       "    </tr>\n",
       "    <tr>\n",
       "      <th>...</th>\n",
       "      <td>...</td>\n",
       "      <td>...</td>\n",
       "      <td>...</td>\n",
       "      <td>...</td>\n",
       "      <td>...</td>\n",
       "      <td>...</td>\n",
       "      <td>...</td>\n",
       "      <td>...</td>\n",
       "      <td>...</td>\n",
       "      <td>...</td>\n",
       "      <td>...</td>\n",
       "      <td>...</td>\n",
       "      <td>...</td>\n",
       "    </tr>\n",
       "    <tr>\n",
       "      <th>355886</th>\n",
       "      <td>355886</td>\n",
       "      <td>7</td>\n",
       "      <td>25</td>\n",
       "      <td>46</td>\n",
       "      <td>2</td>\n",
       "      <td>15</td>\n",
       "      <td>45</td>\n",
       "      <td>4</td>\n",
       "      <td>15</td>\n",
       "      <td>90</td>\n",
       "      <td>7</td>\n",
       "      <td>0</td>\n",
       "      <td>8505</td>\n",
       "    </tr>\n",
       "    <tr>\n",
       "      <th>355887</th>\n",
       "      <td>355887</td>\n",
       "      <td>7</td>\n",
       "      <td>82</td>\n",
       "      <td>14</td>\n",
       "      <td>7</td>\n",
       "      <td>10</td>\n",
       "      <td>8</td>\n",
       "      <td>0</td>\n",
       "      <td>10</td>\n",
       "      <td>16</td>\n",
       "      <td>0</td>\n",
       "      <td>0</td>\n",
       "      <td>22</td>\n",
       "    </tr>\n",
       "    <tr>\n",
       "      <th>355888</th>\n",
       "      <td>355888</td>\n",
       "      <td>7</td>\n",
       "      <td>82</td>\n",
       "      <td>14</td>\n",
       "      <td>7</td>\n",
       "      <td>10</td>\n",
       "      <td>8</td>\n",
       "      <td>0</td>\n",
       "      <td>10</td>\n",
       "      <td>17</td>\n",
       "      <td>1</td>\n",
       "      <td>0</td>\n",
       "      <td>1</td>\n",
       "    </tr>\n",
       "    <tr>\n",
       "      <th>355889</th>\n",
       "      <td>355889</td>\n",
       "      <td>7</td>\n",
       "      <td>30</td>\n",
       "      <td>62</td>\n",
       "      <td>2</td>\n",
       "      <td>20</td>\n",
       "      <td>60</td>\n",
       "      <td>3</td>\n",
       "      <td>20</td>\n",
       "      <td>120</td>\n",
       "      <td>3</td>\n",
       "      <td>0</td>\n",
       "      <td>0</td>\n",
       "    </tr>\n",
       "    <tr>\n",
       "      <th>355890</th>\n",
       "      <td>355890</td>\n",
       "      <td>7</td>\n",
       "      <td>30</td>\n",
       "      <td>62</td>\n",
       "      <td>2</td>\n",
       "      <td>20</td>\n",
       "      <td>61</td>\n",
       "      <td>4</td>\n",
       "      <td>20</td>\n",
       "      <td>121</td>\n",
       "      <td>7</td>\n",
       "      <td>0</td>\n",
       "      <td>9156</td>\n",
       "    </tr>\n",
       "  </tbody>\n",
       "</table>\n",
       "<p>355891 rows × 13 columns</p>\n",
       "</div>"
      ],
      "text/plain": [
       "        Unnamed: 0  0   1   2  3   4   5  6   7    8  9  10    11\n",
       "0                0  7  21  30  2   3  29  2   3   57  5   1     0\n",
       "1                1  7  32  70  2   4  67  2   4  132  5   1     0\n",
       "2                2  7  15   1  2   2   0  2   2    0  5   1     0\n",
       "3                3  7  33  77  2   7  72  2   7  142  5   1     0\n",
       "4                4  7  55  78  3   7  73  3   7  144  6   1     0\n",
       "...            ... ..  ..  .. ..  ..  .. ..  ..  ... ..  ..   ...\n",
       "355886      355886  7  25  46  2  15  45  4  15   90  7   0  8505\n",
       "355887      355887  7  82  14  7  10   8  0  10   16  0   0    22\n",
       "355888      355888  7  82  14  7  10   8  0  10   17  1   0     1\n",
       "355889      355889  7  30  62  2  20  60  3  20  120  3   0     0\n",
       "355890      355890  7  30  62  2  20  61  4  20  121  7   0  9156\n",
       "\n",
       "[355891 rows x 13 columns]"
      ]
     },
     "execution_count": 114,
     "metadata": {},
     "output_type": "execute_result"
    }
   ],
   "source": [
    "data = pd.read_csv('dataset.csv')\n",
    "data"
   ]
  },
  {
   "cell_type": "markdown",
   "id": "ea582fe4",
   "metadata": {},
   "source": [
    "### Data Preprocessing"
   ]
  },
  {
   "cell_type": "code",
   "execution_count": 115,
   "id": "29816807",
   "metadata": {},
   "outputs": [
    {
     "data": {
      "text/html": [
       "<div>\n",
       "<style scoped>\n",
       "    .dataframe tbody tr th:only-of-type {\n",
       "        vertical-align: middle;\n",
       "    }\n",
       "\n",
       "    .dataframe tbody tr th {\n",
       "        vertical-align: top;\n",
       "    }\n",
       "\n",
       "    .dataframe thead th {\n",
       "        text-align: right;\n",
       "    }\n",
       "</style>\n",
       "<table border=\"1\" class=\"dataframe\">\n",
       "  <thead>\n",
       "    <tr style=\"text-align: right;\">\n",
       "      <th></th>\n",
       "      <th>0</th>\n",
       "      <th>1</th>\n",
       "      <th>2</th>\n",
       "      <th>3</th>\n",
       "      <th>4</th>\n",
       "      <th>5</th>\n",
       "      <th>6</th>\n",
       "      <th>7</th>\n",
       "      <th>8</th>\n",
       "      <th>9</th>\n",
       "      <th>10</th>\n",
       "      <th>11</th>\n",
       "    </tr>\n",
       "  </thead>\n",
       "  <tbody>\n",
       "    <tr>\n",
       "      <th>0</th>\n",
       "      <td>7</td>\n",
       "      <td>21</td>\n",
       "      <td>30</td>\n",
       "      <td>2</td>\n",
       "      <td>3</td>\n",
       "      <td>29</td>\n",
       "      <td>2</td>\n",
       "      <td>3</td>\n",
       "      <td>57</td>\n",
       "      <td>5</td>\n",
       "      <td>1</td>\n",
       "      <td>0</td>\n",
       "    </tr>\n",
       "    <tr>\n",
       "      <th>1</th>\n",
       "      <td>7</td>\n",
       "      <td>32</td>\n",
       "      <td>70</td>\n",
       "      <td>2</td>\n",
       "      <td>4</td>\n",
       "      <td>67</td>\n",
       "      <td>2</td>\n",
       "      <td>4</td>\n",
       "      <td>132</td>\n",
       "      <td>5</td>\n",
       "      <td>1</td>\n",
       "      <td>0</td>\n",
       "    </tr>\n",
       "    <tr>\n",
       "      <th>2</th>\n",
       "      <td>7</td>\n",
       "      <td>15</td>\n",
       "      <td>1</td>\n",
       "      <td>2</td>\n",
       "      <td>2</td>\n",
       "      <td>0</td>\n",
       "      <td>2</td>\n",
       "      <td>2</td>\n",
       "      <td>0</td>\n",
       "      <td>5</td>\n",
       "      <td>1</td>\n",
       "      <td>0</td>\n",
       "    </tr>\n",
       "    <tr>\n",
       "      <th>3</th>\n",
       "      <td>7</td>\n",
       "      <td>33</td>\n",
       "      <td>77</td>\n",
       "      <td>2</td>\n",
       "      <td>7</td>\n",
       "      <td>72</td>\n",
       "      <td>2</td>\n",
       "      <td>7</td>\n",
       "      <td>142</td>\n",
       "      <td>5</td>\n",
       "      <td>1</td>\n",
       "      <td>0</td>\n",
       "    </tr>\n",
       "    <tr>\n",
       "      <th>4</th>\n",
       "      <td>7</td>\n",
       "      <td>55</td>\n",
       "      <td>78</td>\n",
       "      <td>3</td>\n",
       "      <td>7</td>\n",
       "      <td>73</td>\n",
       "      <td>3</td>\n",
       "      <td>7</td>\n",
       "      <td>144</td>\n",
       "      <td>6</td>\n",
       "      <td>1</td>\n",
       "      <td>0</td>\n",
       "    </tr>\n",
       "  </tbody>\n",
       "</table>\n",
       "</div>"
      ],
      "text/plain": [
       "   0   1   2  3  4   5  6  7    8  9  10  11\n",
       "0  7  21  30  2  3  29  2  3   57  5   1   0\n",
       "1  7  32  70  2  4  67  2  4  132  5   1   0\n",
       "2  7  15   1  2  2   0  2  2    0  5   1   0\n",
       "3  7  33  77  2  7  72  2  7  142  5   1   0\n",
       "4  7  55  78  3  7  73  3  7  144  6   1   0"
      ]
     },
     "execution_count": 115,
     "metadata": {},
     "output_type": "execute_result"
    }
   ],
   "source": [
    "data.drop(columns = \"Unnamed: 0\", inplace = True)\n",
    "data.head()"
   ]
  },
  {
   "cell_type": "code",
   "execution_count": 116,
   "id": "e606b2c4",
   "metadata": {},
   "outputs": [
    {
     "data": {
      "text/plain": [
       "(array([[  21,   30,    2, ...,    5,    1,    0],\n",
       "        [  32,   70,    2, ...,    5,    1,    0],\n",
       "        [  15,    1,    2, ...,    5,    1,    0],\n",
       "        ...,\n",
       "        [  82,   14,    7, ...,    1,    0,    1],\n",
       "        [  30,   62,    2, ...,    3,    0,    0],\n",
       "        [  30,   62,    2, ...,    7,    0, 9156]], dtype=int64),\n",
       " array([7, 7, 7, ..., 7, 7, 7], dtype=int64))"
      ]
     },
     "execution_count": 116,
     "metadata": {},
     "output_type": "execute_result"
    }
   ],
   "source": [
    "y = data.iloc[:,0].values\n",
    "x = data.iloc[:,1:].values\n",
    "x,y"
   ]
  },
  {
   "cell_type": "markdown",
   "id": "99542275",
   "metadata": {},
   "source": [
    "### Splitting the dataset into training and testing "
   ]
  },
  {
   "cell_type": "code",
   "execution_count": 117,
   "id": "d6558322",
   "metadata": {},
   "outputs": [],
   "source": [
    "x_train,x_test,y_train,y_test = train_test_split(x,y,test_size=0.25)"
   ]
  },
  {
   "cell_type": "markdown",
   "id": "9c68d0f5",
   "metadata": {},
   "source": [
    "### Scaling the dataset "
   ]
  },
  {
   "cell_type": "code",
   "execution_count": 118,
   "id": "2fa31dd7",
   "metadata": {},
   "outputs": [],
   "source": [
    "sc = StandardScaler()\n",
    "x_train_sc = sc.fit_transform(x_train)\n",
    "x_test_sc = sc.transform(x_test)"
   ]
  },
  {
   "cell_type": "markdown",
   "id": "876e361f",
   "metadata": {},
   "source": [
    "# Appliyng Machine Learning Algorithms"
   ]
  },
  {
   "cell_type": "markdown",
   "id": "d799a2ba",
   "metadata": {},
   "source": [
    "## Applying logistic regression"
   ]
  },
  {
   "cell_type": "code",
   "execution_count": 119,
   "id": "e7916802",
   "metadata": {},
   "outputs": [],
   "source": [
    "from sklearn.linear_model import LogisticRegression\n",
    "lr = LogisticRegression()"
   ]
  },
  {
   "cell_type": "code",
   "execution_count": 120,
   "id": "819b634b",
   "metadata": {},
   "outputs": [
    {
     "name": "stdout",
     "output_type": "stream",
     "text": [
      "Time elapsed 19.718257188796997\n"
     ]
    },
    {
     "name": "stderr",
     "output_type": "stream",
     "text": [
      "c:\\users\\hebbar\\appdata\\local\\programs\\python\\python39\\lib\\site-packages\\sklearn\\linear_model\\_logistic.py:814: ConvergenceWarning: lbfgs failed to converge (status=1):\n",
      "STOP: TOTAL NO. of ITERATIONS REACHED LIMIT.\n",
      "\n",
      "Increase the number of iterations (max_iter) or scale the data as shown in:\n",
      "    https://scikit-learn.org/stable/modules/preprocessing.html\n",
      "Please also refer to the documentation for alternative solver options:\n",
      "    https://scikit-learn.org/stable/modules/linear_model.html#logistic-regression\n",
      "  n_iter_i = _check_optimize_result(\n"
     ]
    }
   ],
   "source": [
    "s = time()\n",
    "lr.fit(x_train_sc,y_train)\n",
    "print(\"Time elapsed\",time()-s)\n"
   ]
  },
  {
   "cell_type": "markdown",
   "id": "66e5f51b",
   "metadata": {},
   "source": [
    "### Training accuracy"
   ]
  },
  {
   "cell_type": "code",
   "execution_count": 121,
   "id": "ca758d08",
   "metadata": {},
   "outputs": [
    {
     "data": {
      "text/plain": [
       "0.9889067054301321"
      ]
     },
     "execution_count": 121,
     "metadata": {},
     "output_type": "execute_result"
    }
   ],
   "source": [
    "lr.score(x_train_sc,y_train)"
   ]
  },
  {
   "cell_type": "markdown",
   "id": "960df353",
   "metadata": {},
   "source": [
    "### Testing accuracy"
   ]
  },
  {
   "cell_type": "code",
   "execution_count": 122,
   "id": "1970a363",
   "metadata": {},
   "outputs": [
    {
     "data": {
      "text/plain": [
       "0.989322603486451"
      ]
     },
     "execution_count": 122,
     "metadata": {},
     "output_type": "execute_result"
    }
   ],
   "source": [
    "lr.score(x_test_sc,y_test)"
   ]
  },
  {
   "cell_type": "markdown",
   "id": "a0e69c15",
   "metadata": {},
   "source": [
    "### Accuracy of the model"
   ]
  },
  {
   "cell_type": "code",
   "execution_count": 123,
   "id": "c3f561c5",
   "metadata": {},
   "outputs": [
    {
     "name": "stdout",
     "output_type": "stream",
     "text": [
      "Accuracy of Logistic Regression Training Dataset:  0.9889067054301321\n"
     ]
    }
   ],
   "source": [
    "y_lr_train_pred = lr.predict(x_train_sc)\n",
    "accuracy = accuracy_score(y_train,y_lr_train_pred)\n",
    "print(\"Accuracy of Logistic Regression Training Dataset: \",accuracy)"
   ]
  },
  {
   "cell_type": "code",
   "execution_count": 124,
   "id": "0ffeb71b",
   "metadata": {},
   "outputs": [
    {
     "name": "stdout",
     "output_type": "stream",
     "text": [
      "Accuracy of Logistic Regression Testing Dataset:  0.989322603486451\n"
     ]
    }
   ],
   "source": [
    "y_lr_test_pred = lr.predict(x_test_sc)\n",
    "accuracy = accuracy_score(y_test,y_lr_test_pred)\n",
    "print(\"Accuracy of Logistic Regression Testing Dataset: \",accuracy)"
   ]
  },
  {
   "cell_type": "markdown",
   "id": "711079bb",
   "metadata": {},
   "source": [
    "## Applying KNN"
   ]
  },
  {
   "cell_type": "code",
   "execution_count": 125,
   "id": "9be70c16",
   "metadata": {},
   "outputs": [],
   "source": [
    "from sklearn.neighbors import KNeighborsClassifier\n",
    "knn = KNeighborsClassifier()"
   ]
  },
  {
   "cell_type": "code",
   "execution_count": 126,
   "id": "048d9e99",
   "metadata": {},
   "outputs": [
    {
     "name": "stdout",
     "output_type": "stream",
     "text": [
      "Time elapsed 1.6394941806793213\n"
     ]
    }
   ],
   "source": [
    "s = time()\n",
    "knn.fit(x_train_sc,y_train)\n",
    "print(\"Time elapsed\",time()-s)"
   ]
  },
  {
   "cell_type": "markdown",
   "id": "92d2b7b0",
   "metadata": {},
   "source": [
    "### Training accuracy"
   ]
  },
  {
   "cell_type": "code",
   "execution_count": 127,
   "id": "7ea04959",
   "metadata": {},
   "outputs": [
    {
     "data": {
      "text/plain": [
       "0.9934998763665246"
      ]
     },
     "execution_count": 127,
     "metadata": {},
     "output_type": "execute_result"
    }
   ],
   "source": [
    "knn.score(x_train_sc,y_train)"
   ]
  },
  {
   "cell_type": "markdown",
   "id": "faabea11",
   "metadata": {},
   "source": [
    "### Testing accuracy"
   ]
  },
  {
   "cell_type": "code",
   "execution_count": 128,
   "id": "9509818a",
   "metadata": {},
   "outputs": [
    {
     "data": {
      "text/plain": [
       "0.9937621525631372"
      ]
     },
     "execution_count": 128,
     "metadata": {},
     "output_type": "execute_result"
    }
   ],
   "source": [
    "knn.score(x_test_sc,y_test)"
   ]
  },
  {
   "cell_type": "markdown",
   "id": "2319f814",
   "metadata": {},
   "source": [
    "### Accuracy of the model"
   ]
  },
  {
   "cell_type": "code",
   "execution_count": 129,
   "id": "8c71d6b2",
   "metadata": {},
   "outputs": [
    {
     "name": "stdout",
     "output_type": "stream",
     "text": [
      "Accuracy of K Nearest Neigbour Training Dataset:  0.9934998763665246\n"
     ]
    }
   ],
   "source": [
    "y_knn_train_pred = knn.predict(x_train_sc)\n",
    "accuracy = accuracy_score(y_train,y_knn_train_pred)\n",
    "print(\"Accuracy of K Nearest Neigbour Training Dataset: \",accuracy)"
   ]
  },
  {
   "cell_type": "code",
   "execution_count": 130,
   "id": "abda9175",
   "metadata": {},
   "outputs": [
    {
     "name": "stdout",
     "output_type": "stream",
     "text": [
      "Accuracy of K Nearest Neigbour Testing Dataset:  0.9937621525631372\n"
     ]
    }
   ],
   "source": [
    "y_knn_test_pred = knn.predict(x_test_sc)\n",
    "accuracy = accuracy_score(y_test,y_knn_test_pred)\n",
    "print(\"Accuracy of K Nearest Neigbour Testing Dataset: \",accuracy)"
   ]
  },
  {
   "cell_type": "markdown",
   "id": "3e0be19b",
   "metadata": {},
   "source": [
    "## Applying Decision Tree Classifier"
   ]
  },
  {
   "cell_type": "code",
   "execution_count": 131,
   "id": "2cc54558",
   "metadata": {},
   "outputs": [],
   "source": [
    "from sklearn.tree import DecisionTreeClassifier\n",
    "\n",
    "dtc = DecisionTreeClassifier()"
   ]
  },
  {
   "cell_type": "code",
   "execution_count": 132,
   "id": "41e5e773",
   "metadata": {},
   "outputs": [
    {
     "name": "stdout",
     "output_type": "stream",
     "text": [
      "Time elapsed 1.8935825824737549\n"
     ]
    }
   ],
   "source": [
    "s = time()\n",
    "dtc.fit(x_train_sc,y_train)\n",
    "print(\"Time elapsed\",time()-s)"
   ]
  },
  {
   "cell_type": "markdown",
   "id": "8b99085a",
   "metadata": {},
   "source": [
    "### Training accuracy"
   ]
  },
  {
   "cell_type": "code",
   "execution_count": 133,
   "id": "44aea839",
   "metadata": {},
   "outputs": [
    {
     "data": {
      "text/plain": [
       "0.9943465783499053"
      ]
     },
     "execution_count": 133,
     "metadata": {},
     "output_type": "execute_result"
    }
   ],
   "source": [
    "dtc.score(x_train_sc,y_train)"
   ]
  },
  {
   "cell_type": "markdown",
   "id": "170c5819",
   "metadata": {},
   "source": [
    "### Testing accuracy"
   ]
  },
  {
   "cell_type": "code",
   "execution_count": 134,
   "id": "64d37aee",
   "metadata": {},
   "outputs": [
    {
     "data": {
      "text/plain": [
       "0.9944589931777056"
      ]
     },
     "execution_count": 134,
     "metadata": {},
     "output_type": "execute_result"
    }
   ],
   "source": [
    "dtc.score(x_test_sc,y_test)"
   ]
  },
  {
   "cell_type": "markdown",
   "id": "6b71d5ef",
   "metadata": {},
   "source": [
    "### Accuracy of the model"
   ]
  },
  {
   "cell_type": "code",
   "execution_count": 135,
   "id": "27212a5a",
   "metadata": {},
   "outputs": [
    {
     "name": "stdout",
     "output_type": "stream",
     "text": [
      "Accuracy of Decision Tree Classifier Training Dataset:  0.9943465783499053\n"
     ]
    }
   ],
   "source": [
    "y_dtc_train_pred = dtc.predict(x_train_sc)\n",
    "accuracy = accuracy_score(y_train,y_dtc_train_pred)\n",
    "print(\"Accuracy of Decision Tree Classifier Training Dataset: \",accuracy)"
   ]
  },
  {
   "cell_type": "code",
   "execution_count": 136,
   "id": "880d3ecc",
   "metadata": {},
   "outputs": [
    {
     "name": "stdout",
     "output_type": "stream",
     "text": [
      "Accuracy of Decision Tree Classifier Testing Dataset:  0.9944589931777056\n"
     ]
    }
   ],
   "source": [
    "y_dtc_test_pred = dtc.predict(x_test_sc)\n",
    "accuracy = accuracy_score(y_test,y_dtc_test_pred)\n",
    "print(\"Accuracy of Decision Tree Classifier Testing Dataset: \",accuracy)"
   ]
  },
  {
   "cell_type": "markdown",
   "id": "c422d3a2",
   "metadata": {},
   "source": [
    "## Applying Random Forest Classifier"
   ]
  },
  {
   "cell_type": "code",
   "execution_count": 137,
   "id": "7670ed7d",
   "metadata": {},
   "outputs": [],
   "source": [
    "from sklearn.ensemble import RandomForestClassifier\n",
    "rfc = RandomForestClassifier()"
   ]
  },
  {
   "cell_type": "code",
   "execution_count": 138,
   "id": "0dc409c9",
   "metadata": {},
   "outputs": [
    {
     "name": "stdout",
     "output_type": "stream",
     "text": [
      "Time elapsed 28.6869375705719\n"
     ]
    }
   ],
   "source": [
    "s = time()\n",
    "rfc.fit(x_train_sc,y_train)\n",
    "print(\"Time elapsed\",time()-s)"
   ]
  },
  {
   "cell_type": "markdown",
   "id": "dbf0f7ff",
   "metadata": {},
   "source": [
    "### Training accuracy"
   ]
  },
  {
   "cell_type": "code",
   "execution_count": 139,
   "id": "dc2cc964",
   "metadata": {},
   "outputs": [
    {
     "data": {
      "text/plain": [
       "0.9943465783499053"
      ]
     },
     "execution_count": 139,
     "metadata": {},
     "output_type": "execute_result"
    }
   ],
   "source": [
    "rfc.score(x_train_sc,y_train)"
   ]
  },
  {
   "cell_type": "markdown",
   "id": "901e50af",
   "metadata": {},
   "source": [
    "### Testing accuracy"
   ]
  },
  {
   "cell_type": "code",
   "execution_count": 140,
   "id": "e8cfac72",
   "metadata": {},
   "outputs": [
    {
     "data": {
      "text/plain": [
       "0.9944702325424567"
      ]
     },
     "execution_count": 140,
     "metadata": {},
     "output_type": "execute_result"
    }
   ],
   "source": [
    "rfc.score(x_test_sc,y_test)"
   ]
  },
  {
   "cell_type": "markdown",
   "id": "27e35132",
   "metadata": {},
   "source": [
    "### Accuracy of the model"
   ]
  },
  {
   "cell_type": "code",
   "execution_count": 141,
   "id": "bd26341b",
   "metadata": {},
   "outputs": [
    {
     "name": "stdout",
     "output_type": "stream",
     "text": [
      "Accuracy of Random Forest Classifier Training Dataset:  0.9943465783499053\n"
     ]
    }
   ],
   "source": [
    "y_rfc_train_pred = rfc.predict(x_train_sc)\n",
    "accuracy = accuracy_score(y_train,y_rfc_train_pred)\n",
    "print(\"Accuracy of Random Forest Classifier Training Dataset: \",accuracy)"
   ]
  },
  {
   "cell_type": "code",
   "execution_count": 142,
   "id": "cadd8adf",
   "metadata": {},
   "outputs": [
    {
     "name": "stdout",
     "output_type": "stream",
     "text": [
      "Accuracy of Random Forest Classifier Testing Dataset:  0.9944702325424567\n"
     ]
    }
   ],
   "source": [
    "y_rfc_test_pred = rfc.predict(x_test_sc)\n",
    "accuracy = accuracy_score(y_test,y_rfc_test_pred)\n",
    "print(\"Accuracy of Random Forest Classifier Testing Dataset: \",accuracy)"
   ]
  },
  {
   "cell_type": "markdown",
   "id": "8220390e",
   "metadata": {},
   "source": [
    "## Applying Naive bayes "
   ]
  },
  {
   "cell_type": "code",
   "execution_count": 143,
   "id": "e7f78010",
   "metadata": {},
   "outputs": [],
   "source": [
    "from sklearn.naive_bayes import GaussianNB\n",
    "nb = GaussianNB()"
   ]
  },
  {
   "cell_type": "code",
   "execution_count": 144,
   "id": "13f90ef9",
   "metadata": {},
   "outputs": [
    {
     "name": "stdout",
     "output_type": "stream",
     "text": [
      "Time elapsed 0.13985347747802734\n"
     ]
    }
   ],
   "source": [
    "s = time()\n",
    "nb.fit(x_train,y_train)\n",
    "print(\"Time elapsed\",time()-s)"
   ]
  },
  {
   "cell_type": "markdown",
   "id": "e3ca0ddf",
   "metadata": {},
   "source": [
    "### Training accuracy"
   ]
  },
  {
   "cell_type": "code",
   "execution_count": 145,
   "id": "06244728",
   "metadata": {},
   "outputs": [
    {
     "data": {
      "text/plain": [
       "0.7536434410568039"
      ]
     },
     "execution_count": 145,
     "metadata": {},
     "output_type": "execute_result"
    }
   ],
   "source": [
    "nb.score(x_train,y_train)"
   ]
  },
  {
   "cell_type": "markdown",
   "id": "7020b233",
   "metadata": {},
   "source": [
    "### Testing accuracy"
   ]
  },
  {
   "cell_type": "code",
   "execution_count": 146,
   "id": "32e77ca2",
   "metadata": {},
   "outputs": [
    {
     "data": {
      "text/plain": [
       "0.7547570611309049"
      ]
     },
     "execution_count": 146,
     "metadata": {},
     "output_type": "execute_result"
    }
   ],
   "source": [
    "nb.score(x_test,y_test)"
   ]
  },
  {
   "cell_type": "markdown",
   "id": "885cdc34",
   "metadata": {},
   "source": [
    "### Accuracy of the model"
   ]
  },
  {
   "cell_type": "code",
   "execution_count": 147,
   "id": "992033a8",
   "metadata": {},
   "outputs": [
    {
     "name": "stdout",
     "output_type": "stream",
     "text": [
      "Accuracy of Naive Bayes Training Dataset:  0.7536434410568039\n"
     ]
    }
   ],
   "source": [
    "y_nb_train_pred = nb.predict(x_train)\n",
    "accuracy = accuracy_score(y_train,y_nb_train_pred)\n",
    "print(\"Accuracy of Naive Bayes Training Dataset: \",accuracy)"
   ]
  },
  {
   "cell_type": "code",
   "execution_count": 148,
   "id": "f2811533",
   "metadata": {},
   "outputs": [
    {
     "name": "stdout",
     "output_type": "stream",
     "text": [
      "Accuracy of Naive Bayes Testing Dataset:  0.7547570611309049\n"
     ]
    }
   ],
   "source": [
    "y_nb_test_pred = nb.predict(x_test)\n",
    "accuracy = accuracy_score(y_test,y_nb_test_pred)\n",
    "print(\"Accuracy of Naive Bayes Testing Dataset: \",accuracy)"
   ]
  },
  {
   "cell_type": "markdown",
   "id": "7934ffce",
   "metadata": {},
   "source": [
    "## Applying SVM"
   ]
  },
  {
   "cell_type": "code",
   "execution_count": 149,
   "id": "3ca80e36",
   "metadata": {},
   "outputs": [],
   "source": [
    "from sklearn.svm import LinearSVC\n",
    "svc = LinearSVC()"
   ]
  },
  {
   "cell_type": "code",
   "execution_count": 150,
   "id": "e57c48e5",
   "metadata": {},
   "outputs": [
    {
     "name": "stdout",
     "output_type": "stream",
     "text": [
      "Time elapsed 91.46510314941406\n"
     ]
    }
   ],
   "source": [
    "s = time()\n",
    "svc.fit(x_train_sc,y_train)\n",
    "print(\"Time elapsed\",time()-s)"
   ]
  },
  {
   "cell_type": "markdown",
   "id": "e9ef3d23",
   "metadata": {},
   "source": [
    "### Training accuracy"
   ]
  },
  {
   "cell_type": "code",
   "execution_count": 151,
   "id": "06abab58",
   "metadata": {},
   "outputs": [
    {
     "data": {
      "text/plain": [
       "0.9838264935298481"
      ]
     },
     "execution_count": 151,
     "metadata": {},
     "output_type": "execute_result"
    }
   ],
   "source": [
    "svc.score(x_train_sc,y_train)"
   ]
  },
  {
   "cell_type": "markdown",
   "id": "a5320125",
   "metadata": {},
   "source": [
    "### Testing accuracy"
   ]
  },
  {
   "cell_type": "code",
   "execution_count": 152,
   "id": "4dfa7026",
   "metadata": {
    "scrolled": true
   },
   "outputs": [
    {
     "data": {
      "text/plain": [
       "0.9843098468074585"
      ]
     },
     "execution_count": 152,
     "metadata": {},
     "output_type": "execute_result"
    }
   ],
   "source": [
    "svc.score(x_test_sc,y_test)"
   ]
  },
  {
   "cell_type": "markdown",
   "id": "1dfcde7b",
   "metadata": {},
   "source": [
    "### Accuracy of the model"
   ]
  },
  {
   "cell_type": "code",
   "execution_count": 153,
   "id": "7fb464be",
   "metadata": {},
   "outputs": [
    {
     "name": "stdout",
     "output_type": "stream",
     "text": [
      "Accuracy of Support Vector Machine Training Dataset:  0.9838264935298481\n"
     ]
    }
   ],
   "source": [
    "y_svc_train_pred = svc.predict(x_train_sc)\n",
    "accuracy = accuracy_score(y_train,y_svc_train_pred)\n",
    "print(\"Accuracy of Support Vector Machine Training Dataset: \",accuracy)"
   ]
  },
  {
   "cell_type": "code",
   "execution_count": 154,
   "id": "710ee1bf",
   "metadata": {},
   "outputs": [
    {
     "name": "stdout",
     "output_type": "stream",
     "text": [
      "Accuracy of Support Vector Machine Testing Dataset:  0.9843098468074585\n"
     ]
    }
   ],
   "source": [
    "y_svc_test_pred = svc.predict(x_test_sc)\n",
    "accuracy = accuracy_score(y_test,y_svc_test_pred)\n",
    "print(\"Accuracy of Support Vector Machine Testing Dataset: \",accuracy)"
   ]
  },
  {
   "cell_type": "markdown",
   "id": "db7d39aa",
   "metadata": {},
   "source": [
    "## Applying Artificial Neural Network using Tensorflow"
   ]
  },
  {
   "cell_type": "code",
   "execution_count": 181,
   "id": "e844de42",
   "metadata": {},
   "outputs": [],
   "source": [
    "import tensorflow as tf\n",
    "from tensorflow.keras import Sequential,layers"
   ]
  },
  {
   "cell_type": "code",
   "execution_count": 182,
   "id": "ed1004bc",
   "metadata": {},
   "outputs": [
    {
     "data": {
      "text/plain": [
       "((266918,), (88973,))"
      ]
     },
     "execution_count": 182,
     "metadata": {},
     "output_type": "execute_result"
    }
   ],
   "source": [
    "y_train.shape,y_test.shape"
   ]
  },
  {
   "cell_type": "code",
   "execution_count": 183,
   "id": "ff35877c",
   "metadata": {},
   "outputs": [],
   "source": [
    "y_train = y_train.reshape(-1,1)"
   ]
  },
  {
   "cell_type": "code",
   "execution_count": 184,
   "id": "504623db",
   "metadata": {},
   "outputs": [],
   "source": [
    "y_test = y_test.reshape(-1,1)"
   ]
  },
  {
   "cell_type": "code",
   "execution_count": 185,
   "id": "d1caddb3",
   "metadata": {},
   "outputs": [
    {
     "data": {
      "text/plain": [
       "((266918, 1), (88973, 1))"
      ]
     },
     "execution_count": 185,
     "metadata": {},
     "output_type": "execute_result"
    }
   ],
   "source": [
    "y_train.shape,y_test.shape"
   ]
  },
  {
   "cell_type": "code",
   "execution_count": 186,
   "id": "dd506090",
   "metadata": {},
   "outputs": [
    {
     "data": {
      "text/plain": [
       "((266918, 11), (266918, 11), (88973, 11), (88973, 11))"
      ]
     },
     "execution_count": 186,
     "metadata": {},
     "output_type": "execute_result"
    }
   ],
   "source": [
    "x_train.shape,x_train_sc.shape,x_test.shape,x_test_sc.shape"
   ]
  },
  {
   "cell_type": "code",
   "execution_count": 204,
   "id": "a27e587b",
   "metadata": {},
   "outputs": [
    {
     "name": "stdout",
     "output_type": "stream",
     "text": [
      "Epoch 1/20\n",
      "8342/8342 [==============================] - 9s 999us/step - loss: 0.0550 - accuracy: 0.9858\n",
      "Epoch 2/20\n",
      "8342/8342 [==============================] - 14s 2ms/step - loss: 0.0163 - accuracy: 0.9929\n",
      "Epoch 3/20\n",
      "8342/8342 [==============================] - 14s 2ms/step - loss: 0.0126 - accuracy: 0.9940\n",
      "Epoch 4/20\n",
      "8342/8342 [==============================] - 15s 2ms/step - loss: 0.0119 - accuracy: 0.9941\n",
      "Epoch 5/20\n",
      "8342/8342 [==============================] - 16s 2ms/step - loss: 0.0118 - accuracy: 0.9942\n",
      "Epoch 6/20\n",
      "8342/8342 [==============================] - 22s 3ms/step - loss: 0.0116 - accuracy: 0.9942\n",
      "Epoch 7/20\n",
      "8342/8342 [==============================] - 20s 2ms/step - loss: 0.0116 - accuracy: 0.9943\n",
      "Epoch 8/20\n",
      "8342/8342 [==============================] - 18s 2ms/step - loss: 0.0113 - accuracy: 0.9943\n",
      "Epoch 9/20\n",
      "8342/8342 [==============================] - 18s 2ms/step - loss: 0.0115 - accuracy: 0.9942\n",
      "Epoch 10/20\n",
      "8342/8342 [==============================] - 16s 2ms/step - loss: 0.0113 - accuracy: 0.9943\n",
      "Epoch 11/20\n",
      "8342/8342 [==============================] - 16s 2ms/step - loss: 0.0113 - accuracy: 0.9943\n",
      "Epoch 12/20\n",
      "8342/8342 [==============================] - 16s 2ms/step - loss: 0.0114 - accuracy: 0.9943\n",
      "Epoch 13/20\n",
      "8342/8342 [==============================] - 16s 2ms/step - loss: 0.0113 - accuracy: 0.9943\n",
      "Epoch 14/20\n",
      "8342/8342 [==============================] - 16s 2ms/step - loss: 0.0113 - accuracy: 0.9943\n",
      "Epoch 15/20\n",
      "8342/8342 [==============================] - 16s 2ms/step - loss: 0.0112 - accuracy: 0.9943\n",
      "Epoch 16/20\n",
      "8342/8342 [==============================] - 16s 2ms/step - loss: 0.0112 - accuracy: 0.9943\n",
      "Epoch 17/20\n",
      "8342/8342 [==============================] - 17s 2ms/step - loss: 0.0112 - accuracy: 0.9943\n",
      "Epoch 18/20\n",
      "8342/8342 [==============================] - 18s 2ms/step - loss: 0.0113 - accuracy: 0.9943\n",
      "Epoch 19/20\n",
      "8342/8342 [==============================] - 18s 2ms/step - loss: 0.0112 - accuracy: 0.9943\n",
      "Epoch 20/20\n",
      "8342/8342 [==============================] - 16s 2ms/step - loss: 0.0112 - accuracy: 0.9943\n"
     ]
    },
    {
     "data": {
      "text/plain": [
       "<keras.callbacks.History at 0x1d59b6068e0>"
      ]
     },
     "execution_count": 204,
     "metadata": {},
     "output_type": "execute_result"
    }
   ],
   "source": [
    "ann = Sequential([\n",
    "    layers.Dense(10,input_shape=(11,),activation='relu'),\n",
    "    layers.Dense(20,activation='relu'),\n",
    "    layers.Dense(20,activation='relu'),\n",
    "    layers.Dense(8,activation='sigmoid'),\n",
    "    \n",
    "])\n",
    "\n",
    "ann.compile(optimizer='adam',\n",
    "             loss = 'sparse_categorical_crossentropy',\n",
    "             metrics=['accuracy'])\n",
    "\n",
    "ann.fit(x_train_sc,y_train,epochs= 20)"
   ]
  },
  {
   "cell_type": "markdown",
   "id": "1f5f8180",
   "metadata": {},
   "source": [
    "### Training Accuracy"
   ]
  },
  {
   "cell_type": "code",
   "execution_count": 212,
   "id": "016a9140",
   "metadata": {},
   "outputs": [
    {
     "name": "stdout",
     "output_type": "stream",
     "text": [
      "8342/8342 [==============================] - 5s 543us/step - loss: 0.0110 - accuracy: 0.9943\n"
     ]
    },
    {
     "data": {
      "text/plain": [
       "0.9943353533744812"
      ]
     },
     "execution_count": 212,
     "metadata": {},
     "output_type": "execute_result"
    }
   ],
   "source": [
    "loss_train, acc_train = ann.evaluate(x_train_sc,y_train)\n",
    "acc_train"
   ]
  },
  {
   "cell_type": "markdown",
   "id": "81d96e0d",
   "metadata": {},
   "source": [
    "### Testing Accuracy"
   ]
  },
  {
   "cell_type": "code",
   "execution_count": 211,
   "id": "242362ca",
   "metadata": {},
   "outputs": [
    {
     "name": "stdout",
     "output_type": "stream",
     "text": [
      "2781/2781 [==============================] - 2s 552us/step - loss: 0.0110 - accuracy: 0.9944\n"
     ]
    },
    {
     "data": {
      "text/plain": [
       "0.9944028258323669"
      ]
     },
     "execution_count": 211,
     "metadata": {},
     "output_type": "execute_result"
    }
   ],
   "source": [
    "loss_test, acc_test = ann.evaluate(x_test_sc,y_test)\n",
    "acc_test"
   ]
  },
  {
   "cell_type": "markdown",
   "id": "f7ce6826",
   "metadata": {},
   "source": [
    "## Evaluation Metrics"
   ]
  },
  {
   "cell_type": "code",
   "execution_count": 155,
   "id": "e244e352",
   "metadata": {},
   "outputs": [],
   "source": [
    "target_names = ['Normal', 'DoSattack', 'scan', 'malitiousControl', 'malitiousOperation', 'spying', 'dataProbing', 'wrongSetUp']"
   ]
  },
  {
   "cell_type": "code",
   "execution_count": 156,
   "id": "904f849f",
   "metadata": {},
   "outputs": [
    {
     "data": {
      "text/plain": [
       "['Normal',\n",
       " 'DoSattack',\n",
       " 'scan',\n",
       " 'malitiousControl',\n",
       " 'malitiousOperation',\n",
       " 'spying',\n",
       " 'dataProbing',\n",
       " 'wrongSetUp']"
      ]
     },
     "execution_count": 156,
     "metadata": {},
     "output_type": "execute_result"
    }
   ],
   "source": [
    "target_names"
   ]
  },
  {
   "cell_type": "markdown",
   "id": "8b02d95d",
   "metadata": {},
   "source": [
    "## Classification Report of Logistic Regression"
   ]
  },
  {
   "cell_type": "markdown",
   "id": "7e4b1336",
   "metadata": {},
   "source": [
    "### For Training Dataset"
   ]
  },
  {
   "cell_type": "code",
   "execution_count": 157,
   "id": "7ce27101",
   "metadata": {},
   "outputs": [
    {
     "name": "stdout",
     "output_type": "stream",
     "text": [
      "                    precision    recall  f1-score   support\n",
      "\n",
      "            Normal       0.94      0.50      0.65      3020\n",
      "         DoSattack       1.00      0.82      0.90       189\n",
      "              scan       0.97      0.91      0.94       680\n",
      "  malitiousControl       0.84      0.75      0.79       493\n",
      "malitiousOperation       0.84      0.49      0.62      1153\n",
      "            spying       0.00      0.00      0.00       401\n",
      "       dataProbing       0.91      1.00      0.95        96\n",
      "        wrongSetUp       0.99      1.00      0.99    260886\n",
      "\n",
      "          accuracy                           0.99    266918\n",
      "         macro avg       0.81      0.68      0.73    266918\n",
      "      weighted avg       0.99      0.99      0.99    266918\n",
      "\n"
     ]
    }
   ],
   "source": [
    "print(classification_report(y_train, y_lr_train_pred, target_names=target_names))"
   ]
  },
  {
   "cell_type": "markdown",
   "id": "770cdec8",
   "metadata": {},
   "source": [
    "### For Testing Dataset"
   ]
  },
  {
   "cell_type": "code",
   "execution_count": 158,
   "id": "bbbd2f2d",
   "metadata": {
    "scrolled": true
   },
   "outputs": [
    {
     "name": "stdout",
     "output_type": "stream",
     "text": [
      "                    precision    recall  f1-score   support\n",
      "\n",
      "            Normal       0.94      0.50      0.65       980\n",
      "         DoSattack       1.00      0.85      0.92        53\n",
      "              scan       0.99      0.96      0.97       209\n",
      "  malitiousControl       0.85      0.69      0.76       164\n",
      "malitiousOperation       0.87      0.49      0.63       378\n",
      "            spying       0.00      0.00      0.00       131\n",
      "       dataProbing       0.96      1.00      0.98        26\n",
      "        wrongSetUp       0.99      1.00      0.99     87032\n",
      "\n",
      "          accuracy                           0.99     88973\n",
      "         macro avg       0.82      0.69      0.74     88973\n",
      "      weighted avg       0.99      0.99      0.99     88973\n",
      "\n"
     ]
    }
   ],
   "source": [
    "print(classification_report(y_test, y_lr_test_pred, target_names=target_names))"
   ]
  },
  {
   "cell_type": "markdown",
   "id": "ebc4387a",
   "metadata": {},
   "source": [
    "## Confusion Matrix for Logistic Regression"
   ]
  },
  {
   "cell_type": "markdown",
   "id": "505c7c20",
   "metadata": {},
   "source": [
    "### For Training dataset"
   ]
  },
  {
   "cell_type": "code",
   "execution_count": 159,
   "id": "fb8acf79",
   "metadata": {},
   "outputs": [
    {
     "data": {
      "text/plain": [
       "array([[  1511,      0,      0,      0,      0,      0,      0,   1509],\n",
       "       [     0,    155,      0,      0,      0,      0,      0,     34],\n",
       "       [     0,      0,    620,      0,     33,      0,      0,     27],\n",
       "       [     0,      0,      0,    370,      0,      0,      0,    123],\n",
       "       [     7,      0,     18,      0,    565,      0,     10,    553],\n",
       "       [     0,      0,      0,      0,     51,      0,      0,    350],\n",
       "       [     0,      0,      0,      0,      0,      0,     96,      0],\n",
       "       [    88,      0,      2,     73,     22,     61,      0, 260640]],\n",
       "      dtype=int64)"
      ]
     },
     "execution_count": 159,
     "metadata": {},
     "output_type": "execute_result"
    }
   ],
   "source": [
    "confusion_matrix(y_train, y_lr_train_pred)"
   ]
  },
  {
   "cell_type": "markdown",
   "id": "86d8b450",
   "metadata": {},
   "source": [
    "### For Testing dataset"
   ]
  },
  {
   "cell_type": "code",
   "execution_count": 160,
   "id": "1db6db1d",
   "metadata": {},
   "outputs": [
    {
     "data": {
      "text/plain": [
       "array([[  489,     0,     0,     0,     0,     0,     0,   491],\n",
       "       [    0,    45,     0,     0,     0,     0,     0,     8],\n",
       "       [    0,     0,   200,     0,     5,     0,     0,     4],\n",
       "       [    0,     0,     0,   113,     0,     0,     0,    51],\n",
       "       [    4,     0,     2,     0,   186,     0,     1,   185],\n",
       "       [    0,     0,     0,     0,    19,     0,     0,   112],\n",
       "       [    0,     0,     0,     0,     0,     0,    26,     0],\n",
       "       [   27,     0,     1,    20,     4,    16,     0, 86964]],\n",
       "      dtype=int64)"
      ]
     },
     "execution_count": 160,
     "metadata": {},
     "output_type": "execute_result"
    }
   ],
   "source": [
    "confusion_matrix(y_test, y_lr_test_pred)"
   ]
  },
  {
   "cell_type": "markdown",
   "id": "8ab29451",
   "metadata": {},
   "source": [
    "## Classification Report for K Nearest Neighbour"
   ]
  },
  {
   "cell_type": "markdown",
   "id": "d6925d74",
   "metadata": {},
   "source": [
    "### For Training Dataset"
   ]
  },
  {
   "cell_type": "code",
   "execution_count": 161,
   "id": "94833b51",
   "metadata": {},
   "outputs": [
    {
     "name": "stdout",
     "output_type": "stream",
     "text": [
      "                    precision    recall  f1-score   support\n",
      "\n",
      "            Normal       0.64      1.00      0.78      3020\n",
      "         DoSattack       1.00      1.00      1.00       189\n",
      "              scan       1.00      1.00      1.00       680\n",
      "  malitiousControl       1.00      1.00      1.00       493\n",
      "malitiousOperation       1.00      1.00      1.00      1153\n",
      "            spying       1.00      1.00      1.00       401\n",
      "       dataProbing       1.00      1.00      1.00        96\n",
      "        wrongSetUp       1.00      0.99      1.00    260886\n",
      "\n",
      "          accuracy                           0.99    266918\n",
      "         macro avg       0.95      1.00      0.97    266918\n",
      "      weighted avg       1.00      0.99      0.99    266918\n",
      "\n"
     ]
    }
   ],
   "source": [
    "print(classification_report(y_train, y_knn_train_pred, target_names=target_names))"
   ]
  },
  {
   "cell_type": "markdown",
   "id": "111ffdd6",
   "metadata": {},
   "source": [
    "### For Testing Dataset"
   ]
  },
  {
   "cell_type": "code",
   "execution_count": 162,
   "id": "138d6186",
   "metadata": {
    "scrolled": true
   },
   "outputs": [
    {
     "name": "stdout",
     "output_type": "stream",
     "text": [
      "                    precision    recall  f1-score   support\n",
      "\n",
      "            Normal       0.64      1.00      0.78       980\n",
      "         DoSattack       1.00      1.00      1.00        53\n",
      "              scan       1.00      1.00      1.00       209\n",
      "  malitiousControl       1.00      1.00      1.00       164\n",
      "malitiousOperation       1.00      1.00      1.00       378\n",
      "            spying       1.00      1.00      1.00       131\n",
      "       dataProbing       1.00      1.00      1.00        26\n",
      "        wrongSetUp       1.00      0.99      1.00     87032\n",
      "\n",
      "          accuracy                           0.99     88973\n",
      "         macro avg       0.95      1.00      0.97     88973\n",
      "      weighted avg       1.00      0.99      0.99     88973\n",
      "\n"
     ]
    }
   ],
   "source": [
    "print(classification_report(y_test, y_knn_test_pred, target_names=target_names))"
   ]
  },
  {
   "cell_type": "markdown",
   "id": "f3b02f7b",
   "metadata": {},
   "source": [
    "## Confusion Matrix for K Nearest Neighbour"
   ]
  },
  {
   "cell_type": "markdown",
   "id": "1aaa0b07",
   "metadata": {},
   "source": [
    "### For Training dataset"
   ]
  },
  {
   "cell_type": "code",
   "execution_count": 163,
   "id": "271461b3",
   "metadata": {},
   "outputs": [
    {
     "data": {
      "text/plain": [
       "array([[  3020,      0,      0,      0,      0,      0,      0,      0],\n",
       "       [     0,    189,      0,      0,      0,      0,      0,      0],\n",
       "       [     0,      0,    680,      0,      0,      0,      0,      0],\n",
       "       [     0,      0,      0,    493,      0,      0,      0,      0],\n",
       "       [     0,      0,      0,      0,   1153,      0,      0,      0],\n",
       "       [     0,      0,      0,      0,      0,    401,      0,      0],\n",
       "       [     0,      0,      0,      0,      0,      0,     96,      0],\n",
       "       [  1731,      0,      0,      0,      3,      1,      0, 259151]],\n",
       "      dtype=int64)"
      ]
     },
     "execution_count": 163,
     "metadata": {},
     "output_type": "execute_result"
    }
   ],
   "source": [
    "confusion_matrix(y_train, y_knn_train_pred)"
   ]
  },
  {
   "cell_type": "markdown",
   "id": "c7f62c96",
   "metadata": {},
   "source": [
    "### For Testing dataset"
   ]
  },
  {
   "cell_type": "code",
   "execution_count": 164,
   "id": "38b1100c",
   "metadata": {},
   "outputs": [
    {
     "data": {
      "text/plain": [
       "array([[  980,     0,     0,     0,     0,     0,     0,     0],\n",
       "       [    0,    53,     0,     0,     0,     0,     0,     0],\n",
       "       [    0,     0,   209,     0,     0,     0,     0,     0],\n",
       "       [    0,     0,     0,   164,     0,     0,     0,     0],\n",
       "       [    0,     0,     0,     0,   378,     0,     0,     0],\n",
       "       [    0,     0,     0,     0,     0,   131,     0,     0],\n",
       "       [    0,     0,     0,     0,     0,     0,    26,     0],\n",
       "       [  554,     0,     0,     0,     1,     0,     0, 86477]],\n",
       "      dtype=int64)"
      ]
     },
     "execution_count": 164,
     "metadata": {},
     "output_type": "execute_result"
    }
   ],
   "source": [
    "confusion_matrix(y_test, y_knn_test_pred)"
   ]
  },
  {
   "cell_type": "markdown",
   "id": "f2125093",
   "metadata": {},
   "source": [
    "## Classification Report for Decision Tree Classifier"
   ]
  },
  {
   "cell_type": "markdown",
   "id": "6d94b263",
   "metadata": {},
   "source": [
    "### For Training Dataset"
   ]
  },
  {
   "cell_type": "code",
   "execution_count": 165,
   "id": "1a83cce5",
   "metadata": {},
   "outputs": [
    {
     "name": "stdout",
     "output_type": "stream",
     "text": [
      "                    precision    recall  f1-score   support\n",
      "\n",
      "            Normal       1.00      0.50      0.67      3020\n",
      "         DoSattack       1.00      1.00      1.00       189\n",
      "              scan       1.00      1.00      1.00       680\n",
      "  malitiousControl       1.00      1.00      1.00       493\n",
      "malitiousOperation       1.00      1.00      1.00      1153\n",
      "            spying       1.00      1.00      1.00       401\n",
      "       dataProbing       1.00      1.00      1.00        96\n",
      "        wrongSetUp       0.99      1.00      1.00    260886\n",
      "\n",
      "          accuracy                           0.99    266918\n",
      "         macro avg       1.00      0.94      0.96    266918\n",
      "      weighted avg       0.99      0.99      0.99    266918\n",
      "\n"
     ]
    }
   ],
   "source": [
    "print(classification_report(y_train, y_dtc_train_pred, target_names=target_names))"
   ]
  },
  {
   "cell_type": "markdown",
   "id": "1acae72e",
   "metadata": {},
   "source": [
    "### For Testing Dataset"
   ]
  },
  {
   "cell_type": "code",
   "execution_count": 166,
   "id": "6e006de4",
   "metadata": {
    "scrolled": true
   },
   "outputs": [
    {
     "name": "stdout",
     "output_type": "stream",
     "text": [
      "                    precision    recall  f1-score   support\n",
      "\n",
      "            Normal       1.00      0.50      0.67       980\n",
      "         DoSattack       1.00      1.00      1.00        53\n",
      "              scan       1.00      1.00      1.00       209\n",
      "  malitiousControl       1.00      1.00      1.00       164\n",
      "malitiousOperation       1.00      1.00      1.00       378\n",
      "            spying       0.99      1.00      1.00       131\n",
      "       dataProbing       1.00      1.00      1.00        26\n",
      "        wrongSetUp       0.99      1.00      1.00     87032\n",
      "\n",
      "          accuracy                           0.99     88973\n",
      "         macro avg       1.00      0.94      0.96     88973\n",
      "      weighted avg       0.99      0.99      0.99     88973\n",
      "\n"
     ]
    }
   ],
   "source": [
    "print(classification_report(y_test, y_dtc_test_pred, target_names=target_names))"
   ]
  },
  {
   "cell_type": "markdown",
   "id": "e980d977",
   "metadata": {},
   "source": [
    "## Confusion Matrix for Decision Tree Classifier"
   ]
  },
  {
   "cell_type": "markdown",
   "id": "9539a8d8",
   "metadata": {},
   "source": [
    "### For Training dataset"
   ]
  },
  {
   "cell_type": "code",
   "execution_count": 167,
   "id": "f56bc95c",
   "metadata": {},
   "outputs": [
    {
     "data": {
      "text/plain": [
       "array([[  1511,      0,      0,      0,      0,      0,      0,   1509],\n",
       "       [     0,    189,      0,      0,      0,      0,      0,      0],\n",
       "       [     0,      0,    680,      0,      0,      0,      0,      0],\n",
       "       [     0,      0,      0,    493,      0,      0,      0,      0],\n",
       "       [     0,      0,      0,      0,   1153,      0,      0,      0],\n",
       "       [     0,      0,      0,      0,      0,    401,      0,      0],\n",
       "       [     0,      0,      0,      0,      0,      0,     96,      0],\n",
       "       [     0,      0,      0,      0,      0,      0,      0, 260886]],\n",
       "      dtype=int64)"
      ]
     },
     "execution_count": 167,
     "metadata": {},
     "output_type": "execute_result"
    }
   ],
   "source": [
    "confusion_matrix(y_train, y_dtc_train_pred)"
   ]
  },
  {
   "cell_type": "markdown",
   "id": "7bf15a85",
   "metadata": {},
   "source": [
    "### For Testing dataset"
   ]
  },
  {
   "cell_type": "code",
   "execution_count": 168,
   "id": "06d24f39",
   "metadata": {},
   "outputs": [
    {
     "data": {
      "text/plain": [
       "array([[  489,     0,     0,     0,     0,     0,     0,   491],\n",
       "       [    0,    53,     0,     0,     0,     0,     0,     0],\n",
       "       [    0,     0,   209,     0,     0,     0,     0,     0],\n",
       "       [    0,     0,     0,   164,     0,     0,     0,     0],\n",
       "       [    0,     0,     0,     0,   378,     0,     0,     0],\n",
       "       [    0,     0,     0,     0,     0,   131,     0,     0],\n",
       "       [    0,     0,     0,     0,     0,     0,    26,     0],\n",
       "       [    1,     0,     0,     0,     0,     1,     0, 87030]],\n",
       "      dtype=int64)"
      ]
     },
     "execution_count": 168,
     "metadata": {},
     "output_type": "execute_result"
    }
   ],
   "source": [
    "confusion_matrix(y_test, y_dtc_test_pred)"
   ]
  },
  {
   "cell_type": "markdown",
   "id": "96e22ab5",
   "metadata": {},
   "source": [
    "## Classification Report for Random Forest Classifier"
   ]
  },
  {
   "cell_type": "markdown",
   "id": "96b34f96",
   "metadata": {},
   "source": [
    "### For Training Dataset"
   ]
  },
  {
   "cell_type": "code",
   "execution_count": 169,
   "id": "7c620887",
   "metadata": {},
   "outputs": [
    {
     "name": "stdout",
     "output_type": "stream",
     "text": [
      "                    precision    recall  f1-score   support\n",
      "\n",
      "            Normal       1.00      0.50      0.67      3020\n",
      "         DoSattack       1.00      1.00      1.00       189\n",
      "              scan       1.00      1.00      1.00       680\n",
      "  malitiousControl       1.00      1.00      1.00       493\n",
      "malitiousOperation       1.00      1.00      1.00      1153\n",
      "            spying       1.00      1.00      1.00       401\n",
      "       dataProbing       1.00      1.00      1.00        96\n",
      "        wrongSetUp       0.99      1.00      1.00    260886\n",
      "\n",
      "          accuracy                           0.99    266918\n",
      "         macro avg       1.00      0.94      0.96    266918\n",
      "      weighted avg       0.99      0.99      0.99    266918\n",
      "\n"
     ]
    }
   ],
   "source": [
    "print(classification_report(y_train, y_rfc_train_pred, target_names=target_names))"
   ]
  },
  {
   "cell_type": "markdown",
   "id": "51bcaf08",
   "metadata": {},
   "source": [
    "### For Testing Dataset"
   ]
  },
  {
   "cell_type": "code",
   "execution_count": 170,
   "id": "690149e5",
   "metadata": {
    "scrolled": true
   },
   "outputs": [
    {
     "name": "stdout",
     "output_type": "stream",
     "text": [
      "                    precision    recall  f1-score   support\n",
      "\n",
      "            Normal       1.00      0.50      0.67       980\n",
      "         DoSattack       1.00      1.00      1.00        53\n",
      "              scan       1.00      1.00      1.00       209\n",
      "  malitiousControl       1.00      1.00      1.00       164\n",
      "malitiousOperation       1.00      1.00      1.00       378\n",
      "            spying       1.00      1.00      1.00       131\n",
      "       dataProbing       1.00      1.00      1.00        26\n",
      "        wrongSetUp       0.99      1.00      1.00     87032\n",
      "\n",
      "          accuracy                           0.99     88973\n",
      "         macro avg       1.00      0.94      0.96     88973\n",
      "      weighted avg       0.99      0.99      0.99     88973\n",
      "\n"
     ]
    }
   ],
   "source": [
    "print(classification_report(y_test, y_rfc_test_pred, target_names=target_names))"
   ]
  },
  {
   "cell_type": "markdown",
   "id": "fdaa2ff0",
   "metadata": {},
   "source": [
    "## Confusion Matrix for Random Forest Classifier"
   ]
  },
  {
   "cell_type": "markdown",
   "id": "8a388bae",
   "metadata": {},
   "source": [
    "### For Training dataset"
   ]
  },
  {
   "cell_type": "code",
   "execution_count": 171,
   "id": "2371ff38",
   "metadata": {},
   "outputs": [
    {
     "data": {
      "text/plain": [
       "array([[  1511,      0,      0,      0,      0,      0,      0,   1509],\n",
       "       [     0,    189,      0,      0,      0,      0,      0,      0],\n",
       "       [     0,      0,    680,      0,      0,      0,      0,      0],\n",
       "       [     0,      0,      0,    493,      0,      0,      0,      0],\n",
       "       [     0,      0,      0,      0,   1153,      0,      0,      0],\n",
       "       [     0,      0,      0,      0,      0,    401,      0,      0],\n",
       "       [     0,      0,      0,      0,      0,      0,     96,      0],\n",
       "       [     0,      0,      0,      0,      0,      0,      0, 260886]],\n",
       "      dtype=int64)"
      ]
     },
     "execution_count": 171,
     "metadata": {},
     "output_type": "execute_result"
    }
   ],
   "source": [
    "confusion_matrix(y_train, y_rfc_train_pred)"
   ]
  },
  {
   "cell_type": "markdown",
   "id": "63de6a37",
   "metadata": {},
   "source": [
    "### For Testing dataset"
   ]
  },
  {
   "cell_type": "code",
   "execution_count": 172,
   "id": "cc47f8f5",
   "metadata": {},
   "outputs": [
    {
     "data": {
      "text/plain": [
       "array([[  489,     0,     0,     0,     0,     0,     0,   491],\n",
       "       [    0,    53,     0,     0,     0,     0,     0,     0],\n",
       "       [    0,     0,   209,     0,     0,     0,     0,     0],\n",
       "       [    0,     0,     0,   164,     0,     0,     0,     0],\n",
       "       [    0,     0,     0,     0,   378,     0,     0,     0],\n",
       "       [    0,     0,     0,     0,     0,   131,     0,     0],\n",
       "       [    0,     0,     0,     0,     0,     0,    26,     0],\n",
       "       [    1,     0,     0,     0,     0,     0,     0, 87031]],\n",
       "      dtype=int64)"
      ]
     },
     "execution_count": 172,
     "metadata": {},
     "output_type": "execute_result"
    }
   ],
   "source": [
    "confusion_matrix(y_test, y_rfc_test_pred)"
   ]
  },
  {
   "cell_type": "markdown",
   "id": "1ef43a42",
   "metadata": {},
   "source": [
    "## Classification Report for Naive Bayes"
   ]
  },
  {
   "cell_type": "markdown",
   "id": "326bb1b6",
   "metadata": {},
   "source": [
    "### For Training Dataset"
   ]
  },
  {
   "cell_type": "code",
   "execution_count": 173,
   "id": "475d8e8d",
   "metadata": {},
   "outputs": [
    {
     "name": "stdout",
     "output_type": "stream",
     "text": [
      "                    precision    recall  f1-score   support\n",
      "\n",
      "            Normal       0.29      1.00      0.45      3020\n",
      "         DoSattack       0.04      0.82      0.07       189\n",
      "              scan       0.18      0.91      0.30       680\n",
      "  malitiousControl       0.66      1.00      0.80       493\n",
      "malitiousOperation       1.00      0.14      0.24      1153\n",
      "            spying       0.01      0.94      0.01       401\n",
      "       dataProbing       1.00      1.00      1.00        96\n",
      "        wrongSetUp       1.00      0.75      0.86    260886\n",
      "\n",
      "          accuracy                           0.75    266918\n",
      "         macro avg       0.52      0.82      0.47    266918\n",
      "      weighted avg       0.98      0.75      0.85    266918\n",
      "\n"
     ]
    }
   ],
   "source": [
    "print(classification_report(y_train, y_nb_train_pred, target_names=target_names))"
   ]
  },
  {
   "cell_type": "markdown",
   "id": "679bf563",
   "metadata": {},
   "source": [
    "### For Testing Dataset"
   ]
  },
  {
   "cell_type": "code",
   "execution_count": 174,
   "id": "c4ad2501",
   "metadata": {
    "scrolled": true
   },
   "outputs": [
    {
     "name": "stdout",
     "output_type": "stream",
     "text": [
      "                    precision    recall  f1-score   support\n",
      "\n",
      "            Normal       0.28      1.00      0.44       980\n",
      "         DoSattack       0.04      0.85      0.07        53\n",
      "              scan       0.18      0.96      0.31       209\n",
      "  malitiousControl       0.67      1.00      0.80       164\n",
      "malitiousOperation       1.00      0.14      0.25       378\n",
      "            spying       0.01      0.92      0.01       131\n",
      "       dataProbing       1.00      1.00      1.00        26\n",
      "        wrongSetUp       1.00      0.75      0.86     87032\n",
      "\n",
      "          accuracy                           0.75     88973\n",
      "         macro avg       0.52      0.83      0.47     88973\n",
      "      weighted avg       0.99      0.75      0.85     88973\n",
      "\n"
     ]
    }
   ],
   "source": [
    "print(classification_report(y_test, y_nb_test_pred, target_names=target_names))"
   ]
  },
  {
   "cell_type": "markdown",
   "id": "cc99ac47",
   "metadata": {},
   "source": [
    "## Confusion Matrix for Naive Bayes"
   ]
  },
  {
   "cell_type": "markdown",
   "id": "71f30a0b",
   "metadata": {},
   "source": [
    "### For Training dataset"
   ]
  },
  {
   "cell_type": "code",
   "execution_count": 175,
   "id": "3c936d98",
   "metadata": {},
   "outputs": [
    {
     "data": {
      "text/plain": [
       "array([[  3020,      0,      0,      0,      0,      0,      0,      0],\n",
       "       [     0,    155,      0,      0,      0,      0,      0,     34],\n",
       "       [     0,      0,    620,      0,      0,      8,      0,     52],\n",
       "       [     0,      0,      0,    493,      0,      0,      0,      0],\n",
       "       [     6,      0,      0,      0,    156,    631,      0,    360],\n",
       "       [     0,      0,     24,      0,      0,    377,      0,      0],\n",
       "       [     0,      0,      0,      0,      0,      0,     96,      0],\n",
       "       [  7466,   3893,   2840,    252,      0,  50191,      0, 196244]],\n",
       "      dtype=int64)"
      ]
     },
     "execution_count": 175,
     "metadata": {},
     "output_type": "execute_result"
    }
   ],
   "source": [
    "confusion_matrix(y_train, y_nb_train_pred)"
   ]
  },
  {
   "cell_type": "markdown",
   "id": "7198c5d7",
   "metadata": {},
   "source": [
    "### For Testing dataset"
   ]
  },
  {
   "cell_type": "code",
   "execution_count": 176,
   "id": "8fd2e5cd",
   "metadata": {},
   "outputs": [
    {
     "data": {
      "text/plain": [
       "array([[  980,     0,     0,     0,     0,     0,     0,     0],\n",
       "       [    0,    45,     0,     0,     0,     0,     0,     8],\n",
       "       [    0,     0,   200,     0,     0,     1,     0,     8],\n",
       "       [    0,     0,     0,   164,     0,     0,     0,     0],\n",
       "       [    5,     0,     0,     0,    54,   201,     0,   118],\n",
       "       [    0,     0,    11,     0,     0,   120,     0,     0],\n",
       "       [    0,     0,     0,     0,     0,     0,    26,     0],\n",
       "       [ 2496,  1233,   881,    80,     0, 16778,     0, 65564]],\n",
       "      dtype=int64)"
      ]
     },
     "execution_count": 176,
     "metadata": {},
     "output_type": "execute_result"
    }
   ],
   "source": [
    "confusion_matrix(y_test, y_nb_test_pred)"
   ]
  },
  {
   "cell_type": "markdown",
   "id": "20d3a252",
   "metadata": {},
   "source": [
    "## Classification Report for Support Vector Machine Classifier"
   ]
  },
  {
   "cell_type": "markdown",
   "id": "31bca470",
   "metadata": {},
   "source": [
    "### For Training Dataset"
   ]
  },
  {
   "cell_type": "code",
   "execution_count": 177,
   "id": "c299d163",
   "metadata": {},
   "outputs": [
    {
     "name": "stderr",
     "output_type": "stream",
     "text": [
      "c:\\users\\hebbar\\appdata\\local\\programs\\python\\python39\\lib\\site-packages\\sklearn\\metrics\\_classification.py:1308: UndefinedMetricWarning: Precision and F-score are ill-defined and being set to 0.0 in labels with no predicted samples. Use `zero_division` parameter to control this behavior.\n",
      "  _warn_prf(average, modifier, msg_start, len(result))\n"
     ]
    },
    {
     "name": "stdout",
     "output_type": "stream",
     "text": [
      "                    precision    recall  f1-score   support\n",
      "\n",
      "            Normal       0.95      0.50      0.66      3020\n",
      "         DoSattack       0.00      0.00      0.00       189\n",
      "              scan       0.00      0.00      0.00       680\n",
      "  malitiousControl       0.99      0.60      0.75       493\n",
      "malitiousOperation       0.00      0.00      0.00      1153\n",
      "            spying       0.00      0.00      0.00       401\n",
      "       dataProbing       0.00      0.00      0.00        96\n",
      "        wrongSetUp       0.98      1.00      0.99    260886\n",
      "\n",
      "          accuracy                           0.98    266918\n",
      "         macro avg       0.37      0.26      0.30    266918\n",
      "      weighted avg       0.97      0.98      0.98    266918\n",
      "\n"
     ]
    },
    {
     "name": "stderr",
     "output_type": "stream",
     "text": [
      "c:\\users\\hebbar\\appdata\\local\\programs\\python\\python39\\lib\\site-packages\\sklearn\\metrics\\_classification.py:1308: UndefinedMetricWarning: Precision and F-score are ill-defined and being set to 0.0 in labels with no predicted samples. Use `zero_division` parameter to control this behavior.\n",
      "  _warn_prf(average, modifier, msg_start, len(result))\n",
      "c:\\users\\hebbar\\appdata\\local\\programs\\python\\python39\\lib\\site-packages\\sklearn\\metrics\\_classification.py:1308: UndefinedMetricWarning: Precision and F-score are ill-defined and being set to 0.0 in labels with no predicted samples. Use `zero_division` parameter to control this behavior.\n",
      "  _warn_prf(average, modifier, msg_start, len(result))\n"
     ]
    }
   ],
   "source": [
    "print(classification_report(y_train, y_svc_train_pred, target_names=target_names))"
   ]
  },
  {
   "cell_type": "markdown",
   "id": "2c804480",
   "metadata": {},
   "source": [
    "### For Testing Dataset"
   ]
  },
  {
   "cell_type": "code",
   "execution_count": 178,
   "id": "3005aac2",
   "metadata": {
    "scrolled": true
   },
   "outputs": [
    {
     "name": "stderr",
     "output_type": "stream",
     "text": [
      "c:\\users\\hebbar\\appdata\\local\\programs\\python\\python39\\lib\\site-packages\\sklearn\\metrics\\_classification.py:1308: UndefinedMetricWarning: Precision and F-score are ill-defined and being set to 0.0 in labels with no predicted samples. Use `zero_division` parameter to control this behavior.\n",
      "  _warn_prf(average, modifier, msg_start, len(result))\n"
     ]
    },
    {
     "name": "stdout",
     "output_type": "stream",
     "text": [
      "                    precision    recall  f1-score   support\n",
      "\n",
      "            Normal       0.94      0.50      0.65       980\n",
      "         DoSattack       0.00      0.00      0.00        53\n",
      "              scan       0.00      0.00      0.00       209\n",
      "  malitiousControl       0.99      0.55      0.71       164\n",
      "malitiousOperation       0.00      0.00      0.00       378\n",
      "            spying       0.00      0.00      0.00       131\n",
      "       dataProbing       0.00      0.00      0.00        26\n",
      "        wrongSetUp       0.98      1.00      0.99     87032\n",
      "\n",
      "          accuracy                           0.98     88973\n",
      "         macro avg       0.36      0.26      0.29     88973\n",
      "      weighted avg       0.98      0.98      0.98     88973\n",
      "\n"
     ]
    },
    {
     "name": "stderr",
     "output_type": "stream",
     "text": [
      "c:\\users\\hebbar\\appdata\\local\\programs\\python\\python39\\lib\\site-packages\\sklearn\\metrics\\_classification.py:1308: UndefinedMetricWarning: Precision and F-score are ill-defined and being set to 0.0 in labels with no predicted samples. Use `zero_division` parameter to control this behavior.\n",
      "  _warn_prf(average, modifier, msg_start, len(result))\n",
      "c:\\users\\hebbar\\appdata\\local\\programs\\python\\python39\\lib\\site-packages\\sklearn\\metrics\\_classification.py:1308: UndefinedMetricWarning: Precision and F-score are ill-defined and being set to 0.0 in labels with no predicted samples. Use `zero_division` parameter to control this behavior.\n",
      "  _warn_prf(average, modifier, msg_start, len(result))\n"
     ]
    }
   ],
   "source": [
    "print(classification_report(y_test, y_svc_test_pred, target_names=target_names))"
   ]
  },
  {
   "cell_type": "markdown",
   "id": "2cfac757",
   "metadata": {},
   "source": [
    "## Confusion Matrix for Support Vector Machine Classifier"
   ]
  },
  {
   "cell_type": "markdown",
   "id": "c5517092",
   "metadata": {},
   "source": [
    "### For Training dataset"
   ]
  },
  {
   "cell_type": "code",
   "execution_count": 179,
   "id": "414e155a",
   "metadata": {},
   "outputs": [
    {
     "data": {
      "text/plain": [
       "array([[  1511,      0,      0,      0,      0,      0,      0,   1509],\n",
       "       [     0,      0,      0,      0,      0,      0,      0,    189],\n",
       "       [     0,      0,      0,      0,      0,      0,      0,    680],\n",
       "       [     0,      0,      0,    296,      0,      0,      0,    197],\n",
       "       [     7,      0,     10,      0,      0,      0,      0,   1136],\n",
       "       [     0,      0,      0,      0,      0,      0,      0,    401],\n",
       "       [     0,      0,      0,      0,      0,      0,      0,     96],\n",
       "       [    75,      0,      0,      2,      0,     15,      0, 260794]],\n",
       "      dtype=int64)"
      ]
     },
     "execution_count": 179,
     "metadata": {},
     "output_type": "execute_result"
    }
   ],
   "source": [
    "confusion_matrix(y_train, y_svc_train_pred)"
   ]
  },
  {
   "cell_type": "markdown",
   "id": "4e0ed590",
   "metadata": {},
   "source": [
    "### For Testing dataset"
   ]
  },
  {
   "cell_type": "code",
   "execution_count": 180,
   "id": "acc46cb0",
   "metadata": {},
   "outputs": [
    {
     "data": {
      "text/plain": [
       "array([[  489,     0,     0,     0,     0,     0,     0,   491],\n",
       "       [    0,     0,     0,     0,     0,     0,     0,    53],\n",
       "       [    0,     0,     0,     0,     0,     0,     0,   209],\n",
       "       [    0,     0,     0,    91,     0,     0,     0,    73],\n",
       "       [    4,     0,     0,     0,     0,     0,     0,   374],\n",
       "       [    0,     0,     0,     0,     0,     0,     0,   131],\n",
       "       [    0,     0,     0,     0,     0,     0,     0,    26],\n",
       "       [   28,     0,     0,     1,     0,     6,     0, 86997]],\n",
       "      dtype=int64)"
      ]
     },
     "execution_count": 180,
     "metadata": {},
     "output_type": "execute_result"
    }
   ],
   "source": [
    "confusion_matrix(y_test, y_svc_test_pred)"
   ]
  },
  {
   "cell_type": "code",
   "execution_count": null,
   "id": "dbee630c",
   "metadata": {},
   "outputs": [],
   "source": []
  },
  {
   "cell_type": "markdown",
   "id": "b18b8cfd",
   "metadata": {},
   "source": [
    "## Confusion Matrix for Artificial Neural Network"
   ]
  },
  {
   "cell_type": "markdown",
   "id": "b7a0e3d1",
   "metadata": {},
   "source": [
    "### For Training dataset"
   ]
  },
  {
   "cell_type": "code",
   "execution_count": 190,
   "id": "2c2e48e2",
   "metadata": {},
   "outputs": [
    {
     "data": {
      "text/plain": [
       "array([[1.0065258e-02, 2.3542063e-10, 1.6500109e-06, ..., 2.1263957e-03,\n",
       "        1.3301840e-06, 9.8969066e-01],\n",
       "       [1.7115951e-23, 9.7421541e-12, 1.3171141e-17, ..., 4.4153854e-13,\n",
       "        8.0803141e-32, 9.9999553e-01],\n",
       "       [1.0962601e-21, 2.8020392e-12, 6.9995789e-12, ..., 3.1447013e-07,\n",
       "        5.6145255e-30, 9.9026966e-01],\n",
       "       ...,\n",
       "       [0.0000000e+00, 0.0000000e+00, 1.3360381e-04, ..., 4.3092929e-05,\n",
       "        0.0000000e+00, 9.9779373e-01],\n",
       "       [1.1914322e-14, 6.3162009e-09, 5.1703768e-07, ..., 7.3741496e-02,\n",
       "        1.1053640e-21, 9.9651551e-01],\n",
       "       [9.1343173e-18, 4.9642229e-15, 1.5210404e-13, ..., 1.7474068e-06,\n",
       "        6.2163302e-21, 9.9997675e-01]], dtype=float32)"
      ]
     },
     "execution_count": 190,
     "metadata": {},
     "output_type": "execute_result"
    }
   ],
   "source": [
    "y_train_pred = ann.predict(x_train_sc)\n",
    "y_train_pred"
   ]
  },
  {
   "cell_type": "code",
   "execution_count": 191,
   "id": "a3a6faed",
   "metadata": {},
   "outputs": [
    {
     "data": {
      "text/plain": [
       "(266918, 1)"
      ]
     },
     "execution_count": 191,
     "metadata": {},
     "output_type": "execute_result"
    }
   ],
   "source": [
    "y_train.shape"
   ]
  },
  {
   "cell_type": "code",
   "execution_count": 192,
   "id": "1cd5bef7",
   "metadata": {},
   "outputs": [
    {
     "data": {
      "text/plain": [
       "(266918, 8)"
      ]
     },
     "execution_count": 192,
     "metadata": {},
     "output_type": "execute_result"
    }
   ],
   "source": [
    "y_train_pred.shape"
   ]
  },
  {
   "cell_type": "code",
   "execution_count": 193,
   "id": "dd9befbd",
   "metadata": {},
   "outputs": [
    {
     "data": {
      "text/plain": [
       "[7, 7, 7, 7, 7]"
      ]
     },
     "execution_count": 193,
     "metadata": {},
     "output_type": "execute_result"
    }
   ],
   "source": [
    "y_train_pred_labels = [np.argmax(i) for i in y_train_pred]\n",
    "y_train_pred_labels[:5]"
   ]
  },
  {
   "cell_type": "code",
   "execution_count": 194,
   "id": "f9950c11",
   "metadata": {},
   "outputs": [
    {
     "name": "stdout",
     "output_type": "stream",
     "text": [
      "tf.Tensor(\n",
      "[[  1511      0      0      0      0      0      0   1509]\n",
      " [     0    189      0      0      0      0      0      0]\n",
      " [     0      0    680      0      0      0      0      0]\n",
      " [     0      0      0    493      0      0      0      0]\n",
      " [     0      0      0      0   1074      0      0     79]\n",
      " [     0      0      0      0      0    401      0      0]\n",
      " [     0      0      0      0      0      0     96      0]\n",
      " [     7      0      3      0      1      0      1 260874]], shape=(8, 8), dtype=int32)\n"
     ]
    }
   ],
   "source": [
    "print(tf.math.confusion_matrix(labels=y_train, predictions=y_train_pred_labels))"
   ]
  },
  {
   "cell_type": "markdown",
   "id": "4e0ed590",
   "metadata": {},
   "source": [
    "### For Testing dataset"
   ]
  },
  {
   "cell_type": "code",
   "execution_count": 195,
   "id": "d5df3564",
   "metadata": {},
   "outputs": [
    {
     "data": {
      "text/plain": [
       "array([[4.0492180e-14, 6.8113673e-14, 4.6870695e-11, ..., 2.2610385e-08,\n",
       "        2.4549512e-20, 9.8912942e-01],\n",
       "       [1.3766658e-14, 5.3092718e-11, 4.5644604e-09, ..., 1.2832880e-04,\n",
       "        4.6689622e-20, 8.8549620e-01],\n",
       "       [0.0000000e+00, 1.8185896e-10, 3.8752865e-27, ..., 4.1960167e-37,\n",
       "        0.0000000e+00, 8.8671476e-01],\n",
       "       ...,\n",
       "       [0.0000000e+00, 3.3195949e-05, 4.9101464e-17, ..., 6.0407126e-13,\n",
       "        0.0000000e+00, 9.9909174e-01],\n",
       "       [2.9050651e-15, 3.6726361e-10, 6.0251942e-08, ..., 4.1555673e-02,\n",
       "        3.0527718e-24, 9.9849951e-01],\n",
       "       [1.3422627e-16, 1.3535068e-10, 1.5520317e-09, ..., 2.1308661e-03,\n",
       "        2.3971970e-26, 9.9969965e-01]], dtype=float32)"
      ]
     },
     "execution_count": 195,
     "metadata": {},
     "output_type": "execute_result"
    }
   ],
   "source": [
    "y_test_pred = ann.predict(x_test_sc)\n",
    "y_test_pred"
   ]
  },
  {
   "cell_type": "code",
   "execution_count": 196,
   "id": "0594ae46",
   "metadata": {},
   "outputs": [
    {
     "data": {
      "text/plain": [
       "(88973, 1)"
      ]
     },
     "execution_count": 196,
     "metadata": {},
     "output_type": "execute_result"
    }
   ],
   "source": [
    "y_test.shape"
   ]
  },
  {
   "cell_type": "code",
   "execution_count": 197,
   "id": "57b78d5b",
   "metadata": {},
   "outputs": [
    {
     "data": {
      "text/plain": [
       "(88973, 8)"
      ]
     },
     "execution_count": 197,
     "metadata": {},
     "output_type": "execute_result"
    }
   ],
   "source": [
    "y_test_pred.shape"
   ]
  },
  {
   "cell_type": "code",
   "execution_count": 199,
   "id": "18d6472f",
   "metadata": {},
   "outputs": [
    {
     "data": {
      "text/plain": [
       "[7, 7, 7, 7, 7]"
      ]
     },
     "execution_count": 199,
     "metadata": {},
     "output_type": "execute_result"
    }
   ],
   "source": [
    "y_test_pred_labels = [np.argmax(i) for i in y_test_pred]\n",
    "y_test_pred_labels[:5]"
   ]
  },
  {
   "cell_type": "code",
   "execution_count": 201,
   "id": "7d03d711",
   "metadata": {},
   "outputs": [
    {
     "name": "stdout",
     "output_type": "stream",
     "text": [
      "tf.Tensor(\n",
      "[[  489     0     0     0     0     0     0   491]\n",
      " [    0    53     0     0     0     0     0     0]\n",
      " [    0     0   209     0     0     0     0     0]\n",
      " [    0     0     0   164     0     0     0     0]\n",
      " [    0     0     0     0   343     0     0    35]\n",
      " [    0     0     0     0     0   131     0     0]\n",
      " [    0     0     0     0     0     0    26     0]\n",
      " [    6     0     1     0     3     0     0 87022]], shape=(8, 8), dtype=int32)\n"
     ]
    }
   ],
   "source": [
    "print(tf.math.confusion_matrix(labels=y_test, predictions=y_test_pred_labels))"
   ]
  },
  {
   "cell_type": "markdown",
   "id": "5a816a0c",
   "metadata": {},
   "source": [
    "## Classification Report for Artificial Neural Network"
   ]
  },
  {
   "cell_type": "markdown",
   "id": "c5517092",
   "metadata": {},
   "source": [
    "### For Training dataset"
   ]
  },
  {
   "cell_type": "code",
   "execution_count": 209,
   "id": "a2139e46",
   "metadata": {
    "scrolled": false
   },
   "outputs": [
    {
     "name": "stdout",
     "output_type": "stream",
     "text": [
      "                    precision    recall  f1-score   support\n",
      "\n",
      "            Normal       1.00      0.50      0.67      3020\n",
      "         DoSattack       1.00      1.00      1.00       189\n",
      "              scan       1.00      1.00      1.00       680\n",
      "  malitiousControl       1.00      1.00      1.00       493\n",
      "malitiousOperation       1.00      0.93      0.96      1153\n",
      "            spying       1.00      1.00      1.00       401\n",
      "       dataProbing       0.99      1.00      0.99        96\n",
      "        wrongSetUp       0.99      1.00      1.00    260886\n",
      "\n",
      "          accuracy                           0.99    266918\n",
      "         macro avg       1.00      0.93      0.95    266918\n",
      "      weighted avg       0.99      0.99      0.99    266918\n",
      "\n"
     ]
    }
   ],
   "source": [
    "print(classification_report(y_train, y_train_pred_labels, target_names=target_names))"
   ]
  },
  {
   "cell_type": "markdown",
   "id": "4e0ed590",
   "metadata": {},
   "source": [
    "### For Testing dataset"
   ]
  },
  {
   "cell_type": "code",
   "execution_count": 208,
   "id": "37ab4f4a",
   "metadata": {
    "scrolled": true
   },
   "outputs": [
    {
     "name": "stdout",
     "output_type": "stream",
     "text": [
      "                    precision    recall  f1-score   support\n",
      "\n",
      "            Normal       0.99      0.50      0.66       980\n",
      "         DoSattack       1.00      1.00      1.00        53\n",
      "              scan       1.00      1.00      1.00       209\n",
      "  malitiousControl       1.00      1.00      1.00       164\n",
      "malitiousOperation       0.99      0.91      0.95       378\n",
      "            spying       1.00      1.00      1.00       131\n",
      "       dataProbing       1.00      1.00      1.00        26\n",
      "        wrongSetUp       0.99      1.00      1.00     87032\n",
      "\n",
      "          accuracy                           0.99     88973\n",
      "         macro avg       1.00      0.93      0.95     88973\n",
      "      weighted avg       0.99      0.99      0.99     88973\n",
      "\n"
     ]
    }
   ],
   "source": [
    "print(classification_report(y_test, y_test_pred_labels, target_names=target_names))"
   ]
  },
  {
   "cell_type": "code",
   "execution_count": null,
   "id": "3ec95337",
   "metadata": {},
   "outputs": [],
   "source": []
  },
  {
   "cell_type": "code",
   "execution_count": null,
   "id": "b0390f98",
   "metadata": {},
   "outputs": [],
   "source": []
  }
 ],
 "metadata": {
  "kernelspec": {
   "display_name": "Python 3 (ipykernel)",
   "language": "python",
   "name": "python3"
  },
  "language_info": {
   "codemirror_mode": {
    "name": "ipython",
    "version": 3
   },
   "file_extension": ".py",
   "mimetype": "text/x-python",
   "name": "python",
   "nbconvert_exporter": "python",
   "pygments_lexer": "ipython3",
   "version": "3.9.6"
  }
 },
 "nbformat": 4,
 "nbformat_minor": 5
}
